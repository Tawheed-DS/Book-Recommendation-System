{
  "nbformat": 4,
  "nbformat_minor": 0,
  "metadata": {
    "colab": {
      "name": "Tawheed - Project-II( NB3).ipynb",
      "provenance": [],
      "collapsed_sections": [],
      "authorship_tag": "ABX9TyO73UGAQC7w1uy6oXsMYPf6",
      "include_colab_link": true
    },
    "kernelspec": {
      "name": "python3",
      "display_name": "Python 3"
    },
    "language_info": {
      "name": "python"
    }
  },
  "cells": [
    {
      "cell_type": "markdown",
      "metadata": {
        "id": "view-in-github",
        "colab_type": "text"
      },
      "source": [
        "<a href=\"https://colab.research.google.com/github/Tawheed-DS/Book-Recommendation-System/blob/main/Tawheed_Project_II(_NB3).ipynb\" target=\"_parent\"><img src=\"https://colab.research.google.com/assets/colab-badge.svg\" alt=\"Open In Colab\"/></a>"
      ]
    },
    {
      "cell_type": "markdown",
      "metadata": {
        "id": "hVZT_8ZGW5fk"
      },
      "source": [
        "##<b>Book Recommendation System</b>"
      ]
    },
    {
      "cell_type": "markdown",
      "metadata": {
        "id": "_q0Vhu6sCj2E"
      },
      "source": [
        "###Data description"
      ]
    },
    {
      "cell_type": "markdown",
      "metadata": {
        "id": "51Rmd_BoXFHk"
      },
      "source": [
        "###Dataset comprises of three files:\n",
        "\n",
        "* <b>Users dataframe</b>\n",
        "Contains the users. Note that user IDs (User-ID) have been anonymized and map to\n",
        "integers. Demographic data is provided (Location, Age) if available. Otherwise, these\n",
        "fields contain NULL values.\n",
        "\n",
        "* <b>Books dataframe</b>\n",
        "Books are identified by their respective ISBN. Invalid ISBNs have already been removed\n",
        "from the dataset. Moreover, some content-based information is given (Book-Title,\n",
        "Book-Author, Year-Of-Publication, Publisher), obtained from Amazon Web\n",
        "Services. Note that in the case of several authors, only the first is provided. URLs linking\n",
        "to cover images are also given, appearing in three different flavors (Image-URL-S,\n",
        "Image-URL-M, Image-URL-L), i.e., small, medium, large. These URLs point to the\n",
        "Amazon website.\n",
        "\n",
        "* <b>Ratings dataframe</b>\n",
        "Contains the book rating information. Ratings (Book-Rating) are either explicit,\n",
        "expressed on a scale from 1-10 (higher values denoting higher appreciation), or implicit,\n",
        "expressed by 0."
      ]
    },
    {
      "cell_type": "code",
      "metadata": {
        "id": "N-dYXpVBWgqA"
      },
      "source": [
        "# Import all the required libraries\n",
        "\n",
        "import numpy as np \n",
        "import pandas as pd\n",
        "\n",
        "import matplotlib.pyplot as plt\n",
        "import seaborn as sns\n",
        "\n",
        "import scipy\n",
        "import math\n",
        "import random\n",
        "import sklearn\n",
        "from nltk.corpus import stopwords\n",
        "from sklearn.model_selection import train_test_split\n",
        "from sklearn.feature_extraction.text import TfidfVectorizer\n",
        "from sklearn.metrics.pairwise import cosine_similarity\n",
        "from scipy.sparse.linalg import svds\n",
        "\n",
        "%matplotlib inline\n",
        "\n",
        "# Just for ease\n",
        "p = print"
      ],
      "execution_count": 19,
      "outputs": []
    },
    {
      "cell_type": "code",
      "metadata": {
        "colab": {
          "base_uri": "https://localhost:8080/"
        },
        "id": "p2pVzfYhX1XY",
        "outputId": "ff0487e5-3eaf-490b-9a97-ef37464132c3"
      },
      "source": [
        "# Mount the drive\n",
        "\n",
        "from google.colab import drive\n",
        "drive.mount('/content/drive')"
      ],
      "execution_count": 20,
      "outputs": [
        {
          "output_type": "stream",
          "name": "stdout",
          "text": [
            "Drive already mounted at /content/drive; to attempt to forcibly remount, call drive.mount(\"/content/drive\", force_remount=True).\n"
          ]
        }
      ]
    },
    {
      "cell_type": "code",
      "metadata": {
        "colab": {
          "base_uri": "https://localhost:8080/"
        },
        "id": "uXLiOSJ2X249",
        "outputId": "7aa19d26-1558-4a1f-e521-ef53a403bd90"
      },
      "source": [
        "# Load the dataframes\n",
        "\n",
        "user_df = pd.read_csv('/content/drive/MyDrive/Copy of Users.csv')\n",
        "books_df = pd.read_csv('/content/drive/MyDrive/Copy of Books.csv')\n",
        "ratings_df = pd.read_csv('/content/drive/MyDrive/Copy of Ratings.csv')"
      ],
      "execution_count": 21,
      "outputs": [
        {
          "output_type": "stream",
          "name": "stderr",
          "text": [
            "/usr/local/lib/python3.7/dist-packages/IPython/core/interactiveshell.py:2718: DtypeWarning: Columns (3) have mixed types.Specify dtype option on import or set low_memory=False.\n",
            "  interactivity=interactivity, compiler=compiler, result=result)\n"
          ]
        }
      ]
    },
    {
      "cell_type": "code",
      "metadata": {
        "colab": {
          "base_uri": "https://localhost:8080/"
        },
        "id": "FwhmVKs8IQg4",
        "outputId": "d46cd48f-5228-4d87-a540-6e77e3b44a8a"
      },
      "source": [
        "# Top rows and shape of user_df\n",
        "p(user_df.head())\n",
        "p('shape: ',user_df.shape)"
      ],
      "execution_count": 22,
      "outputs": [
        {
          "output_type": "stream",
          "name": "stdout",
          "text": [
            "   User-ID                            Location   Age\n",
            "0        1                  nyc, new york, usa   NaN\n",
            "1        2           stockton, california, usa  18.0\n",
            "2        3     moscow, yukon territory, russia   NaN\n",
            "3        4           porto, v.n.gaia, portugal  17.0\n",
            "4        5  farnborough, hants, united kingdom   NaN\n",
            "shape:  (278858, 3)\n"
          ]
        }
      ]
    },
    {
      "cell_type": "code",
      "metadata": {
        "colab": {
          "base_uri": "https://localhost:8080/"
        },
        "id": "zYX51_kYECDw",
        "outputId": "8c298933-5e97-4620-a049-6ac94b66a9a9"
      },
      "source": [
        "# Check null values\n",
        "user_df.isnull().sum()"
      ],
      "execution_count": 23,
      "outputs": [
        {
          "output_type": "execute_result",
          "data": {
            "text/plain": [
              "User-ID          0\n",
              "Location         0\n",
              "Age         110762\n",
              "dtype: int64"
            ]
          },
          "metadata": {},
          "execution_count": 23
        }
      ]
    },
    {
      "cell_type": "markdown",
      "metadata": {
        "id": "08kDAc6qET2N"
      },
      "source": [
        "###<b>Handling null values in Age</b>"
      ]
    },
    {
      "cell_type": "code",
      "metadata": {
        "colab": {
          "base_uri": "https://localhost:8080/"
        },
        "id": "A_q4ZHGjLTIM",
        "outputId": "b2e65648-4ec2-4d44-ffa3-ac38cab9b480"
      },
      "source": [
        "# Null values in age column\n",
        "nulls = sum(user_df['Age'].isnull())\n",
        "p('Null values in Age: ',nulls)"
      ],
      "execution_count": 24,
      "outputs": [
        {
          "output_type": "stream",
          "name": "stdout",
          "text": [
            "Null values in Age:  110762\n"
          ]
        }
      ]
    },
    {
      "cell_type": "code",
      "metadata": {
        "id": "d3UKV7AYL0Yx"
      },
      "source": [
        "# Replacing null values\n",
        "median = user_df['Age'].median()\n",
        "std = user_df['Age'].std()\n",
        "random_age = np.random.randint(median - std, median + std, size = nulls)\n",
        "age = user_df['Age'].copy()\n",
        "age[pd.isnull(age)] = random_age\n",
        "user_df['Age'] = age\n",
        "user_df['Age'] = user_df['Age'].astype(int)"
      ],
      "execution_count": 25,
      "outputs": []
    },
    {
      "cell_type": "code",
      "metadata": {
        "colab": {
          "base_uri": "https://localhost:8080/"
        },
        "id": "1rOKWf-KMIbX",
        "outputId": "27e5adf4-f545-4df6-bc93-e89eb573d68d"
      },
      "source": [
        "sum(user_df['Age'].isnull())"
      ],
      "execution_count": 26,
      "outputs": [
        {
          "output_type": "execute_result",
          "data": {
            "text/plain": [
              "0"
            ]
          },
          "metadata": {},
          "execution_count": 26
        }
      ]
    },
    {
      "cell_type": "markdown",
      "metadata": {
        "id": "cWUsHENVM9gP"
      },
      "source": [
        "###<b>Handling Outliers in Age</b>"
      ]
    },
    {
      "cell_type": "code",
      "metadata": {
        "colab": {
          "base_uri": "https://localhost:8080/",
          "height": 349
        },
        "id": "1zyz_WbJM582",
        "outputId": "e530fa52-780e-4ad9-a4bb-55ce98a36a3f"
      },
      "source": [
        "# Plot Distribution of Age\n",
        "sns.distplot(user_df['Age'].dropna())"
      ],
      "execution_count": 27,
      "outputs": [
        {
          "output_type": "stream",
          "name": "stderr",
          "text": [
            "/usr/local/lib/python3.7/dist-packages/seaborn/distributions.py:2557: FutureWarning: `distplot` is a deprecated function and will be removed in a future version. Please adapt your code to use either `displot` (a figure-level function with similar flexibility) or `histplot` (an axes-level function for histograms).\n",
            "  warnings.warn(msg, FutureWarning)\n"
          ]
        },
        {
          "output_type": "execute_result",
          "data": {
            "text/plain": [
              "<matplotlib.axes._subplots.AxesSubplot at 0x7f2bd2003290>"
            ]
          },
          "metadata": {},
          "execution_count": 27
        },
        {
          "output_type": "display_data",
          "data": {
            "image/png": "[encoded data removed]",
            "text/plain": [
              "<Figure size 432x288 with 1 Axes>"
            ]
          },
          "metadata": {
            "needs_background": "light"
          }
        }
      ]
    },
    {
      "cell_type": "code",
      "metadata": {
        "colab": {
          "base_uri": "https://localhost:8080/"
        },
        "id": "adeMeOMtNJa5",
        "outputId": "ce002a6f-9026-48bd-b7ac-add89fc84d15"
      },
      "source": [
        "# Number of outliers\n",
        "outliers = sum(user_df['Age']>90)\n",
        "p(outliers)"
      ],
      "execution_count": 28,
      "outputs": [
        {
          "output_type": "stream",
          "name": "stdout",
          "text": [
            "430\n"
          ]
        }
      ]
    },
    {
      "cell_type": "code",
      "metadata": {
        "id": "rXsSVfsvQEli"
      },
      "source": [
        "# Handling outliers by randomly replacing age >90 by values between 90 and 100\n",
        "age2 = user_df['Age'].copy()\n",
        "random_age2 = np.random.randint(90,100,outliers)\n",
        "age2[user_df['Age']>90]=random_age2\n",
        "user_df['Age'] = age2"
      ],
      "execution_count": 29,
      "outputs": []
    },
    {
      "cell_type": "code",
      "metadata": {
        "colab": {
          "base_uri": "https://localhost:8080/"
        },
        "id": "F17rKRwpSpML",
        "outputId": "b75778d8-61d7-4605-972f-943d0b7abf58"
      },
      "source": [
        "# Review the unique values\n",
        "user_df['Age'].unique()"
      ],
      "execution_count": 30,
      "outputs": [
        {
          "output_type": "execute_result",
          "data": {
            "text/plain": [
              "array([39, 18, 27, 17, 37, 61, 40, 30, 36, 26, 14, 45, 20, 42, 19, 25, 46,\n",
              "       32, 55, 24, 34, 23, 28, 51, 41, 31, 21, 44, 22, 57, 43, 33, 38, 54,\n",
              "       50, 29, 53, 47, 35, 13, 58, 49, 62, 63, 66, 15, 60,  0, 79, 16, 65,\n",
              "       59, 48, 72, 56, 67,  1, 80, 52, 69, 71, 73, 78,  9, 64, 96, 90, 12,\n",
              "       74, 75, 94,  3, 76, 83, 68, 98, 97, 92, 11, 77,  2, 93, 70, 91,  8,\n",
              "        7,  4, 81, 10,  5, 99, 95,  6, 84, 82, 85, 86, 87, 89, 88])"
            ]
          },
          "metadata": {},
          "execution_count": 30
        }
      ]
    },
    {
      "cell_type": "markdown",
      "metadata": {
        "id": "_9WEYicSNrqr"
      },
      "source": [
        "###<b> EDA and Data Wrangling</b>"
      ]
    },
    {
      "cell_type": "code",
      "metadata": {
        "colab": {
          "base_uri": "https://localhost:8080/"
        },
        "id": "VgQwv8obdEnV",
        "outputId": "ec1e5f5a-1075-4812-dfd4-56326039bfb9"
      },
      "source": [
        "# Number of users in total\n",
        "p('Number of users: ',user_df.shape)"
      ],
      "execution_count": 31,
      "outputs": [
        {
          "output_type": "stream",
          "name": "stdout",
          "text": [
            "Number of users:  (278858, 3)\n"
          ]
        }
      ]
    },
    {
      "cell_type": "code",
      "metadata": {
        "colab": {
          "base_uri": "https://localhost:8080/"
        },
        "id": "T4w8WpOLdrn6",
        "outputId": "158ba771-d449-4f25-9406-be3292dfa755"
      },
      "source": [
        "# Number of instances of books in book_df (along with duplicates)\n",
        "books_df.shape"
      ],
      "execution_count": 32,
      "outputs": [
        {
          "output_type": "execute_result",
          "data": {
            "text/plain": [
              "(271360, 8)"
            ]
          },
          "metadata": {},
          "execution_count": 32
        }
      ]
    },
    {
      "cell_type": "code",
      "metadata": {
        "id": "ikHrIk8ANkbK"
      },
      "source": [
        "# Create age groups using age column\n",
        "bins = [-1,12,20,50,100]\n",
        "labels = ['Kid','Teenager','Adult','Old']\n",
        "user_df['age_bins'] = pd.cut(x=user_df['Age'], bins=bins,labels=labels)"
      ],
      "execution_count": 33,
      "outputs": []
    },
    {
      "cell_type": "code",
      "metadata": {
        "id": "LY9CY41XN7NB"
      },
      "source": [
        "# Merge the above dataframe with books_df to carry on EDA using\n",
        "new_df = pd.merge(user_df,ratings_df,on='User-ID')\n",
        "new_df = pd.merge(new_df,books_df,on='ISBN')"
      ],
      "execution_count": 34,
      "outputs": []
    },
    {
      "cell_type": "code",
      "metadata": {
        "colab": {
          "base_uri": "https://localhost:8080/"
        },
        "id": "7B3McBFeT3wL",
        "outputId": "d060d4bc-478d-4ab5-981a-f1acc1d56d89"
      },
      "source": [
        "# Check null values in new dataframe\n",
        "new_df.isnull().sum()"
      ],
      "execution_count": 35,
      "outputs": [
        {
          "output_type": "execute_result",
          "data": {
            "text/plain": [
              "User-ID                0\n",
              "Location               0\n",
              "Age                    0\n",
              "age_bins               0\n",
              "ISBN                   0\n",
              "Book-Rating            0\n",
              "Book-Title             0\n",
              "Book-Author            1\n",
              "Year-Of-Publication    0\n",
              "Publisher              2\n",
              "Image-URL-S            0\n",
              "Image-URL-M            0\n",
              "Image-URL-L            4\n",
              "dtype: int64"
            ]
          },
          "metadata": {},
          "execution_count": 35
        }
      ]
    },
    {
      "cell_type": "code",
      "metadata": {
        "id": "t_ails2ZUN6-"
      },
      "source": [
        "# Clean nulls from Authors and publishers\n",
        "new_df[['Book-Author','Publisher']] = new_df[['Book-Author','Publisher']].fillna('unknown')"
      ],
      "execution_count": 36,
      "outputs": []
    },
    {
      "cell_type": "code",
      "metadata": {
        "id": "JrmeZ7gcVqdG"
      },
      "source": [
        "# Drop columns containing URLs\n",
        "new_df.drop(['Image-URL-S','Image-URL-M','Image-URL-L'],inplace=True,axis=1)"
      ],
      "execution_count": 37,
      "outputs": []
    },
    {
      "cell_type": "code",
      "metadata": {
        "colab": {
          "base_uri": "https://localhost:8080/"
        },
        "id": "dNgnEolCU2tS",
        "outputId": "16419c38-6b8a-46e2-8800-6113a7c144fe"
      },
      "source": [
        "new_df.isnull().sum()"
      ],
      "execution_count": 38,
      "outputs": [
        {
          "output_type": "execute_result",
          "data": {
            "text/plain": [
              "User-ID                0\n",
              "Location               0\n",
              "Age                    0\n",
              "age_bins               0\n",
              "ISBN                   0\n",
              "Book-Rating            0\n",
              "Book-Title             0\n",
              "Book-Author            0\n",
              "Year-Of-Publication    0\n",
              "Publisher              0\n",
              "dtype: int64"
            ]
          },
          "metadata": {},
          "execution_count": 38
        }
      ]
    },
    {
      "cell_type": "code",
      "metadata": {
        "colab": {
          "base_uri": "https://localhost:8080/",
          "height": 265
        },
        "id": "27sSHU5IU90C",
        "outputId": "e797d940-538a-4285-d4ac-870ed5124da1"
      },
      "source": [
        "# Age group that rated books the most\n",
        "new_df.groupby('age_bins')['Book-Rating'].count().plot(kind='pie')"
      ],
      "execution_count": 39,
      "outputs": [
        {
          "output_type": "execute_result",
          "data": {
            "text/plain": [
              "<matplotlib.axes._subplots.AxesSubplot at 0x7f2bb9fec5d0>"
            ]
          },
          "metadata": {},
          "execution_count": 39
        },
        {
          "output_type": "display_data",
          "data": {
            "image/png": "[encoded data removed]",
            "text/plain": [
              "<Figure size 432x288 with 1 Axes>"
            ]
          },
          "metadata": {}
        }
      ]
    },
    {
      "cell_type": "code",
      "metadata": {
        "colab": {
          "base_uri": "https://localhost:8080/",
          "height": 415
        },
        "id": "ZXNnY_JgWDVc",
        "outputId": "6b0ae2eb-7fdf-47fc-acda-eae287b1cb79"
      },
      "source": [
        "# Most popular books for different age groups\n",
        "age_bin_df = new_df.groupby(['age_bins','Book-Title'])['Book-Rating'].count().sort_values(ascending=False).reset_index()\n",
        "age_bin_df.rename(columns={'Book-Title':'Number of times rated'})"
      ],
      "execution_count": 40,
      "outputs": [
        {
          "output_type": "execute_result",
          "data": {
            "text/html": [
              "<div>\n",
              "<style scoped>\n",
              "    .dataframe tbody tr th:only-of-type {\n",
              "        vertical-align: middle;\n",
              "    }\n",
              "\n",
              "    .dataframe tbody tr th {\n",
              "        vertical-align: top;\n",
              "    }\n",
              "\n",
              "    .dataframe thead th {\n",
              "        text-align: right;\n",
              "    }\n",
              "</style>\n",
              "<table border=\"1\" class=\"dataframe\">\n",
              "  <thead>\n",
              "    <tr style=\"text-align: right;\">\n",
              "      <th></th>\n",
              "      <th>age_bins</th>\n",
              "      <th>Number of times rated</th>\n",
              "      <th>Book-Rating</th>\n",
              "    </tr>\n",
              "  </thead>\n",
              "  <tbody>\n",
              "    <tr>\n",
              "      <th>0</th>\n",
              "      <td>Adult</td>\n",
              "      <td>Wild Animus</td>\n",
              "      <td>1922</td>\n",
              "    </tr>\n",
              "    <tr>\n",
              "      <th>1</th>\n",
              "      <td>Adult</td>\n",
              "      <td>The Lovely Bones: A Novel</td>\n",
              "      <td>1082</td>\n",
              "    </tr>\n",
              "    <tr>\n",
              "      <th>2</th>\n",
              "      <td>Adult</td>\n",
              "      <td>The Nanny Diaries: A Novel</td>\n",
              "      <td>729</td>\n",
              "    </tr>\n",
              "    <tr>\n",
              "      <th>3</th>\n",
              "      <td>Adult</td>\n",
              "      <td>The Da Vinci Code</td>\n",
              "      <td>715</td>\n",
              "    </tr>\n",
              "    <tr>\n",
              "      <th>4</th>\n",
              "      <td>Adult</td>\n",
              "      <td>Bridget Jones's Diary</td>\n",
              "      <td>714</td>\n",
              "    </tr>\n",
              "    <tr>\n",
              "      <th>...</th>\n",
              "      <td>...</td>\n",
              "      <td>...</td>\n",
              "      <td>...</td>\n",
              "    </tr>\n",
              "    <tr>\n",
              "      <th>964279</th>\n",
              "      <td>Teenager</td>\n",
              "      <td>Una Pena En Observacion</td>\n",
              "      <td>0</td>\n",
              "    </tr>\n",
              "    <tr>\n",
              "      <th>964280</th>\n",
              "      <td>Teenager</td>\n",
              "      <td>Una Nueva Generacion Dicta Las Reglas</td>\n",
              "      <td>0</td>\n",
              "    </tr>\n",
              "    <tr>\n",
              "      <th>964281</th>\n",
              "      <td>Teenager</td>\n",
              "      <td>Una Noche Con Sabrina Love</td>\n",
              "      <td>0</td>\n",
              "    </tr>\n",
              "    <tr>\n",
              "      <th>964282</th>\n",
              "      <td>Teenager</td>\n",
              "      <td>Una Navidad Diferente</td>\n",
              "      <td>0</td>\n",
              "    </tr>\n",
              "    <tr>\n",
              "      <th>964283</th>\n",
              "      <td>Kid</td>\n",
              "      <td>A Light in the Storm: The Civil War Diary of ...</td>\n",
              "      <td>0</td>\n",
              "    </tr>\n",
              "  </tbody>\n",
              "</table>\n",
              "<p>964284 rows × 3 columns</p>\n",
              "</div>"
            ],
            "text/plain": [
              "        age_bins  ... Book-Rating\n",
              "0          Adult  ...        1922\n",
              "1          Adult  ...        1082\n",
              "2          Adult  ...         729\n",
              "3          Adult  ...         715\n",
              "4          Adult  ...         714\n",
              "...          ...  ...         ...\n",
              "964279  Teenager  ...           0\n",
              "964280  Teenager  ...           0\n",
              "964281  Teenager  ...           0\n",
              "964282  Teenager  ...           0\n",
              "964283       Kid  ...           0\n",
              "\n",
              "[964284 rows x 3 columns]"
            ]
          },
          "metadata": {},
          "execution_count": 40
        }
      ]
    },
    {
      "cell_type": "code",
      "metadata": {
        "colab": {
          "base_uri": "https://localhost:8080/",
          "height": 663
        },
        "id": "_zVab2Y8WV3B",
        "outputId": "5d968919-27cf-4ded-eef9-c4e61aa13a5a"
      },
      "source": [
        "# Most popular books for adults\n",
        "age_bin_df[age_bin_df['age_bins']=='Adult'].head(20)"
      ],
      "execution_count": 41,
      "outputs": [
        {
          "output_type": "execute_result",
          "data": {
            "text/html": [
              "<div>\n",
              "<style scoped>\n",
              "    .dataframe tbody tr th:only-of-type {\n",
              "        vertical-align: middle;\n",
              "    }\n",
              "\n",
              "    .dataframe tbody tr th {\n",
              "        vertical-align: top;\n",
              "    }\n",
              "\n",
              "    .dataframe thead th {\n",
              "        text-align: right;\n",
              "    }\n",
              "</style>\n",
              "<table border=\"1\" class=\"dataframe\">\n",
              "  <thead>\n",
              "    <tr style=\"text-align: right;\">\n",
              "      <th></th>\n",
              "      <th>age_bins</th>\n",
              "      <th>Book-Title</th>\n",
              "      <th>Book-Rating</th>\n",
              "    </tr>\n",
              "  </thead>\n",
              "  <tbody>\n",
              "    <tr>\n",
              "      <th>0</th>\n",
              "      <td>Adult</td>\n",
              "      <td>Wild Animus</td>\n",
              "      <td>1922</td>\n",
              "    </tr>\n",
              "    <tr>\n",
              "      <th>1</th>\n",
              "      <td>Adult</td>\n",
              "      <td>The Lovely Bones: A Novel</td>\n",
              "      <td>1082</td>\n",
              "    </tr>\n",
              "    <tr>\n",
              "      <th>2</th>\n",
              "      <td>Adult</td>\n",
              "      <td>The Nanny Diaries: A Novel</td>\n",
              "      <td>729</td>\n",
              "    </tr>\n",
              "    <tr>\n",
              "      <th>3</th>\n",
              "      <td>Adult</td>\n",
              "      <td>The Da Vinci Code</td>\n",
              "      <td>715</td>\n",
              "    </tr>\n",
              "    <tr>\n",
              "      <th>4</th>\n",
              "      <td>Adult</td>\n",
              "      <td>Bridget Jones's Diary</td>\n",
              "      <td>714</td>\n",
              "    </tr>\n",
              "    <tr>\n",
              "      <th>5</th>\n",
              "      <td>Adult</td>\n",
              "      <td>A Painted House</td>\n",
              "      <td>671</td>\n",
              "    </tr>\n",
              "    <tr>\n",
              "      <th>6</th>\n",
              "      <td>Adult</td>\n",
              "      <td>The Secret Life of Bees</td>\n",
              "      <td>643</td>\n",
              "    </tr>\n",
              "    <tr>\n",
              "      <th>7</th>\n",
              "      <td>Adult</td>\n",
              "      <td>Divine Secrets of the Ya-Ya Sisterhood: A Novel</td>\n",
              "      <td>632</td>\n",
              "    </tr>\n",
              "    <tr>\n",
              "      <th>8</th>\n",
              "      <td>Adult</td>\n",
              "      <td>The Red Tent (Bestselling Backlist)</td>\n",
              "      <td>609</td>\n",
              "    </tr>\n",
              "    <tr>\n",
              "      <th>9</th>\n",
              "      <td>Adult</td>\n",
              "      <td>Life of Pi</td>\n",
              "      <td>558</td>\n",
              "    </tr>\n",
              "    <tr>\n",
              "      <th>10</th>\n",
              "      <td>Adult</td>\n",
              "      <td>Snow Falling on Cedars</td>\n",
              "      <td>556</td>\n",
              "    </tr>\n",
              "    <tr>\n",
              "      <th>11</th>\n",
              "      <td>Adult</td>\n",
              "      <td>The Notebook</td>\n",
              "      <td>543</td>\n",
              "    </tr>\n",
              "    <tr>\n",
              "      <th>12</th>\n",
              "      <td>Adult</td>\n",
              "      <td>Angels &amp;amp; Demons</td>\n",
              "      <td>540</td>\n",
              "    </tr>\n",
              "    <tr>\n",
              "      <th>13</th>\n",
              "      <td>Adult</td>\n",
              "      <td>The Summons</td>\n",
              "      <td>526</td>\n",
              "    </tr>\n",
              "    <tr>\n",
              "      <th>14</th>\n",
              "      <td>Adult</td>\n",
              "      <td>The Girls' Guide to Hunting and Fishing</td>\n",
              "      <td>513</td>\n",
              "    </tr>\n",
              "    <tr>\n",
              "      <th>15</th>\n",
              "      <td>Adult</td>\n",
              "      <td>The Testament</td>\n",
              "      <td>498</td>\n",
              "    </tr>\n",
              "    <tr>\n",
              "      <th>16</th>\n",
              "      <td>Adult</td>\n",
              "      <td>House of Sand and Fog</td>\n",
              "      <td>489</td>\n",
              "    </tr>\n",
              "    <tr>\n",
              "      <th>17</th>\n",
              "      <td>Adult</td>\n",
              "      <td>The Firm</td>\n",
              "      <td>483</td>\n",
              "    </tr>\n",
              "    <tr>\n",
              "      <th>18</th>\n",
              "      <td>Adult</td>\n",
              "      <td>Where the Heart Is (Oprah's Book Club (Paperba...</td>\n",
              "      <td>482</td>\n",
              "    </tr>\n",
              "    <tr>\n",
              "      <th>19</th>\n",
              "      <td>Adult</td>\n",
              "      <td>The Pilot's Wife : A Novel</td>\n",
              "      <td>481</td>\n",
              "    </tr>\n",
              "  </tbody>\n",
              "</table>\n",
              "</div>"
            ],
            "text/plain": [
              "   age_bins                                         Book-Title  Book-Rating\n",
              "0     Adult                                        Wild Animus         1922\n",
              "1     Adult                          The Lovely Bones: A Novel         1082\n",
              "2     Adult                         The Nanny Diaries: A Novel          729\n",
              "3     Adult                                  The Da Vinci Code          715\n",
              "4     Adult                              Bridget Jones's Diary          714\n",
              "5     Adult                                    A Painted House          671\n",
              "6     Adult                            The Secret Life of Bees          643\n",
              "7     Adult    Divine Secrets of the Ya-Ya Sisterhood: A Novel          632\n",
              "8     Adult                The Red Tent (Bestselling Backlist)          609\n",
              "9     Adult                                         Life of Pi          558\n",
              "10    Adult                             Snow Falling on Cedars          556\n",
              "11    Adult                                       The Notebook          543\n",
              "12    Adult                                Angels &amp; Demons          540\n",
              "13    Adult                                        The Summons          526\n",
              "14    Adult            The Girls' Guide to Hunting and Fishing          513\n",
              "15    Adult                                      The Testament          498\n",
              "16    Adult                              House of Sand and Fog          489\n",
              "17    Adult                                           The Firm          483\n",
              "18    Adult  Where the Heart Is (Oprah's Book Club (Paperba...          482\n",
              "19    Adult                         The Pilot's Wife : A Novel          481"
            ]
          },
          "metadata": {},
          "execution_count": 41
        }
      ]
    },
    {
      "cell_type": "code",
      "metadata": {
        "colab": {
          "base_uri": "https://localhost:8080/",
          "height": 663
        },
        "id": "GTa9Pbk8WZq4",
        "outputId": "31f61098-43c4-4fb4-dc4f-1d454a65851f"
      },
      "source": [
        "# Most popular books for Teens\n",
        "age_bin_df[age_bin_df['age_bins']=='Teenager'].head(20)"
      ],
      "execution_count": 42,
      "outputs": [
        {
          "output_type": "execute_result",
          "data": {
            "text/html": [
              "<div>\n",
              "<style scoped>\n",
              "    .dataframe tbody tr th:only-of-type {\n",
              "        vertical-align: middle;\n",
              "    }\n",
              "\n",
              "    .dataframe tbody tr th {\n",
              "        vertical-align: top;\n",
              "    }\n",
              "\n",
              "    .dataframe thead th {\n",
              "        text-align: right;\n",
              "    }\n",
              "</style>\n",
              "<table border=\"1\" class=\"dataframe\">\n",
              "  <thead>\n",
              "    <tr style=\"text-align: right;\">\n",
              "      <th></th>\n",
              "      <th>age_bins</th>\n",
              "      <th>Book-Title</th>\n",
              "      <th>Book-Rating</th>\n",
              "    </tr>\n",
              "  </thead>\n",
              "  <tbody>\n",
              "    <tr>\n",
              "      <th>84</th>\n",
              "      <td>Teenager</td>\n",
              "      <td>Wild Animus</td>\n",
              "      <td>293</td>\n",
              "    </tr>\n",
              "    <tr>\n",
              "      <th>753</th>\n",
              "      <td>Teenager</td>\n",
              "      <td>The Lovely Bones: A Novel</td>\n",
              "      <td>93</td>\n",
              "    </tr>\n",
              "    <tr>\n",
              "      <th>964</th>\n",
              "      <td>Teenager</td>\n",
              "      <td>The Catcher in the Rye</td>\n",
              "      <td>78</td>\n",
              "    </tr>\n",
              "    <tr>\n",
              "      <th>1065</th>\n",
              "      <td>Teenager</td>\n",
              "      <td>Harry Potter and the Chamber of Secrets (Book 2)</td>\n",
              "      <td>73</td>\n",
              "    </tr>\n",
              "    <tr>\n",
              "      <th>1107</th>\n",
              "      <td>Teenager</td>\n",
              "      <td>To Kill a Mockingbird</td>\n",
              "      <td>72</td>\n",
              "    </tr>\n",
              "    <tr>\n",
              "      <th>1151</th>\n",
              "      <td>Teenager</td>\n",
              "      <td>Harry Potter and the Sorcerer's Stone (Harry P...</td>\n",
              "      <td>70</td>\n",
              "    </tr>\n",
              "    <tr>\n",
              "      <th>1356</th>\n",
              "      <td>Teenager</td>\n",
              "      <td>Fahrenheit 451</td>\n",
              "      <td>63</td>\n",
              "    </tr>\n",
              "    <tr>\n",
              "      <th>1456</th>\n",
              "      <td>Teenager</td>\n",
              "      <td>Harry Potter and the Goblet of Fire (Book 4)</td>\n",
              "      <td>60</td>\n",
              "    </tr>\n",
              "    <tr>\n",
              "      <th>1465</th>\n",
              "      <td>Teenager</td>\n",
              "      <td>Interview with the Vampire</td>\n",
              "      <td>60</td>\n",
              "    </tr>\n",
              "    <tr>\n",
              "      <th>1566</th>\n",
              "      <td>Teenager</td>\n",
              "      <td>Harry Potter and the Prisoner of Azkaban (Book 3)</td>\n",
              "      <td>57</td>\n",
              "    </tr>\n",
              "    <tr>\n",
              "      <th>1615</th>\n",
              "      <td>Teenager</td>\n",
              "      <td>A Painted House</td>\n",
              "      <td>56</td>\n",
              "    </tr>\n",
              "    <tr>\n",
              "      <th>1705</th>\n",
              "      <td>Teenager</td>\n",
              "      <td>The Nanny Diaries: A Novel</td>\n",
              "      <td>54</td>\n",
              "    </tr>\n",
              "    <tr>\n",
              "      <th>1724</th>\n",
              "      <td>Teenager</td>\n",
              "      <td>Harry Potter and the Order of the Phoenix (Boo...</td>\n",
              "      <td>54</td>\n",
              "    </tr>\n",
              "    <tr>\n",
              "      <th>1778</th>\n",
              "      <td>Teenager</td>\n",
              "      <td>A Walk to Remember</td>\n",
              "      <td>53</td>\n",
              "    </tr>\n",
              "    <tr>\n",
              "      <th>1843</th>\n",
              "      <td>Teenager</td>\n",
              "      <td>The Notebook</td>\n",
              "      <td>51</td>\n",
              "    </tr>\n",
              "    <tr>\n",
              "      <th>1865</th>\n",
              "      <td>Teenager</td>\n",
              "      <td>The Golden Compass (His Dark Materials, Book 1)</td>\n",
              "      <td>51</td>\n",
              "    </tr>\n",
              "    <tr>\n",
              "      <th>1907</th>\n",
              "      <td>Teenager</td>\n",
              "      <td>Bridget Jones's Diary</td>\n",
              "      <td>50</td>\n",
              "    </tr>\n",
              "    <tr>\n",
              "      <th>1920</th>\n",
              "      <td>Teenager</td>\n",
              "      <td>A Time to Kill</td>\n",
              "      <td>50</td>\n",
              "    </tr>\n",
              "    <tr>\n",
              "      <th>2026</th>\n",
              "      <td>Teenager</td>\n",
              "      <td>The Red Tent (Bestselling Backlist)</td>\n",
              "      <td>48</td>\n",
              "    </tr>\n",
              "    <tr>\n",
              "      <th>2054</th>\n",
              "      <td>Teenager</td>\n",
              "      <td>The Hobbit : The Enchanting Prelude to The Lor...</td>\n",
              "      <td>47</td>\n",
              "    </tr>\n",
              "  </tbody>\n",
              "</table>\n",
              "</div>"
            ],
            "text/plain": [
              "      age_bins                                         Book-Title  Book-Rating\n",
              "84    Teenager                                        Wild Animus          293\n",
              "753   Teenager                          The Lovely Bones: A Novel           93\n",
              "964   Teenager                             The Catcher in the Rye           78\n",
              "1065  Teenager   Harry Potter and the Chamber of Secrets (Book 2)           73\n",
              "1107  Teenager                              To Kill a Mockingbird           72\n",
              "1151  Teenager  Harry Potter and the Sorcerer's Stone (Harry P...           70\n",
              "1356  Teenager                                     Fahrenheit 451           63\n",
              "1456  Teenager       Harry Potter and the Goblet of Fire (Book 4)           60\n",
              "1465  Teenager                         Interview with the Vampire           60\n",
              "1566  Teenager  Harry Potter and the Prisoner of Azkaban (Book 3)           57\n",
              "1615  Teenager                                    A Painted House           56\n",
              "1705  Teenager                         The Nanny Diaries: A Novel           54\n",
              "1724  Teenager  Harry Potter and the Order of the Phoenix (Boo...           54\n",
              "1778  Teenager                                 A Walk to Remember           53\n",
              "1843  Teenager                                       The Notebook           51\n",
              "1865  Teenager    The Golden Compass (His Dark Materials, Book 1)           51\n",
              "1907  Teenager                              Bridget Jones's Diary           50\n",
              "1920  Teenager                                     A Time to Kill           50\n",
              "2026  Teenager                The Red Tent (Bestselling Backlist)           48\n",
              "2054  Teenager  The Hobbit : The Enchanting Prelude to The Lor...           47"
            ]
          },
          "metadata": {},
          "execution_count": 42
        }
      ]
    },
    {
      "cell_type": "code",
      "metadata": {
        "colab": {
          "base_uri": "https://localhost:8080/",
          "height": 663
        },
        "id": "iJ-K59giWgOZ",
        "outputId": "3513f6b9-4b27-47d5-8739-a71d5b415f80"
      },
      "source": [
        "# Most popular books for Kids\n",
        "age_bin_df[age_bin_df['age_bins']=='Kid'].head(20)"
      ],
      "execution_count": 43,
      "outputs": [
        {
          "output_type": "execute_result",
          "data": {
            "text/html": [
              "<div>\n",
              "<style scoped>\n",
              "    .dataframe tbody tr th:only-of-type {\n",
              "        vertical-align: middle;\n",
              "    }\n",
              "\n",
              "    .dataframe tbody tr th {\n",
              "        vertical-align: top;\n",
              "    }\n",
              "\n",
              "    .dataframe thead th {\n",
              "        text-align: right;\n",
              "    }\n",
              "</style>\n",
              "<table border=\"1\" class=\"dataframe\">\n",
              "  <thead>\n",
              "    <tr style=\"text-align: right;\">\n",
              "      <th></th>\n",
              "      <th>age_bins</th>\n",
              "      <th>Book-Title</th>\n",
              "      <th>Book-Rating</th>\n",
              "    </tr>\n",
              "  </thead>\n",
              "  <tbody>\n",
              "    <tr>\n",
              "      <th>12627</th>\n",
              "      <td>Kid</td>\n",
              "      <td>Harry Potter and the Sorcerer's Stone (Harry P...</td>\n",
              "      <td>12</td>\n",
              "    </tr>\n",
              "    <tr>\n",
              "      <th>19136</th>\n",
              "      <td>Kid</td>\n",
              "      <td>The Bad Beginning (A Series of Unfortunate Eve...</td>\n",
              "      <td>8</td>\n",
              "    </tr>\n",
              "    <tr>\n",
              "      <th>20042</th>\n",
              "      <td>Kid</td>\n",
              "      <td>Captain Underpants and the Invasion of the Inc...</td>\n",
              "      <td>8</td>\n",
              "    </tr>\n",
              "    <tr>\n",
              "      <th>24485</th>\n",
              "      <td>Kid</td>\n",
              "      <td>Harry Potter and the Chamber of Secrets (Book 2)</td>\n",
              "      <td>7</td>\n",
              "    </tr>\n",
              "    <tr>\n",
              "      <th>25042</th>\n",
              "      <td>Kid</td>\n",
              "      <td>Harry Potter and the Goblet of Fire (Book 4)</td>\n",
              "      <td>6</td>\n",
              "    </tr>\n",
              "    <tr>\n",
              "      <th>27704</th>\n",
              "      <td>Kid</td>\n",
              "      <td>Night of the Living Dummy II  (Goosebumps, No 31)</td>\n",
              "      <td>6</td>\n",
              "    </tr>\n",
              "    <tr>\n",
              "      <th>28082</th>\n",
              "      <td>Kid</td>\n",
              "      <td>Wild Animus</td>\n",
              "      <td>6</td>\n",
              "    </tr>\n",
              "    <tr>\n",
              "      <th>28424</th>\n",
              "      <td>Kid</td>\n",
              "      <td>Tales of a Fourth Grade Nothing</td>\n",
              "      <td>6</td>\n",
              "    </tr>\n",
              "    <tr>\n",
              "      <th>28537</th>\n",
              "      <td>Kid</td>\n",
              "      <td>Artemis Fowl (Artemis Fowl, Book 1)</td>\n",
              "      <td>6</td>\n",
              "    </tr>\n",
              "    <tr>\n",
              "      <th>28881</th>\n",
              "      <td>Kid</td>\n",
              "      <td>Stay Out of the Basement (Goosebumps, No 2)</td>\n",
              "      <td>6</td>\n",
              "    </tr>\n",
              "    <tr>\n",
              "      <th>30418</th>\n",
              "      <td>Kid</td>\n",
              "      <td>Holes (Yearling Newbery)</td>\n",
              "      <td>5</td>\n",
              "    </tr>\n",
              "    <tr>\n",
              "      <th>30586</th>\n",
              "      <td>Kid</td>\n",
              "      <td>The Lovely Bones: A Novel</td>\n",
              "      <td>5</td>\n",
              "    </tr>\n",
              "    <tr>\n",
              "      <th>31302</th>\n",
              "      <td>Kid</td>\n",
              "      <td>The Adventures of Captain Underpants: An Epic ...</td>\n",
              "      <td>5</td>\n",
              "    </tr>\n",
              "    <tr>\n",
              "      <th>31523</th>\n",
              "      <td>Kid</td>\n",
              "      <td>Charlotte's Web</td>\n",
              "      <td>5</td>\n",
              "    </tr>\n",
              "    <tr>\n",
              "      <th>31606</th>\n",
              "      <td>Kid</td>\n",
              "      <td>You Can't Scare Me! (Goosebumps, No 15)</td>\n",
              "      <td>5</td>\n",
              "    </tr>\n",
              "    <tr>\n",
              "      <th>32662</th>\n",
              "      <td>Kid</td>\n",
              "      <td>Captain Underpants and the Attack of the Talki...</td>\n",
              "      <td>5</td>\n",
              "    </tr>\n",
              "    <tr>\n",
              "      <th>32886</th>\n",
              "      <td>Kid</td>\n",
              "      <td>The Headless Ghost (Goosebumps, No 37)</td>\n",
              "      <td>5</td>\n",
              "    </tr>\n",
              "    <tr>\n",
              "      <th>33214</th>\n",
              "      <td>Kid</td>\n",
              "      <td>Let's Get Invisible! (Goosebumps, No 6)</td>\n",
              "      <td>5</td>\n",
              "    </tr>\n",
              "    <tr>\n",
              "      <th>35071</th>\n",
              "      <td>Kid</td>\n",
              "      <td>Bears on Wheels (Bright &amp;amp; Early Books)</td>\n",
              "      <td>5</td>\n",
              "    </tr>\n",
              "    <tr>\n",
              "      <th>35109</th>\n",
              "      <td>Kid</td>\n",
              "      <td>Beezus and Ramona</td>\n",
              "      <td>5</td>\n",
              "    </tr>\n",
              "  </tbody>\n",
              "</table>\n",
              "</div>"
            ],
            "text/plain": [
              "      age_bins                                         Book-Title  Book-Rating\n",
              "12627      Kid  Harry Potter and the Sorcerer's Stone (Harry P...           12\n",
              "19136      Kid  The Bad Beginning (A Series of Unfortunate Eve...            8\n",
              "20042      Kid  Captain Underpants and the Invasion of the Inc...            8\n",
              "24485      Kid   Harry Potter and the Chamber of Secrets (Book 2)            7\n",
              "25042      Kid       Harry Potter and the Goblet of Fire (Book 4)            6\n",
              "27704      Kid  Night of the Living Dummy II  (Goosebumps, No 31)            6\n",
              "28082      Kid                                        Wild Animus            6\n",
              "28424      Kid                    Tales of a Fourth Grade Nothing            6\n",
              "28537      Kid                Artemis Fowl (Artemis Fowl, Book 1)            6\n",
              "28881      Kid        Stay Out of the Basement (Goosebumps, No 2)            6\n",
              "30418      Kid                           Holes (Yearling Newbery)            5\n",
              "30586      Kid                          The Lovely Bones: A Novel            5\n",
              "31302      Kid  The Adventures of Captain Underpants: An Epic ...            5\n",
              "31523      Kid                                    Charlotte's Web            5\n",
              "31606      Kid            You Can't Scare Me! (Goosebumps, No 15)            5\n",
              "32662      Kid  Captain Underpants and the Attack of the Talki...            5\n",
              "32886      Kid             The Headless Ghost (Goosebumps, No 37)            5\n",
              "33214      Kid            Let's Get Invisible! (Goosebumps, No 6)            5\n",
              "35071      Kid         Bears on Wheels (Bright &amp; Early Books)            5\n",
              "35109      Kid                                  Beezus and Ramona            5"
            ]
          },
          "metadata": {},
          "execution_count": 43
        }
      ]
    },
    {
      "cell_type": "code",
      "metadata": {
        "colab": {
          "base_uri": "https://localhost:8080/",
          "height": 663
        },
        "id": "G5cPQ82WWoWk",
        "outputId": "7294031b-82c4-4abf-f982-ec32b548ec88"
      },
      "source": [
        "# Most popular books for Old users\n",
        "age_bin_df[age_bin_df['age_bins']=='Old'].head(20)"
      ],
      "execution_count": 44,
      "outputs": [
        {
          "output_type": "execute_result",
          "data": {
            "text/html": [
              "<div>\n",
              "<style scoped>\n",
              "    .dataframe tbody tr th:only-of-type {\n",
              "        vertical-align: middle;\n",
              "    }\n",
              "\n",
              "    .dataframe tbody tr th {\n",
              "        vertical-align: top;\n",
              "    }\n",
              "\n",
              "    .dataframe thead th {\n",
              "        text-align: right;\n",
              "    }\n",
              "</style>\n",
              "<table border=\"1\" class=\"dataframe\">\n",
              "  <thead>\n",
              "    <tr style=\"text-align: right;\">\n",
              "      <th></th>\n",
              "      <th>age_bins</th>\n",
              "      <th>Book-Title</th>\n",
              "      <th>Book-Rating</th>\n",
              "    </tr>\n",
              "  </thead>\n",
              "  <tbody>\n",
              "    <tr>\n",
              "      <th>91</th>\n",
              "      <td>Old</td>\n",
              "      <td>Wild Animus</td>\n",
              "      <td>281</td>\n",
              "    </tr>\n",
              "    <tr>\n",
              "      <th>431</th>\n",
              "      <td>Old</td>\n",
              "      <td>The Da Vinci Code</td>\n",
              "      <td>135</td>\n",
              "    </tr>\n",
              "    <tr>\n",
              "      <th>533</th>\n",
              "      <td>Old</td>\n",
              "      <td>The Lovely Bones: A Novel</td>\n",
              "      <td>115</td>\n",
              "    </tr>\n",
              "    <tr>\n",
              "      <th>585</th>\n",
              "      <td>Old</td>\n",
              "      <td>A Painted House</td>\n",
              "      <td>110</td>\n",
              "    </tr>\n",
              "    <tr>\n",
              "      <th>729</th>\n",
              "      <td>Old</td>\n",
              "      <td>Angels &amp;amp; Demons</td>\n",
              "      <td>95</td>\n",
              "    </tr>\n",
              "    <tr>\n",
              "      <th>835</th>\n",
              "      <td>Old</td>\n",
              "      <td>The Secret Life of Bees</td>\n",
              "      <td>87</td>\n",
              "    </tr>\n",
              "    <tr>\n",
              "      <th>853</th>\n",
              "      <td>Old</td>\n",
              "      <td>The Summons</td>\n",
              "      <td>86</td>\n",
              "    </tr>\n",
              "    <tr>\n",
              "      <th>876</th>\n",
              "      <td>Old</td>\n",
              "      <td>The King of Torts</td>\n",
              "      <td>84</td>\n",
              "    </tr>\n",
              "    <tr>\n",
              "      <th>914</th>\n",
              "      <td>Old</td>\n",
              "      <td>The Runaway Jury</td>\n",
              "      <td>82</td>\n",
              "    </tr>\n",
              "    <tr>\n",
              "      <th>1022</th>\n",
              "      <td>Old</td>\n",
              "      <td>The Testament</td>\n",
              "      <td>75</td>\n",
              "    </tr>\n",
              "    <tr>\n",
              "      <th>1045</th>\n",
              "      <td>Old</td>\n",
              "      <td>The No. 1 Ladies' Detective Agency (Today Show...</td>\n",
              "      <td>74</td>\n",
              "    </tr>\n",
              "    <tr>\n",
              "      <th>1054</th>\n",
              "      <td>Old</td>\n",
              "      <td>The Beach House</td>\n",
              "      <td>74</td>\n",
              "    </tr>\n",
              "    <tr>\n",
              "      <th>1061</th>\n",
              "      <td>Old</td>\n",
              "      <td>The Five People You Meet in Heaven</td>\n",
              "      <td>73</td>\n",
              "    </tr>\n",
              "    <tr>\n",
              "      <th>1132</th>\n",
              "      <td>Old</td>\n",
              "      <td>Life of Pi</td>\n",
              "      <td>71</td>\n",
              "    </tr>\n",
              "    <tr>\n",
              "      <th>1180</th>\n",
              "      <td>Old</td>\n",
              "      <td>The Horse Whisperer</td>\n",
              "      <td>69</td>\n",
              "    </tr>\n",
              "    <tr>\n",
              "      <th>1203</th>\n",
              "      <td>Old</td>\n",
              "      <td>The Pelican Brief</td>\n",
              "      <td>68</td>\n",
              "    </tr>\n",
              "    <tr>\n",
              "      <th>1226</th>\n",
              "      <td>Old</td>\n",
              "      <td>The Partner</td>\n",
              "      <td>67</td>\n",
              "    </tr>\n",
              "    <tr>\n",
              "      <th>1298</th>\n",
              "      <td>Old</td>\n",
              "      <td>The Red Tent (Bestselling Backlist)</td>\n",
              "      <td>65</td>\n",
              "    </tr>\n",
              "    <tr>\n",
              "      <th>1304</th>\n",
              "      <td>Old</td>\n",
              "      <td>Timeline</td>\n",
              "      <td>65</td>\n",
              "    </tr>\n",
              "    <tr>\n",
              "      <th>1341</th>\n",
              "      <td>Old</td>\n",
              "      <td>The Street Lawyer</td>\n",
              "      <td>63</td>\n",
              "    </tr>\n",
              "  </tbody>\n",
              "</table>\n",
              "</div>"
            ],
            "text/plain": [
              "     age_bins                                         Book-Title  Book-Rating\n",
              "91        Old                                        Wild Animus          281\n",
              "431       Old                                  The Da Vinci Code          135\n",
              "533       Old                          The Lovely Bones: A Novel          115\n",
              "585       Old                                    A Painted House          110\n",
              "729       Old                                Angels &amp; Demons           95\n",
              "835       Old                            The Secret Life of Bees           87\n",
              "853       Old                                        The Summons           86\n",
              "876       Old                                  The King of Torts           84\n",
              "914       Old                                   The Runaway Jury           82\n",
              "1022      Old                                      The Testament           75\n",
              "1045      Old  The No. 1 Ladies' Detective Agency (Today Show...           74\n",
              "1054      Old                                    The Beach House           74\n",
              "1061      Old                 The Five People You Meet in Heaven           73\n",
              "1132      Old                                         Life of Pi           71\n",
              "1180      Old                                The Horse Whisperer           69\n",
              "1203      Old                                  The Pelican Brief           68\n",
              "1226      Old                                        The Partner           67\n",
              "1298      Old                The Red Tent (Bestselling Backlist)           65\n",
              "1304      Old                                           Timeline           65\n",
              "1341      Old                                  The Street Lawyer           63"
            ]
          },
          "metadata": {},
          "execution_count": 44
        }
      ]
    },
    {
      "cell_type": "code",
      "metadata": {
        "colab": {
          "base_uri": "https://localhost:8080/"
        },
        "id": "BtsTcbZxWuV6",
        "outputId": "d2817ec9-4d62-4628-cba6-c73c5cdde5de"
      },
      "source": [
        "# Check which age group gave the most implicit ratings\n",
        "new_df[new_df['Book-Rating']==0]['age_bins'].value_counts()"
      ],
      "execution_count": 45,
      "outputs": [
        {
          "output_type": "execute_result",
          "data": {
            "text/plain": [
              "Adult       522792\n",
              "Old          78787\n",
              "Teenager     41841\n",
              "Kid           3874\n",
              "Name: age_bins, dtype: int64"
            ]
          },
          "metadata": {},
          "execution_count": 45
        }
      ]
    },
    {
      "cell_type": "markdown",
      "metadata": {
        "id": "5IjFrS7UGfOC"
      },
      "source": [
        "####<b>Note: </b>\n",
        "####Users from each age category can be said to have some similar book preferences, we will later use Age as a relevance to recommend books for implicit ratings."
      ]
    },
    {
      "cell_type": "code",
      "metadata": {
        "id": "kuHB8pRFZHMu"
      },
      "source": [
        "# Extract countries for users\n",
        "new_df['country']= new_df.apply(lambda x: x['Location'].rsplit(' ')[-1],axis=1)"
      ],
      "execution_count": 46,
      "outputs": []
    },
    {
      "cell_type": "code",
      "metadata": {
        "id": "AZAvQEhnZekE"
      },
      "source": [
        "# Location can be dropped now\n",
        "new_df.drop(['Location'],axis=1,inplace=True)"
      ],
      "execution_count": 47,
      "outputs": []
    },
    {
      "cell_type": "code",
      "metadata": {
        "colab": {
          "base_uri": "https://localhost:8080/"
        },
        "id": "fhQoU7LhZnbA",
        "outputId": "c108b590-41c2-49b8-e738-efa31fdd53fd"
      },
      "source": [
        "# Which country rates books the most\n",
        "b1 = new_df.groupby('country')['Book-Rating'].count().sort_values(ascending=False).head(5)\n",
        "b1"
      ],
      "execution_count": 48,
      "outputs": [
        {
          "output_type": "execute_result",
          "data": {
            "text/plain": [
              "country\n",
              "usa          746467\n",
              "canada        93001\n",
              "kingdom       33072\n",
              "germany       27657\n",
              "australia     18238\n",
              "Name: Book-Rating, dtype: int64"
            ]
          },
          "metadata": {},
          "execution_count": 48
        }
      ]
    },
    {
      "cell_type": "code",
      "metadata": {
        "colab": {
          "base_uri": "https://localhost:8080/"
        },
        "id": "9bbAXbxxZokA",
        "outputId": "e0e6fa55-2692-43c9-e328-2292a8dc8dca"
      },
      "source": [
        "# implicit rating(=0) is more frequent than explicit rating overall\n",
        "new_df['Book-Rating'].value_counts()"
      ],
      "execution_count": 49,
      "outputs": [
        {
          "output_type": "execute_result",
          "data": {
            "text/plain": [
              "0     647294\n",
              "8      91804\n",
              "10     71225\n",
              "7      66402\n",
              "9      60778\n",
              "5      45355\n",
              "6      31687\n",
              "4       7617\n",
              "3       5118\n",
              "2       2375\n",
              "1       1481\n",
              "Name: Book-Rating, dtype: int64"
            ]
          },
          "metadata": {},
          "execution_count": 49
        }
      ]
    },
    {
      "cell_type": "code",
      "metadata": {
        "id": "afl2tBoPZ57A"
      },
      "source": [
        "# Implicit ratings i.e. Book-Rating = 0\n",
        "b2 = new_df[new_df['Book-Rating']==0].\\\n",
        "groupby('country')['Book-Rating'].count().sort_values(ascending=False).head(5)"
      ],
      "execution_count": 50,
      "outputs": []
    },
    {
      "cell_type": "code",
      "metadata": {
        "colab": {
          "base_uri": "https://localhost:8080/",
          "height": 350
        },
        "id": "pVxN1MvUaLSj",
        "outputId": "f8a267b8-248d-49ce-c466-9033e6e03f1a"
      },
      "source": [
        "# Bar plot for Rating comparison \n",
        "n= 5\n",
        "X_axis = np.arange(n)\n",
        "X = b1.index\n",
        "\n",
        "plt.figure(figsize=(10,5))  \n",
        "plt.bar(X_axis - 0.2, b1, 0.4, label = 'Total ratings')\n",
        "plt.bar(X_axis + 0.2, b2, 0.4, label = 'Implicit atings')\n",
        "  \n",
        "plt.xticks(X_axis, X)\n",
        "plt.xlabel(\"Countries\")\n",
        "plt.ylabel(\"Number of ratings\")\n",
        "plt.title(\"Total ratings and Implicit ratings for top 5 countries in terms of ratings given\")\n",
        "plt.legend()\n",
        "plt.show()"
      ],
      "execution_count": 51,
      "outputs": [
        {
          "output_type": "display_data",
          "data": {
            "image/png": "[encoded data removed]",
            "text/plain": [
              "<Figure size 720x360 with 1 Axes>"
            ]
          },
          "metadata": {
            "needs_background": "light"
          }
        }
      ]
    },
    {
      "cell_type": "code",
      "metadata": {
        "colab": {
          "base_uri": "https://localhost:8080/",
          "height": 369
        },
        "id": "e1xbABfManu5",
        "outputId": "4ae86f63-3307-4033-df38-ae62a990236f"
      },
      "source": [
        "# Plot for ratings received by books\n",
        "plt.figure(figsize=(13,5))\n",
        "ax =new_df.groupby('Book-Title')['Book-Rating'].count().sort_values(ascending=False).head(20).plot(kind='barh',color='r')\n",
        "ax.invert_yaxis()\n",
        "plt.xlabel('number of ratings',fontdict={'size':13})\n",
        "plt.ylabel('Titles',fontdict={'size':13})\n",
        "plt.title('Books that received most ratings')"
      ],
      "execution_count": 52,
      "outputs": [
        {
          "output_type": "execute_result",
          "data": {
            "text/plain": [
              "Text(0.5, 1.0, 'Books that received most ratings')"
            ]
          },
          "metadata": {},
          "execution_count": 52
        },
        {
          "output_type": "display_data",
          "data": {
            "image/png": "[encoded data removed]",
            "text/plain": [
              "<Figure size 936x360 with 1 Axes>"
            ]
          },
          "metadata": {
            "needs_background": "light"
          }
        }
      ]
    },
    {
      "cell_type": "code",
      "metadata": {
        "colab": {
          "base_uri": "https://localhost:8080/",
          "height": 475
        },
        "id": "sz_WQEpHaptu",
        "outputId": "adef9638-3798-452f-9a78-e8573e5cb1ca"
      },
      "source": [
        "# Same as above for publishers\n",
        "plt.figure(figsize=(10,7))\n",
        "ax1 = new_df.groupby('Publisher')['Book-Rating'].count().sort_values(ascending=False).head(20).plot(kind='barh')\n",
        "ax1.invert_yaxis()\n",
        "plt.xlabel('Ratings')\n",
        "plt.ylabel('No of ratings')\n",
        "plt.title('Publishers that received the most ratings')"
      ],
      "execution_count": 53,
      "outputs": [
        {
          "output_type": "execute_result",
          "data": {
            "text/plain": [
              "Text(0.5, 1.0, 'Publishers that received the most ratings')"
            ]
          },
          "metadata": {},
          "execution_count": 53
        },
        {
          "output_type": "display_data",
          "data": {
            "image/png": "[encoded data removed]",
            "text/plain": [
              "<Figure size 720x504 with 1 Axes>"
            ]
          },
          "metadata": {
            "needs_background": "light"
          }
        }
      ]
    },
    {
      "cell_type": "code",
      "metadata": {
        "colab": {
          "base_uri": "https://localhost:8080/",
          "height": 366
        },
        "id": "YsuU2Wb4a4VU",
        "outputId": "b654a8d1-a2f0-474d-cd2b-45ff2fad5d34"
      },
      "source": [
        "# Book rated as 10 by most\n",
        "plt.figure(figsize=(7,5))\n",
        "ax2 = new_df[new_df['Book-Rating']==10].groupby('Book-Title')['Book-Rating'].count().sort_values(ascending=False).head(20).plot(kind='barh',color='y')\n",
        "ax2.invert_yaxis()\n",
        "plt.xlabel('Ratings')\n",
        "plt.title('Books which were rated as 10 the most')"
      ],
      "execution_count": 54,
      "outputs": [
        {
          "output_type": "execute_result",
          "data": {
            "text/plain": [
              "Text(0.5, 1.0, 'Books which were rated as 10 the most')"
            ]
          },
          "metadata": {},
          "execution_count": 54
        },
        {
          "output_type": "display_data",
          "data": {
            "image/png": "[encoded data removed]",
            "text/plain": [
              "<Figure size 504x360 with 1 Axes>"
            ]
          },
          "metadata": {
            "needs_background": "light"
          }
        }
      ]
    },
    {
      "cell_type": "code",
      "metadata": {
        "colab": {
          "base_uri": "https://localhost:8080/",
          "height": 366
        },
        "id": "72t2hNlSa9Rn",
        "outputId": "98f1ad78-680a-40da-90a8-02f503e907a8"
      },
      "source": [
        "# Top 20 Publishers with highest book count\n",
        "plt.figure(figsize=(7,5))\n",
        "ax3 = new_df.groupby('Publisher')['ISBN'].count().sort_values(ascending=False).head(20).plot(kind='barh',color='m')\n",
        "ax3.invert_yaxis()\n",
        "plt.xlabel('Number of books')\n",
        "plt.title('Number of books from top publishers')"
      ],
      "execution_count": 55,
      "outputs": [
        {
          "output_type": "execute_result",
          "data": {
            "text/plain": [
              "Text(0.5, 1.0, 'Number of books from top publishers')"
            ]
          },
          "metadata": {},
          "execution_count": 55
        },
        {
          "output_type": "display_data",
          "data": {
            "image/png": "[encoded data removed]",
            "text/plain": [
              "<Figure size 504x360 with 1 Axes>"
            ]
          },
          "metadata": {
            "needs_background": "light"
          }
        }
      ]
    },
    {
      "cell_type": "code",
      "metadata": {
        "id": "f3lyP-qTcDuq"
      },
      "source": [
        "# Get only those books which have been rated more than 200 times\n",
        "x = new_df.groupby('Book-Title')['Book-Rating'].count()>200"
      ],
      "execution_count": 56,
      "outputs": []
    },
    {
      "cell_type": "code",
      "metadata": {
        "colab": {
          "base_uri": "https://localhost:8080/",
          "height": 478
        },
        "id": "8HKZ_dEcbfLE",
        "outputId": "4d8df40d-723e-48eb-cffb-4c858c74bf82"
      },
      "source": [
        "#Plot top rated books on an average \n",
        "plt.figure(figsize=(7,7))\n",
        "ax3 = new_df[new_df['Book-Title'].isin(x[x].index)].groupby('Book-Title')\\\n",
        "           ['Book-Rating'].mean().sort_values(ascending=False).head(20).plot(kind='barh',color='g')\n",
        "ax3.invert_yaxis()\n",
        "ax3.set_xlabel('Average Rating',fontdict={'size':13})\n",
        "ax3.set_title('Book vs Average Rating')"
      ],
      "execution_count": 57,
      "outputs": [
        {
          "output_type": "execute_result",
          "data": {
            "text/plain": [
              "Text(0.5, 1.0, 'Book vs Average Rating')"
            ]
          },
          "metadata": {},
          "execution_count": 57
        },
        {
          "output_type": "display_data",
          "data": {
            "image/png": "[encoded data removed]",
            "text/plain": [
              "<Figure size 504x504 with 1 Axes>"
            ]
          },
          "metadata": {
            "needs_background": "light"
          }
        }
      ]
    },
    {
      "cell_type": "code",
      "metadata": {
        "colab": {
          "base_uri": "https://localhost:8080/",
          "height": 478
        },
        "id": "gmGKizKaby-P",
        "outputId": "67c884ee-fc25-46e4-be2c-c47b947adc56"
      },
      "source": [
        "# Top Rated publishers on an average\n",
        "plt.figure(figsize=(7,7))\n",
        "ax3 = new_df[new_df['Book-Title'].isin(x[x].index)].groupby('Publisher')\\\n",
        "           ['Book-Rating'].mean().sort_values(ascending=False).head(20).plot(kind='barh',color='c')\n",
        "ax3.invert_yaxis()\n",
        "ax3.set_xlabel('Average Rating',fontdict={'size':13})\n",
        "ax3.set_title('Publisher vs Average Rating')"
      ],
      "execution_count": 58,
      "outputs": [
        {
          "output_type": "execute_result",
          "data": {
            "text/plain": [
              "Text(0.5, 1.0, 'Publisher vs Average Rating')"
            ]
          },
          "metadata": {},
          "execution_count": 58
        },
        {
          "output_type": "display_data",
          "data": {
            "image/png": "[encoded data removed]",
            "text/plain": [
              "<Figure size 504x504 with 1 Axes>"
            ]
          },
          "metadata": {
            "needs_background": "light"
          }
        }
      ]
    },
    {
      "cell_type": "code",
      "metadata": {
        "colab": {
          "base_uri": "https://localhost:8080/"
        },
        "id": "jW5RcwdgcdrK",
        "outputId": "181b0778-2b6f-465f-82eb-6c7691e84153"
      },
      "source": [
        "new_df.shape"
      ],
      "execution_count": 59,
      "outputs": [
        {
          "output_type": "execute_result",
          "data": {
            "text/plain": [
              "(1031136, 10)"
            ]
          },
          "metadata": {},
          "execution_count": 59
        }
      ]
    },
    {
      "cell_type": "code",
      "metadata": {
        "colab": {
          "base_uri": "https://localhost:8080/"
        },
        "id": "dsrannDac8sa",
        "outputId": "d59c88da-ef49-442b-e252-a0d2d4092bfa"
      },
      "source": [
        "new_df.info()"
      ],
      "execution_count": 60,
      "outputs": [
        {
          "output_type": "stream",
          "name": "stdout",
          "text": [
            "<class 'pandas.core.frame.DataFrame'>\n",
            "Int64Index: 1031136 entries, 0 to 1031135\n",
            "Data columns (total 10 columns):\n",
            " #   Column               Non-Null Count    Dtype   \n",
            "---  ------               --------------    -----   \n",
            " 0   User-ID              1031136 non-null  int64   \n",
            " 1   Age                  1031136 non-null  int64   \n",
            " 2   age_bins             1031136 non-null  category\n",
            " 3   ISBN                 1031136 non-null  object  \n",
            " 4   Book-Rating          1031136 non-null  int64   \n",
            " 5   Book-Title           1031136 non-null  object  \n",
            " 6   Book-Author          1031136 non-null  object  \n",
            " 7   Year-Of-Publication  1031136 non-null  object  \n",
            " 8   Publisher            1031136 non-null  object  \n",
            " 9   country              1031136 non-null  object  \n",
            "dtypes: category(1), int64(3), object(6)\n",
            "memory usage: 79.7+ MB\n"
          ]
        }
      ]
    },
    {
      "cell_type": "markdown",
      "metadata": {
        "id": "lf8hSevNfDEC"
      },
      "source": [
        "##Data Wrangling on Books dataframe"
      ]
    },
    {
      "cell_type": "code",
      "metadata": {
        "colab": {
          "base_uri": "https://localhost:8080/"
        },
        "id": "vlQH1k4oedmg",
        "outputId": "f0a1cf8b-1e64-4f31-ef8a-276f3f3d8fbd"
      },
      "source": [
        "# Number of books initially\n",
        "books_df.shape"
      ],
      "execution_count": 61,
      "outputs": [
        {
          "output_type": "execute_result",
          "data": {
            "text/plain": [
              "(271360, 8)"
            ]
          },
          "metadata": {},
          "execution_count": 61
        }
      ]
    },
    {
      "cell_type": "code",
      "metadata": {
        "colab": {
          "base_uri": "https://localhost:8080/"
        },
        "id": "USF_s7kAo9lT",
        "outputId": "90842e57-541c-4178-8be2-e01629b24f20"
      },
      "source": [
        "# Take only required features\n",
        "books_df = books_df.loc[:,'ISBN':'Publisher']\n",
        "books_df.shape"
      ],
      "execution_count": 62,
      "outputs": [
        {
          "output_type": "execute_result",
          "data": {
            "text/plain": [
              "(271360, 5)"
            ]
          },
          "metadata": {},
          "execution_count": 62
        }
      ]
    },
    {
      "cell_type": "code",
      "metadata": {
        "colab": {
          "base_uri": "https://localhost:8080/"
        },
        "id": "ihpThQ5Ro99-",
        "outputId": "65106fc7-662e-406c-f210-f7d9e9545d64"
      },
      "source": [
        "# Check null values\n",
        "books_df.isnull().sum()"
      ],
      "execution_count": 63,
      "outputs": [
        {
          "output_type": "execute_result",
          "data": {
            "text/plain": [
              "ISBN                   0\n",
              "Book-Title             0\n",
              "Book-Author            1\n",
              "Year-Of-Publication    0\n",
              "Publisher              2\n",
              "dtype: int64"
            ]
          },
          "metadata": {},
          "execution_count": 63
        }
      ]
    },
    {
      "cell_type": "code",
      "metadata": {
        "id": "-96XqILHpDzM"
      },
      "source": [
        "# Handling Nulls\n",
        "books_df[['Book-Author','Publisher']] = books_df[['Book-Author','Publisher']].fillna('unknown')"
      ],
      "execution_count": 64,
      "outputs": []
    },
    {
      "cell_type": "code",
      "metadata": {
        "colab": {
          "base_uri": "https://localhost:8080/"
        },
        "id": "xU-wsyB8pYhI",
        "outputId": "15efe81f-a77f-456d-ec78-76990fcdf2eb"
      },
      "source": [
        "p(books_df.isnull().sum())\n",
        "p('Number of books: ',books_df.shape[0])"
      ],
      "execution_count": 65,
      "outputs": [
        {
          "output_type": "stream",
          "name": "stdout",
          "text": [
            "ISBN                   0\n",
            "Book-Title             0\n",
            "Book-Author            0\n",
            "Year-Of-Publication    0\n",
            "Publisher              0\n",
            "dtype: int64\n",
            "Number of books:  271360\n"
          ]
        }
      ]
    },
    {
      "cell_type": "code",
      "metadata": {
        "colab": {
          "base_uri": "https://localhost:8080/",
          "height": 202
        },
        "id": "sWVBFrk0pY1O",
        "outputId": "2bc00ee9-2f74-4cf0-b675-d55b46e1b07a"
      },
      "source": [
        "books_df.head()"
      ],
      "execution_count": 66,
      "outputs": [
        {
          "output_type": "execute_result",
          "data": {
            "text/html": [
              "<div>\n",
              "<style scoped>\n",
              "    .dataframe tbody tr th:only-of-type {\n",
              "        vertical-align: middle;\n",
              "    }\n",
              "\n",
              "    .dataframe tbody tr th {\n",
              "        vertical-align: top;\n",
              "    }\n",
              "\n",
              "    .dataframe thead th {\n",
              "        text-align: right;\n",
              "    }\n",
              "</style>\n",
              "<table border=\"1\" class=\"dataframe\">\n",
              "  <thead>\n",
              "    <tr style=\"text-align: right;\">\n",
              "      <th></th>\n",
              "      <th>ISBN</th>\n",
              "      <th>Book-Title</th>\n",
              "      <th>Book-Author</th>\n",
              "      <th>Year-Of-Publication</th>\n",
              "      <th>Publisher</th>\n",
              "    </tr>\n",
              "  </thead>\n",
              "  <tbody>\n",
              "    <tr>\n",
              "      <th>0</th>\n",
              "      <td>0195153448</td>\n",
              "      <td>Classical Mythology</td>\n",
              "      <td>Mark P. O. Morford</td>\n",
              "      <td>2002</td>\n",
              "      <td>Oxford University Press</td>\n",
              "    </tr>\n",
              "    <tr>\n",
              "      <th>1</th>\n",
              "      <td>0002005018</td>\n",
              "      <td>Clara Callan</td>\n",
              "      <td>Richard Bruce Wright</td>\n",
              "      <td>2001</td>\n",
              "      <td>HarperFlamingo Canada</td>\n",
              "    </tr>\n",
              "    <tr>\n",
              "      <th>2</th>\n",
              "      <td>0060973129</td>\n",
              "      <td>Decision in Normandy</td>\n",
              "      <td>Carlo D'Este</td>\n",
              "      <td>1991</td>\n",
              "      <td>HarperPerennial</td>\n",
              "    </tr>\n",
              "    <tr>\n",
              "      <th>3</th>\n",
              "      <td>0374157065</td>\n",
              "      <td>Flu: The Story of the Great Influenza Pandemic...</td>\n",
              "      <td>Gina Bari Kolata</td>\n",
              "      <td>1999</td>\n",
              "      <td>Farrar Straus Giroux</td>\n",
              "    </tr>\n",
              "    <tr>\n",
              "      <th>4</th>\n",
              "      <td>0393045218</td>\n",
              "      <td>The Mummies of Urumchi</td>\n",
              "      <td>E. J. W. Barber</td>\n",
              "      <td>1999</td>\n",
              "      <td>W. W. Norton &amp;amp; Company</td>\n",
              "    </tr>\n",
              "  </tbody>\n",
              "</table>\n",
              "</div>"
            ],
            "text/plain": [
              "         ISBN  ...                   Publisher\n",
              "0  0195153448  ...     Oxford University Press\n",
              "1  0002005018  ...       HarperFlamingo Canada\n",
              "2  0060973129  ...             HarperPerennial\n",
              "3  0374157065  ...        Farrar Straus Giroux\n",
              "4  0393045218  ...  W. W. Norton &amp; Company\n",
              "\n",
              "[5 rows x 5 columns]"
            ]
          },
          "metadata": {},
          "execution_count": 66
        }
      ]
    },
    {
      "cell_type": "code",
      "metadata": {
        "colab": {
          "base_uri": "https://localhost:8080/"
        },
        "id": "OpThO-vupdDR",
        "outputId": "c20338e4-5919-449d-bf18-055031a73097"
      },
      "source": [
        "# More than one ISBN for some titles\n",
        "p('Number of unique ISBNs: ',books_df['ISBN'].nunique())\n",
        "p('Number of unique book titles: ',books_df['Book-Title'].nunique())"
      ],
      "execution_count": 67,
      "outputs": [
        {
          "output_type": "stream",
          "name": "stdout",
          "text": [
            "Number of unique ISBNs:  271360\n",
            "Number of unique book titles:  242135\n"
          ]
        }
      ]
    },
    {
      "cell_type": "code",
      "metadata": {
        "colab": {
          "base_uri": "https://localhost:8080/"
        },
        "id": "Itxt3VOQplZB",
        "outputId": "03e42674-04ce-486a-8efb-dd4892a1b682"
      },
      "source": [
        "# Number of times titles are repeated\n",
        "books_df.groupby(['Book-Title'])['Book-Title'].count().sort_values(ascending=False)"
      ],
      "execution_count": 68,
      "outputs": [
        {
          "output_type": "execute_result",
          "data": {
            "text/plain": [
              "Book-Title\n",
              "Selected Poems                                                                                                27\n",
              "Little Women                                                                                                  24\n",
              "Wuthering Heights                                                                                             21\n",
              "Dracula                                                                                                       20\n",
              "Adventures of Huckleberry Finn                                                                                20\n",
              "                                                                                                              ..\n",
              "Secrets of a Perfect Night: Scandalous Lord Dere/ The Last Love Letter/ Now and Forever                        1\n",
              "Secrets of a Nun: My Own Story                                                                                 1\n",
              "Secrets of a Natural Menopause: A Positive Drug-Free Approach (Llewellyn's Health and Healing)                 1\n",
              "Secrets of a Midnight Moon                                                                                     1\n",
              " A Light in the Storm: The Civil War Diary of Amelia Martin, Fenwick Island, Delaware, 1861 (Dear America)     1\n",
              "Name: Book-Title, Length: 242135, dtype: int64"
            ]
          },
          "metadata": {},
          "execution_count": 68
        }
      ]
    },
    {
      "cell_type": "markdown",
      "metadata": {
        "id": "lnDXzuXUJ4B_"
      },
      "source": [
        "####Let's try to see why some Books are repeated"
      ]
    },
    {
      "cell_type": "code",
      "metadata": {
        "colab": {
          "base_uri": "https://localhost:8080/",
          "height": 878
        },
        "id": "VH3vnPwUpyZ2",
        "outputId": "92fa31d5-570b-4148-bbb7-898d929d9661"
      },
      "source": [
        "# Selected Poems title\n",
        "books_df[books_df['Book-Title']== 'Selected Poems']"
      ],
      "execution_count": 69,
      "outputs": [
        {
          "output_type": "execute_result",
          "data": {
            "text/html": [
              "<div>\n",
              "<style scoped>\n",
              "    .dataframe tbody tr th:only-of-type {\n",
              "        vertical-align: middle;\n",
              "    }\n",
              "\n",
              "    .dataframe tbody tr th {\n",
              "        vertical-align: top;\n",
              "    }\n",
              "\n",
              "    .dataframe thead th {\n",
              "        text-align: right;\n",
              "    }\n",
              "</style>\n",
              "<table border=\"1\" class=\"dataframe\">\n",
              "  <thead>\n",
              "    <tr style=\"text-align: right;\">\n",
              "      <th></th>\n",
              "      <th>ISBN</th>\n",
              "      <th>Book-Title</th>\n",
              "      <th>Book-Author</th>\n",
              "      <th>Year-Of-Publication</th>\n",
              "      <th>Publisher</th>\n",
              "    </tr>\n",
              "  </thead>\n",
              "  <tbody>\n",
              "    <tr>\n",
              "      <th>4523</th>\n",
              "      <td>081120958X</td>\n",
              "      <td>Selected Poems</td>\n",
              "      <td>William Carlos Williams</td>\n",
              "      <td>1985</td>\n",
              "      <td>New Directions Publishing Corporation</td>\n",
              "    </tr>\n",
              "    <tr>\n",
              "      <th>39416</th>\n",
              "      <td>0811201465</td>\n",
              "      <td>Selected Poems</td>\n",
              "      <td>K. Patchen</td>\n",
              "      <td>1957</td>\n",
              "      <td>New Directions Publishing Corporation</td>\n",
              "    </tr>\n",
              "    <tr>\n",
              "      <th>41316</th>\n",
              "      <td>0679750800</td>\n",
              "      <td>Selected Poems</td>\n",
              "      <td>Rita Dove</td>\n",
              "      <td>1993</td>\n",
              "      <td>Vintage Books USA</td>\n",
              "    </tr>\n",
              "    <tr>\n",
              "      <th>106885</th>\n",
              "      <td>0060931744</td>\n",
              "      <td>Selected Poems</td>\n",
              "      <td>Gwendolyn Brooks</td>\n",
              "      <td>1999</td>\n",
              "      <td>Perennial</td>\n",
              "    </tr>\n",
              "    <tr>\n",
              "      <th>118775</th>\n",
              "      <td>0517101548</td>\n",
              "      <td>Selected Poems</td>\n",
              "      <td>John Donne</td>\n",
              "      <td>1994</td>\n",
              "      <td>Gramercy Books</td>\n",
              "    </tr>\n",
              "    <tr>\n",
              "      <th>127462</th>\n",
              "      <td>0520012984</td>\n",
              "      <td>Selected Poems</td>\n",
              "      <td>Paul Verlaine</td>\n",
              "      <td>1970</td>\n",
              "      <td>University of California Press</td>\n",
              "    </tr>\n",
              "    <tr>\n",
              "      <th>156894</th>\n",
              "      <td>0871401541</td>\n",
              "      <td>Selected Poems</td>\n",
              "      <td>E. E. Cummings</td>\n",
              "      <td>1994</td>\n",
              "      <td>Liveright Publishing Corporation</td>\n",
              "    </tr>\n",
              "    <tr>\n",
              "      <th>158312</th>\n",
              "      <td>0060909897</td>\n",
              "      <td>Selected Poems</td>\n",
              "      <td>Gwendolyn Brooks</td>\n",
              "      <td>1963</td>\n",
              "      <td>Harpercollins</td>\n",
              "    </tr>\n",
              "    <tr>\n",
              "      <th>175602</th>\n",
              "      <td>0571050190</td>\n",
              "      <td>Selected Poems</td>\n",
              "      <td>T.           T Gunn</td>\n",
              "      <td>1962</td>\n",
              "      <td>Farrar Straus &amp;amp; Giroux</td>\n",
              "    </tr>\n",
              "    <tr>\n",
              "      <th>183908</th>\n",
              "      <td>1550651498</td>\n",
              "      <td>Selected Poems</td>\n",
              "      <td>Ralph Gustafson</td>\n",
              "      <td>2001</td>\n",
              "      <td>Vehicule Press</td>\n",
              "    </tr>\n",
              "    <tr>\n",
              "      <th>184897</th>\n",
              "      <td>0333516265</td>\n",
              "      <td>Selected Poems</td>\n",
              "      <td>Thomas Hardy</td>\n",
              "      <td>1989</td>\n",
              "      <td>Macmillan</td>\n",
              "    </tr>\n",
              "    <tr>\n",
              "      <th>189247</th>\n",
              "      <td>0679430830</td>\n",
              "      <td>Selected Poems</td>\n",
              "      <td>Rita Dove</td>\n",
              "      <td>1993</td>\n",
              "      <td>Pantheon Books</td>\n",
              "    </tr>\n",
              "    <tr>\n",
              "      <th>189963</th>\n",
              "      <td>0940262193</td>\n",
              "      <td>Selected Poems</td>\n",
              "      <td>Kathleen Raine</td>\n",
              "      <td>1989</td>\n",
              "      <td>Rudolph Steiner Pr</td>\n",
              "    </tr>\n",
              "    <tr>\n",
              "      <th>196944</th>\n",
              "      <td>0802151027</td>\n",
              "      <td>Selected Poems</td>\n",
              "      <td>Pablo Neruda</td>\n",
              "      <td>1961</td>\n",
              "      <td>Grove Press</td>\n",
              "    </tr>\n",
              "    <tr>\n",
              "      <th>198960</th>\n",
              "      <td>1852240954</td>\n",
              "      <td>Selected Poems</td>\n",
              "      <td>Jenny Joseph</td>\n",
              "      <td>1992</td>\n",
              "      <td>Bloodaxe Books Ltd</td>\n",
              "    </tr>\n",
              "    <tr>\n",
              "      <th>202448</th>\n",
              "      <td>0679765654</td>\n",
              "      <td>Selected Poems</td>\n",
              "      <td>Daniel Halpern</td>\n",
              "      <td>1996</td>\n",
              "      <td>Alfred A. Knopf</td>\n",
              "    </tr>\n",
              "    <tr>\n",
              "      <th>202743</th>\n",
              "      <td>0906427851</td>\n",
              "      <td>Selected Poems</td>\n",
              "      <td>Denise Levertov</td>\n",
              "      <td>1986</td>\n",
              "      <td>Bloodaxe Books Ltd</td>\n",
              "    </tr>\n",
              "    <tr>\n",
              "      <th>213189</th>\n",
              "      <td>0520069358</td>\n",
              "      <td>Selected Poems</td>\n",
              "      <td>Robert Creeley</td>\n",
              "      <td>1991</td>\n",
              "      <td>University of California Press</td>\n",
              "    </tr>\n",
              "    <tr>\n",
              "      <th>215269</th>\n",
              "      <td>0156003961</td>\n",
              "      <td>Selected Poems</td>\n",
              "      <td>Carl Sandburg</td>\n",
              "      <td>1996</td>\n",
              "      <td>Harvest Books</td>\n",
              "    </tr>\n",
              "    <tr>\n",
              "      <th>226024</th>\n",
              "      <td>0395320461</td>\n",
              "      <td>Selected Poems</td>\n",
              "      <td>Galway Kinnell</td>\n",
              "      <td>1983</td>\n",
              "      <td>Houghton Mifflin Company</td>\n",
              "    </tr>\n",
              "    <tr>\n",
              "      <th>232061</th>\n",
              "      <td>006093168X</td>\n",
              "      <td>Selected Poems</td>\n",
              "      <td>Edna St. Vincent Millay</td>\n",
              "      <td>1999</td>\n",
              "      <td>Perennial</td>\n",
              "    </tr>\n",
              "    <tr>\n",
              "      <th>236707</th>\n",
              "      <td>0679724834</td>\n",
              "      <td>Selected Poems</td>\n",
              "      <td>W. H. Auden</td>\n",
              "      <td>1989</td>\n",
              "      <td>Vintage Books USA</td>\n",
              "    </tr>\n",
              "    <tr>\n",
              "      <th>247784</th>\n",
              "      <td>0394702956</td>\n",
              "      <td>Selected Poems</td>\n",
              "      <td>R. Jeffers</td>\n",
              "      <td>1963</td>\n",
              "      <td>Vintage Books USA</td>\n",
              "    </tr>\n",
              "    <tr>\n",
              "      <th>248309</th>\n",
              "      <td>0811209512</td>\n",
              "      <td>Selected Poems</td>\n",
              "      <td>Michael Mc Clure</td>\n",
              "      <td>1986</td>\n",
              "      <td>W W Norton &amp;amp; Co Inc</td>\n",
              "    </tr>\n",
              "    <tr>\n",
              "      <th>248837</th>\n",
              "      <td>0670809179</td>\n",
              "      <td>Selected Poems</td>\n",
              "      <td>John Ashbery</td>\n",
              "      <td>1985</td>\n",
              "      <td>Penguin USA</td>\n",
              "    </tr>\n",
              "    <tr>\n",
              "      <th>251692</th>\n",
              "      <td>0460871501</td>\n",
              "      <td>Selected Poems</td>\n",
              "      <td>Elizabeth Barrett Browning</td>\n",
              "      <td>1992</td>\n",
              "      <td>Phoenix mass market p/bk</td>\n",
              "    </tr>\n",
              "    <tr>\n",
              "      <th>254097</th>\n",
              "      <td>0571210767</td>\n",
              "      <td>Selected Poems</td>\n",
              "      <td>Simon Armitage</td>\n",
              "      <td>2001</td>\n",
              "      <td>Faber and Faber Ltd</td>\n",
              "    </tr>\n",
              "  </tbody>\n",
              "</table>\n",
              "</div>"
            ],
            "text/plain": [
              "              ISBN  ...                              Publisher\n",
              "4523    081120958X  ...  New Directions Publishing Corporation\n",
              "39416   0811201465  ...  New Directions Publishing Corporation\n",
              "41316   0679750800  ...                      Vintage Books USA\n",
              "106885  0060931744  ...                              Perennial\n",
              "118775  0517101548  ...                         Gramercy Books\n",
              "127462  0520012984  ...         University of California Press\n",
              "156894  0871401541  ...       Liveright Publishing Corporation\n",
              "158312  0060909897  ...                          Harpercollins\n",
              "175602  0571050190  ...             Farrar Straus &amp; Giroux\n",
              "183908  1550651498  ...                         Vehicule Press\n",
              "184897  0333516265  ...                              Macmillan\n",
              "189247  0679430830  ...                         Pantheon Books\n",
              "189963  0940262193  ...                     Rudolph Steiner Pr\n",
              "196944  0802151027  ...                            Grove Press\n",
              "198960  1852240954  ...                     Bloodaxe Books Ltd\n",
              "202448  0679765654  ...                        Alfred A. Knopf\n",
              "202743  0906427851  ...                     Bloodaxe Books Ltd\n",
              "213189  0520069358  ...         University of California Press\n",
              "215269  0156003961  ...                          Harvest Books\n",
              "226024  0395320461  ...               Houghton Mifflin Company\n",
              "232061  006093168X  ...                              Perennial\n",
              "236707  0679724834  ...                      Vintage Books USA\n",
              "247784  0394702956  ...                      Vintage Books USA\n",
              "248309  0811209512  ...                W W Norton &amp; Co Inc\n",
              "248837  0670809179  ...                            Penguin USA\n",
              "251692  0460871501  ...               Phoenix mass market p/bk\n",
              "254097  0571210767  ...                    Faber and Faber Ltd\n",
              "\n",
              "[27 rows x 5 columns]"
            ]
          },
          "metadata": {},
          "execution_count": 69
        }
      ]
    },
    {
      "cell_type": "code",
      "metadata": {
        "colab": {
          "base_uri": "https://localhost:8080/",
          "height": 786
        },
        "id": "q_kNCzQqp8ih",
        "outputId": "fd1e94a9-3f96-493a-8c9f-7ad7f92bf961"
      },
      "source": [
        "# Little women title\n",
        "books_df[books_df['Book-Title']== 'Little Women']"
      ],
      "execution_count": 70,
      "outputs": [
        {
          "output_type": "execute_result",
          "data": {
            "text/html": [
              "<div>\n",
              "<style scoped>\n",
              "    .dataframe tbody tr th:only-of-type {\n",
              "        vertical-align: middle;\n",
              "    }\n",
              "\n",
              "    .dataframe tbody tr th {\n",
              "        vertical-align: top;\n",
              "    }\n",
              "\n",
              "    .dataframe thead th {\n",
              "        text-align: right;\n",
              "    }\n",
              "</style>\n",
              "<table border=\"1\" class=\"dataframe\">\n",
              "  <thead>\n",
              "    <tr style=\"text-align: right;\">\n",
              "      <th></th>\n",
              "      <th>ISBN</th>\n",
              "      <th>Book-Title</th>\n",
              "      <th>Book-Author</th>\n",
              "      <th>Year-Of-Publication</th>\n",
              "      <th>Publisher</th>\n",
              "    </tr>\n",
              "  </thead>\n",
              "  <tbody>\n",
              "    <tr>\n",
              "      <th>3952</th>\n",
              "      <td>185854176X</td>\n",
              "      <td>Little Women</td>\n",
              "      <td>Louisa M. Atcott</td>\n",
              "      <td>1995</td>\n",
              "      <td>Brimax Books Ltd</td>\n",
              "    </tr>\n",
              "    <tr>\n",
              "      <th>4330</th>\n",
              "      <td>0861782356</td>\n",
              "      <td>Little Women</td>\n",
              "      <td>Louisa May Alcott</td>\n",
              "      <td>0</td>\n",
              "      <td>Octopus Publising Group Plc</td>\n",
              "    </tr>\n",
              "    <tr>\n",
              "      <th>12227</th>\n",
              "      <td>0590203509</td>\n",
              "      <td>Little Women</td>\n",
              "      <td>Louisa May Alcott</td>\n",
              "      <td>1994</td>\n",
              "      <td>Scholastic</td>\n",
              "    </tr>\n",
              "    <tr>\n",
              "      <th>20676</th>\n",
              "      <td>0440447682</td>\n",
              "      <td>Little Women</td>\n",
              "      <td>Louisa May Alcott</td>\n",
              "      <td>1990</td>\n",
              "      <td>Yearling Books</td>\n",
              "    </tr>\n",
              "    <tr>\n",
              "      <th>32837</th>\n",
              "      <td>1550134140</td>\n",
              "      <td>Little Women</td>\n",
              "      <td>Louisa May Alcott</td>\n",
              "      <td>0</td>\n",
              "      <td>Firefly Books Ltd</td>\n",
              "    </tr>\n",
              "    <tr>\n",
              "      <th>52210</th>\n",
              "      <td>0451529308</td>\n",
              "      <td>Little Women</td>\n",
              "      <td>Louisa May Alcott</td>\n",
              "      <td>2004</td>\n",
              "      <td>Signet Classics</td>\n",
              "    </tr>\n",
              "    <tr>\n",
              "      <th>52551</th>\n",
              "      <td>0451518144</td>\n",
              "      <td>Little Women</td>\n",
              "      <td>Louisa May Alcott</td>\n",
              "      <td>1983</td>\n",
              "      <td>Signet Book</td>\n",
              "    </tr>\n",
              "    <tr>\n",
              "      <th>53358</th>\n",
              "      <td>0590437976</td>\n",
              "      <td>Little Women</td>\n",
              "      <td>Louisa May Alcott</td>\n",
              "      <td>1992</td>\n",
              "      <td>Scholastic</td>\n",
              "    </tr>\n",
              "    <tr>\n",
              "      <th>57432</th>\n",
              "      <td>0195813898</td>\n",
              "      <td>Little Women</td>\n",
              "      <td>Alcott</td>\n",
              "      <td>1985</td>\n",
              "      <td>Oxford University Press</td>\n",
              "    </tr>\n",
              "    <tr>\n",
              "      <th>72168</th>\n",
              "      <td>0785788727</td>\n",
              "      <td>Little Women</td>\n",
              "      <td>Louisa May Alcott</td>\n",
              "      <td>1999</td>\n",
              "      <td>Sagebrush Bound</td>\n",
              "    </tr>\n",
              "    <tr>\n",
              "      <th>82565</th>\n",
              "      <td>0448110199</td>\n",
              "      <td>Little Women</td>\n",
              "      <td>Louisa May Alcott</td>\n",
              "      <td>1981</td>\n",
              "      <td>Grosset &amp;amp; Dunlap</td>\n",
              "    </tr>\n",
              "    <tr>\n",
              "      <th>84807</th>\n",
              "      <td>0812523334</td>\n",
              "      <td>Little Women</td>\n",
              "      <td>Louisa May Alcott</td>\n",
              "      <td>1994</td>\n",
              "      <td>Tor Books</td>\n",
              "    </tr>\n",
              "    <tr>\n",
              "      <th>110746</th>\n",
              "      <td>0394562798</td>\n",
              "      <td>Little Women</td>\n",
              "      <td>Louisa May Alcott</td>\n",
              "      <td>1988</td>\n",
              "      <td>Alfred A. Knopf</td>\n",
              "    </tr>\n",
              "    <tr>\n",
              "      <th>118219</th>\n",
              "      <td>1557042160</td>\n",
              "      <td>Little Women</td>\n",
              "      <td>Laurie Lawlor</td>\n",
              "      <td>1994</td>\n",
              "      <td>Newmarket Press</td>\n",
              "    </tr>\n",
              "    <tr>\n",
              "      <th>124841</th>\n",
              "      <td>0590433423</td>\n",
              "      <td>Little Women</td>\n",
              "      <td>Louisa May Alcott</td>\n",
              "      <td>1989</td>\n",
              "      <td>Scholastic</td>\n",
              "    </tr>\n",
              "    <tr>\n",
              "      <th>142261</th>\n",
              "      <td>0448054663</td>\n",
              "      <td>Little Women</td>\n",
              "      <td>Louisa May Alcott</td>\n",
              "      <td>1970</td>\n",
              "      <td>Price Stern Sloan Pub (J)</td>\n",
              "    </tr>\n",
              "    <tr>\n",
              "      <th>142302</th>\n",
              "      <td>0448023644</td>\n",
              "      <td>Little Women</td>\n",
              "      <td>Louisa May Alcott</td>\n",
              "      <td>1976</td>\n",
              "      <td>Price Stern Sloan Pub (J)</td>\n",
              "    </tr>\n",
              "    <tr>\n",
              "      <th>142305</th>\n",
              "      <td>0590404989</td>\n",
              "      <td>Little Women</td>\n",
              "      <td>Louisa May Alcott</td>\n",
              "      <td>1987</td>\n",
              "      <td>Scholastic</td>\n",
              "    </tr>\n",
              "    <tr>\n",
              "      <th>163547</th>\n",
              "      <td>0681400552</td>\n",
              "      <td>Little Women</td>\n",
              "      <td>Louisa May Alcott</td>\n",
              "      <td>1986</td>\n",
              "      <td>Borders Press</td>\n",
              "    </tr>\n",
              "    <tr>\n",
              "      <th>168782</th>\n",
              "      <td>1593081081</td>\n",
              "      <td>Little Women</td>\n",
              "      <td>Louisa May Alcott</td>\n",
              "      <td>2004</td>\n",
              "      <td>Barnes &amp;amp; Noble Books-Imports</td>\n",
              "    </tr>\n",
              "    <tr>\n",
              "      <th>189663</th>\n",
              "      <td>1568651198</td>\n",
              "      <td>Little Women</td>\n",
              "      <td>Louisa May Alcott</td>\n",
              "      <td>1995</td>\n",
              "      <td>Doubleday Books</td>\n",
              "    </tr>\n",
              "    <tr>\n",
              "      <th>212771</th>\n",
              "      <td>0553211153</td>\n",
              "      <td>Little Women</td>\n",
              "      <td>Louisa May Alcott</td>\n",
              "      <td>1983</td>\n",
              "      <td>Bantam</td>\n",
              "    </tr>\n",
              "    <tr>\n",
              "      <th>224559</th>\n",
              "      <td>0448172569</td>\n",
              "      <td>Little Women</td>\n",
              "      <td>Louisa May Alcott</td>\n",
              "      <td>1978</td>\n",
              "      <td>Berkley Pub Group (Mm)</td>\n",
              "    </tr>\n",
              "    <tr>\n",
              "      <th>258053</th>\n",
              "      <td>0590225375</td>\n",
              "      <td>Little Women</td>\n",
              "      <td>Louisa May Alcott</td>\n",
              "      <td>1994</td>\n",
              "      <td>Little Brown and Company</td>\n",
              "    </tr>\n",
              "  </tbody>\n",
              "</table>\n",
              "</div>"
            ],
            "text/plain": [
              "              ISBN  ...                         Publisher\n",
              "3952    185854176X  ...                  Brimax Books Ltd\n",
              "4330    0861782356  ...       Octopus Publising Group Plc\n",
              "12227   0590203509  ...                        Scholastic\n",
              "20676   0440447682  ...                    Yearling Books\n",
              "32837   1550134140  ...                 Firefly Books Ltd\n",
              "52210   0451529308  ...                   Signet Classics\n",
              "52551   0451518144  ...                       Signet Book\n",
              "53358   0590437976  ...                        Scholastic\n",
              "57432   0195813898  ...           Oxford University Press\n",
              "72168   0785788727  ...                   Sagebrush Bound\n",
              "82565   0448110199  ...              Grosset &amp; Dunlap\n",
              "84807   0812523334  ...                         Tor Books\n",
              "110746  0394562798  ...                   Alfred A. Knopf\n",
              "118219  1557042160  ...                   Newmarket Press\n",
              "124841  0590433423  ...                        Scholastic\n",
              "142261  0448054663  ...         Price Stern Sloan Pub (J)\n",
              "142302  0448023644  ...         Price Stern Sloan Pub (J)\n",
              "142305  0590404989  ...                        Scholastic\n",
              "163547  0681400552  ...                     Borders Press\n",
              "168782  1593081081  ...  Barnes &amp; Noble Books-Imports\n",
              "189663  1568651198  ...                   Doubleday Books\n",
              "212771  0553211153  ...                            Bantam\n",
              "224559  0448172569  ...            Berkley Pub Group (Mm)\n",
              "258053  0590225375  ...          Little Brown and Company\n",
              "\n",
              "[24 rows x 5 columns]"
            ]
          },
          "metadata": {},
          "execution_count": 70
        }
      ]
    },
    {
      "cell_type": "code",
      "metadata": {
        "colab": {
          "base_uri": "https://localhost:8080/",
          "height": 694
        },
        "id": "yCjNg_xzqDQG",
        "outputId": "bc515b96-98e5-494c-8187-cfeb562622c4"
      },
      "source": [
        "# Wuthering heights title\n",
        "books_df[books_df['Book-Title']== 'Wuthering Heights']"
      ],
      "execution_count": 71,
      "outputs": [
        {
          "output_type": "execute_result",
          "data": {
            "text/html": [
              "<div>\n",
              "<style scoped>\n",
              "    .dataframe tbody tr th:only-of-type {\n",
              "        vertical-align: middle;\n",
              "    }\n",
              "\n",
              "    .dataframe tbody tr th {\n",
              "        vertical-align: top;\n",
              "    }\n",
              "\n",
              "    .dataframe thead th {\n",
              "        text-align: right;\n",
              "    }\n",
              "</style>\n",
              "<table border=\"1\" class=\"dataframe\">\n",
              "  <thead>\n",
              "    <tr style=\"text-align: right;\">\n",
              "      <th></th>\n",
              "      <th>ISBN</th>\n",
              "      <th>Book-Title</th>\n",
              "      <th>Book-Author</th>\n",
              "      <th>Year-Of-Publication</th>\n",
              "      <th>Publisher</th>\n",
              "    </tr>\n",
              "  </thead>\n",
              "  <tbody>\n",
              "    <tr>\n",
              "      <th>993</th>\n",
              "      <td>0553212583</td>\n",
              "      <td>Wuthering Heights</td>\n",
              "      <td>EMILY BRONTE</td>\n",
              "      <td>1983</td>\n",
              "      <td>Bantam</td>\n",
              "    </tr>\n",
              "    <tr>\n",
              "      <th>1050</th>\n",
              "      <td>0553211412</td>\n",
              "      <td>Wuthering Heights</td>\n",
              "      <td>Emily Bronte</td>\n",
              "      <td>1983</td>\n",
              "      <td>Bantam</td>\n",
              "    </tr>\n",
              "    <tr>\n",
              "      <th>2075</th>\n",
              "      <td>0812505166</td>\n",
              "      <td>Wuthering Heights</td>\n",
              "      <td>Emily Bronte</td>\n",
              "      <td>1989</td>\n",
              "      <td>Tor Classics</td>\n",
              "    </tr>\n",
              "    <tr>\n",
              "      <th>11120</th>\n",
              "      <td>0553210211</td>\n",
              "      <td>Wuthering Heights</td>\n",
              "      <td>Emily Bronte</td>\n",
              "      <td>1981</td>\n",
              "      <td>Bantam Books</td>\n",
              "    </tr>\n",
              "    <tr>\n",
              "      <th>12735</th>\n",
              "      <td>0439228913</td>\n",
              "      <td>Wuthering Heights</td>\n",
              "      <td>Emily Bronte</td>\n",
              "      <td>2003</td>\n",
              "      <td>Scholastic Paperbacks</td>\n",
              "    </tr>\n",
              "    <tr>\n",
              "      <th>13684</th>\n",
              "      <td>1566193087</td>\n",
              "      <td>Wuthering Heights</td>\n",
              "      <td>Emily Bronte</td>\n",
              "      <td>1994</td>\n",
              "      <td>Dorset Press</td>\n",
              "    </tr>\n",
              "    <tr>\n",
              "      <th>27658</th>\n",
              "      <td>0590460307</td>\n",
              "      <td>Wuthering Heights</td>\n",
              "      <td>Emily Bronte</td>\n",
              "      <td>1992</td>\n",
              "      <td>Scholastic Paperbacks (Mm)</td>\n",
              "    </tr>\n",
              "    <tr>\n",
              "      <th>29712</th>\n",
              "      <td>0140171002</td>\n",
              "      <td>Wuthering Heights</td>\n",
              "      <td>Emily Bronte</td>\n",
              "      <td>1992</td>\n",
              "      <td>Penguin Books Ltd</td>\n",
              "    </tr>\n",
              "    <tr>\n",
              "      <th>41500</th>\n",
              "      <td>0880299185</td>\n",
              "      <td>Wuthering Heights</td>\n",
              "      <td>Emily Bronte</td>\n",
              "      <td>1992</td>\n",
              "      <td>Barnes &amp;amp; Noble</td>\n",
              "    </tr>\n",
              "    <tr>\n",
              "      <th>63570</th>\n",
              "      <td>0451519582</td>\n",
              "      <td>Wuthering Heights</td>\n",
              "      <td>Emily Bronte</td>\n",
              "      <td>1959</td>\n",
              "      <td>Signet Book</td>\n",
              "    </tr>\n",
              "    <tr>\n",
              "      <th>70863</th>\n",
              "      <td>0706430131</td>\n",
              "      <td>Wuthering Heights</td>\n",
              "      <td>Emily Bronte</td>\n",
              "      <td>0</td>\n",
              "      <td>Octopus Books</td>\n",
              "    </tr>\n",
              "    <tr>\n",
              "      <th>74063</th>\n",
              "      <td>0141305479</td>\n",
              "      <td>Wuthering Heights</td>\n",
              "      <td>Emily Bronte</td>\n",
              "      <td>1999</td>\n",
              "      <td>Puffin Books</td>\n",
              "    </tr>\n",
              "    <tr>\n",
              "      <th>74886</th>\n",
              "      <td>0451521196</td>\n",
              "      <td>Wuthering Heights</td>\n",
              "      <td>Emily Bronte</td>\n",
              "      <td>1959</td>\n",
              "      <td>Signet Book</td>\n",
              "    </tr>\n",
              "    <tr>\n",
              "      <th>105704</th>\n",
              "      <td>0817221999</td>\n",
              "      <td>Wuthering Heights</td>\n",
              "      <td>Emily Bronte</td>\n",
              "      <td>1988</td>\n",
              "      <td>Steck-Vaughn</td>\n",
              "    </tr>\n",
              "    <tr>\n",
              "      <th>146020</th>\n",
              "      <td>0894714805</td>\n",
              "      <td>Wuthering Heights</td>\n",
              "      <td>Emily Bronte</td>\n",
              "      <td>1986</td>\n",
              "      <td>Running Press Book Publishers</td>\n",
              "    </tr>\n",
              "    <tr>\n",
              "      <th>155308</th>\n",
              "      <td>0395051029</td>\n",
              "      <td>Wuthering Heights</td>\n",
              "      <td>Emily Bronte</td>\n",
              "      <td>1956</td>\n",
              "      <td>Houghton Mifflin Company</td>\n",
              "    </tr>\n",
              "    <tr>\n",
              "      <th>160494</th>\n",
              "      <td>0895771594</td>\n",
              "      <td>Wuthering Heights</td>\n",
              "      <td>Emily Bronte</td>\n",
              "      <td>1982</td>\n",
              "      <td>Readers Digest Assn</td>\n",
              "    </tr>\n",
              "    <tr>\n",
              "      <th>171324</th>\n",
              "      <td>0312138946</td>\n",
              "      <td>Wuthering Heights</td>\n",
              "      <td>Emily Bronte</td>\n",
              "      <td>2000</td>\n",
              "      <td>St. Martin's Press</td>\n",
              "    </tr>\n",
              "    <tr>\n",
              "      <th>172139</th>\n",
              "      <td>1570421161</td>\n",
              "      <td>Wuthering Heights</td>\n",
              "      <td>Emily Bronte</td>\n",
              "      <td>1994</td>\n",
              "      <td>Time Warner Audio Major</td>\n",
              "    </tr>\n",
              "    <tr>\n",
              "      <th>211870</th>\n",
              "      <td>0804900116</td>\n",
              "      <td>Wuthering Heights</td>\n",
              "      <td>Emily Bronte</td>\n",
              "      <td>1964</td>\n",
              "      <td>Peter Smith Publisher Inc</td>\n",
              "    </tr>\n",
              "    <tr>\n",
              "      <th>254525</th>\n",
              "      <td>0451516508</td>\n",
              "      <td>Wuthering Heights</td>\n",
              "      <td>Emily Bronte</td>\n",
              "      <td>1959</td>\n",
              "      <td>Signet Book</td>\n",
              "    </tr>\n",
              "  </tbody>\n",
              "</table>\n",
              "</div>"
            ],
            "text/plain": [
              "              ISBN  ...                      Publisher\n",
              "993     0553212583  ...                         Bantam\n",
              "1050    0553211412  ...                         Bantam\n",
              "2075    0812505166  ...                   Tor Classics\n",
              "11120   0553210211  ...                   Bantam Books\n",
              "12735   0439228913  ...          Scholastic Paperbacks\n",
              "13684   1566193087  ...                   Dorset Press\n",
              "27658   0590460307  ...     Scholastic Paperbacks (Mm)\n",
              "29712   0140171002  ...              Penguin Books Ltd\n",
              "41500   0880299185  ...             Barnes &amp; Noble\n",
              "63570   0451519582  ...                    Signet Book\n",
              "70863   0706430131  ...                  Octopus Books\n",
              "74063   0141305479  ...                   Puffin Books\n",
              "74886   0451521196  ...                    Signet Book\n",
              "105704  0817221999  ...                   Steck-Vaughn\n",
              "146020  0894714805  ...  Running Press Book Publishers\n",
              "155308  0395051029  ...       Houghton Mifflin Company\n",
              "160494  0895771594  ...            Readers Digest Assn\n",
              "171324  0312138946  ...             St. Martin's Press\n",
              "172139  1570421161  ...        Time Warner Audio Major\n",
              "211870  0804900116  ...      Peter Smith Publisher Inc\n",
              "254525  0451516508  ...                    Signet Book\n",
              "\n",
              "[21 rows x 5 columns]"
            ]
          },
          "metadata": {},
          "execution_count": 71
        }
      ]
    },
    {
      "cell_type": "code",
      "metadata": {
        "colab": {
          "base_uri": "https://localhost:8080/",
          "height": 663
        },
        "id": "MtGdqVxyqGAk",
        "outputId": "5fcc9ddb-ac52-43d5-877c-baa2b0adaa2f"
      },
      "source": [
        "# Dracula title\n",
        "books_df[books_df['Book-Title']== 'Dracula']"
      ],
      "execution_count": 72,
      "outputs": [
        {
          "output_type": "execute_result",
          "data": {
            "text/html": [
              "<div>\n",
              "<style scoped>\n",
              "    .dataframe tbody tr th:only-of-type {\n",
              "        vertical-align: middle;\n",
              "    }\n",
              "\n",
              "    .dataframe tbody tr th {\n",
              "        vertical-align: top;\n",
              "    }\n",
              "\n",
              "    .dataframe thead th {\n",
              "        text-align: right;\n",
              "    }\n",
              "</style>\n",
              "<table border=\"1\" class=\"dataframe\">\n",
              "  <thead>\n",
              "    <tr style=\"text-align: right;\">\n",
              "      <th></th>\n",
              "      <th>ISBN</th>\n",
              "      <th>Book-Title</th>\n",
              "      <th>Book-Author</th>\n",
              "      <th>Year-Of-Publication</th>\n",
              "      <th>Publisher</th>\n",
              "    </tr>\n",
              "  </thead>\n",
              "  <tbody>\n",
              "    <tr>\n",
              "      <th>2959</th>\n",
              "      <td>156619301X</td>\n",
              "      <td>Dracula</td>\n",
              "      <td>Bram Stoker</td>\n",
              "      <td>1994</td>\n",
              "      <td>Dorset Press</td>\n",
              "    </tr>\n",
              "    <tr>\n",
              "      <th>5332</th>\n",
              "      <td>055321148X</td>\n",
              "      <td>Dracula</td>\n",
              "      <td>Bram Stoker</td>\n",
              "      <td>1983</td>\n",
              "      <td>Bantam</td>\n",
              "    </tr>\n",
              "    <tr>\n",
              "      <th>12753</th>\n",
              "      <td>9875021245</td>\n",
              "      <td>Dracula</td>\n",
              "      <td>Bram Stoker</td>\n",
              "      <td>2004</td>\n",
              "      <td>Distal</td>\n",
              "    </tr>\n",
              "    <tr>\n",
              "      <th>12988</th>\n",
              "      <td>0140052801</td>\n",
              "      <td>Dracula</td>\n",
              "      <td>Bram Stoker</td>\n",
              "      <td>1992</td>\n",
              "      <td>Penguin USA</td>\n",
              "    </tr>\n",
              "    <tr>\n",
              "      <th>52115</th>\n",
              "      <td>0451175816</td>\n",
              "      <td>Dracula</td>\n",
              "      <td>Bram Stoker</td>\n",
              "      <td>1992</td>\n",
              "      <td>New Amer Library Classics</td>\n",
              "    </tr>\n",
              "    <tr>\n",
              "      <th>61616</th>\n",
              "      <td>0880299010</td>\n",
              "      <td>Dracula</td>\n",
              "      <td>Bram Stoker</td>\n",
              "      <td>1992</td>\n",
              "      <td>Barnes Noble Books</td>\n",
              "    </tr>\n",
              "    <tr>\n",
              "      <th>68981</th>\n",
              "      <td>8481301183</td>\n",
              "      <td>Dracula</td>\n",
              "      <td>Bram Stocker</td>\n",
              "      <td>2001</td>\n",
              "      <td>Colleccion Millenium</td>\n",
              "    </tr>\n",
              "    <tr>\n",
              "      <th>72472</th>\n",
              "      <td>1562542621</td>\n",
              "      <td>Dracula</td>\n",
              "      <td>Emily Hutchinson</td>\n",
              "      <td>1998</td>\n",
              "      <td>Saddleback Publishing, Inc.</td>\n",
              "    </tr>\n",
              "    <tr>\n",
              "      <th>82829</th>\n",
              "      <td>0515053473</td>\n",
              "      <td>Dracula</td>\n",
              "      <td>Bram Stoker</td>\n",
              "      <td>1979</td>\n",
              "      <td>Berkley Pub Group (Mm)</td>\n",
              "    </tr>\n",
              "    <tr>\n",
              "      <th>92499</th>\n",
              "      <td>0863221432</td>\n",
              "      <td>Dracula</td>\n",
              "      <td>Bram Stoker</td>\n",
              "      <td>1992</td>\n",
              "      <td>Brandon/Mount Eagle</td>\n",
              "    </tr>\n",
              "    <tr>\n",
              "      <th>106662</th>\n",
              "      <td>0453007864</td>\n",
              "      <td>Dracula</td>\n",
              "      <td>Bram Stoker</td>\n",
              "      <td>1992</td>\n",
              "      <td>Penguin Highbridge Audio</td>\n",
              "    </tr>\n",
              "    <tr>\n",
              "      <th>110050</th>\n",
              "      <td>0439101344</td>\n",
              "      <td>Dracula</td>\n",
              "      <td>Bram Stoker</td>\n",
              "      <td>2001</td>\n",
              "      <td>Scholastic Paperbacks (Mm)</td>\n",
              "    </tr>\n",
              "    <tr>\n",
              "      <th>116080</th>\n",
              "      <td>8401492009</td>\n",
              "      <td>Dracula</td>\n",
              "      <td>Bram Stoker</td>\n",
              "      <td>1993</td>\n",
              "      <td>Plaza &amp;amp; Janes Editores, S.A.</td>\n",
              "    </tr>\n",
              "    <tr>\n",
              "      <th>116853</th>\n",
              "      <td>0312863586</td>\n",
              "      <td>Dracula</td>\n",
              "      <td>Bram Stoker</td>\n",
              "      <td>1997</td>\n",
              "      <td>Tor Books</td>\n",
              "    </tr>\n",
              "    <tr>\n",
              "      <th>134573</th>\n",
              "      <td>0893757829</td>\n",
              "      <td>Dracula</td>\n",
              "      <td>Bram Stoker</td>\n",
              "      <td>1993</td>\n",
              "      <td>Troll Communications</td>\n",
              "    </tr>\n",
              "    <tr>\n",
              "      <th>139825</th>\n",
              "      <td>014017186X</td>\n",
              "      <td>Dracula</td>\n",
              "      <td>Bram Stoker</td>\n",
              "      <td>1992</td>\n",
              "      <td>Penguin Books Ltd</td>\n",
              "    </tr>\n",
              "    <tr>\n",
              "      <th>158471</th>\n",
              "      <td>1404336540</td>\n",
              "      <td>Dracula</td>\n",
              "      <td>Bram Stoker</td>\n",
              "      <td>2002</td>\n",
              "      <td>IndyPublish.com</td>\n",
              "    </tr>\n",
              "    <tr>\n",
              "      <th>167603</th>\n",
              "      <td>8448700058</td>\n",
              "      <td>Dracula</td>\n",
              "      <td>Bram Stoker</td>\n",
              "      <td>1995</td>\n",
              "      <td>Altaya</td>\n",
              "    </tr>\n",
              "    <tr>\n",
              "      <th>176712</th>\n",
              "      <td>0812504429</td>\n",
              "      <td>Dracula</td>\n",
              "      <td>Books Tor</td>\n",
              "      <td>1990</td>\n",
              "      <td>Tor Books</td>\n",
              "    </tr>\n",
              "    <tr>\n",
              "      <th>217519</th>\n",
              "      <td>0573608229</td>\n",
              "      <td>Dracula</td>\n",
              "      <td>Hamilton Deane</td>\n",
              "      <td>1999</td>\n",
              "      <td>Samuel French</td>\n",
              "    </tr>\n",
              "  </tbody>\n",
              "</table>\n",
              "</div>"
            ],
            "text/plain": [
              "              ISBN  ...                         Publisher\n",
              "2959    156619301X  ...                      Dorset Press\n",
              "5332    055321148X  ...                            Bantam\n",
              "12753   9875021245  ...                            Distal\n",
              "12988   0140052801  ...                       Penguin USA\n",
              "52115   0451175816  ...         New Amer Library Classics\n",
              "61616   0880299010  ...                Barnes Noble Books\n",
              "68981   8481301183  ...              Colleccion Millenium\n",
              "72472   1562542621  ...       Saddleback Publishing, Inc.\n",
              "82829   0515053473  ...            Berkley Pub Group (Mm)\n",
              "92499   0863221432  ...               Brandon/Mount Eagle\n",
              "106662  0453007864  ...          Penguin Highbridge Audio\n",
              "110050  0439101344  ...        Scholastic Paperbacks (Mm)\n",
              "116080  8401492009  ...  Plaza &amp; Janes Editores, S.A.\n",
              "116853  0312863586  ...                         Tor Books\n",
              "134573  0893757829  ...              Troll Communications\n",
              "139825  014017186X  ...                 Penguin Books Ltd\n",
              "158471  1404336540  ...                   IndyPublish.com\n",
              "167603  8448700058  ...                            Altaya\n",
              "176712  0812504429  ...                         Tor Books\n",
              "217519  0573608229  ...                     Samuel French\n",
              "\n",
              "[20 rows x 5 columns]"
            ]
          },
          "metadata": {},
          "execution_count": 72
        }
      ]
    },
    {
      "cell_type": "markdown",
      "metadata": {
        "id": "kCMC9yQgqRx1"
      },
      "source": [
        "###Observations:\n",
        "####Some books occur more than once because they are different editions of the same books while others have similar names but different authors."
      ]
    },
    {
      "cell_type": "markdown",
      "metadata": {
        "id": "Uw7tP7O7q31f"
      },
      "source": [
        "###Dealing with the duplications"
      ]
    },
    {
      "cell_type": "code",
      "metadata": {
        "id": "1L99-O-dqI6y"
      },
      "source": [
        "# Define a function to combine to columns namely title and author\n",
        "def change_title(str1,str2):\n",
        "  '''Change the title of books'''\n",
        "  str1 = str1 +\" \"+'by' +\" \"+str2\n",
        "  return str1"
      ],
      "execution_count": 73,
      "outputs": []
    },
    {
      "cell_type": "code",
      "metadata": {
        "id": "MD0JEImtq8Hq"
      },
      "source": [
        "# Create a new column for title\n",
        "books_df['new_title'] = books_df.apply(lambda x : change_title(x['Book-Title'],x['Book-Author']),axis = 1)"
      ],
      "execution_count": 74,
      "outputs": []
    },
    {
      "cell_type": "code",
      "metadata": {
        "colab": {
          "base_uri": "https://localhost:8080/",
          "height": 110
        },
        "id": "1-oGOrizq_HB",
        "outputId": "b2366f3f-b447-47de-e062-e0979b4a8871"
      },
      "source": [
        "books_df.head(2)"
      ],
      "execution_count": 75,
      "outputs": [
        {
          "output_type": "execute_result",
          "data": {
            "text/html": [
              "<div>\n",
              "<style scoped>\n",
              "    .dataframe tbody tr th:only-of-type {\n",
              "        vertical-align: middle;\n",
              "    }\n",
              "\n",
              "    .dataframe tbody tr th {\n",
              "        vertical-align: top;\n",
              "    }\n",
              "\n",
              "    .dataframe thead th {\n",
              "        text-align: right;\n",
              "    }\n",
              "</style>\n",
              "<table border=\"1\" class=\"dataframe\">\n",
              "  <thead>\n",
              "    <tr style=\"text-align: right;\">\n",
              "      <th></th>\n",
              "      <th>ISBN</th>\n",
              "      <th>Book-Title</th>\n",
              "      <th>Book-Author</th>\n",
              "      <th>Year-Of-Publication</th>\n",
              "      <th>Publisher</th>\n",
              "      <th>new_title</th>\n",
              "    </tr>\n",
              "  </thead>\n",
              "  <tbody>\n",
              "    <tr>\n",
              "      <th>0</th>\n",
              "      <td>0195153448</td>\n",
              "      <td>Classical Mythology</td>\n",
              "      <td>Mark P. O. Morford</td>\n",
              "      <td>2002</td>\n",
              "      <td>Oxford University Press</td>\n",
              "      <td>Classical Mythology by Mark P. O. Morford</td>\n",
              "    </tr>\n",
              "    <tr>\n",
              "      <th>1</th>\n",
              "      <td>0002005018</td>\n",
              "      <td>Clara Callan</td>\n",
              "      <td>Richard Bruce Wright</td>\n",
              "      <td>2001</td>\n",
              "      <td>HarperFlamingo Canada</td>\n",
              "      <td>Clara Callan by Richard Bruce Wright</td>\n",
              "    </tr>\n",
              "  </tbody>\n",
              "</table>\n",
              "</div>"
            ],
            "text/plain": [
              "         ISBN  ...                                  new_title\n",
              "0  0195153448  ...  Classical Mythology by Mark P. O. Morford\n",
              "1  0002005018  ...       Clara Callan by Richard Bruce Wright\n",
              "\n",
              "[2 rows x 6 columns]"
            ]
          },
          "metadata": {},
          "execution_count": 75
        }
      ]
    },
    {
      "cell_type": "markdown",
      "metadata": {
        "id": "oc6-_tBMrDi8"
      },
      "source": [
        "####Now the duplications can be removed using new_titles."
      ]
    },
    {
      "cell_type": "code",
      "metadata": {
        "id": "fZNdAxIurBr6"
      },
      "source": [
        "# Get rid of duplications\n",
        "new_book_df = books_df.drop_duplicates(subset='new_title',keep='first')"
      ],
      "execution_count": 76,
      "outputs": []
    },
    {
      "cell_type": "code",
      "metadata": {
        "colab": {
          "base_uri": "https://localhost:8080/"
        },
        "id": "RadGR1gvraMD",
        "outputId": "a1288a99-235a-4edf-f41c-e1b4ad8f1342"
      },
      "source": [
        "# No more duplications\n",
        "new_book_df.groupby(['new_title'])['new_title'].count().sort_values(ascending=False)"
      ],
      "execution_count": 77,
      "outputs": [
        {
          "output_type": "execute_result",
          "data": {
            "text/plain": [
              "new_title\n",
              "Ã?Â?thique en toc by Didier Daeninckx                                                                                        1\n",
              "Harriet Tubman : The Road to Freedom (Easy Biographies) by Rae Bains                                                         1\n",
              "Harriet Tubman (Christian Library) by C. Grant                                                                               1\n",
              "Harriet Tubman (Childhood Of Famous Americans) by Kathleen Kudlinski                                                         1\n",
              "Harriet Spies Again by HELEN ERICSON                                                                                         1\n",
              "                                                                                                                            ..\n",
              "Silver Wings, Santiago Blue by Janet Dailey                                                                                  1\n",
              "Silver Wings (Grace Livingston Hill #37) by Grace L. Hill                                                                    1\n",
              "Silver Wings (Choose Your Own Adventure, No. 123) by R.A. Montgomery                                                         1\n",
              "Silver Wing (Topaz Historical Romance) by Cassie Edwards                                                                     1\n",
              " A Light in the Storm: The Civil War Diary of Amelia Martin, Fenwick Island, Delaware, 1861 (Dear America) by Karen Hesse    1\n",
              "Name: new_title, Length: 251185, dtype: int64"
            ]
          },
          "metadata": {},
          "execution_count": 77
        }
      ]
    },
    {
      "cell_type": "code",
      "metadata": {
        "colab": {
          "base_uri": "https://localhost:8080/",
          "height": 417
        },
        "id": "EZlsPNJvrchd",
        "outputId": "b69d40b1-006b-4060-f47b-124a4096d832"
      },
      "source": [
        "# Duplicate book title but different Authors\n",
        "new_book_df[new_book_df['Book-Title']== 'Dinosaurs']"
      ],
      "execution_count": 78,
      "outputs": [
        {
          "output_type": "execute_result",
          "data": {
            "text/html": [
              "<div>\n",
              "<style scoped>\n",
              "    .dataframe tbody tr th:only-of-type {\n",
              "        vertical-align: middle;\n",
              "    }\n",
              "\n",
              "    .dataframe tbody tr th {\n",
              "        vertical-align: top;\n",
              "    }\n",
              "\n",
              "    .dataframe thead th {\n",
              "        text-align: right;\n",
              "    }\n",
              "</style>\n",
              "<table border=\"1\" class=\"dataframe\">\n",
              "  <thead>\n",
              "    <tr style=\"text-align: right;\">\n",
              "      <th></th>\n",
              "      <th>ISBN</th>\n",
              "      <th>Book-Title</th>\n",
              "      <th>Book-Author</th>\n",
              "      <th>Year-Of-Publication</th>\n",
              "      <th>Publisher</th>\n",
              "      <th>new_title</th>\n",
              "    </tr>\n",
              "  </thead>\n",
              "  <tbody>\n",
              "    <tr>\n",
              "      <th>31065</th>\n",
              "      <td>0307040399</td>\n",
              "      <td>Dinosaurs</td>\n",
              "      <td>Big Color Bk</td>\n",
              "      <td>1993</td>\n",
              "      <td>Golden Books</td>\n",
              "      <td>Dinosaurs by Big Color Bk</td>\n",
              "    </tr>\n",
              "    <tr>\n",
              "      <th>117372</th>\n",
              "      <td>1855013150</td>\n",
              "      <td>Dinosaurs</td>\n",
              "      <td>Michael Benton</td>\n",
              "      <td>0</td>\n",
              "      <td>Tiger Books Intl</td>\n",
              "      <td>Dinosaurs by Michael Benton</td>\n",
              "    </tr>\n",
              "    <tr>\n",
              "      <th>117424</th>\n",
              "      <td>0860201260</td>\n",
              "      <td>Dinosaurs</td>\n",
              "      <td>Anne McCord</td>\n",
              "      <td>1988</td>\n",
              "      <td>Educational Development Corporation</td>\n",
              "      <td>Dinosaurs by Anne McCord</td>\n",
              "    </tr>\n",
              "    <tr>\n",
              "      <th>117606</th>\n",
              "      <td>0806966262</td>\n",
              "      <td>Dinosaurs</td>\n",
              "      <td>L. B. Halstead</td>\n",
              "      <td>1987</td>\n",
              "      <td>Sterling Pub Co Inc</td>\n",
              "      <td>Dinosaurs by L. B. Halstead</td>\n",
              "    </tr>\n",
              "    <tr>\n",
              "      <th>117626</th>\n",
              "      <td>072141107X</td>\n",
              "      <td>Dinosaurs</td>\n",
              "      <td>Colin Douglas</td>\n",
              "      <td>1987</td>\n",
              "      <td>Ladybird Books</td>\n",
              "      <td>Dinosaurs by Colin Douglas</td>\n",
              "    </tr>\n",
              "    <tr>\n",
              "      <th>117942</th>\n",
              "      <td>0836210042</td>\n",
              "      <td>Dinosaurs</td>\n",
              "      <td>Paul Lipari</td>\n",
              "      <td>1996</td>\n",
              "      <td>Andrews McMeel Publishing</td>\n",
              "      <td>Dinosaurs by Paul Lipari</td>\n",
              "    </tr>\n",
              "    <tr>\n",
              "      <th>118104</th>\n",
              "      <td>0906710324</td>\n",
              "      <td>Dinosaurs</td>\n",
              "      <td>Big Chief I-Spy</td>\n",
              "      <td>1996</td>\n",
              "      <td>Ravette Publishing Ltd</td>\n",
              "      <td>Dinosaurs by Big Chief I-Spy</td>\n",
              "    </tr>\n",
              "    <tr>\n",
              "      <th>124215</th>\n",
              "      <td>0307030539</td>\n",
              "      <td>Dinosaurs</td>\n",
              "      <td>Golden Books</td>\n",
              "      <td>1993</td>\n",
              "      <td>Golden Books</td>\n",
              "      <td>Dinosaurs by Golden Books</td>\n",
              "    </tr>\n",
              "    <tr>\n",
              "      <th>175194</th>\n",
              "      <td>0694006211</td>\n",
              "      <td>Dinosaurs</td>\n",
              "      <td>Byron Barton</td>\n",
              "      <td>1996</td>\n",
              "      <td>HarperFestival</td>\n",
              "      <td>Dinosaurs by Byron Barton</td>\n",
              "    </tr>\n",
              "    <tr>\n",
              "      <th>229068</th>\n",
              "      <td>0307039137</td>\n",
              "      <td>Dinosaurs</td>\n",
              "      <td>Kathleen N. Daly</td>\n",
              "      <td>1977</td>\n",
              "      <td>Merrigold Press</td>\n",
              "      <td>Dinosaurs by Kathleen N. Daly</td>\n",
              "    </tr>\n",
              "    <tr>\n",
              "      <th>232217</th>\n",
              "      <td>082340708X</td>\n",
              "      <td>Dinosaurs</td>\n",
              "      <td>Gail Gibbons</td>\n",
              "      <td>1988</td>\n",
              "      <td>Holiday House</td>\n",
              "      <td>Dinosaurs by Gail Gibbons</td>\n",
              "    </tr>\n",
              "    <tr>\n",
              "      <th>235782</th>\n",
              "      <td>0671440721</td>\n",
              "      <td>Dinosaurs</td>\n",
              "      <td>Mary Packard</td>\n",
              "      <td>1981</td>\n",
              "      <td>Silver Burdett Pr</td>\n",
              "      <td>Dinosaurs by Mary Packard</td>\n",
              "    </tr>\n",
              "  </tbody>\n",
              "</table>\n",
              "</div>"
            ],
            "text/plain": [
              "              ISBN  ...                      new_title\n",
              "31065   0307040399  ...      Dinosaurs by Big Color Bk\n",
              "117372  1855013150  ...    Dinosaurs by Michael Benton\n",
              "117424  0860201260  ...       Dinosaurs by Anne McCord\n",
              "117606  0806966262  ...    Dinosaurs by L. B. Halstead\n",
              "117626  072141107X  ...     Dinosaurs by Colin Douglas\n",
              "117942  0836210042  ...       Dinosaurs by Paul Lipari\n",
              "118104  0906710324  ...   Dinosaurs by Big Chief I-Spy\n",
              "124215  0307030539  ...      Dinosaurs by Golden Books\n",
              "175194  0694006211  ...      Dinosaurs by Byron Barton\n",
              "229068  0307039137  ...  Dinosaurs by Kathleen N. Daly\n",
              "232217  082340708X  ...      Dinosaurs by Gail Gibbons\n",
              "235782  0671440721  ...      Dinosaurs by Mary Packard\n",
              "\n",
              "[12 rows x 6 columns]"
            ]
          },
          "metadata": {},
          "execution_count": 78
        }
      ]
    },
    {
      "cell_type": "code",
      "metadata": {
        "colab": {
          "base_uri": "https://localhost:8080/"
        },
        "id": "qSk8kIVFa7nO",
        "outputId": "28696194-1c04-45bb-c0b2-a36e0326b3cf"
      },
      "source": [
        "books_df.shape,new_book_df.shape"
      ],
      "execution_count": 79,
      "outputs": [
        {
          "output_type": "execute_result",
          "data": {
            "text/plain": [
              "((271360, 6), (251185, 6))"
            ]
          },
          "metadata": {},
          "execution_count": 79
        }
      ]
    },
    {
      "cell_type": "code",
      "metadata": {
        "colab": {
          "base_uri": "https://localhost:8080/"
        },
        "id": "aEaVBt7LbGEV",
        "outputId": "5496dfa5-3d29-411d-d92c-1174ef013f59"
      },
      "source": [
        "271360-251185"
      ],
      "execution_count": 80,
      "outputs": [
        {
          "output_type": "execute_result",
          "data": {
            "text/plain": [
              "20175"
            ]
          },
          "metadata": {},
          "execution_count": 80
        }
      ]
    },
    {
      "cell_type": "code",
      "metadata": {
        "colab": {
          "base_uri": "https://localhost:8080/",
          "height": 110
        },
        "id": "5uML78wosCIZ",
        "outputId": "ebd8b7a1-f115-4e42-d4cd-db24d76dda11"
      },
      "source": [
        "# Choose only required columns and rename new_title column\n",
        "new_book_df = new_book_df[['ISBN','new_title']].rename(columns={'new_title':'Title'})\n",
        "new_book_df.head(2)"
      ],
      "execution_count": 81,
      "outputs": [
        {
          "output_type": "execute_result",
          "data": {
            "text/html": [
              "<div>\n",
              "<style scoped>\n",
              "    .dataframe tbody tr th:only-of-type {\n",
              "        vertical-align: middle;\n",
              "    }\n",
              "\n",
              "    .dataframe tbody tr th {\n",
              "        vertical-align: top;\n",
              "    }\n",
              "\n",
              "    .dataframe thead th {\n",
              "        text-align: right;\n",
              "    }\n",
              "</style>\n",
              "<table border=\"1\" class=\"dataframe\">\n",
              "  <thead>\n",
              "    <tr style=\"text-align: right;\">\n",
              "      <th></th>\n",
              "      <th>ISBN</th>\n",
              "      <th>Title</th>\n",
              "    </tr>\n",
              "  </thead>\n",
              "  <tbody>\n",
              "    <tr>\n",
              "      <th>0</th>\n",
              "      <td>0195153448</td>\n",
              "      <td>Classical Mythology by Mark P. O. Morford</td>\n",
              "    </tr>\n",
              "    <tr>\n",
              "      <th>1</th>\n",
              "      <td>0002005018</td>\n",
              "      <td>Clara Callan by Richard Bruce Wright</td>\n",
              "    </tr>\n",
              "  </tbody>\n",
              "</table>\n",
              "</div>"
            ],
            "text/plain": [
              "         ISBN                                      Title\n",
              "0  0195153448  Classical Mythology by Mark P. O. Morford\n",
              "1  0002005018       Clara Callan by Richard Bruce Wright"
            ]
          },
          "metadata": {},
          "execution_count": 81
        }
      ]
    },
    {
      "cell_type": "code",
      "metadata": {
        "colab": {
          "base_uri": "https://localhost:8080/"
        },
        "id": "_6IG9znYsCgR",
        "outputId": "0e9f2f9e-f39f-4e67-b5d3-d1d5dc73dc47"
      },
      "source": [
        "# A look at ratings dataframe\n",
        "p(ratings_df.head())\n",
        "p('shape: ',ratings_df.shape)"
      ],
      "execution_count": 82,
      "outputs": [
        {
          "output_type": "stream",
          "name": "stdout",
          "text": [
            "   User-ID        ISBN  Book-Rating\n",
            "0   276725  034545104X            0\n",
            "1   276726  0155061224            5\n",
            "2   276727  0446520802            0\n",
            "3   276729  052165615X            3\n",
            "4   276729  0521795028            6\n",
            "shape:  (1149780, 3)\n"
          ]
        }
      ]
    },
    {
      "cell_type": "code",
      "metadata": {
        "colab": {
          "base_uri": "https://localhost:8080/"
        },
        "id": "7PcWl-aasTCp",
        "outputId": "88621c01-e3b4-405e-d744-fd1bdefb4efa"
      },
      "source": [
        "ratings_df.info()"
      ],
      "execution_count": 83,
      "outputs": [
        {
          "output_type": "stream",
          "name": "stdout",
          "text": [
            "<class 'pandas.core.frame.DataFrame'>\n",
            "RangeIndex: 1149780 entries, 0 to 1149779\n",
            "Data columns (total 3 columns):\n",
            " #   Column       Non-Null Count    Dtype \n",
            "---  ------       --------------    ----- \n",
            " 0   User-ID      1149780 non-null  int64 \n",
            " 1   ISBN         1149780 non-null  object\n",
            " 2   Book-Rating  1149780 non-null  int64 \n",
            "dtypes: int64(2), object(1)\n",
            "memory usage: 26.3+ MB\n"
          ]
        }
      ]
    },
    {
      "cell_type": "code",
      "metadata": {
        "colab": {
          "base_uri": "https://localhost:8080/",
          "height": 415
        },
        "id": "PkbYJF8hsXOb",
        "outputId": "5694b15c-a8ca-489e-f498-7ad1bd83d560"
      },
      "source": [
        "# Merge Books data and ratings data into a single Dataframe\n",
        "books_ratings_df = pd.merge(new_book_df,ratings_df,on='ISBN')\n",
        "books_ratings_df"
      ],
      "execution_count": 84,
      "outputs": [
        {
          "output_type": "execute_result",
          "data": {
            "text/html": [
              "<div>\n",
              "<style scoped>\n",
              "    .dataframe tbody tr th:only-of-type {\n",
              "        vertical-align: middle;\n",
              "    }\n",
              "\n",
              "    .dataframe tbody tr th {\n",
              "        vertical-align: top;\n",
              "    }\n",
              "\n",
              "    .dataframe thead th {\n",
              "        text-align: right;\n",
              "    }\n",
              "</style>\n",
              "<table border=\"1\" class=\"dataframe\">\n",
              "  <thead>\n",
              "    <tr style=\"text-align: right;\">\n",
              "      <th></th>\n",
              "      <th>ISBN</th>\n",
              "      <th>Title</th>\n",
              "      <th>User-ID</th>\n",
              "      <th>Book-Rating</th>\n",
              "    </tr>\n",
              "  </thead>\n",
              "  <tbody>\n",
              "    <tr>\n",
              "      <th>0</th>\n",
              "      <td>0195153448</td>\n",
              "      <td>Classical Mythology by Mark P. O. Morford</td>\n",
              "      <td>2</td>\n",
              "      <td>0</td>\n",
              "    </tr>\n",
              "    <tr>\n",
              "      <th>1</th>\n",
              "      <td>0002005018</td>\n",
              "      <td>Clara Callan by Richard Bruce Wright</td>\n",
              "      <td>8</td>\n",
              "      <td>5</td>\n",
              "    </tr>\n",
              "    <tr>\n",
              "      <th>2</th>\n",
              "      <td>0002005018</td>\n",
              "      <td>Clara Callan by Richard Bruce Wright</td>\n",
              "      <td>11400</td>\n",
              "      <td>0</td>\n",
              "    </tr>\n",
              "    <tr>\n",
              "      <th>3</th>\n",
              "      <td>0002005018</td>\n",
              "      <td>Clara Callan by Richard Bruce Wright</td>\n",
              "      <td>11676</td>\n",
              "      <td>8</td>\n",
              "    </tr>\n",
              "    <tr>\n",
              "      <th>4</th>\n",
              "      <td>0002005018</td>\n",
              "      <td>Clara Callan by Richard Bruce Wright</td>\n",
              "      <td>41385</td>\n",
              "      <td>0</td>\n",
              "    </tr>\n",
              "    <tr>\n",
              "      <th>...</th>\n",
              "      <td>...</td>\n",
              "      <td>...</td>\n",
              "      <td>...</td>\n",
              "      <td>...</td>\n",
              "    </tr>\n",
              "    <tr>\n",
              "      <th>916928</th>\n",
              "      <td>0449906736</td>\n",
              "      <td>Flashpoints: Promise and Peril in a New World ...</td>\n",
              "      <td>276313</td>\n",
              "      <td>5</td>\n",
              "    </tr>\n",
              "    <tr>\n",
              "      <th>916929</th>\n",
              "      <td>0525447644</td>\n",
              "      <td>From One to One Hundred by Teri Sloat</td>\n",
              "      <td>276579</td>\n",
              "      <td>4</td>\n",
              "    </tr>\n",
              "    <tr>\n",
              "      <th>916930</th>\n",
              "      <td>006008667X</td>\n",
              "      <td>Lily Dale : The True Story of the Town that Ta...</td>\n",
              "      <td>276680</td>\n",
              "      <td>0</td>\n",
              "    </tr>\n",
              "    <tr>\n",
              "      <th>916931</th>\n",
              "      <td>0192126040</td>\n",
              "      <td>Republic (World's Classics) by Plato</td>\n",
              "      <td>276680</td>\n",
              "      <td>0</td>\n",
              "    </tr>\n",
              "    <tr>\n",
              "      <th>916932</th>\n",
              "      <td>0767409752</td>\n",
              "      <td>A Guided Tour of Rene Descartes' Meditations o...</td>\n",
              "      <td>276680</td>\n",
              "      <td>0</td>\n",
              "    </tr>\n",
              "  </tbody>\n",
              "</table>\n",
              "<p>916933 rows × 4 columns</p>\n",
              "</div>"
            ],
            "text/plain": [
              "              ISBN  ... Book-Rating\n",
              "0       0195153448  ...           0\n",
              "1       0002005018  ...           5\n",
              "2       0002005018  ...           0\n",
              "3       0002005018  ...           8\n",
              "4       0002005018  ...           0\n",
              "...            ...  ...         ...\n",
              "916928  0449906736  ...           5\n",
              "916929  0525447644  ...           4\n",
              "916930  006008667X  ...           0\n",
              "916931  0192126040  ...           0\n",
              "916932  0767409752  ...           0\n",
              "\n",
              "[916933 rows x 4 columns]"
            ]
          },
          "metadata": {},
          "execution_count": 84
        }
      ]
    },
    {
      "cell_type": "code",
      "metadata": {
        "id": "5CARXHSYyK6e"
      },
      "source": [
        "# Choose only explicitly rated books (Rating>0)\n",
        "new_ratings_df = books_ratings_df[books_ratings_df['Book-Rating']>0]"
      ],
      "execution_count": 85,
      "outputs": []
    },
    {
      "cell_type": "code",
      "metadata": {
        "colab": {
          "base_uri": "https://localhost:8080/"
        },
        "id": "M_AMb8rNyd_g",
        "outputId": "ea789cf1-60ef-4a55-f76d-a50c40a83687"
      },
      "source": [
        "# Each book has been rated these number of times\n",
        "new_ratings_df.groupby('Title')['Book-Rating'].count().sort_values(ascending = False)"
      ],
      "execution_count": 86,
      "outputs": [
        {
          "output_type": "execute_result",
          "data": {
            "text/plain": [
              "Title\n",
              "The Lovely Bones: A Novel by Alice Sebold                                                                                    707\n",
              "Wild Animus by Rich Shapero                                                                                                  581\n",
              "The Da Vinci Code by Dan Brown                                                                                               487\n",
              "The Red Tent (Bestselling Backlist) by Anita Diamant                                                                         383\n",
              "Divine Secrets of the Ya-Ya Sisterhood: A Novel by Rebecca Wells                                                             320\n",
              "                                                                                                                            ... \n",
              "Prophecies : Lost Slayer Serial novel Part 1 by Christopher Golden                                                             1\n",
              "Prophecies: Visions of the World's Fate : Truths, Possibilities, or Fallacies? by Hans Holzer                                  1\n",
              "Prophecy (The Symphony of Ages) by Elizabeth Haydon                                                                            1\n",
              "Prophecy : Book Five of The Blending (Blending) by Sharon Green                                                                1\n",
              " A Light in the Storm: The Civil War Diary of Amelia Martin, Fenwick Island, Delaware, 1861 (Dear America) by Karen Hesse      1\n",
              "Name: Book-Rating, Length: 137560, dtype: int64"
            ]
          },
          "metadata": {},
          "execution_count": 86
        }
      ]
    },
    {
      "cell_type": "code",
      "metadata": {
        "colab": {
          "base_uri": "https://localhost:8080/",
          "height": 415
        },
        "id": "ISQEiJyMyd8G",
        "outputId": "b3c28600-6363-47d9-ce92-ba95e19a35f8"
      },
      "source": [
        "# Create a data frame for number of times each book was rated\n",
        "rating_num_df = new_ratings_df.groupby('Title')['Book-Rating'].count().reset_index()\n",
        "rating_num_df.rename(columns= {'Book-Rating':'Number_of_times_rated'},inplace=True)\n",
        "rating_num_df"
      ],
      "execution_count": 87,
      "outputs": [
        {
          "output_type": "execute_result",
          "data": {
            "text/html": [
              "<div>\n",
              "<style scoped>\n",
              "    .dataframe tbody tr th:only-of-type {\n",
              "        vertical-align: middle;\n",
              "    }\n",
              "\n",
              "    .dataframe tbody tr th {\n",
              "        vertical-align: top;\n",
              "    }\n",
              "\n",
              "    .dataframe thead th {\n",
              "        text-align: right;\n",
              "    }\n",
              "</style>\n",
              "<table border=\"1\" class=\"dataframe\">\n",
              "  <thead>\n",
              "    <tr style=\"text-align: right;\">\n",
              "      <th></th>\n",
              "      <th>Title</th>\n",
              "      <th>Number_of_times_rated</th>\n",
              "    </tr>\n",
              "  </thead>\n",
              "  <tbody>\n",
              "    <tr>\n",
              "      <th>0</th>\n",
              "      <td>A Light in the Storm: The Civil War Diary of ...</td>\n",
              "      <td>1</td>\n",
              "    </tr>\n",
              "    <tr>\n",
              "      <th>1</th>\n",
              "      <td>Ask Lily (Young Women of Faith: Lily Series, ...</td>\n",
              "      <td>1</td>\n",
              "    </tr>\n",
              "    <tr>\n",
              "      <th>2</th>\n",
              "      <td>Dark Justice by Jack Higgins</td>\n",
              "      <td>1</td>\n",
              "    </tr>\n",
              "    <tr>\n",
              "      <th>3</th>\n",
              "      <td>Earth Prayers From around the World: 365 Pray...</td>\n",
              "      <td>7</td>\n",
              "    </tr>\n",
              "    <tr>\n",
              "      <th>4</th>\n",
              "      <td>Final Fantasy Anthology: Official Strategy Gu...</td>\n",
              "      <td>2</td>\n",
              "    </tr>\n",
              "    <tr>\n",
              "      <th>...</th>\n",
              "      <td>...</td>\n",
              "      <td>...</td>\n",
              "    </tr>\n",
              "    <tr>\n",
              "      <th>137555</th>\n",
              "      <td>Ã?Â?bernachten mit Stil. Die schÃ?Â¶nsten Coun...</td>\n",
              "      <td>1</td>\n",
              "    </tr>\n",
              "    <tr>\n",
              "      <th>137556</th>\n",
              "      <td>Ã?Â?rger mit Produkt X. Roman. by Joan Aiken</td>\n",
              "      <td>3</td>\n",
              "    </tr>\n",
              "    <tr>\n",
              "      <th>137557</th>\n",
              "      <td>Ã?Â?sterlich leben. by Anselm GrÃ?Â¼n</td>\n",
              "      <td>1</td>\n",
              "    </tr>\n",
              "    <tr>\n",
              "      <th>137558</th>\n",
              "      <td>Ã?Â?stlich der Berge. by David Guterson</td>\n",
              "      <td>1</td>\n",
              "    </tr>\n",
              "    <tr>\n",
              "      <th>137559</th>\n",
              "      <td>Ã?Â?thique en toc by Didier Daeninckx</td>\n",
              "      <td>1</td>\n",
              "    </tr>\n",
              "  </tbody>\n",
              "</table>\n",
              "<p>137560 rows × 2 columns</p>\n",
              "</div>"
            ],
            "text/plain": [
              "                                                    Title  Number_of_times_rated\n",
              "0        A Light in the Storm: The Civil War Diary of ...                      1\n",
              "1        Ask Lily (Young Women of Faith: Lily Series, ...                      1\n",
              "2                            Dark Justice by Jack Higgins                      1\n",
              "3        Earth Prayers From around the World: 365 Pray...                      7\n",
              "4        Final Fantasy Anthology: Official Strategy Gu...                      2\n",
              "...                                                   ...                    ...\n",
              "137555  Ã?Â?bernachten mit Stil. Die schÃ?Â¶nsten Coun...                      1\n",
              "137556       Ã?Â?rger mit Produkt X. Roman. by Joan Aiken                      3\n",
              "137557              Ã?Â?sterlich leben. by Anselm GrÃ?Â¼n                      1\n",
              "137558            Ã?Â?stlich der Berge. by David Guterson                      1\n",
              "137559              Ã?Â?thique en toc by Didier Daeninckx                      1\n",
              "\n",
              "[137560 rows x 2 columns]"
            ]
          },
          "metadata": {},
          "execution_count": 87
        }
      ]
    },
    {
      "cell_type": "code",
      "metadata": {
        "colab": {
          "base_uri": "https://localhost:8080/",
          "height": 415
        },
        "id": "VFvZSqsLyd5K",
        "outputId": "e3fcc70a-caee-4ee4-fe59-e3492190cabc"
      },
      "source": [
        "# Merge the above data frame with new_ratings_df\n",
        "temp_df = pd.merge(new_ratings_df,rating_num_df,on='Title')\n",
        "temp_df.sort_values(by='Number_of_times_rated',ascending=False)"
      ],
      "execution_count": 88,
      "outputs": [
        {
          "output_type": "execute_result",
          "data": {
            "text/html": [
              "<div>\n",
              "<style scoped>\n",
              "    .dataframe tbody tr th:only-of-type {\n",
              "        vertical-align: middle;\n",
              "    }\n",
              "\n",
              "    .dataframe tbody tr th {\n",
              "        vertical-align: top;\n",
              "    }\n",
              "\n",
              "    .dataframe thead th {\n",
              "        text-align: right;\n",
              "    }\n",
              "</style>\n",
              "<table border=\"1\" class=\"dataframe\">\n",
              "  <thead>\n",
              "    <tr style=\"text-align: right;\">\n",
              "      <th></th>\n",
              "      <th>ISBN</th>\n",
              "      <th>Title</th>\n",
              "      <th>User-ID</th>\n",
              "      <th>Book-Rating</th>\n",
              "      <th>Number_of_times_rated</th>\n",
              "    </tr>\n",
              "  </thead>\n",
              "  <tbody>\n",
              "    <tr>\n",
              "      <th>10362</th>\n",
              "      <td>0316666343</td>\n",
              "      <td>The Lovely Bones: A Novel by Alice Sebold</td>\n",
              "      <td>276680</td>\n",
              "      <td>7</td>\n",
              "      <td>707</td>\n",
              "    </tr>\n",
              "    <tr>\n",
              "      <th>10087</th>\n",
              "      <td>0316666343</td>\n",
              "      <td>The Lovely Bones: A Novel by Alice Sebold</td>\n",
              "      <td>168413</td>\n",
              "      <td>8</td>\n",
              "      <td>707</td>\n",
              "    </tr>\n",
              "    <tr>\n",
              "      <th>10063</th>\n",
              "      <td>0316666343</td>\n",
              "      <td>The Lovely Bones: A Novel by Alice Sebold</td>\n",
              "      <td>160548</td>\n",
              "      <td>10</td>\n",
              "      <td>707</td>\n",
              "    </tr>\n",
              "    <tr>\n",
              "      <th>10062</th>\n",
              "      <td>0316666343</td>\n",
              "      <td>The Lovely Bones: A Novel by Alice Sebold</td>\n",
              "      <td>159852</td>\n",
              "      <td>10</td>\n",
              "      <td>707</td>\n",
              "    </tr>\n",
              "    <tr>\n",
              "      <th>10061</th>\n",
              "      <td>0316666343</td>\n",
              "      <td>The Lovely Bones: A Novel by Alice Sebold</td>\n",
              "      <td>159822</td>\n",
              "      <td>8</td>\n",
              "      <td>707</td>\n",
              "    </tr>\n",
              "    <tr>\n",
              "      <th>...</th>\n",
              "      <td>...</td>\n",
              "      <td>...</td>\n",
              "      <td>...</td>\n",
              "      <td>...</td>\n",
              "      <td>...</td>\n",
              "    </tr>\n",
              "    <tr>\n",
              "      <th>258048</th>\n",
              "      <td>0517100738</td>\n",
              "      <td>Three Complete Novels: Lace/Lace 2/Crimson by ...</td>\n",
              "      <td>59172</td>\n",
              "      <td>10</td>\n",
              "      <td>1</td>\n",
              "    </tr>\n",
              "    <tr>\n",
              "      <th>258047</th>\n",
              "      <td>0448405024</td>\n",
              "      <td>Ren and Stimpy Show: Postcards Over the Edge b...</td>\n",
              "      <td>94923</td>\n",
              "      <td>7</td>\n",
              "      <td>1</td>\n",
              "    </tr>\n",
              "    <tr>\n",
              "      <th>258039</th>\n",
              "      <td>0450428052</td>\n",
              "      <td>The Rings of the Master: Book 1: Lords of the ...</td>\n",
              "      <td>193560</td>\n",
              "      <td>8</td>\n",
              "      <td>1</td>\n",
              "    </tr>\n",
              "    <tr>\n",
              "      <th>258036</th>\n",
              "      <td>0553272608</td>\n",
              "      <td>Wild Swan (Wild Swan) by Celeste De Blasis</td>\n",
              "      <td>139141</td>\n",
              "      <td>5</td>\n",
              "      <td>1</td>\n",
              "    </tr>\n",
              "    <tr>\n",
              "      <th>340039</th>\n",
              "      <td>0525447644</td>\n",
              "      <td>From One to One Hundred by Teri Sloat</td>\n",
              "      <td>276579</td>\n",
              "      <td>4</td>\n",
              "      <td>1</td>\n",
              "    </tr>\n",
              "  </tbody>\n",
              "</table>\n",
              "<p>340040 rows × 5 columns</p>\n",
              "</div>"
            ],
            "text/plain": [
              "              ISBN  ... Number_of_times_rated\n",
              "10362   0316666343  ...                   707\n",
              "10087   0316666343  ...                   707\n",
              "10063   0316666343  ...                   707\n",
              "10062   0316666343  ...                   707\n",
              "10061   0316666343  ...                   707\n",
              "...            ...  ...                   ...\n",
              "258048  0517100738  ...                     1\n",
              "258047  0448405024  ...                     1\n",
              "258039  0450428052  ...                     1\n",
              "258036  0553272608  ...                     1\n",
              "340039  0525447644  ...                     1\n",
              "\n",
              "[340040 rows x 5 columns]"
            ]
          },
          "metadata": {},
          "execution_count": 88
        }
      ]
    },
    {
      "cell_type": "markdown",
      "metadata": {
        "id": "Odg-Liaay-x0"
      },
      "source": [
        "####Clearly some books have been rated lesser number of times"
      ]
    },
    {
      "cell_type": "code",
      "metadata": {
        "colab": {
          "base_uri": "https://localhost:8080/"
        },
        "id": "urnjU0n_zMBL",
        "outputId": "e83ad0a4-696f-4e69-e9c5-fddc837e334d"
      },
      "source": [
        "# Choose books with higher value for number_of_ratings_received\n",
        "final_df = temp_df[temp_df['Number_of_times_rated'] >5]\n",
        "final_df.shape,temp_df.shape"
      ],
      "execution_count": 89,
      "outputs": [
        {
          "output_type": "execute_result",
          "data": {
            "text/plain": [
              "((151246, 5), (340040, 5))"
            ]
          },
          "metadata": {},
          "execution_count": 89
        }
      ]
    },
    {
      "cell_type": "code",
      "metadata": {
        "colab": {
          "base_uri": "https://localhost:8080/"
        },
        "id": "irR51R_KsaNX",
        "outputId": "2e971c81-6dd3-4280-e69e-40eeb9017dff"
      },
      "source": [
        "# Total number of people who gave ratings\n",
        "final_df['User-ID'].nunique()"
      ],
      "execution_count": 90,
      "outputs": [
        {
          "output_type": "execute_result",
          "data": {
            "text/plain": [
              "41262"
            ]
          },
          "metadata": {},
          "execution_count": 90
        }
      ]
    },
    {
      "cell_type": "code",
      "metadata": {
        "colab": {
          "base_uri": "https://localhost:8080/"
        },
        "id": "9j008JAnslTb",
        "outputId": "6f782d96-60f0-4fcd-dd0d-9b295289f99c"
      },
      "source": [
        "# Lot of people have given very less ratings\n",
        "for n in [10,20,50,100]:\n",
        "  a = final_df['User-ID'].value_counts()<n\n",
        "  num_of_users = a[a].sum()\n",
        "  p(f'Number of people who gave less than {n} ratings: {num_of_users}')"
      ],
      "execution_count": 91,
      "outputs": [
        {
          "output_type": "stream",
          "name": "stdout",
          "text": [
            "Number of people who gave less than 10 ratings: 38402\n",
            "Number of people who gave less than 20 ratings: 40031\n",
            "Number of people who gave less than 50 ratings: 40955\n",
            "Number of people who gave less than 100 ratings: 41202\n"
          ]
        }
      ]
    },
    {
      "cell_type": "code",
      "metadata": {
        "colab": {
          "base_uri": "https://localhost:8080/"
        },
        "id": "LQ4bGeMMsqVJ",
        "outputId": "8a9aef7c-eb2c-47ac-f7b2-6266f203e59f"
      },
      "source": [
        "#Users who gave more than 10 ratings\n",
        "b = final_df['User-ID'].value_counts() > 5\n",
        "b[b].sum()"
      ],
      "execution_count": 92,
      "outputs": [
        {
          "output_type": "execute_result",
          "data": {
            "text/plain": [
              "5080"
            ]
          },
          "metadata": {},
          "execution_count": 92
        }
      ]
    },
    {
      "cell_type": "code",
      "metadata": {
        "id": "Nsshco-vstig"
      },
      "source": [
        "# Index of Users who have given more than 4 ratings\n",
        "c = b[b].index"
      ],
      "execution_count": 93,
      "outputs": []
    },
    {
      "cell_type": "code",
      "metadata": {
        "colab": {
          "base_uri": "https://localhost:8080/",
          "height": 415
        },
        "id": "nQub4uUos1Ir",
        "outputId": "12c91d7f-13a1-4bd9-aab5-4f96c6911a18"
      },
      "source": [
        "# Choose only those users who gave more than 20 ratings\n",
        "final_df2 = final_df[final_df['User-ID'].isin(c)]\n",
        "final_df2"
      ],
      "execution_count": 94,
      "outputs": [
        {
          "output_type": "execute_result",
          "data": {
            "text/html": [
              "<div>\n",
              "<style scoped>\n",
              "    .dataframe tbody tr th:only-of-type {\n",
              "        vertical-align: middle;\n",
              "    }\n",
              "\n",
              "    .dataframe tbody tr th {\n",
              "        vertical-align: top;\n",
              "    }\n",
              "\n",
              "    .dataframe thead th {\n",
              "        text-align: right;\n",
              "    }\n",
              "</style>\n",
              "<table border=\"1\" class=\"dataframe\">\n",
              "  <thead>\n",
              "    <tr style=\"text-align: right;\">\n",
              "      <th></th>\n",
              "      <th>ISBN</th>\n",
              "      <th>Title</th>\n",
              "      <th>User-ID</th>\n",
              "      <th>Book-Rating</th>\n",
              "      <th>Number_of_times_rated</th>\n",
              "    </tr>\n",
              "  </thead>\n",
              "  <tbody>\n",
              "    <tr>\n",
              "      <th>1</th>\n",
              "      <td>0002005018</td>\n",
              "      <td>Clara Callan by Richard Bruce Wright</td>\n",
              "      <td>11676</td>\n",
              "      <td>8</td>\n",
              "      <td>9</td>\n",
              "    </tr>\n",
              "    <tr>\n",
              "      <th>3</th>\n",
              "      <td>0002005018</td>\n",
              "      <td>Clara Callan by Richard Bruce Wright</td>\n",
              "      <td>116866</td>\n",
              "      <td>9</td>\n",
              "      <td>9</td>\n",
              "    </tr>\n",
              "    <tr>\n",
              "      <th>7</th>\n",
              "      <td>0002005018</td>\n",
              "      <td>Clara Callan by Richard Bruce Wright</td>\n",
              "      <td>219008</td>\n",
              "      <td>7</td>\n",
              "      <td>9</td>\n",
              "    </tr>\n",
              "    <tr>\n",
              "      <th>8</th>\n",
              "      <td>0002005018</td>\n",
              "      <td>Clara Callan by Richard Bruce Wright</td>\n",
              "      <td>263325</td>\n",
              "      <td>6</td>\n",
              "      <td>9</td>\n",
              "    </tr>\n",
              "    <tr>\n",
              "      <th>11</th>\n",
              "      <td>0374157065</td>\n",
              "      <td>Flu: The Story of the Great Influenza Pandemic...</td>\n",
              "      <td>35704</td>\n",
              "      <td>6</td>\n",
              "      <td>6</td>\n",
              "    </tr>\n",
              "    <tr>\n",
              "      <th>...</th>\n",
              "      <td>...</td>\n",
              "      <td>...</td>\n",
              "      <td>...</td>\n",
              "      <td>...</td>\n",
              "      <td>...</td>\n",
              "    </tr>\n",
              "    <tr>\n",
              "      <th>306038</th>\n",
              "      <td>3442350956</td>\n",
              "      <td>Ferne Ufer. Der 3. Band der groÃ?Â?en Highland...</td>\n",
              "      <td>239488</td>\n",
              "      <td>10</td>\n",
              "      <td>6</td>\n",
              "    </tr>\n",
              "    <tr>\n",
              "      <th>332337</th>\n",
              "      <td>0330353349</td>\n",
              "      <td>The Ice House (TV Tie-In Edition) by Minette W...</td>\n",
              "      <td>32440</td>\n",
              "      <td>8</td>\n",
              "      <td>7</td>\n",
              "    </tr>\n",
              "    <tr>\n",
              "      <th>332338</th>\n",
              "      <td>0330353349</td>\n",
              "      <td>The Ice House (TV Tie-In Edition) by Minette W...</td>\n",
              "      <td>35320</td>\n",
              "      <td>9</td>\n",
              "      <td>7</td>\n",
              "    </tr>\n",
              "    <tr>\n",
              "      <th>332340</th>\n",
              "      <td>0330353349</td>\n",
              "      <td>The Ice House (TV Tie-In Edition) by Minette W...</td>\n",
              "      <td>86202</td>\n",
              "      <td>7</td>\n",
              "      <td>7</td>\n",
              "    </tr>\n",
              "    <tr>\n",
              "      <th>332342</th>\n",
              "      <td>0330353349</td>\n",
              "      <td>The Ice House (TV Tie-In Edition) by Minette W...</td>\n",
              "      <td>165806</td>\n",
              "      <td>6</td>\n",
              "      <td>7</td>\n",
              "    </tr>\n",
              "  </tbody>\n",
              "</table>\n",
              "<p>93749 rows × 5 columns</p>\n",
              "</div>"
            ],
            "text/plain": [
              "              ISBN  ... Number_of_times_rated\n",
              "1       0002005018  ...                     9\n",
              "3       0002005018  ...                     9\n",
              "7       0002005018  ...                     9\n",
              "8       0002005018  ...                     9\n",
              "11      0374157065  ...                     6\n",
              "...            ...  ...                   ...\n",
              "306038  3442350956  ...                     6\n",
              "332337  0330353349  ...                     7\n",
              "332338  0330353349  ...                     7\n",
              "332340  0330353349  ...                     7\n",
              "332342  0330353349  ...                     7\n",
              "\n",
              "[93749 rows x 5 columns]"
            ]
          },
          "metadata": {},
          "execution_count": 94
        }
      ]
    },
    {
      "cell_type": "code",
      "metadata": {
        "colab": {
          "base_uri": "https://localhost:8080/"
        },
        "id": "LZss6H5zqRpW",
        "outputId": "242b9185-ae98-4445-b38a-c4cdb1dc6b5e"
      },
      "source": [
        "final_df2['User-ID'].shape"
      ],
      "execution_count": 95,
      "outputs": [
        {
          "output_type": "execute_result",
          "data": {
            "text/plain": [
              "(93749,)"
            ]
          },
          "metadata": {},
          "execution_count": 95
        }
      ]
    },
    {
      "cell_type": "code",
      "metadata": {
        "colab": {
          "base_uri": "https://localhost:8080/",
          "height": 219
        },
        "id": "KnLL906GO5bb",
        "outputId": "fd6338fe-8646-4e1f-c7d5-cde6474d2858"
      },
      "source": [
        "# Smoothen out the ratings using log transformation\n",
        "def smooth_user_preference(x):\n",
        "    return math.log(1+x, 2)\n",
        "    \n",
        "interactions_full_df = final_df2.groupby(['User-ID', 'ISBN'])['Book-Rating'].sum().apply(smooth_user_preference).reset_index()\n",
        "print('# of unique user/item interactions: %d' % len(interactions_full_df))\n",
        "interactions_full_df.head()"
      ],
      "execution_count": 96,
      "outputs": [
        {
          "output_type": "stream",
          "name": "stdout",
          "text": [
            "# of unique user/item interactions: 93749\n"
          ]
        },
        {
          "output_type": "execute_result",
          "data": {
            "text/html": [
              "<div>\n",
              "<style scoped>\n",
              "    .dataframe tbody tr th:only-of-type {\n",
              "        vertical-align: middle;\n",
              "    }\n",
              "\n",
              "    .dataframe tbody tr th {\n",
              "        vertical-align: top;\n",
              "    }\n",
              "\n",
              "    .dataframe thead th {\n",
              "        text-align: right;\n",
              "    }\n",
              "</style>\n",
              "<table border=\"1\" class=\"dataframe\">\n",
              "  <thead>\n",
              "    <tr style=\"text-align: right;\">\n",
              "      <th></th>\n",
              "      <th>User-ID</th>\n",
              "      <th>ISBN</th>\n",
              "      <th>Book-Rating</th>\n",
              "    </tr>\n",
              "  </thead>\n",
              "  <tbody>\n",
              "    <tr>\n",
              "      <th>0</th>\n",
              "      <td>114</td>\n",
              "      <td>0446608653</td>\n",
              "      <td>3.321928</td>\n",
              "    </tr>\n",
              "    <tr>\n",
              "      <th>1</th>\n",
              "      <td>114</td>\n",
              "      <td>0446612545</td>\n",
              "      <td>3.321928</td>\n",
              "    </tr>\n",
              "    <tr>\n",
              "      <th>2</th>\n",
              "      <td>114</td>\n",
              "      <td>0446612618</td>\n",
              "      <td>3.169925</td>\n",
              "    </tr>\n",
              "    <tr>\n",
              "      <th>3</th>\n",
              "      <td>114</td>\n",
              "      <td>0451208080</td>\n",
              "      <td>3.169925</td>\n",
              "    </tr>\n",
              "    <tr>\n",
              "      <th>4</th>\n",
              "      <td>114</td>\n",
              "      <td>0553584383</td>\n",
              "      <td>3.321928</td>\n",
              "    </tr>\n",
              "  </tbody>\n",
              "</table>\n",
              "</div>"
            ],
            "text/plain": [
              "   User-ID        ISBN  Book-Rating\n",
              "0      114  0446608653     3.321928\n",
              "1      114  0446612545     3.321928\n",
              "2      114  0446612618     3.169925\n",
              "3      114  0451208080     3.169925\n",
              "4      114  0553584383     3.321928"
            ]
          },
          "metadata": {},
          "execution_count": 96
        }
      ]
    },
    {
      "cell_type": "code",
      "metadata": {
        "colab": {
          "base_uri": "https://localhost:8080/"
        },
        "id": "iWFKpC_kK87q",
        "outputId": "23e8d6eb-695b-49f6-e2c9-6601afa3ca1f"
      },
      "source": [
        "# Split the data into train and test for evaluation purpose\n",
        "interactions_train_df, interactions_test_df = train_test_split(interactions_full_df,\n",
        "                                   test_size=0.20,stratify=interactions_full_df['User-ID'],\n",
        "                                   random_state=24)\n",
        "\n",
        "print('# interactions on Train set: %d' % len(interactions_train_df))\n",
        "print('# interactions on Test set: %d' % len(interactions_test_df))"
      ],
      "execution_count": 97,
      "outputs": [
        {
          "output_type": "stream",
          "name": "stdout",
          "text": [
            "# interactions on Train set: 74999\n",
            "# interactions on Test set: 18750\n"
          ]
        }
      ]
    },
    {
      "cell_type": "code",
      "metadata": {
        "id": "jSRjqs0euGuk"
      },
      "source": [
        "# Create a pivot table for users and books containing ratings\n",
        "pivot_matrix_df = interactions_train_df.pivot(index='User-ID', columns='ISBN', \n",
        "                                     values='Book-Rating').fillna(0)"
      ],
      "execution_count": 98,
      "outputs": []
    },
    {
      "cell_type": "code",
      "metadata": {
        "colab": {
          "base_uri": "https://localhost:8080/",
          "height": 298
        },
        "id": "BUwU6kFUuVgD",
        "outputId": "a73d11ac-ecfa-4de7-9d70-25f62b78e498"
      },
      "source": [
        "pivot_matrix_df.head()"
      ],
      "execution_count": 99,
      "outputs": [
        {
          "output_type": "execute_result",
          "data": {
            "text/html": [
              "<div>\n",
              "<style scoped>\n",
              "    .dataframe tbody tr th:only-of-type {\n",
              "        vertical-align: middle;\n",
              "    }\n",
              "\n",
              "    .dataframe tbody tr th {\n",
              "        vertical-align: top;\n",
              "    }\n",
              "\n",
              "    .dataframe thead th {\n",
              "        text-align: right;\n",
              "    }\n",
              "</style>\n",
              "<table border=\"1\" class=\"dataframe\">\n",
              "  <thead>\n",
              "    <tr style=\"text-align: right;\">\n",
              "      <th>ISBN</th>\n",
              "      <th>0002005018</th>\n",
              "      <th>0002251760</th>\n",
              "      <th>0002259834</th>\n",
              "      <th>000648302X</th>\n",
              "      <th>000649840X</th>\n",
              "      <th>0006546684</th>\n",
              "      <th>0006547834</th>\n",
              "      <th>0006550576</th>\n",
              "      <th>0006550789</th>\n",
              "      <th>0006551971</th>\n",
              "      <th>0006742939</th>\n",
              "      <th>0007110928</th>\n",
              "      <th>0007122039</th>\n",
              "      <th>0007141076</th>\n",
              "      <th>0007154615</th>\n",
              "      <th>000716226X</th>\n",
              "      <th>0020125305</th>\n",
              "      <th>0020198817</th>\n",
              "      <th>0020198906</th>\n",
              "      <th>0020199600</th>\n",
              "      <th>002026478X</th>\n",
              "      <th>0020306652</th>\n",
              "      <th>0020360754</th>\n",
              "      <th>0020418809</th>\n",
              "      <th>0020427859</th>\n",
              "      <th>0020442009</th>\n",
              "      <th>0020442106</th>\n",
              "      <th>0020442203</th>\n",
              "      <th>0020442300</th>\n",
              "      <th>0020442408</th>\n",
              "      <th>0020442602</th>\n",
              "      <th>0020446500</th>\n",
              "      <th>0020449313</th>\n",
              "      <th>0020518501</th>\n",
              "      <th>0020518609</th>\n",
              "      <th>0020518706</th>\n",
              "      <th>0020519001</th>\n",
              "      <th>0020532105</th>\n",
              "      <th>0020868308</th>\n",
              "      <th>002411510X</th>\n",
              "      <th>...</th>\n",
              "      <th>8466303022</th>\n",
              "      <th>8466303316</th>\n",
              "      <th>846630679X</th>\n",
              "      <th>8472230082</th>\n",
              "      <th>8472236552</th>\n",
              "      <th>8472237966</th>\n",
              "      <th>8477204055</th>\n",
              "      <th>8478884459</th>\n",
              "      <th>8478884955</th>\n",
              "      <th>8478885196</th>\n",
              "      <th>8478886451</th>\n",
              "      <th>8478886508</th>\n",
              "      <th>8478950257</th>\n",
              "      <th>8483101610</th>\n",
              "      <th>8484505294</th>\n",
              "      <th>8484602508</th>\n",
              "      <th>8495359537</th>\n",
              "      <th>8495501090</th>\n",
              "      <th>8495501198</th>\n",
              "      <th>849550152X</th>\n",
              "      <th>8495618605</th>\n",
              "      <th>8806142100</th>\n",
              "      <th>8806143042</th>\n",
              "      <th>880781000X</th>\n",
              "      <th>880781210X</th>\n",
              "      <th>8807813025</th>\n",
              "      <th>8807813823</th>\n",
              "      <th>8817106100</th>\n",
              "      <th>8817106259</th>\n",
              "      <th>8817131628</th>\n",
              "      <th>881787017X</th>\n",
              "      <th>8838910170</th>\n",
              "      <th>8845205118</th>\n",
              "      <th>8845247414</th>\n",
              "      <th>8845915611</th>\n",
              "      <th>9074336329</th>\n",
              "      <th>950491036X</th>\n",
              "      <th>9681500555</th>\n",
              "      <th>968150108X</th>\n",
              "      <th>9726101794</th>\n",
              "    </tr>\n",
              "    <tr>\n",
              "      <th>User-ID</th>\n",
              "      <th></th>\n",
              "      <th></th>\n",
              "      <th></th>\n",
              "      <th></th>\n",
              "      <th></th>\n",
              "      <th></th>\n",
              "      <th></th>\n",
              "      <th></th>\n",
              "      <th></th>\n",
              "      <th></th>\n",
              "      <th></th>\n",
              "      <th></th>\n",
              "      <th></th>\n",
              "      <th></th>\n",
              "      <th></th>\n",
              "      <th></th>\n",
              "      <th></th>\n",
              "      <th></th>\n",
              "      <th></th>\n",
              "      <th></th>\n",
              "      <th></th>\n",
              "      <th></th>\n",
              "      <th></th>\n",
              "      <th></th>\n",
              "      <th></th>\n",
              "      <th></th>\n",
              "      <th></th>\n",
              "      <th></th>\n",
              "      <th></th>\n",
              "      <th></th>\n",
              "      <th></th>\n",
              "      <th></th>\n",
              "      <th></th>\n",
              "      <th></th>\n",
              "      <th></th>\n",
              "      <th></th>\n",
              "      <th></th>\n",
              "      <th></th>\n",
              "      <th></th>\n",
              "      <th></th>\n",
              "      <th></th>\n",
              "      <th></th>\n",
              "      <th></th>\n",
              "      <th></th>\n",
              "      <th></th>\n",
              "      <th></th>\n",
              "      <th></th>\n",
              "      <th></th>\n",
              "      <th></th>\n",
              "      <th></th>\n",
              "      <th></th>\n",
              "      <th></th>\n",
              "      <th></th>\n",
              "      <th></th>\n",
              "      <th></th>\n",
              "      <th></th>\n",
              "      <th></th>\n",
              "      <th></th>\n",
              "      <th></th>\n",
              "      <th></th>\n",
              "      <th></th>\n",
              "      <th></th>\n",
              "      <th></th>\n",
              "      <th></th>\n",
              "      <th></th>\n",
              "      <th></th>\n",
              "      <th></th>\n",
              "      <th></th>\n",
              "      <th></th>\n",
              "      <th></th>\n",
              "      <th></th>\n",
              "      <th></th>\n",
              "      <th></th>\n",
              "      <th></th>\n",
              "      <th></th>\n",
              "      <th></th>\n",
              "      <th></th>\n",
              "      <th></th>\n",
              "      <th></th>\n",
              "      <th></th>\n",
              "      <th></th>\n",
              "    </tr>\n",
              "  </thead>\n",
              "  <tbody>\n",
              "    <tr>\n",
              "      <th>114</th>\n",
              "      <td>0.0</td>\n",
              "      <td>0.0</td>\n",
              "      <td>0.0</td>\n",
              "      <td>0.0</td>\n",
              "      <td>0.0</td>\n",
              "      <td>0.0</td>\n",
              "      <td>0.0</td>\n",
              "      <td>0.0</td>\n",
              "      <td>0.0</td>\n",
              "      <td>0.0</td>\n",
              "      <td>0.0</td>\n",
              "      <td>0.0</td>\n",
              "      <td>0.0</td>\n",
              "      <td>0.0</td>\n",
              "      <td>0.0</td>\n",
              "      <td>0.0</td>\n",
              "      <td>0.0</td>\n",
              "      <td>0.0</td>\n",
              "      <td>0.0</td>\n",
              "      <td>0.0</td>\n",
              "      <td>0.0</td>\n",
              "      <td>0.0</td>\n",
              "      <td>0.0</td>\n",
              "      <td>0.0</td>\n",
              "      <td>0.0</td>\n",
              "      <td>0.0</td>\n",
              "      <td>0.0</td>\n",
              "      <td>0.0</td>\n",
              "      <td>0.0</td>\n",
              "      <td>0.0</td>\n",
              "      <td>0.0</td>\n",
              "      <td>0.0</td>\n",
              "      <td>0.0</td>\n",
              "      <td>0.0</td>\n",
              "      <td>0.0</td>\n",
              "      <td>0.0</td>\n",
              "      <td>0.0</td>\n",
              "      <td>0.0</td>\n",
              "      <td>0.0</td>\n",
              "      <td>0.0</td>\n",
              "      <td>...</td>\n",
              "      <td>0.0</td>\n",
              "      <td>0.0</td>\n",
              "      <td>0.0</td>\n",
              "      <td>0.0</td>\n",
              "      <td>0.0</td>\n",
              "      <td>0.0</td>\n",
              "      <td>0.0</td>\n",
              "      <td>0.0</td>\n",
              "      <td>0.0</td>\n",
              "      <td>0.0</td>\n",
              "      <td>0.0</td>\n",
              "      <td>0.0</td>\n",
              "      <td>0.0</td>\n",
              "      <td>0.0</td>\n",
              "      <td>0.0</td>\n",
              "      <td>0.0</td>\n",
              "      <td>0.0</td>\n",
              "      <td>0.0</td>\n",
              "      <td>0.0</td>\n",
              "      <td>0.0</td>\n",
              "      <td>0.0</td>\n",
              "      <td>0.0</td>\n",
              "      <td>0.0</td>\n",
              "      <td>0.0</td>\n",
              "      <td>0.0</td>\n",
              "      <td>0.0</td>\n",
              "      <td>0.0</td>\n",
              "      <td>0.0</td>\n",
              "      <td>0.0</td>\n",
              "      <td>0.0</td>\n",
              "      <td>0.0</td>\n",
              "      <td>0.0</td>\n",
              "      <td>0.0</td>\n",
              "      <td>0.0</td>\n",
              "      <td>0.0</td>\n",
              "      <td>0.0</td>\n",
              "      <td>0.0</td>\n",
              "      <td>0.0</td>\n",
              "      <td>0.0</td>\n",
              "      <td>0.0</td>\n",
              "    </tr>\n",
              "    <tr>\n",
              "      <th>243</th>\n",
              "      <td>0.0</td>\n",
              "      <td>0.0</td>\n",
              "      <td>0.0</td>\n",
              "      <td>0.0</td>\n",
              "      <td>0.0</td>\n",
              "      <td>0.0</td>\n",
              "      <td>0.0</td>\n",
              "      <td>0.0</td>\n",
              "      <td>0.0</td>\n",
              "      <td>0.0</td>\n",
              "      <td>0.0</td>\n",
              "      <td>0.0</td>\n",
              "      <td>0.0</td>\n",
              "      <td>0.0</td>\n",
              "      <td>0.0</td>\n",
              "      <td>0.0</td>\n",
              "      <td>0.0</td>\n",
              "      <td>0.0</td>\n",
              "      <td>0.0</td>\n",
              "      <td>0.0</td>\n",
              "      <td>0.0</td>\n",
              "      <td>0.0</td>\n",
              "      <td>0.0</td>\n",
              "      <td>0.0</td>\n",
              "      <td>0.0</td>\n",
              "      <td>0.0</td>\n",
              "      <td>0.0</td>\n",
              "      <td>0.0</td>\n",
              "      <td>0.0</td>\n",
              "      <td>0.0</td>\n",
              "      <td>0.0</td>\n",
              "      <td>0.0</td>\n",
              "      <td>0.0</td>\n",
              "      <td>0.0</td>\n",
              "      <td>0.0</td>\n",
              "      <td>0.0</td>\n",
              "      <td>0.0</td>\n",
              "      <td>0.0</td>\n",
              "      <td>0.0</td>\n",
              "      <td>0.0</td>\n",
              "      <td>...</td>\n",
              "      <td>0.0</td>\n",
              "      <td>0.0</td>\n",
              "      <td>0.0</td>\n",
              "      <td>0.0</td>\n",
              "      <td>0.0</td>\n",
              "      <td>0.0</td>\n",
              "      <td>0.0</td>\n",
              "      <td>0.0</td>\n",
              "      <td>0.0</td>\n",
              "      <td>0.0</td>\n",
              "      <td>0.0</td>\n",
              "      <td>0.0</td>\n",
              "      <td>0.0</td>\n",
              "      <td>0.0</td>\n",
              "      <td>0.0</td>\n",
              "      <td>0.0</td>\n",
              "      <td>0.0</td>\n",
              "      <td>0.0</td>\n",
              "      <td>0.0</td>\n",
              "      <td>0.0</td>\n",
              "      <td>0.0</td>\n",
              "      <td>0.0</td>\n",
              "      <td>0.0</td>\n",
              "      <td>0.0</td>\n",
              "      <td>0.0</td>\n",
              "      <td>0.0</td>\n",
              "      <td>0.0</td>\n",
              "      <td>0.0</td>\n",
              "      <td>0.0</td>\n",
              "      <td>0.0</td>\n",
              "      <td>0.0</td>\n",
              "      <td>0.0</td>\n",
              "      <td>0.0</td>\n",
              "      <td>0.0</td>\n",
              "      <td>0.0</td>\n",
              "      <td>0.0</td>\n",
              "      <td>0.0</td>\n",
              "      <td>0.0</td>\n",
              "      <td>0.0</td>\n",
              "      <td>0.0</td>\n",
              "    </tr>\n",
              "    <tr>\n",
              "      <th>244</th>\n",
              "      <td>0.0</td>\n",
              "      <td>0.0</td>\n",
              "      <td>0.0</td>\n",
              "      <td>0.0</td>\n",
              "      <td>0.0</td>\n",
              "      <td>0.0</td>\n",
              "      <td>0.0</td>\n",
              "      <td>0.0</td>\n",
              "      <td>0.0</td>\n",
              "      <td>0.0</td>\n",
              "      <td>0.0</td>\n",
              "      <td>0.0</td>\n",
              "      <td>0.0</td>\n",
              "      <td>0.0</td>\n",
              "      <td>0.0</td>\n",
              "      <td>0.0</td>\n",
              "      <td>0.0</td>\n",
              "      <td>0.0</td>\n",
              "      <td>0.0</td>\n",
              "      <td>0.0</td>\n",
              "      <td>0.0</td>\n",
              "      <td>0.0</td>\n",
              "      <td>0.0</td>\n",
              "      <td>0.0</td>\n",
              "      <td>0.0</td>\n",
              "      <td>0.0</td>\n",
              "      <td>0.0</td>\n",
              "      <td>0.0</td>\n",
              "      <td>0.0</td>\n",
              "      <td>0.0</td>\n",
              "      <td>0.0</td>\n",
              "      <td>0.0</td>\n",
              "      <td>0.0</td>\n",
              "      <td>0.0</td>\n",
              "      <td>0.0</td>\n",
              "      <td>0.0</td>\n",
              "      <td>0.0</td>\n",
              "      <td>0.0</td>\n",
              "      <td>0.0</td>\n",
              "      <td>0.0</td>\n",
              "      <td>...</td>\n",
              "      <td>0.0</td>\n",
              "      <td>0.0</td>\n",
              "      <td>0.0</td>\n",
              "      <td>0.0</td>\n",
              "      <td>0.0</td>\n",
              "      <td>0.0</td>\n",
              "      <td>0.0</td>\n",
              "      <td>0.0</td>\n",
              "      <td>0.0</td>\n",
              "      <td>0.0</td>\n",
              "      <td>0.0</td>\n",
              "      <td>0.0</td>\n",
              "      <td>0.0</td>\n",
              "      <td>0.0</td>\n",
              "      <td>0.0</td>\n",
              "      <td>0.0</td>\n",
              "      <td>0.0</td>\n",
              "      <td>0.0</td>\n",
              "      <td>0.0</td>\n",
              "      <td>0.0</td>\n",
              "      <td>0.0</td>\n",
              "      <td>0.0</td>\n",
              "      <td>0.0</td>\n",
              "      <td>0.0</td>\n",
              "      <td>0.0</td>\n",
              "      <td>0.0</td>\n",
              "      <td>0.0</td>\n",
              "      <td>0.0</td>\n",
              "      <td>0.0</td>\n",
              "      <td>0.0</td>\n",
              "      <td>0.0</td>\n",
              "      <td>0.0</td>\n",
              "      <td>0.0</td>\n",
              "      <td>0.0</td>\n",
              "      <td>0.0</td>\n",
              "      <td>0.0</td>\n",
              "      <td>0.0</td>\n",
              "      <td>0.0</td>\n",
              "      <td>0.0</td>\n",
              "      <td>0.0</td>\n",
              "    </tr>\n",
              "    <tr>\n",
              "      <th>254</th>\n",
              "      <td>0.0</td>\n",
              "      <td>0.0</td>\n",
              "      <td>0.0</td>\n",
              "      <td>0.0</td>\n",
              "      <td>0.0</td>\n",
              "      <td>0.0</td>\n",
              "      <td>0.0</td>\n",
              "      <td>0.0</td>\n",
              "      <td>0.0</td>\n",
              "      <td>0.0</td>\n",
              "      <td>0.0</td>\n",
              "      <td>0.0</td>\n",
              "      <td>0.0</td>\n",
              "      <td>0.0</td>\n",
              "      <td>0.0</td>\n",
              "      <td>0.0</td>\n",
              "      <td>0.0</td>\n",
              "      <td>0.0</td>\n",
              "      <td>0.0</td>\n",
              "      <td>0.0</td>\n",
              "      <td>0.0</td>\n",
              "      <td>0.0</td>\n",
              "      <td>0.0</td>\n",
              "      <td>0.0</td>\n",
              "      <td>0.0</td>\n",
              "      <td>0.0</td>\n",
              "      <td>0.0</td>\n",
              "      <td>0.0</td>\n",
              "      <td>0.0</td>\n",
              "      <td>0.0</td>\n",
              "      <td>0.0</td>\n",
              "      <td>0.0</td>\n",
              "      <td>0.0</td>\n",
              "      <td>0.0</td>\n",
              "      <td>0.0</td>\n",
              "      <td>0.0</td>\n",
              "      <td>0.0</td>\n",
              "      <td>0.0</td>\n",
              "      <td>0.0</td>\n",
              "      <td>0.0</td>\n",
              "      <td>...</td>\n",
              "      <td>0.0</td>\n",
              "      <td>0.0</td>\n",
              "      <td>0.0</td>\n",
              "      <td>0.0</td>\n",
              "      <td>0.0</td>\n",
              "      <td>0.0</td>\n",
              "      <td>0.0</td>\n",
              "      <td>0.0</td>\n",
              "      <td>0.0</td>\n",
              "      <td>0.0</td>\n",
              "      <td>0.0</td>\n",
              "      <td>0.0</td>\n",
              "      <td>0.0</td>\n",
              "      <td>0.0</td>\n",
              "      <td>0.0</td>\n",
              "      <td>0.0</td>\n",
              "      <td>0.0</td>\n",
              "      <td>0.0</td>\n",
              "      <td>0.0</td>\n",
              "      <td>0.0</td>\n",
              "      <td>0.0</td>\n",
              "      <td>0.0</td>\n",
              "      <td>0.0</td>\n",
              "      <td>0.0</td>\n",
              "      <td>0.0</td>\n",
              "      <td>0.0</td>\n",
              "      <td>0.0</td>\n",
              "      <td>0.0</td>\n",
              "      <td>0.0</td>\n",
              "      <td>0.0</td>\n",
              "      <td>0.0</td>\n",
              "      <td>0.0</td>\n",
              "      <td>0.0</td>\n",
              "      <td>0.0</td>\n",
              "      <td>0.0</td>\n",
              "      <td>0.0</td>\n",
              "      <td>0.0</td>\n",
              "      <td>0.0</td>\n",
              "      <td>0.0</td>\n",
              "      <td>0.0</td>\n",
              "    </tr>\n",
              "    <tr>\n",
              "      <th>388</th>\n",
              "      <td>0.0</td>\n",
              "      <td>0.0</td>\n",
              "      <td>0.0</td>\n",
              "      <td>0.0</td>\n",
              "      <td>0.0</td>\n",
              "      <td>0.0</td>\n",
              "      <td>0.0</td>\n",
              "      <td>0.0</td>\n",
              "      <td>0.0</td>\n",
              "      <td>0.0</td>\n",
              "      <td>0.0</td>\n",
              "      <td>0.0</td>\n",
              "      <td>0.0</td>\n",
              "      <td>0.0</td>\n",
              "      <td>0.0</td>\n",
              "      <td>0.0</td>\n",
              "      <td>0.0</td>\n",
              "      <td>0.0</td>\n",
              "      <td>0.0</td>\n",
              "      <td>0.0</td>\n",
              "      <td>0.0</td>\n",
              "      <td>0.0</td>\n",
              "      <td>0.0</td>\n",
              "      <td>0.0</td>\n",
              "      <td>0.0</td>\n",
              "      <td>0.0</td>\n",
              "      <td>0.0</td>\n",
              "      <td>0.0</td>\n",
              "      <td>0.0</td>\n",
              "      <td>0.0</td>\n",
              "      <td>0.0</td>\n",
              "      <td>0.0</td>\n",
              "      <td>0.0</td>\n",
              "      <td>0.0</td>\n",
              "      <td>0.0</td>\n",
              "      <td>0.0</td>\n",
              "      <td>0.0</td>\n",
              "      <td>0.0</td>\n",
              "      <td>0.0</td>\n",
              "      <td>0.0</td>\n",
              "      <td>...</td>\n",
              "      <td>0.0</td>\n",
              "      <td>0.0</td>\n",
              "      <td>0.0</td>\n",
              "      <td>0.0</td>\n",
              "      <td>0.0</td>\n",
              "      <td>0.0</td>\n",
              "      <td>0.0</td>\n",
              "      <td>0.0</td>\n",
              "      <td>0.0</td>\n",
              "      <td>0.0</td>\n",
              "      <td>0.0</td>\n",
              "      <td>0.0</td>\n",
              "      <td>0.0</td>\n",
              "      <td>0.0</td>\n",
              "      <td>0.0</td>\n",
              "      <td>0.0</td>\n",
              "      <td>0.0</td>\n",
              "      <td>0.0</td>\n",
              "      <td>0.0</td>\n",
              "      <td>0.0</td>\n",
              "      <td>0.0</td>\n",
              "      <td>0.0</td>\n",
              "      <td>0.0</td>\n",
              "      <td>0.0</td>\n",
              "      <td>0.0</td>\n",
              "      <td>0.0</td>\n",
              "      <td>0.0</td>\n",
              "      <td>0.0</td>\n",
              "      <td>0.0</td>\n",
              "      <td>0.0</td>\n",
              "      <td>0.0</td>\n",
              "      <td>0.0</td>\n",
              "      <td>0.0</td>\n",
              "      <td>0.0</td>\n",
              "      <td>0.0</td>\n",
              "      <td>0.0</td>\n",
              "      <td>0.0</td>\n",
              "      <td>0.0</td>\n",
              "      <td>0.0</td>\n",
              "      <td>0.0</td>\n",
              "    </tr>\n",
              "  </tbody>\n",
              "</table>\n",
              "<p>5 rows × 9098 columns</p>\n",
              "</div>"
            ],
            "text/plain": [
              "ISBN     0002005018  0002251760  0002259834  ...  9681500555  968150108X  9726101794\n",
              "User-ID                                      ...                                    \n",
              "114             0.0         0.0         0.0  ...         0.0         0.0         0.0\n",
              "243             0.0         0.0         0.0  ...         0.0         0.0         0.0\n",
              "244             0.0         0.0         0.0  ...         0.0         0.0         0.0\n",
              "254             0.0         0.0         0.0  ...         0.0         0.0         0.0\n",
              "388             0.0         0.0         0.0  ...         0.0         0.0         0.0\n",
              "\n",
              "[5 rows x 9098 columns]"
            ]
          },
          "metadata": {},
          "execution_count": 99
        }
      ]
    },
    {
      "cell_type": "code",
      "metadata": {
        "colab": {
          "base_uri": "https://localhost:8080/"
        },
        "id": "MBvL09gUBOCQ",
        "outputId": "42ea4587-711c-4ad9-ab12-37b6f9440c43"
      },
      "source": [
        "pivot_matrix_df.shape"
      ],
      "execution_count": 100,
      "outputs": [
        {
          "output_type": "execute_result",
          "data": {
            "text/plain": [
              "(5080, 9098)"
            ]
          },
          "metadata": {},
          "execution_count": 100
        }
      ]
    },
    {
      "cell_type": "code",
      "metadata": {
        "colab": {
          "base_uri": "https://localhost:8080/"
        },
        "id": "FlIRD5S0uaTR",
        "outputId": "29c1a896-196c-4172-e1bc-e27a72d46280"
      },
      "source": [
        "# Convert pivot table into a matrix of values\n",
        "pivot_matrix = pivot_matrix_df.values\n",
        "pivot_matrix"
      ],
      "execution_count": 101,
      "outputs": [
        {
          "output_type": "execute_result",
          "data": {
            "text/plain": [
              "array([[0., 0., 0., ..., 0., 0., 0.],\n",
              "       [0., 0., 0., ..., 0., 0., 0.],\n",
              "       [0., 0., 0., ..., 0., 0., 0.],\n",
              "       ...,\n",
              "       [0., 0., 0., ..., 0., 0., 0.],\n",
              "       [0., 0., 0., ..., 0., 0., 0.],\n",
              "       [0., 0., 0., ..., 0., 0., 0.]])"
            ]
          },
          "metadata": {},
          "execution_count": 101
        }
      ]
    },
    {
      "cell_type": "markdown",
      "metadata": {
        "id": "iPA4d2rfukXB"
      },
      "source": [
        "###Matrix factorization"
      ]
    },
    {
      "cell_type": "code",
      "metadata": {
        "id": "EXUAfNUbuePL"
      },
      "source": [
        "# The number of factors to factor the user-item matrix.\n",
        "NUMBER_OF_FACTORS_MF = 15\n",
        "\n",
        "#Performs matrix factorization of the original user item matrix\n",
        "U, sigma, Vt = svds(pivot_matrix, k = NUMBER_OF_FACTORS_MF)"
      ],
      "execution_count": 102,
      "outputs": []
    },
    {
      "cell_type": "code",
      "metadata": {
        "colab": {
          "base_uri": "https://localhost:8080/"
        },
        "id": "y-2N3jQVb6oO",
        "outputId": "3b5ac312-ad96-4dc7-fae3-9fb48cb47159"
      },
      "source": [
        "pivot_matrix.shape"
      ],
      "execution_count": 103,
      "outputs": [
        {
          "output_type": "execute_result",
          "data": {
            "text/plain": [
              "(5080, 9098)"
            ]
          },
          "metadata": {},
          "execution_count": 103
        }
      ]
    },
    {
      "cell_type": "code",
      "metadata": {
        "colab": {
          "base_uri": "https://localhost:8080/"
        },
        "id": "xDg2fDYkbvF9",
        "outputId": "d956507e-1e1b-4b89-e943-bc702b94370e"
      },
      "source": [
        "U.shape"
      ],
      "execution_count": 104,
      "outputs": [
        {
          "output_type": "execute_result",
          "data": {
            "text/plain": [
              "(5080, 15)"
            ]
          },
          "metadata": {},
          "execution_count": 104
        }
      ]
    },
    {
      "cell_type": "code",
      "metadata": {
        "colab": {
          "base_uri": "https://localhost:8080/"
        },
        "id": "oXKDHSNdby9b",
        "outputId": "dad74272-bb66-4c3e-e81f-b4c5dd9a9220"
      },
      "source": [
        "sigma.shape"
      ],
      "execution_count": 105,
      "outputs": [
        {
          "output_type": "execute_result",
          "data": {
            "text/plain": [
              "(15,)"
            ]
          },
          "metadata": {},
          "execution_count": 105
        }
      ]
    },
    {
      "cell_type": "code",
      "metadata": {
        "colab": {
          "base_uri": "https://localhost:8080/"
        },
        "id": "jlThZjPIcHug",
        "outputId": "28044c29-8ecb-4923-e4c4-a33c16933984"
      },
      "source": [
        "sigma = np.diag(sigma)\n",
        "sigma.shape"
      ],
      "execution_count": 106,
      "outputs": [
        {
          "output_type": "execute_result",
          "data": {
            "text/plain": [
              "(15, 15)"
            ]
          },
          "metadata": {},
          "execution_count": 106
        }
      ]
    },
    {
      "cell_type": "code",
      "metadata": {
        "colab": {
          "base_uri": "https://localhost:8080/"
        },
        "id": "uRyCjtx4b2TM",
        "outputId": "0dbd3c6a-4cf5-4c55-c064-bf8d41724522"
      },
      "source": [
        "Vt.shape"
      ],
      "execution_count": 107,
      "outputs": [
        {
          "output_type": "execute_result",
          "data": {
            "text/plain": [
              "(15, 9098)"
            ]
          },
          "metadata": {},
          "execution_count": 107
        }
      ]
    },
    {
      "cell_type": "code",
      "metadata": {
        "id": "Y1K4MB52uuI_"
      },
      "source": [
        "# Predict ratings for all users\n",
        "predicted_ratings = np.dot(np.dot(U, sigma), Vt) "
      ],
      "execution_count": 108,
      "outputs": []
    },
    {
      "cell_type": "code",
      "metadata": {
        "id": "Wdlx11zRuyQt"
      },
      "source": [
        "# List of user ids\n",
        "users_ids = list(pivot_matrix_df.index)"
      ],
      "execution_count": 109,
      "outputs": []
    },
    {
      "cell_type": "code",
      "metadata": {
        "colab": {
          "base_uri": "https://localhost:8080/",
          "height": 365
        },
        "id": "jkKSHmDyu4DB",
        "outputId": "c8a533a7-d31e-4d56-d2fd-af1fbcb6d530"
      },
      "source": [
        "# Convert the above matrix into dataframe\n",
        "predicted_ratings_df = pd.DataFrame(predicted_ratings,columns=pivot_matrix_df.columns,index=users_ids).transpose()\n",
        "predicted_ratings_df.head()"
      ],
      "execution_count": 110,
      "outputs": [
        {
          "output_type": "execute_result",
          "data": {
            "text/html": [
              "<div>\n",
              "<style scoped>\n",
              "    .dataframe tbody tr th:only-of-type {\n",
              "        vertical-align: middle;\n",
              "    }\n",
              "\n",
              "    .dataframe tbody tr th {\n",
              "        vertical-align: top;\n",
              "    }\n",
              "\n",
              "    .dataframe thead th {\n",
              "        text-align: right;\n",
              "    }\n",
              "</style>\n",
              "<table border=\"1\" class=\"dataframe\">\n",
              "  <thead>\n",
              "    <tr style=\"text-align: right;\">\n",
              "      <th></th>\n",
              "      <th>114</th>\n",
              "      <th>243</th>\n",
              "      <th>244</th>\n",
              "      <th>254</th>\n",
              "      <th>388</th>\n",
              "      <th>446</th>\n",
              "      <th>503</th>\n",
              "      <th>505</th>\n",
              "      <th>507</th>\n",
              "      <th>638</th>\n",
              "      <th>643</th>\n",
              "      <th>651</th>\n",
              "      <th>709</th>\n",
              "      <th>735</th>\n",
              "      <th>805</th>\n",
              "      <th>834</th>\n",
              "      <th>882</th>\n",
              "      <th>929</th>\n",
              "      <th>1025</th>\n",
              "      <th>1075</th>\n",
              "      <th>1131</th>\n",
              "      <th>1155</th>\n",
              "      <th>1167</th>\n",
              "      <th>1211</th>\n",
              "      <th>1424</th>\n",
              "      <th>1435</th>\n",
              "      <th>1548</th>\n",
              "      <th>1585</th>\n",
              "      <th>1660</th>\n",
              "      <th>1674</th>\n",
              "      <th>1733</th>\n",
              "      <th>1848</th>\n",
              "      <th>1903</th>\n",
              "      <th>2010</th>\n",
              "      <th>2012</th>\n",
              "      <th>2030</th>\n",
              "      <th>2033</th>\n",
              "      <th>2041</th>\n",
              "      <th>2110</th>\n",
              "      <th>2139</th>\n",
              "      <th>...</th>\n",
              "      <th>276313</th>\n",
              "      <th>276463</th>\n",
              "      <th>276521</th>\n",
              "      <th>276641</th>\n",
              "      <th>276670</th>\n",
              "      <th>276680</th>\n",
              "      <th>276688</th>\n",
              "      <th>276847</th>\n",
              "      <th>276939</th>\n",
              "      <th>276964</th>\n",
              "      <th>277042</th>\n",
              "      <th>277157</th>\n",
              "      <th>277195</th>\n",
              "      <th>277203</th>\n",
              "      <th>277378</th>\n",
              "      <th>277427</th>\n",
              "      <th>277478</th>\n",
              "      <th>277523</th>\n",
              "      <th>277629</th>\n",
              "      <th>277639</th>\n",
              "      <th>277710</th>\n",
              "      <th>277744</th>\n",
              "      <th>277937</th>\n",
              "      <th>277945</th>\n",
              "      <th>277965</th>\n",
              "      <th>278026</th>\n",
              "      <th>278137</th>\n",
              "      <th>278188</th>\n",
              "      <th>278194</th>\n",
              "      <th>278202</th>\n",
              "      <th>278221</th>\n",
              "      <th>278314</th>\n",
              "      <th>278356</th>\n",
              "      <th>278390</th>\n",
              "      <th>278418</th>\n",
              "      <th>278535</th>\n",
              "      <th>278554</th>\n",
              "      <th>278582</th>\n",
              "      <th>278633</th>\n",
              "      <th>278843</th>\n",
              "    </tr>\n",
              "    <tr>\n",
              "      <th>ISBN</th>\n",
              "      <th></th>\n",
              "      <th></th>\n",
              "      <th></th>\n",
              "      <th></th>\n",
              "      <th></th>\n",
              "      <th></th>\n",
              "      <th></th>\n",
              "      <th></th>\n",
              "      <th></th>\n",
              "      <th></th>\n",
              "      <th></th>\n",
              "      <th></th>\n",
              "      <th></th>\n",
              "      <th></th>\n",
              "      <th></th>\n",
              "      <th></th>\n",
              "      <th></th>\n",
              "      <th></th>\n",
              "      <th></th>\n",
              "      <th></th>\n",
              "      <th></th>\n",
              "      <th></th>\n",
              "      <th></th>\n",
              "      <th></th>\n",
              "      <th></th>\n",
              "      <th></th>\n",
              "      <th></th>\n",
              "      <th></th>\n",
              "      <th></th>\n",
              "      <th></th>\n",
              "      <th></th>\n",
              "      <th></th>\n",
              "      <th></th>\n",
              "      <th></th>\n",
              "      <th></th>\n",
              "      <th></th>\n",
              "      <th></th>\n",
              "      <th></th>\n",
              "      <th></th>\n",
              "      <th></th>\n",
              "      <th></th>\n",
              "      <th></th>\n",
              "      <th></th>\n",
              "      <th></th>\n",
              "      <th></th>\n",
              "      <th></th>\n",
              "      <th></th>\n",
              "      <th></th>\n",
              "      <th></th>\n",
              "      <th></th>\n",
              "      <th></th>\n",
              "      <th></th>\n",
              "      <th></th>\n",
              "      <th></th>\n",
              "      <th></th>\n",
              "      <th></th>\n",
              "      <th></th>\n",
              "      <th></th>\n",
              "      <th></th>\n",
              "      <th></th>\n",
              "      <th></th>\n",
              "      <th></th>\n",
              "      <th></th>\n",
              "      <th></th>\n",
              "      <th></th>\n",
              "      <th></th>\n",
              "      <th></th>\n",
              "      <th></th>\n",
              "      <th></th>\n",
              "      <th></th>\n",
              "      <th></th>\n",
              "      <th></th>\n",
              "      <th></th>\n",
              "      <th></th>\n",
              "      <th></th>\n",
              "      <th></th>\n",
              "      <th></th>\n",
              "      <th></th>\n",
              "      <th></th>\n",
              "      <th></th>\n",
              "      <th></th>\n",
              "    </tr>\n",
              "  </thead>\n",
              "  <tbody>\n",
              "    <tr>\n",
              "      <th>0002005018</th>\n",
              "      <td>-0.000641</td>\n",
              "      <td>0.000371</td>\n",
              "      <td>0.001225</td>\n",
              "      <td>0.000459</td>\n",
              "      <td>-0.000227</td>\n",
              "      <td>-0.000558</td>\n",
              "      <td>-0.000707</td>\n",
              "      <td>0.000898</td>\n",
              "      <td>-0.004600</td>\n",
              "      <td>-0.000247</td>\n",
              "      <td>1.363609e-03</td>\n",
              "      <td>0.003926</td>\n",
              "      <td>-0.000409</td>\n",
              "      <td>0.002626</td>\n",
              "      <td>0.002721</td>\n",
              "      <td>0.001236</td>\n",
              "      <td>0.000415</td>\n",
              "      <td>0.005176</td>\n",
              "      <td>-0.000608</td>\n",
              "      <td>-0.008718</td>\n",
              "      <td>0.000733</td>\n",
              "      <td>-0.000797</td>\n",
              "      <td>3.117634e-03</td>\n",
              "      <td>0.002892</td>\n",
              "      <td>0.007885</td>\n",
              "      <td>-0.001570</td>\n",
              "      <td>0.000351</td>\n",
              "      <td>0.004741</td>\n",
              "      <td>0.001848</td>\n",
              "      <td>0.004473</td>\n",
              "      <td>0.005651</td>\n",
              "      <td>0.000340</td>\n",
              "      <td>-0.000869</td>\n",
              "      <td>0.003596</td>\n",
              "      <td>0.000073</td>\n",
              "      <td>0.002675</td>\n",
              "      <td>-0.008861</td>\n",
              "      <td>0.002750</td>\n",
              "      <td>-0.000389</td>\n",
              "      <td>0.004541</td>\n",
              "      <td>...</td>\n",
              "      <td>0.000168</td>\n",
              "      <td>-0.004144</td>\n",
              "      <td>-0.000178</td>\n",
              "      <td>0.002310</td>\n",
              "      <td>-0.000510</td>\n",
              "      <td>0.009061</td>\n",
              "      <td>0.001852</td>\n",
              "      <td>0.004259</td>\n",
              "      <td>0.007705</td>\n",
              "      <td>0.001496</td>\n",
              "      <td>-0.000765</td>\n",
              "      <td>0.003219</td>\n",
              "      <td>-0.000506</td>\n",
              "      <td>0.005225</td>\n",
              "      <td>0.000703</td>\n",
              "      <td>0.017250</td>\n",
              "      <td>0.002435</td>\n",
              "      <td>0.006022</td>\n",
              "      <td>0.000026</td>\n",
              "      <td>-0.006322</td>\n",
              "      <td>0.003897</td>\n",
              "      <td>0.002483</td>\n",
              "      <td>0.000292</td>\n",
              "      <td>0.003489</td>\n",
              "      <td>-0.001249</td>\n",
              "      <td>0.011952</td>\n",
              "      <td>0.003023</td>\n",
              "      <td>0.007460</td>\n",
              "      <td>0.003667</td>\n",
              "      <td>0.001535</td>\n",
              "      <td>-0.001749</td>\n",
              "      <td>0.001464</td>\n",
              "      <td>0.000314</td>\n",
              "      <td>-0.003499</td>\n",
              "      <td>0.000510</td>\n",
              "      <td>-0.001042</td>\n",
              "      <td>-0.001678</td>\n",
              "      <td>-0.007891</td>\n",
              "      <td>-0.004309</td>\n",
              "      <td>0.001686</td>\n",
              "    </tr>\n",
              "    <tr>\n",
              "      <th>0002251760</th>\n",
              "      <td>0.002024</td>\n",
              "      <td>-0.003901</td>\n",
              "      <td>0.000404</td>\n",
              "      <td>0.012777</td>\n",
              "      <td>-0.000440</td>\n",
              "      <td>-0.000292</td>\n",
              "      <td>-0.002031</td>\n",
              "      <td>0.005138</td>\n",
              "      <td>0.003827</td>\n",
              "      <td>-0.005450</td>\n",
              "      <td>-3.716248e-04</td>\n",
              "      <td>0.000670</td>\n",
              "      <td>0.000050</td>\n",
              "      <td>-0.000228</td>\n",
              "      <td>-0.000693</td>\n",
              "      <td>0.000396</td>\n",
              "      <td>0.008333</td>\n",
              "      <td>0.001978</td>\n",
              "      <td>0.000146</td>\n",
              "      <td>-0.000062</td>\n",
              "      <td>-0.002964</td>\n",
              "      <td>-0.000190</td>\n",
              "      <td>3.998702e-05</td>\n",
              "      <td>-0.004677</td>\n",
              "      <td>-0.000359</td>\n",
              "      <td>0.000053</td>\n",
              "      <td>0.000806</td>\n",
              "      <td>0.001005</td>\n",
              "      <td>0.000944</td>\n",
              "      <td>0.000656</td>\n",
              "      <td>0.010715</td>\n",
              "      <td>-0.001074</td>\n",
              "      <td>-0.000187</td>\n",
              "      <td>0.000055</td>\n",
              "      <td>-0.004870</td>\n",
              "      <td>0.000339</td>\n",
              "      <td>0.025073</td>\n",
              "      <td>0.004868</td>\n",
              "      <td>0.006063</td>\n",
              "      <td>0.005990</td>\n",
              "      <td>...</td>\n",
              "      <td>-0.001251</td>\n",
              "      <td>0.002912</td>\n",
              "      <td>0.000799</td>\n",
              "      <td>-0.001388</td>\n",
              "      <td>-0.000603</td>\n",
              "      <td>-0.009935</td>\n",
              "      <td>0.000099</td>\n",
              "      <td>-0.000353</td>\n",
              "      <td>-0.000577</td>\n",
              "      <td>0.002448</td>\n",
              "      <td>-0.000272</td>\n",
              "      <td>0.001265</td>\n",
              "      <td>0.000377</td>\n",
              "      <td>-0.000475</td>\n",
              "      <td>0.004752</td>\n",
              "      <td>-0.001963</td>\n",
              "      <td>-0.001246</td>\n",
              "      <td>-0.001147</td>\n",
              "      <td>-0.000234</td>\n",
              "      <td>-0.000224</td>\n",
              "      <td>-0.000185</td>\n",
              "      <td>-0.000145</td>\n",
              "      <td>0.000898</td>\n",
              "      <td>0.020939</td>\n",
              "      <td>0.001220</td>\n",
              "      <td>0.004484</td>\n",
              "      <td>0.001573</td>\n",
              "      <td>0.008090</td>\n",
              "      <td>0.002808</td>\n",
              "      <td>0.001599</td>\n",
              "      <td>-0.001718</td>\n",
              "      <td>0.000318</td>\n",
              "      <td>0.004260</td>\n",
              "      <td>0.000245</td>\n",
              "      <td>0.015765</td>\n",
              "      <td>-0.007237</td>\n",
              "      <td>-0.000059</td>\n",
              "      <td>0.009003</td>\n",
              "      <td>-0.001445</td>\n",
              "      <td>0.005089</td>\n",
              "    </tr>\n",
              "    <tr>\n",
              "      <th>0002259834</th>\n",
              "      <td>0.000248</td>\n",
              "      <td>0.000139</td>\n",
              "      <td>0.000300</td>\n",
              "      <td>-0.001135</td>\n",
              "      <td>0.000141</td>\n",
              "      <td>0.000048</td>\n",
              "      <td>0.000057</td>\n",
              "      <td>-0.000113</td>\n",
              "      <td>-0.000262</td>\n",
              "      <td>-0.000301</td>\n",
              "      <td>7.904966e-07</td>\n",
              "      <td>0.000022</td>\n",
              "      <td>-0.000073</td>\n",
              "      <td>0.000049</td>\n",
              "      <td>0.001228</td>\n",
              "      <td>0.000010</td>\n",
              "      <td>0.000621</td>\n",
              "      <td>0.000113</td>\n",
              "      <td>0.000494</td>\n",
              "      <td>0.000135</td>\n",
              "      <td>0.000265</td>\n",
              "      <td>-0.000076</td>\n",
              "      <td>-4.187575e-07</td>\n",
              "      <td>-0.000366</td>\n",
              "      <td>0.000201</td>\n",
              "      <td>0.000192</td>\n",
              "      <td>0.000239</td>\n",
              "      <td>0.000651</td>\n",
              "      <td>-0.000044</td>\n",
              "      <td>-0.000014</td>\n",
              "      <td>-0.000047</td>\n",
              "      <td>0.000128</td>\n",
              "      <td>-0.000040</td>\n",
              "      <td>-0.000011</td>\n",
              "      <td>0.000026</td>\n",
              "      <td>0.000073</td>\n",
              "      <td>-0.002313</td>\n",
              "      <td>0.000037</td>\n",
              "      <td>-0.000036</td>\n",
              "      <td>-0.000021</td>\n",
              "      <td>...</td>\n",
              "      <td>-0.000088</td>\n",
              "      <td>0.000258</td>\n",
              "      <td>0.000003</td>\n",
              "      <td>0.000232</td>\n",
              "      <td>-0.000098</td>\n",
              "      <td>-0.000691</td>\n",
              "      <td>0.000231</td>\n",
              "      <td>-0.000017</td>\n",
              "      <td>-0.000028</td>\n",
              "      <td>-0.000285</td>\n",
              "      <td>0.000298</td>\n",
              "      <td>0.000019</td>\n",
              "      <td>-0.000013</td>\n",
              "      <td>-0.000058</td>\n",
              "      <td>0.001028</td>\n",
              "      <td>0.000779</td>\n",
              "      <td>0.000225</td>\n",
              "      <td>-0.000250</td>\n",
              "      <td>-0.000017</td>\n",
              "      <td>-0.000467</td>\n",
              "      <td>-0.000049</td>\n",
              "      <td>-0.000143</td>\n",
              "      <td>0.000367</td>\n",
              "      <td>0.000025</td>\n",
              "      <td>0.000128</td>\n",
              "      <td>-0.000261</td>\n",
              "      <td>-0.000177</td>\n",
              "      <td>-0.000002</td>\n",
              "      <td>0.000534</td>\n",
              "      <td>-0.000090</td>\n",
              "      <td>-0.000172</td>\n",
              "      <td>0.000087</td>\n",
              "      <td>-0.000394</td>\n",
              "      <td>0.000074</td>\n",
              "      <td>-0.000142</td>\n",
              "      <td>-0.000146</td>\n",
              "      <td>-0.000056</td>\n",
              "      <td>-0.000091</td>\n",
              "      <td>0.000010</td>\n",
              "      <td>-0.000022</td>\n",
              "    </tr>\n",
              "    <tr>\n",
              "      <th>000648302X</th>\n",
              "      <td>-0.002175</td>\n",
              "      <td>-0.003124</td>\n",
              "      <td>0.001968</td>\n",
              "      <td>0.005321</td>\n",
              "      <td>-0.000329</td>\n",
              "      <td>-0.000456</td>\n",
              "      <td>0.001150</td>\n",
              "      <td>0.006104</td>\n",
              "      <td>-0.004299</td>\n",
              "      <td>-0.000448</td>\n",
              "      <td>1.831780e-03</td>\n",
              "      <td>0.004849</td>\n",
              "      <td>-0.001644</td>\n",
              "      <td>0.002002</td>\n",
              "      <td>0.000738</td>\n",
              "      <td>0.000668</td>\n",
              "      <td>0.003527</td>\n",
              "      <td>0.007146</td>\n",
              "      <td>-0.000087</td>\n",
              "      <td>-0.015328</td>\n",
              "      <td>-0.001866</td>\n",
              "      <td>-0.000808</td>\n",
              "      <td>3.555729e-03</td>\n",
              "      <td>0.001397</td>\n",
              "      <td>0.005751</td>\n",
              "      <td>0.000766</td>\n",
              "      <td>0.001639</td>\n",
              "      <td>0.006043</td>\n",
              "      <td>0.002643</td>\n",
              "      <td>0.006896</td>\n",
              "      <td>0.006096</td>\n",
              "      <td>0.010074</td>\n",
              "      <td>-0.000339</td>\n",
              "      <td>0.004122</td>\n",
              "      <td>0.003324</td>\n",
              "      <td>0.003289</td>\n",
              "      <td>0.003191</td>\n",
              "      <td>0.002476</td>\n",
              "      <td>0.006088</td>\n",
              "      <td>0.003242</td>\n",
              "      <td>...</td>\n",
              "      <td>0.001829</td>\n",
              "      <td>-0.001276</td>\n",
              "      <td>0.002256</td>\n",
              "      <td>0.001972</td>\n",
              "      <td>-0.003588</td>\n",
              "      <td>0.002655</td>\n",
              "      <td>0.001971</td>\n",
              "      <td>0.004214</td>\n",
              "      <td>0.007484</td>\n",
              "      <td>0.011344</td>\n",
              "      <td>-0.000337</td>\n",
              "      <td>0.002585</td>\n",
              "      <td>-0.000241</td>\n",
              "      <td>0.005256</td>\n",
              "      <td>-0.002114</td>\n",
              "      <td>0.024284</td>\n",
              "      <td>0.003411</td>\n",
              "      <td>0.005016</td>\n",
              "      <td>0.000816</td>\n",
              "      <td>-0.001919</td>\n",
              "      <td>0.004155</td>\n",
              "      <td>0.003745</td>\n",
              "      <td>-0.001064</td>\n",
              "      <td>0.000853</td>\n",
              "      <td>-0.000996</td>\n",
              "      <td>0.010480</td>\n",
              "      <td>0.011455</td>\n",
              "      <td>0.006112</td>\n",
              "      <td>0.002275</td>\n",
              "      <td>0.002047</td>\n",
              "      <td>0.000411</td>\n",
              "      <td>0.001460</td>\n",
              "      <td>-0.003798</td>\n",
              "      <td>-0.004956</td>\n",
              "      <td>0.007045</td>\n",
              "      <td>0.000931</td>\n",
              "      <td>-0.002014</td>\n",
              "      <td>-0.003012</td>\n",
              "      <td>-0.005686</td>\n",
              "      <td>0.000314</td>\n",
              "    </tr>\n",
              "    <tr>\n",
              "      <th>000649840X</th>\n",
              "      <td>0.000840</td>\n",
              "      <td>0.007290</td>\n",
              "      <td>0.002969</td>\n",
              "      <td>-0.005599</td>\n",
              "      <td>0.000593</td>\n",
              "      <td>-0.000066</td>\n",
              "      <td>0.001062</td>\n",
              "      <td>0.000385</td>\n",
              "      <td>0.002947</td>\n",
              "      <td>-0.001539</td>\n",
              "      <td>1.476039e-03</td>\n",
              "      <td>0.003712</td>\n",
              "      <td>-0.001311</td>\n",
              "      <td>0.002759</td>\n",
              "      <td>0.013939</td>\n",
              "      <td>0.001581</td>\n",
              "      <td>0.002569</td>\n",
              "      <td>0.006129</td>\n",
              "      <td>0.003491</td>\n",
              "      <td>-0.002399</td>\n",
              "      <td>0.007543</td>\n",
              "      <td>-0.000522</td>\n",
              "      <td>3.111074e-03</td>\n",
              "      <td>0.000672</td>\n",
              "      <td>0.010689</td>\n",
              "      <td>0.000344</td>\n",
              "      <td>0.004745</td>\n",
              "      <td>0.005061</td>\n",
              "      <td>0.002068</td>\n",
              "      <td>0.005280</td>\n",
              "      <td>0.006643</td>\n",
              "      <td>0.003163</td>\n",
              "      <td>-0.000279</td>\n",
              "      <td>0.003781</td>\n",
              "      <td>0.002650</td>\n",
              "      <td>0.003633</td>\n",
              "      <td>-0.020374</td>\n",
              "      <td>0.002627</td>\n",
              "      <td>-0.000672</td>\n",
              "      <td>0.005109</td>\n",
              "      <td>...</td>\n",
              "      <td>0.002960</td>\n",
              "      <td>-0.002746</td>\n",
              "      <td>0.000280</td>\n",
              "      <td>0.005756</td>\n",
              "      <td>-0.002367</td>\n",
              "      <td>0.012279</td>\n",
              "      <td>0.002484</td>\n",
              "      <td>0.004072</td>\n",
              "      <td>0.007449</td>\n",
              "      <td>0.001573</td>\n",
              "      <td>-0.000205</td>\n",
              "      <td>0.002888</td>\n",
              "      <td>0.001251</td>\n",
              "      <td>0.005287</td>\n",
              "      <td>0.005637</td>\n",
              "      <td>0.022241</td>\n",
              "      <td>0.002567</td>\n",
              "      <td>0.006063</td>\n",
              "      <td>0.000901</td>\n",
              "      <td>-0.005329</td>\n",
              "      <td>0.003977</td>\n",
              "      <td>0.002619</td>\n",
              "      <td>0.002914</td>\n",
              "      <td>0.004229</td>\n",
              "      <td>0.003148</td>\n",
              "      <td>0.018568</td>\n",
              "      <td>0.004638</td>\n",
              "      <td>0.008063</td>\n",
              "      <td>0.005916</td>\n",
              "      <td>0.002218</td>\n",
              "      <td>-0.000124</td>\n",
              "      <td>0.001478</td>\n",
              "      <td>-0.003291</td>\n",
              "      <td>-0.001488</td>\n",
              "      <td>0.000701</td>\n",
              "      <td>0.002309</td>\n",
              "      <td>-0.001223</td>\n",
              "      <td>0.002689</td>\n",
              "      <td>-0.004595</td>\n",
              "      <td>0.001855</td>\n",
              "    </tr>\n",
              "  </tbody>\n",
              "</table>\n",
              "<p>5 rows × 5080 columns</p>\n",
              "</div>"
            ],
            "text/plain": [
              "              114       243       244     ...    278582    278633    278843\n",
              "ISBN                                      ...                              \n",
              "0002005018 -0.000641  0.000371  0.001225  ... -0.007891 -0.004309  0.001686\n",
              "0002251760  0.002024 -0.003901  0.000404  ...  0.009003 -0.001445  0.005089\n",
              "0002259834  0.000248  0.000139  0.000300  ... -0.000091  0.000010 -0.000022\n",
              "000648302X -0.002175 -0.003124  0.001968  ... -0.003012 -0.005686  0.000314\n",
              "000649840X  0.000840  0.007290  0.002969  ...  0.002689 -0.004595  0.001855\n",
              "\n",
              "[5 rows x 5080 columns]"
            ]
          },
          "metadata": {},
          "execution_count": 110
        }
      ]
    },
    {
      "cell_type": "code",
      "metadata": {
        "colab": {
          "base_uri": "https://localhost:8080/"
        },
        "id": "SjaELJ_PPZJg",
        "outputId": "09a48bdf-3c86-40fc-fa35-602b79174a63"
      },
      "source": [
        "predicted_ratings_df.shape"
      ],
      "execution_count": 111,
      "outputs": [
        {
          "output_type": "execute_result",
          "data": {
            "text/plain": [
              "(9098, 5080)"
            ]
          },
          "metadata": {},
          "execution_count": 111
        }
      ]
    },
    {
      "cell_type": "code",
      "metadata": {
        "_cell_guid": "80f4d589-c8de-4fcf-b60e-e4576fe0b23a",
        "_uuid": "d25926c1a7bada2dee4aacefc93da38053341189",
        "id": "BawYJd8HOlwL"
      },
      "source": [
        "# Build Recommendet class\n",
        "class CFRecommender:\n",
        "    \n",
        "    MODEL_NAME = 'Collaborative Filtering'\n",
        "    \n",
        "    def __init__(self, cf_predictions_df, items_df=None):\n",
        "        self.cf_predictions_df = cf_predictions_df\n",
        "        self.items_df = items_df\n",
        "        \n",
        "    def get_model_name(self):\n",
        "        return self.MODEL_NAME\n",
        "        \n",
        "    def recommend_items(self, user_id, items_to_ignore=[], topn=10, verbose=False):\n",
        "        # Get and sort the user's predictions\n",
        "        sorted_user_predictions = self.cf_predictions_df[user_id].sort_values(ascending=False).reset_index().rename(columns={user_id: 'recStrength'})\n",
        "\n",
        "        # Recommend the highest predicted rating content that the user hasn't seen yet.\n",
        "        recommendations_df = sorted_user_predictions[~sorted_user_predictions['ISBN'].isin(items_to_ignore)].sort_values('recStrength', ascending = False).head(topn)\n",
        "\n",
        "        if verbose:\n",
        "            if self.items_df is None:\n",
        "                raise Exception('\"items_df\" is required in verbose mode')\n",
        "\n",
        "            recommendations_df = recommendations_df.merge(self.items_df, how = 'left', \n",
        "                                                          left_on = 'ISBN', \n",
        "                                                          right_on = 'ISBN')[['recStrength', 'Book-Title']]\n",
        "\n",
        "\n",
        "        return recommendations_df\n",
        "    "
      ],
      "execution_count": 112,
      "outputs": []
    },
    {
      "cell_type": "code",
      "metadata": {
        "id": "xlL0g_9dvDkv"
      },
      "source": [
        "# Create an object for the recommender\n",
        "cf_recommender_model = CFRecommender(predicted_ratings_df,books_df)"
      ],
      "execution_count": 195,
      "outputs": []
    },
    {
      "cell_type": "code",
      "metadata": {
        "colab": {
          "base_uri": "https://localhost:8080/",
          "height": 356
        },
        "id": "sOV0zAZR8VSu",
        "outputId": "913faaae-c289-4fa3-e0cf-073080024f77"
      },
      "source": [
        "# Recommend books \n",
        "cf_recommender_model.recommend_items(243,verbose=True)"
      ],
      "execution_count": 197,
      "outputs": [
        {
          "output_type": "execute_result",
          "data": {
            "text/html": [
              "<div>\n",
              "<style scoped>\n",
              "    .dataframe tbody tr th:only-of-type {\n",
              "        vertical-align: middle;\n",
              "    }\n",
              "\n",
              "    .dataframe tbody tr th {\n",
              "        vertical-align: top;\n",
              "    }\n",
              "\n",
              "    .dataframe thead th {\n",
              "        text-align: right;\n",
              "    }\n",
              "</style>\n",
              "<table border=\"1\" class=\"dataframe\">\n",
              "  <thead>\n",
              "    <tr style=\"text-align: right;\">\n",
              "      <th></th>\n",
              "      <th>recStrength</th>\n",
              "      <th>Book-Title</th>\n",
              "    </tr>\n",
              "  </thead>\n",
              "  <tbody>\n",
              "    <tr>\n",
              "      <th>0</th>\n",
              "      <td>0.350777</td>\n",
              "      <td>The Lovely Bones: A Novel</td>\n",
              "    </tr>\n",
              "    <tr>\n",
              "      <th>1</th>\n",
              "      <td>0.287132</td>\n",
              "      <td>The Secret Life of Bees</td>\n",
              "    </tr>\n",
              "    <tr>\n",
              "      <th>2</th>\n",
              "      <td>0.253045</td>\n",
              "      <td>The Pilot's Wife : A Novel</td>\n",
              "    </tr>\n",
              "    <tr>\n",
              "      <th>3</th>\n",
              "      <td>0.247087</td>\n",
              "      <td>The Red Tent (Bestselling Backlist)</td>\n",
              "    </tr>\n",
              "    <tr>\n",
              "      <th>4</th>\n",
              "      <td>0.231288</td>\n",
              "      <td>Where the Heart Is (Oprah's Book Club (Paperba...</td>\n",
              "    </tr>\n",
              "    <tr>\n",
              "      <th>5</th>\n",
              "      <td>0.208841</td>\n",
              "      <td>Divine Secrets of the Ya-Ya Sisterhood: A Novel</td>\n",
              "    </tr>\n",
              "    <tr>\n",
              "      <th>6</th>\n",
              "      <td>0.189935</td>\n",
              "      <td>Good in Bed</td>\n",
              "    </tr>\n",
              "    <tr>\n",
              "      <th>7</th>\n",
              "      <td>0.178603</td>\n",
              "      <td>Angels &amp;amp; Demons</td>\n",
              "    </tr>\n",
              "    <tr>\n",
              "      <th>8</th>\n",
              "      <td>0.163191</td>\n",
              "      <td>The No. 1 Ladies' Detective Agency (Today Show...</td>\n",
              "    </tr>\n",
              "    <tr>\n",
              "      <th>9</th>\n",
              "      <td>0.160097</td>\n",
              "      <td>Bel Canto: A Novel</td>\n",
              "    </tr>\n",
              "  </tbody>\n",
              "</table>\n",
              "</div>"
            ],
            "text/plain": [
              "   recStrength                                         Book-Title\n",
              "0     0.350777                          The Lovely Bones: A Novel\n",
              "1     0.287132                            The Secret Life of Bees\n",
              "2     0.253045                         The Pilot's Wife : A Novel\n",
              "3     0.247087                The Red Tent (Bestselling Backlist)\n",
              "4     0.231288  Where the Heart Is (Oprah's Book Club (Paperba...\n",
              "5     0.208841    Divine Secrets of the Ya-Ya Sisterhood: A Novel\n",
              "6     0.189935                                        Good in Bed\n",
              "7     0.178603                                Angels &amp; Demons\n",
              "8     0.163191  The No. 1 Ladies' Detective Agency (Today Show...\n",
              "9     0.160097                                 Bel Canto: A Novel"
            ]
          },
          "metadata": {},
          "execution_count": 197
        }
      ]
    },
    {
      "cell_type": "markdown",
      "metadata": {
        "id": "avVUhXepRf7j"
      },
      "source": [
        "###Model Evaluation"
      ]
    },
    {
      "cell_type": "code",
      "metadata": {
        "id": "760GOpEZIh41"
      },
      "source": [
        "#Indexing by personId to speed up the searches during evaluation\n",
        "interactions_full_indexed_df = interactions_full_df.set_index('User-ID')\n",
        "interactions_train_indexed_df = interactions_train_df.set_index('User-ID')\n",
        "interactions_test_indexed_df = interactions_test_df.set_index('User-ID')"
      ],
      "execution_count": 198,
      "outputs": []
    },
    {
      "cell_type": "code",
      "metadata": {
        "id": "6Lt2dt9vmfpM"
      },
      "source": [
        ""
      ],
      "execution_count": 198,
      "outputs": []
    },
    {
      "cell_type": "code",
      "metadata": {
        "_cell_guid": "3ee4bdf5-fcde-418f-accc-c51421a71d75",
        "_uuid": "4c008550d5312b45c1786407cce587eaf19b565c",
        "id": "o3q2qRoEOlwM"
      },
      "source": [
        "def get_items_interacted(person_id, interactions_df):\n",
        "    interacted_items = interactions_df.loc[person_id]['ISBN']\n",
        "    return set(interacted_items if type(interacted_items) == pd.Series else [interacted_items])"
      ],
      "execution_count": 199,
      "outputs": []
    },
    {
      "cell_type": "code",
      "metadata": {
        "_cell_guid": "0e0639e7-4041-473d-a090-cd0087ce92c3",
        "_uuid": "c9612b159a8d626fe986586230b829ce2e93aff7",
        "id": "fNI6CqG9OlwM"
      },
      "source": [
        "#Top-N accuracy metrics consts\n",
        "EVAL_RANDOM_SAMPLE_NON_INTERACTED_ITEMS = 100\n",
        "\n",
        "class ModelEvaluator:\n",
        "\n",
        "    # Function for getting the set of items which a user has not interacted with\n",
        "    def get_not_interacted_items_sample(self, person_id, sample_size, seed=42):\n",
        "        interacted_items = get_items_interacted(person_id, interactions_full_indexed_df)\n",
        "        all_items = set(books_df['ISBN'])\n",
        "        non_interacted_items = all_items - interacted_items\n",
        "\n",
        "        random.seed(seed,version=2)\n",
        "        non_interacted_items_sample = random.sample(non_interacted_items, sample_size)\n",
        "        return set(non_interacted_items_sample)\n",
        "\n",
        "    # Function to verify whether a particular item_id was present in the set of top N recommended items\n",
        "    def _verify_hit_top_n(self, item_id, recommended_items, topn):        \n",
        "            try:\n",
        "                index = next(i for i, c in enumerate(recommended_items) if c == item_id)\n",
        "            except:\n",
        "                index = -1\n",
        "            hit = int(index in range(0, topn))\n",
        "            return hit, index\n",
        "    \n",
        "    # Function to evaluate the performance of model for each user\n",
        "    def evaluate_model_for_user(self, model, person_id):\n",
        "        \n",
        "        # Getting the items in test set\n",
        "        interacted_values_testset = interactions_test_indexed_df.loc[person_id]\n",
        "        \n",
        "        if type(interacted_values_testset['ISBN']) == pd.Series:\n",
        "            person_interacted_items_testset = set(interacted_values_testset['ISBN'])\n",
        "        else:\n",
        "            person_interacted_items_testset = set([(interacted_values_testset['ISBN'])])\n",
        "            \n",
        "        interacted_items_count_testset = len(person_interacted_items_testset) \n",
        "\n",
        "        # Getting a ranked recommendation list from the model for a given user\n",
        "        person_recs_df = model.recommend_items(person_id, items_to_ignore=get_items_interacted(person_id, interactions_train_indexed_df),topn=10000000000)\n",
        "\n",
        "        hits_at_5_count = 0\n",
        "        hits_at_10_count = 0\n",
        "        \n",
        "        # For each item the user has interacted in test set\n",
        "        for item_id in person_interacted_items_testset:\n",
        "            \n",
        "            # Getting a random sample of 100 items the user has not interacted with\n",
        "            non_interacted_items_sample = self.get_not_interacted_items_sample(person_id, sample_size=EVAL_RANDOM_SAMPLE_NON_INTERACTED_ITEMS, seed=person_id%(2**32))\n",
        "\n",
        "            # Combining the current interacted item with the 100 random items\n",
        "            items_to_filter_recs = non_interacted_items_sample.union(set([item_id]))\n",
        "\n",
        "            # Filtering only recommendations that are either the interacted item or from a random sample of 100 non-interacted items\n",
        "            valid_recs_df = person_recs_df[person_recs_df['ISBN'].isin(items_to_filter_recs)]                    \n",
        "            valid_recs = valid_recs_df['ISBN'].values\n",
        "            \n",
        "            # Verifying if the current interacted item is among the Top-N recommended items\n",
        "            hit_at_5, index_at_5 = self._verify_hit_top_n(item_id, valid_recs, 5)\n",
        "            hits_at_5_count += hit_at_5\n",
        "            hit_at_10, index_at_10 = self._verify_hit_top_n(item_id, valid_recs, 10)\n",
        "            hits_at_10_count += hit_at_10\n",
        "\n",
        "        # Recall is the rate of the interacted items that are ranked among the Top-N recommended items\n",
        "        recall_at_5 = hits_at_5_count / float(interacted_items_count_testset)\n",
        "        recall_at_10 = hits_at_10_count / float(interacted_items_count_testset)\n",
        "\n",
        "        person_metrics = {'hits@5_count':hits_at_5_count, \n",
        "                          'hits@10_count':hits_at_10_count, \n",
        "                          'interacted_count': interacted_items_count_testset,\n",
        "                          'recall@5': recall_at_5,\n",
        "                          'recall@10': recall_at_10}\n",
        "        return person_metrics\n",
        "\n",
        "    \n",
        "    # Function to evaluate the performance of model at overall level\n",
        "    def evaluate_model(self, model):\n",
        "        \n",
        "        people_metrics = []\n",
        "        \n",
        "        for idx, person_id in enumerate(list(interactions_test_indexed_df.index.unique().values)):    \n",
        "            person_metrics = self.evaluate_model_for_user(model, person_id)  \n",
        "            person_metrics['_person_id'] = person_id\n",
        "            people_metrics.append(person_metrics)\n",
        "            \n",
        "        print('%d users processed' % idx)\n",
        "\n",
        "        detailed_results_df = pd.DataFrame(people_metrics).sort_values('interacted_count', ascending=False)\n",
        "        \n",
        "        global_recall_at_5 = detailed_results_df['hits@5_count'].sum() / float(detailed_results_df['interacted_count'].sum())\n",
        "        global_recall_at_10 = detailed_results_df['hits@10_count'].sum() / float(detailed_results_df['interacted_count'].sum())\n",
        "        \n",
        "        global_metrics = {'modelName': model.get_model_name(),\n",
        "                          'recall@5': global_recall_at_5,\n",
        "                          'recall@10': global_recall_at_10}    \n",
        "        return global_metrics, detailed_results_df\n",
        "    \n",
        "model_evaluator = ModelEvaluator()    "
      ],
      "execution_count": 202,
      "outputs": []
    },
    {
      "cell_type": "code",
      "metadata": {
        "_cell_guid": "f4a2af7e-d368-432d-9ec5-d9229caf208a",
        "_uuid": "d80d307ff6b740b134ac2186f2659d468d3c2655",
        "scrolled": true,
        "id": "GZTQjpEGOlwN",
        "colab": {
          "base_uri": "https://localhost:8080/",
          "height": 440
        },
        "outputId": "20742b32-06cc-4882-9c83-ceb210cb1bcc"
      },
      "source": [
        "print('Evaluating Collaborative Filtering (SVD Matrix Factorization) model...')\n",
        "cf_global_metrics, cf_detailed_results_df = model_evaluator.evaluate_model(cf_recommender_model)\n",
        "\n",
        "print('\\nGlobal metrics:\\n%s' % cf_global_metrics)\n",
        "cf_detailed_results_df.head(10)"
      ],
      "execution_count": 203,
      "outputs": [
        {
          "output_type": "stream",
          "name": "stdout",
          "text": [
            "Evaluating Collaborative Filtering (SVD Matrix Factorization) model...\n",
            "5489 users processed\n",
            "\n",
            "Global metrics:\n",
            "{'modelName': 'Collaborative Filtering', 'recall@5': 0.9408301019675427, 'recall@10': 0.9912872803868065}\n"
          ]
        },
        {
          "output_type": "execute_result",
          "data": {
            "text/html": [
              "<div>\n",
              "<style scoped>\n",
              "    .dataframe tbody tr th:only-of-type {\n",
              "        vertical-align: middle;\n",
              "    }\n",
              "\n",
              "    .dataframe tbody tr th {\n",
              "        vertical-align: top;\n",
              "    }\n",
              "\n",
              "    .dataframe thead th {\n",
              "        text-align: right;\n",
              "    }\n",
              "</style>\n",
              "<table border=\"1\" class=\"dataframe\">\n",
              "  <thead>\n",
              "    <tr style=\"text-align: right;\">\n",
              "      <th></th>\n",
              "      <th>hits@5_count</th>\n",
              "      <th>hits@10_count</th>\n",
              "      <th>interacted_count</th>\n",
              "      <th>recall@5</th>\n",
              "      <th>recall@10</th>\n",
              "      <th>_person_id</th>\n",
              "    </tr>\n",
              "  </thead>\n",
              "  <tbody>\n",
              "    <tr>\n",
              "      <th>2</th>\n",
              "      <td>516</td>\n",
              "      <td>516</td>\n",
              "      <td>531</td>\n",
              "      <td>0.971751</td>\n",
              "      <td>0.971751</td>\n",
              "      <td>11676</td>\n",
              "    </tr>\n",
              "    <tr>\n",
              "      <th>267</th>\n",
              "      <td>154</td>\n",
              "      <td>160</td>\n",
              "      <td>160</td>\n",
              "      <td>0.962500</td>\n",
              "      <td>1.000000</td>\n",
              "      <td>98391</td>\n",
              "    </tr>\n",
              "    <tr>\n",
              "      <th>122</th>\n",
              "      <td>93</td>\n",
              "      <td>93</td>\n",
              "      <td>94</td>\n",
              "      <td>0.989362</td>\n",
              "      <td>0.989362</td>\n",
              "      <td>153662</td>\n",
              "    </tr>\n",
              "    <tr>\n",
              "      <th>164</th>\n",
              "      <td>75</td>\n",
              "      <td>75</td>\n",
              "      <td>76</td>\n",
              "      <td>0.986842</td>\n",
              "      <td>0.986842</td>\n",
              "      <td>16795</td>\n",
              "    </tr>\n",
              "    <tr>\n",
              "      <th>18</th>\n",
              "      <td>47</td>\n",
              "      <td>68</td>\n",
              "      <td>69</td>\n",
              "      <td>0.681159</td>\n",
              "      <td>0.985507</td>\n",
              "      <td>95359</td>\n",
              "    </tr>\n",
              "    <tr>\n",
              "      <th>256</th>\n",
              "      <td>69</td>\n",
              "      <td>69</td>\n",
              "      <td>69</td>\n",
              "      <td>1.000000</td>\n",
              "      <td>1.000000</td>\n",
              "      <td>114368</td>\n",
              "    </tr>\n",
              "    <tr>\n",
              "      <th>95</th>\n",
              "      <td>57</td>\n",
              "      <td>57</td>\n",
              "      <td>57</td>\n",
              "      <td>1.000000</td>\n",
              "      <td>1.000000</td>\n",
              "      <td>104636</td>\n",
              "    </tr>\n",
              "    <tr>\n",
              "      <th>0</th>\n",
              "      <td>54</td>\n",
              "      <td>56</td>\n",
              "      <td>56</td>\n",
              "      <td>0.964286</td>\n",
              "      <td>1.000000</td>\n",
              "      <td>123883</td>\n",
              "    </tr>\n",
              "    <tr>\n",
              "      <th>974</th>\n",
              "      <td>46</td>\n",
              "      <td>50</td>\n",
              "      <td>52</td>\n",
              "      <td>0.884615</td>\n",
              "      <td>0.961538</td>\n",
              "      <td>235105</td>\n",
              "    </tr>\n",
              "    <tr>\n",
              "      <th>61</th>\n",
              "      <td>41</td>\n",
              "      <td>50</td>\n",
              "      <td>51</td>\n",
              "      <td>0.803922</td>\n",
              "      <td>0.980392</td>\n",
              "      <td>35859</td>\n",
              "    </tr>\n",
              "  </tbody>\n",
              "</table>\n",
              "</div>"
            ],
            "text/plain": [
              "     hits@5_count  hits@10_count  ...  recall@10  _person_id\n",
              "2             516            516  ...   0.971751       11676\n",
              "267           154            160  ...   1.000000       98391\n",
              "122            93             93  ...   0.989362      153662\n",
              "164            75             75  ...   0.986842       16795\n",
              "18             47             68  ...   0.985507       95359\n",
              "256            69             69  ...   1.000000      114368\n",
              "95             57             57  ...   1.000000      104636\n",
              "0              54             56  ...   1.000000      123883\n",
              "974            46             50  ...   0.961538      235105\n",
              "61             41             50  ...   0.980392       35859\n",
              "\n",
              "[10 rows x 6 columns]"
            ]
          },
          "metadata": {},
          "execution_count": 203
        }
      ]
    },
    {
      "cell_type": "markdown",
      "metadata": {
        "id": "_9mZx4rMtMpn"
      },
      "source": [
        "##<b>Recommendations for implicit case ( Ratings=0)</b>"
      ]
    },
    {
      "cell_type": "markdown",
      "metadata": {
        "id": "H58PpDGSMF2P"
      },
      "source": [
        "#### 1. Implicit ratings are those ratings in our dataset wherein the users have not directly expressed their ratings for purchased books.\n",
        "\n",
        "#### 2. In that case we can not know the exact preferences of a user regarding these books.\n",
        "\n",
        "#### 3. For such users we have decided to build a recommendation system using the criteria of Age as relevance for the recommendations."
      ]
    },
    {
      "cell_type": "code",
      "metadata": {
        "colab": {
          "base_uri": "https://localhost:8080/"
        },
        "id": "m0S0ahM2tMS8",
        "outputId": "261d3c99-c11a-46fb-adfa-f2ee670dbf2a"
      },
      "source": [
        "# Dataframe of users\n",
        "user_df.shape"
      ],
      "execution_count": 113,
      "outputs": [
        {
          "output_type": "execute_result",
          "data": {
            "text/plain": [
              "(278858, 4)"
            ]
          },
          "metadata": {},
          "execution_count": 113
        }
      ]
    },
    {
      "cell_type": "code",
      "metadata": {
        "colab": {
          "base_uri": "https://localhost:8080/"
        },
        "id": "DSv5BnB2m5ER",
        "outputId": "73beda3c-8211-4380-b54b-7a0f5f2775e5"
      },
      "source": [
        "# Dataframe of ratings\n",
        "ratings_df.shape"
      ],
      "execution_count": 114,
      "outputs": [
        {
          "output_type": "execute_result",
          "data": {
            "text/plain": [
              "(1149780, 3)"
            ]
          },
          "metadata": {},
          "execution_count": 114
        }
      ]
    },
    {
      "cell_type": "code",
      "metadata": {
        "colab": {
          "base_uri": "https://localhost:8080/"
        },
        "id": "xbPEmjV9s-8J",
        "outputId": "9f534dfb-7281-404b-ad0d-62e68f4e493e"
      },
      "source": [
        "# new_books_df is a books dataframe without duplications\n",
        "books_df.shape,new_book_df.shape"
      ],
      "execution_count": 115,
      "outputs": [
        {
          "output_type": "execute_result",
          "data": {
            "text/plain": [
              "((271360, 6), (251185, 2))"
            ]
          },
          "metadata": {},
          "execution_count": 115
        }
      ]
    },
    {
      "cell_type": "code",
      "metadata": {
        "id": "xqB3Tq2hs-y-"
      },
      "source": [
        "# Merge all the three dataframes to get a single \n",
        "data = pd.merge(user_df,ratings_df,on='User-ID')"
      ],
      "execution_count": 116,
      "outputs": []
    },
    {
      "cell_type": "code",
      "metadata": {
        "id": "KtF5AI6TuaLB"
      },
      "source": [
        "data = pd.merge(data,new_book_df,on='ISBN')"
      ],
      "execution_count": 117,
      "outputs": []
    },
    {
      "cell_type": "code",
      "metadata": {
        "colab": {
          "base_uri": "https://localhost:8080/",
          "height": 202
        },
        "id": "TBGd0qRsuq7m",
        "outputId": "67cc3dec-cf59-4a01-f515-5b00daf28c24"
      },
      "source": [
        "data.head()"
      ],
      "execution_count": 118,
      "outputs": [
        {
          "output_type": "execute_result",
          "data": {
            "text/html": [
              "<div>\n",
              "<style scoped>\n",
              "    .dataframe tbody tr th:only-of-type {\n",
              "        vertical-align: middle;\n",
              "    }\n",
              "\n",
              "    .dataframe tbody tr th {\n",
              "        vertical-align: top;\n",
              "    }\n",
              "\n",
              "    .dataframe thead th {\n",
              "        text-align: right;\n",
              "    }\n",
              "</style>\n",
              "<table border=\"1\" class=\"dataframe\">\n",
              "  <thead>\n",
              "    <tr style=\"text-align: right;\">\n",
              "      <th></th>\n",
              "      <th>User-ID</th>\n",
              "      <th>Location</th>\n",
              "      <th>Age</th>\n",
              "      <th>age_bins</th>\n",
              "      <th>ISBN</th>\n",
              "      <th>Book-Rating</th>\n",
              "      <th>Title</th>\n",
              "    </tr>\n",
              "  </thead>\n",
              "  <tbody>\n",
              "    <tr>\n",
              "      <th>0</th>\n",
              "      <td>2</td>\n",
              "      <td>stockton, california, usa</td>\n",
              "      <td>18</td>\n",
              "      <td>Teenager</td>\n",
              "      <td>0195153448</td>\n",
              "      <td>0</td>\n",
              "      <td>Classical Mythology by Mark P. O. Morford</td>\n",
              "    </tr>\n",
              "    <tr>\n",
              "      <th>1</th>\n",
              "      <td>8</td>\n",
              "      <td>timmins, ontario, canada</td>\n",
              "      <td>30</td>\n",
              "      <td>Adult</td>\n",
              "      <td>0002005018</td>\n",
              "      <td>5</td>\n",
              "      <td>Clara Callan by Richard Bruce Wright</td>\n",
              "    </tr>\n",
              "    <tr>\n",
              "      <th>2</th>\n",
              "      <td>11400</td>\n",
              "      <td>ottawa, ontario, canada</td>\n",
              "      <td>49</td>\n",
              "      <td>Adult</td>\n",
              "      <td>0002005018</td>\n",
              "      <td>0</td>\n",
              "      <td>Clara Callan by Richard Bruce Wright</td>\n",
              "    </tr>\n",
              "    <tr>\n",
              "      <th>3</th>\n",
              "      <td>11676</td>\n",
              "      <td>n/a, n/a, n/a</td>\n",
              "      <td>30</td>\n",
              "      <td>Adult</td>\n",
              "      <td>0002005018</td>\n",
              "      <td>8</td>\n",
              "      <td>Clara Callan by Richard Bruce Wright</td>\n",
              "    </tr>\n",
              "    <tr>\n",
              "      <th>4</th>\n",
              "      <td>41385</td>\n",
              "      <td>sudbury, ontario, canada</td>\n",
              "      <td>43</td>\n",
              "      <td>Adult</td>\n",
              "      <td>0002005018</td>\n",
              "      <td>0</td>\n",
              "      <td>Clara Callan by Richard Bruce Wright</td>\n",
              "    </tr>\n",
              "  </tbody>\n",
              "</table>\n",
              "</div>"
            ],
            "text/plain": [
              "   User-ID  ...                                      Title\n",
              "0        2  ...  Classical Mythology by Mark P. O. Morford\n",
              "1        8  ...       Clara Callan by Richard Bruce Wright\n",
              "2    11400  ...       Clara Callan by Richard Bruce Wright\n",
              "3    11676  ...       Clara Callan by Richard Bruce Wright\n",
              "4    41385  ...       Clara Callan by Richard Bruce Wright\n",
              "\n",
              "[5 rows x 7 columns]"
            ]
          },
          "metadata": {},
          "execution_count": 118
        }
      ]
    },
    {
      "cell_type": "code",
      "metadata": {
        "id": "64a7orTRvNJX"
      },
      "source": [
        "# We are not using Location column\n",
        "data.drop(['Location'],inplace=True,axis=1)"
      ],
      "execution_count": 119,
      "outputs": []
    },
    {
      "cell_type": "code",
      "metadata": {
        "colab": {
          "base_uri": "https://localhost:8080/"
        },
        "id": "hBAwdlSGv6ac",
        "outputId": "990871b3-51aa-4270-9082-8d5b4b8f6af4"
      },
      "source": [
        "data.shape"
      ],
      "execution_count": 120,
      "outputs": [
        {
          "output_type": "execute_result",
          "data": {
            "text/plain": [
              "(916933, 6)"
            ]
          },
          "metadata": {},
          "execution_count": 120
        }
      ]
    },
    {
      "cell_type": "code",
      "metadata": {
        "colab": {
          "base_uri": "https://localhost:8080/"
        },
        "id": "Sj4ilfO0wJvZ",
        "outputId": "d23c1cc0-bd33-4a57-d751-5e6d2b25433b"
      },
      "source": [
        "# Filter out the explicitly rated books\n",
        "implicit_ratings_df = data[data['Book-Rating']==0]\n",
        "implicit_ratings_df.shape"
      ],
      "execution_count": 121,
      "outputs": [
        {
          "output_type": "execute_result",
          "data": {
            "text/plain": [
              "(576893, 6)"
            ]
          },
          "metadata": {},
          "execution_count": 121
        }
      ]
    },
    {
      "cell_type": "code",
      "metadata": {
        "colab": {
          "base_uri": "https://localhost:8080/"
        },
        "id": "SnVbIIbS08Xf",
        "outputId": "cec89418-c82e-4552-bbfe-b72961b37796"
      },
      "source": [
        "# Check its shape\n",
        "implicit_ratings_df.shape"
      ],
      "execution_count": 122,
      "outputs": [
        {
          "output_type": "execute_result",
          "data": {
            "text/plain": [
              "(576893, 6)"
            ]
          },
          "metadata": {},
          "execution_count": 122
        }
      ]
    },
    {
      "cell_type": "code",
      "metadata": {
        "colab": {
          "base_uri": "https://localhost:8080/",
          "height": 202
        },
        "id": "IscZzA6ixQii",
        "outputId": "3e41562c-e633-49c5-b482-c866cfd4f8e8"
      },
      "source": [
        "# Create an interactions dataframe \n",
        "implicit_ratings_interactions_df = implicit_ratings_df[['User-ID','ISBN','Age']]\n",
        "implicit_ratings_interactions_df.head()"
      ],
      "execution_count": 124,
      "outputs": [
        {
          "output_type": "execute_result",
          "data": {
            "text/html": [
              "<div>\n",
              "<style scoped>\n",
              "    .dataframe tbody tr th:only-of-type {\n",
              "        vertical-align: middle;\n",
              "    }\n",
              "\n",
              "    .dataframe tbody tr th {\n",
              "        vertical-align: top;\n",
              "    }\n",
              "\n",
              "    .dataframe thead th {\n",
              "        text-align: right;\n",
              "    }\n",
              "</style>\n",
              "<table border=\"1\" class=\"dataframe\">\n",
              "  <thead>\n",
              "    <tr style=\"text-align: right;\">\n",
              "      <th></th>\n",
              "      <th>User-ID</th>\n",
              "      <th>ISBN</th>\n",
              "      <th>Age</th>\n",
              "    </tr>\n",
              "  </thead>\n",
              "  <tbody>\n",
              "    <tr>\n",
              "      <th>0</th>\n",
              "      <td>2</td>\n",
              "      <td>0195153448</td>\n",
              "      <td>18</td>\n",
              "    </tr>\n",
              "    <tr>\n",
              "      <th>2</th>\n",
              "      <td>11400</td>\n",
              "      <td>0002005018</td>\n",
              "      <td>49</td>\n",
              "    </tr>\n",
              "    <tr>\n",
              "      <th>4</th>\n",
              "      <td>41385</td>\n",
              "      <td>0002005018</td>\n",
              "      <td>43</td>\n",
              "    </tr>\n",
              "    <tr>\n",
              "      <th>6</th>\n",
              "      <td>85526</td>\n",
              "      <td>0002005018</td>\n",
              "      <td>36</td>\n",
              "    </tr>\n",
              "    <tr>\n",
              "      <th>7</th>\n",
              "      <td>96054</td>\n",
              "      <td>0002005018</td>\n",
              "      <td>29</td>\n",
              "    </tr>\n",
              "  </tbody>\n",
              "</table>\n",
              "</div>"
            ],
            "text/plain": [
              "   User-ID        ISBN  Age\n",
              "0        2  0195153448   18\n",
              "2    11400  0002005018   49\n",
              "4    41385  0002005018   43\n",
              "6    85526  0002005018   36\n",
              "7    96054  0002005018   29"
            ]
          },
          "metadata": {},
          "execution_count": 124
        }
      ]
    },
    {
      "cell_type": "code",
      "metadata": {
        "colab": {
          "base_uri": "https://localhost:8080/"
        },
        "id": "GmezALw6cKoD",
        "outputId": "b8592e27-c548-443d-d934-ecf0f7a7d025"
      },
      "source": [
        "p(implicit_ratings_interactions_df.shape)"
      ],
      "execution_count": 125,
      "outputs": [
        {
          "output_type": "stream",
          "name": "stdout",
          "text": [
            "(576893, 3)\n"
          ]
        }
      ]
    },
    {
      "cell_type": "code",
      "metadata": {
        "colab": {
          "base_uri": "https://localhost:8080/"
        },
        "id": "fU1e3xaZcKkg",
        "outputId": "82423ca8-43de-4f8a-86e5-dc47fe0cb992"
      },
      "source": [
        "# Filter out books rated less than 50 times\n",
        "y = implicit_ratings_interactions_df['ISBN'].value_counts()>50\n",
        "y[y].sum()"
      ],
      "execution_count": 126,
      "outputs": [
        {
          "output_type": "execute_result",
          "data": {
            "text/plain": [
              "875"
            ]
          },
          "metadata": {},
          "execution_count": 126
        }
      ]
    },
    {
      "cell_type": "code",
      "metadata": {
        "id": "jfELjjuGcTMU"
      },
      "source": [
        "# Index of books rated more than 50 times\n",
        "index_books= y[y].index"
      ],
      "execution_count": 127,
      "outputs": []
    },
    {
      "cell_type": "code",
      "metadata": {
        "colab": {
          "base_uri": "https://localhost:8080/"
        },
        "id": "ljSdAQbNcT79",
        "outputId": "a3ac9e79-ea8c-4374-c26c-43f3e012b13c"
      },
      "source": [
        "# Select books rated more than 50 times\n",
        "select_implicit_df = implicit_ratings_interactions_df[implicit_ratings_interactions_df['ISBN'].isin(index_books)]\n",
        "select_implicit_df.shape"
      ],
      "execution_count": 128,
      "outputs": [
        {
          "output_type": "execute_result",
          "data": {
            "text/plain": [
              "(83206, 3)"
            ]
          },
          "metadata": {},
          "execution_count": 128
        }
      ]
    },
    {
      "cell_type": "code",
      "metadata": {
        "colab": {
          "base_uri": "https://localhost:8080/"
        },
        "id": "bYJ6TAP31aCb",
        "outputId": "3b90636a-9401-472b-9eb3-aeea60fe276c"
      },
      "source": [
        "# Filter out users who have given less than 10 ratings\n",
        "x = select_implicit_df['User-ID'].value_counts()>50\n",
        "x[x].sum()"
      ],
      "execution_count": 130,
      "outputs": [
        {
          "output_type": "execute_result",
          "data": {
            "text/plain": [
              "267"
            ]
          },
          "metadata": {},
          "execution_count": 130
        }
      ]
    },
    {
      "cell_type": "code",
      "metadata": {
        "id": "U4zl1wOv1Z_B"
      },
      "source": [
        "# Index of selected users\n",
        "index_users = x[x].index"
      ],
      "execution_count": 131,
      "outputs": []
    },
    {
      "cell_type": "code",
      "metadata": {
        "colab": {
          "base_uri": "https://localhost:8080/"
        },
        "id": "7091dGD11Z8i",
        "outputId": "6caf4294-084f-498c-9570-ee86319d52e5"
      },
      "source": [
        "# Selected users \n",
        "select_implicit_df = select_implicit_df[select_implicit_df['User-ID'].isin(index_users)]\n",
        "select_implicit_df.shape"
      ],
      "execution_count": 132,
      "outputs": [
        {
          "output_type": "execute_result",
          "data": {
            "text/plain": [
              "(26189, 3)"
            ]
          },
          "metadata": {},
          "execution_count": 132
        }
      ]
    },
    {
      "cell_type": "code",
      "metadata": {
        "colab": {
          "base_uri": "https://localhost:8080/",
          "height": 202
        },
        "id": "wc5QKsIh1ZYB",
        "outputId": "1de3da35-edc6-4cd4-c651-553df92a06ea"
      },
      "source": [
        "select_implicit_df.head()"
      ],
      "execution_count": 134,
      "outputs": [
        {
          "output_type": "execute_result",
          "data": {
            "text/html": [
              "<div>\n",
              "<style scoped>\n",
              "    .dataframe tbody tr th:only-of-type {\n",
              "        vertical-align: middle;\n",
              "    }\n",
              "\n",
              "    .dataframe tbody tr th {\n",
              "        vertical-align: top;\n",
              "    }\n",
              "\n",
              "    .dataframe thead th {\n",
              "        text-align: right;\n",
              "    }\n",
              "</style>\n",
              "<table border=\"1\" class=\"dataframe\">\n",
              "  <thead>\n",
              "    <tr style=\"text-align: right;\">\n",
              "      <th></th>\n",
              "      <th>User-ID</th>\n",
              "      <th>ISBN</th>\n",
              "      <th>Age</th>\n",
              "    </tr>\n",
              "  </thead>\n",
              "  <tbody>\n",
              "    <tr>\n",
              "      <th>103</th>\n",
              "      <td>3363</td>\n",
              "      <td>0440234743</td>\n",
              "      <td>29</td>\n",
              "    </tr>\n",
              "    <tr>\n",
              "      <th>117</th>\n",
              "      <td>14521</td>\n",
              "      <td>0440234743</td>\n",
              "      <td>27</td>\n",
              "    </tr>\n",
              "    <tr>\n",
              "      <th>119</th>\n",
              "      <td>16795</td>\n",
              "      <td>0440234743</td>\n",
              "      <td>47</td>\n",
              "    </tr>\n",
              "    <tr>\n",
              "      <th>129</th>\n",
              "      <td>23768</td>\n",
              "      <td>0440234743</td>\n",
              "      <td>45</td>\n",
              "    </tr>\n",
              "    <tr>\n",
              "      <th>131</th>\n",
              "      <td>26544</td>\n",
              "      <td>0440234743</td>\n",
              "      <td>37</td>\n",
              "    </tr>\n",
              "  </tbody>\n",
              "</table>\n",
              "</div>"
            ],
            "text/plain": [
              "     User-ID        ISBN  Age\n",
              "103     3363  0440234743   29\n",
              "117    14521  0440234743   27\n",
              "119    16795  0440234743   47\n",
              "129    23768  0440234743   45\n",
              "131    26544  0440234743   37"
            ]
          },
          "metadata": {},
          "execution_count": 134
        }
      ]
    },
    {
      "cell_type": "code",
      "metadata": {
        "colab": {
          "base_uri": "https://localhost:8080/",
          "height": 282
        },
        "id": "wmplXBFbyxMG",
        "outputId": "0a05439b-6335-4e83-fa7f-b3e6c495c231"
      },
      "source": [
        "#Creating a sparse pivot table with users in rows and items in columns and age as values\n",
        "users_ages_pivot_matrix_df = select_implicit_df.pivot(index='User-ID', \n",
        "                                                          columns='ISBN', \n",
        "                                                          values='Age').fillna(0)\n",
        "# Transpose to get user_ids as columns\n",
        "pivot_df = users_ages_pivot_matrix_df.transpose()\n",
        "pivot_df.head()"
      ],
      "execution_count": 135,
      "outputs": [
        {
          "output_type": "execute_result",
          "data": {
            "text/html": [
              "<div>\n",
              "<style scoped>\n",
              "    .dataframe tbody tr th:only-of-type {\n",
              "        vertical-align: middle;\n",
              "    }\n",
              "\n",
              "    .dataframe tbody tr th {\n",
              "        vertical-align: top;\n",
              "    }\n",
              "\n",
              "    .dataframe thead th {\n",
              "        text-align: right;\n",
              "    }\n",
              "</style>\n",
              "<table border=\"1\" class=\"dataframe\">\n",
              "  <thead>\n",
              "    <tr style=\"text-align: right;\">\n",
              "      <th>User-ID</th>\n",
              "      <th>3363</th>\n",
              "      <th>6251</th>\n",
              "      <th>6575</th>\n",
              "      <th>7158</th>\n",
              "      <th>7346</th>\n",
              "      <th>11601</th>\n",
              "      <th>11676</th>\n",
              "      <th>12538</th>\n",
              "      <th>13273</th>\n",
              "      <th>13552</th>\n",
              "      <th>14422</th>\n",
              "      <th>14521</th>\n",
              "      <th>15408</th>\n",
              "      <th>16634</th>\n",
              "      <th>16795</th>\n",
              "      <th>17950</th>\n",
              "      <th>21014</th>\n",
              "      <th>23768</th>\n",
              "      <th>24921</th>\n",
              "      <th>26544</th>\n",
              "      <th>28204</th>\n",
              "      <th>29259</th>\n",
              "      <th>30533</th>\n",
              "      <th>30972</th>\n",
              "      <th>31315</th>\n",
              "      <th>31556</th>\n",
              "      <th>32195</th>\n",
              "      <th>32773</th>\n",
              "      <th>33974</th>\n",
              "      <th>35050</th>\n",
              "      <th>35857</th>\n",
              "      <th>35859</th>\n",
              "      <th>36606</th>\n",
              "      <th>36836</th>\n",
              "      <th>37950</th>\n",
              "      <th>38023</th>\n",
              "      <th>39281</th>\n",
              "      <th>39616</th>\n",
              "      <th>39646</th>\n",
              "      <th>40889</th>\n",
              "      <th>...</th>\n",
              "      <th>238526</th>\n",
              "      <th>238781</th>\n",
              "      <th>242824</th>\n",
              "      <th>244736</th>\n",
              "      <th>245827</th>\n",
              "      <th>245963</th>\n",
              "      <th>246655</th>\n",
              "      <th>247447</th>\n",
              "      <th>247752</th>\n",
              "      <th>250184</th>\n",
              "      <th>251422</th>\n",
              "      <th>251613</th>\n",
              "      <th>252071</th>\n",
              "      <th>252695</th>\n",
              "      <th>254465</th>\n",
              "      <th>254971</th>\n",
              "      <th>255489</th>\n",
              "      <th>256167</th>\n",
              "      <th>256407</th>\n",
              "      <th>258534</th>\n",
              "      <th>260897</th>\n",
              "      <th>261829</th>\n",
              "      <th>262399</th>\n",
              "      <th>263877</th>\n",
              "      <th>264317</th>\n",
              "      <th>265115</th>\n",
              "      <th>265313</th>\n",
              "      <th>266056</th>\n",
              "      <th>266226</th>\n",
              "      <th>266865</th>\n",
              "      <th>268032</th>\n",
              "      <th>268330</th>\n",
              "      <th>269566</th>\n",
              "      <th>269719</th>\n",
              "      <th>271284</th>\n",
              "      <th>273979</th>\n",
              "      <th>274308</th>\n",
              "      <th>275970</th>\n",
              "      <th>277427</th>\n",
              "      <th>278418</th>\n",
              "    </tr>\n",
              "    <tr>\n",
              "      <th>ISBN</th>\n",
              "      <th></th>\n",
              "      <th></th>\n",
              "      <th></th>\n",
              "      <th></th>\n",
              "      <th></th>\n",
              "      <th></th>\n",
              "      <th></th>\n",
              "      <th></th>\n",
              "      <th></th>\n",
              "      <th></th>\n",
              "      <th></th>\n",
              "      <th></th>\n",
              "      <th></th>\n",
              "      <th></th>\n",
              "      <th></th>\n",
              "      <th></th>\n",
              "      <th></th>\n",
              "      <th></th>\n",
              "      <th></th>\n",
              "      <th></th>\n",
              "      <th></th>\n",
              "      <th></th>\n",
              "      <th></th>\n",
              "      <th></th>\n",
              "      <th></th>\n",
              "      <th></th>\n",
              "      <th></th>\n",
              "      <th></th>\n",
              "      <th></th>\n",
              "      <th></th>\n",
              "      <th></th>\n",
              "      <th></th>\n",
              "      <th></th>\n",
              "      <th></th>\n",
              "      <th></th>\n",
              "      <th></th>\n",
              "      <th></th>\n",
              "      <th></th>\n",
              "      <th></th>\n",
              "      <th></th>\n",
              "      <th></th>\n",
              "      <th></th>\n",
              "      <th></th>\n",
              "      <th></th>\n",
              "      <th></th>\n",
              "      <th></th>\n",
              "      <th></th>\n",
              "      <th></th>\n",
              "      <th></th>\n",
              "      <th></th>\n",
              "      <th></th>\n",
              "      <th></th>\n",
              "      <th></th>\n",
              "      <th></th>\n",
              "      <th></th>\n",
              "      <th></th>\n",
              "      <th></th>\n",
              "      <th></th>\n",
              "      <th></th>\n",
              "      <th></th>\n",
              "      <th></th>\n",
              "      <th></th>\n",
              "      <th></th>\n",
              "      <th></th>\n",
              "      <th></th>\n",
              "      <th></th>\n",
              "      <th></th>\n",
              "      <th></th>\n",
              "      <th></th>\n",
              "      <th></th>\n",
              "      <th></th>\n",
              "      <th></th>\n",
              "      <th></th>\n",
              "      <th></th>\n",
              "      <th></th>\n",
              "      <th></th>\n",
              "      <th></th>\n",
              "      <th></th>\n",
              "      <th></th>\n",
              "      <th></th>\n",
              "      <th></th>\n",
              "    </tr>\n",
              "  </thead>\n",
              "  <tbody>\n",
              "    <tr>\n",
              "      <th>002026478X</th>\n",
              "      <td>0.0</td>\n",
              "      <td>0.0</td>\n",
              "      <td>0.0</td>\n",
              "      <td>0.0</td>\n",
              "      <td>0.0</td>\n",
              "      <td>0.0</td>\n",
              "      <td>0.0</td>\n",
              "      <td>0.0</td>\n",
              "      <td>0.0</td>\n",
              "      <td>0.0</td>\n",
              "      <td>0.0</td>\n",
              "      <td>0.0</td>\n",
              "      <td>0.0</td>\n",
              "      <td>0.0</td>\n",
              "      <td>0.0</td>\n",
              "      <td>0.0</td>\n",
              "      <td>0.0</td>\n",
              "      <td>0.0</td>\n",
              "      <td>0.0</td>\n",
              "      <td>0.0</td>\n",
              "      <td>0.0</td>\n",
              "      <td>0.0</td>\n",
              "      <td>0.0</td>\n",
              "      <td>0.0</td>\n",
              "      <td>0.0</td>\n",
              "      <td>0.0</td>\n",
              "      <td>0.0</td>\n",
              "      <td>0.0</td>\n",
              "      <td>0.0</td>\n",
              "      <td>0.0</td>\n",
              "      <td>36.0</td>\n",
              "      <td>35.0</td>\n",
              "      <td>39.0</td>\n",
              "      <td>56.0</td>\n",
              "      <td>0.0</td>\n",
              "      <td>0.0</td>\n",
              "      <td>0.0</td>\n",
              "      <td>0.0</td>\n",
              "      <td>0.0</td>\n",
              "      <td>0.0</td>\n",
              "      <td>...</td>\n",
              "      <td>0.0</td>\n",
              "      <td>0.0</td>\n",
              "      <td>21.0</td>\n",
              "      <td>0.0</td>\n",
              "      <td>42.0</td>\n",
              "      <td>23.0</td>\n",
              "      <td>0.0</td>\n",
              "      <td>0.0</td>\n",
              "      <td>0.0</td>\n",
              "      <td>0.0</td>\n",
              "      <td>0.0</td>\n",
              "      <td>0.0</td>\n",
              "      <td>0.0</td>\n",
              "      <td>32.0</td>\n",
              "      <td>0.0</td>\n",
              "      <td>0.0</td>\n",
              "      <td>0.0</td>\n",
              "      <td>0.0</td>\n",
              "      <td>0.0</td>\n",
              "      <td>0.0</td>\n",
              "      <td>0.0</td>\n",
              "      <td>0.0</td>\n",
              "      <td>0.0</td>\n",
              "      <td>0.0</td>\n",
              "      <td>0.0</td>\n",
              "      <td>0.0</td>\n",
              "      <td>0.0</td>\n",
              "      <td>47.0</td>\n",
              "      <td>0.0</td>\n",
              "      <td>0.0</td>\n",
              "      <td>0.0</td>\n",
              "      <td>0.0</td>\n",
              "      <td>9.0</td>\n",
              "      <td>33.0</td>\n",
              "      <td>0.0</td>\n",
              "      <td>0.0</td>\n",
              "      <td>0.0</td>\n",
              "      <td>0.0</td>\n",
              "      <td>0.0</td>\n",
              "      <td>0.0</td>\n",
              "    </tr>\n",
              "    <tr>\n",
              "      <th>002542730X</th>\n",
              "      <td>29.0</td>\n",
              "      <td>0.0</td>\n",
              "      <td>0.0</td>\n",
              "      <td>0.0</td>\n",
              "      <td>0.0</td>\n",
              "      <td>0.0</td>\n",
              "      <td>0.0</td>\n",
              "      <td>0.0</td>\n",
              "      <td>0.0</td>\n",
              "      <td>32.0</td>\n",
              "      <td>0.0</td>\n",
              "      <td>0.0</td>\n",
              "      <td>0.0</td>\n",
              "      <td>0.0</td>\n",
              "      <td>47.0</td>\n",
              "      <td>0.0</td>\n",
              "      <td>0.0</td>\n",
              "      <td>0.0</td>\n",
              "      <td>0.0</td>\n",
              "      <td>0.0</td>\n",
              "      <td>61.0</td>\n",
              "      <td>0.0</td>\n",
              "      <td>35.0</td>\n",
              "      <td>0.0</td>\n",
              "      <td>0.0</td>\n",
              "      <td>0.0</td>\n",
              "      <td>0.0</td>\n",
              "      <td>0.0</td>\n",
              "      <td>0.0</td>\n",
              "      <td>0.0</td>\n",
              "      <td>0.0</td>\n",
              "      <td>0.0</td>\n",
              "      <td>0.0</td>\n",
              "      <td>0.0</td>\n",
              "      <td>0.0</td>\n",
              "      <td>0.0</td>\n",
              "      <td>0.0</td>\n",
              "      <td>0.0</td>\n",
              "      <td>0.0</td>\n",
              "      <td>0.0</td>\n",
              "      <td>...</td>\n",
              "      <td>0.0</td>\n",
              "      <td>0.0</td>\n",
              "      <td>0.0</td>\n",
              "      <td>0.0</td>\n",
              "      <td>0.0</td>\n",
              "      <td>0.0</td>\n",
              "      <td>0.0</td>\n",
              "      <td>0.0</td>\n",
              "      <td>0.0</td>\n",
              "      <td>0.0</td>\n",
              "      <td>0.0</td>\n",
              "      <td>0.0</td>\n",
              "      <td>0.0</td>\n",
              "      <td>0.0</td>\n",
              "      <td>0.0</td>\n",
              "      <td>0.0</td>\n",
              "      <td>0.0</td>\n",
              "      <td>0.0</td>\n",
              "      <td>0.0</td>\n",
              "      <td>0.0</td>\n",
              "      <td>0.0</td>\n",
              "      <td>0.0</td>\n",
              "      <td>0.0</td>\n",
              "      <td>0.0</td>\n",
              "      <td>25.0</td>\n",
              "      <td>0.0</td>\n",
              "      <td>33.0</td>\n",
              "      <td>0.0</td>\n",
              "      <td>30.0</td>\n",
              "      <td>33.0</td>\n",
              "      <td>0.0</td>\n",
              "      <td>0.0</td>\n",
              "      <td>0.0</td>\n",
              "      <td>0.0</td>\n",
              "      <td>0.0</td>\n",
              "      <td>0.0</td>\n",
              "      <td>0.0</td>\n",
              "      <td>0.0</td>\n",
              "      <td>0.0</td>\n",
              "      <td>0.0</td>\n",
              "    </tr>\n",
              "    <tr>\n",
              "      <th>0060096195</th>\n",
              "      <td>29.0</td>\n",
              "      <td>0.0</td>\n",
              "      <td>0.0</td>\n",
              "      <td>0.0</td>\n",
              "      <td>0.0</td>\n",
              "      <td>0.0</td>\n",
              "      <td>30.0</td>\n",
              "      <td>0.0</td>\n",
              "      <td>0.0</td>\n",
              "      <td>0.0</td>\n",
              "      <td>0.0</td>\n",
              "      <td>0.0</td>\n",
              "      <td>0.0</td>\n",
              "      <td>0.0</td>\n",
              "      <td>47.0</td>\n",
              "      <td>0.0</td>\n",
              "      <td>0.0</td>\n",
              "      <td>0.0</td>\n",
              "      <td>0.0</td>\n",
              "      <td>0.0</td>\n",
              "      <td>0.0</td>\n",
              "      <td>0.0</td>\n",
              "      <td>0.0</td>\n",
              "      <td>0.0</td>\n",
              "      <td>34.0</td>\n",
              "      <td>0.0</td>\n",
              "      <td>0.0</td>\n",
              "      <td>0.0</td>\n",
              "      <td>0.0</td>\n",
              "      <td>0.0</td>\n",
              "      <td>0.0</td>\n",
              "      <td>0.0</td>\n",
              "      <td>0.0</td>\n",
              "      <td>0.0</td>\n",
              "      <td>0.0</td>\n",
              "      <td>0.0</td>\n",
              "      <td>0.0</td>\n",
              "      <td>0.0</td>\n",
              "      <td>0.0</td>\n",
              "      <td>0.0</td>\n",
              "      <td>...</td>\n",
              "      <td>0.0</td>\n",
              "      <td>0.0</td>\n",
              "      <td>0.0</td>\n",
              "      <td>0.0</td>\n",
              "      <td>0.0</td>\n",
              "      <td>0.0</td>\n",
              "      <td>0.0</td>\n",
              "      <td>0.0</td>\n",
              "      <td>0.0</td>\n",
              "      <td>0.0</td>\n",
              "      <td>0.0</td>\n",
              "      <td>0.0</td>\n",
              "      <td>0.0</td>\n",
              "      <td>0.0</td>\n",
              "      <td>0.0</td>\n",
              "      <td>0.0</td>\n",
              "      <td>0.0</td>\n",
              "      <td>0.0</td>\n",
              "      <td>0.0</td>\n",
              "      <td>0.0</td>\n",
              "      <td>0.0</td>\n",
              "      <td>0.0</td>\n",
              "      <td>0.0</td>\n",
              "      <td>0.0</td>\n",
              "      <td>0.0</td>\n",
              "      <td>28.0</td>\n",
              "      <td>0.0</td>\n",
              "      <td>0.0</td>\n",
              "      <td>0.0</td>\n",
              "      <td>0.0</td>\n",
              "      <td>0.0</td>\n",
              "      <td>0.0</td>\n",
              "      <td>0.0</td>\n",
              "      <td>0.0</td>\n",
              "      <td>0.0</td>\n",
              "      <td>0.0</td>\n",
              "      <td>0.0</td>\n",
              "      <td>0.0</td>\n",
              "      <td>0.0</td>\n",
              "      <td>0.0</td>\n",
              "    </tr>\n",
              "    <tr>\n",
              "      <th>006016848X</th>\n",
              "      <td>0.0</td>\n",
              "      <td>0.0</td>\n",
              "      <td>0.0</td>\n",
              "      <td>0.0</td>\n",
              "      <td>49.0</td>\n",
              "      <td>0.0</td>\n",
              "      <td>0.0</td>\n",
              "      <td>0.0</td>\n",
              "      <td>0.0</td>\n",
              "      <td>0.0</td>\n",
              "      <td>43.0</td>\n",
              "      <td>0.0</td>\n",
              "      <td>0.0</td>\n",
              "      <td>0.0</td>\n",
              "      <td>0.0</td>\n",
              "      <td>0.0</td>\n",
              "      <td>0.0</td>\n",
              "      <td>45.0</td>\n",
              "      <td>0.0</td>\n",
              "      <td>0.0</td>\n",
              "      <td>0.0</td>\n",
              "      <td>0.0</td>\n",
              "      <td>0.0</td>\n",
              "      <td>0.0</td>\n",
              "      <td>0.0</td>\n",
              "      <td>0.0</td>\n",
              "      <td>0.0</td>\n",
              "      <td>0.0</td>\n",
              "      <td>0.0</td>\n",
              "      <td>0.0</td>\n",
              "      <td>36.0</td>\n",
              "      <td>0.0</td>\n",
              "      <td>0.0</td>\n",
              "      <td>56.0</td>\n",
              "      <td>0.0</td>\n",
              "      <td>30.0</td>\n",
              "      <td>0.0</td>\n",
              "      <td>0.0</td>\n",
              "      <td>0.0</td>\n",
              "      <td>0.0</td>\n",
              "      <td>...</td>\n",
              "      <td>0.0</td>\n",
              "      <td>0.0</td>\n",
              "      <td>0.0</td>\n",
              "      <td>0.0</td>\n",
              "      <td>0.0</td>\n",
              "      <td>23.0</td>\n",
              "      <td>0.0</td>\n",
              "      <td>0.0</td>\n",
              "      <td>0.0</td>\n",
              "      <td>0.0</td>\n",
              "      <td>0.0</td>\n",
              "      <td>0.0</td>\n",
              "      <td>0.0</td>\n",
              "      <td>0.0</td>\n",
              "      <td>0.0</td>\n",
              "      <td>0.0</td>\n",
              "      <td>0.0</td>\n",
              "      <td>0.0</td>\n",
              "      <td>0.0</td>\n",
              "      <td>0.0</td>\n",
              "      <td>0.0</td>\n",
              "      <td>0.0</td>\n",
              "      <td>0.0</td>\n",
              "      <td>0.0</td>\n",
              "      <td>0.0</td>\n",
              "      <td>0.0</td>\n",
              "      <td>0.0</td>\n",
              "      <td>0.0</td>\n",
              "      <td>0.0</td>\n",
              "      <td>0.0</td>\n",
              "      <td>0.0</td>\n",
              "      <td>0.0</td>\n",
              "      <td>9.0</td>\n",
              "      <td>0.0</td>\n",
              "      <td>0.0</td>\n",
              "      <td>0.0</td>\n",
              "      <td>0.0</td>\n",
              "      <td>0.0</td>\n",
              "      <td>0.0</td>\n",
              "      <td>33.0</td>\n",
              "    </tr>\n",
              "    <tr>\n",
              "      <th>0060173289</th>\n",
              "      <td>0.0</td>\n",
              "      <td>0.0</td>\n",
              "      <td>20.0</td>\n",
              "      <td>0.0</td>\n",
              "      <td>0.0</td>\n",
              "      <td>0.0</td>\n",
              "      <td>30.0</td>\n",
              "      <td>0.0</td>\n",
              "      <td>0.0</td>\n",
              "      <td>0.0</td>\n",
              "      <td>0.0</td>\n",
              "      <td>0.0</td>\n",
              "      <td>0.0</td>\n",
              "      <td>0.0</td>\n",
              "      <td>0.0</td>\n",
              "      <td>0.0</td>\n",
              "      <td>0.0</td>\n",
              "      <td>0.0</td>\n",
              "      <td>0.0</td>\n",
              "      <td>0.0</td>\n",
              "      <td>0.0</td>\n",
              "      <td>0.0</td>\n",
              "      <td>0.0</td>\n",
              "      <td>0.0</td>\n",
              "      <td>0.0</td>\n",
              "      <td>51.0</td>\n",
              "      <td>0.0</td>\n",
              "      <td>0.0</td>\n",
              "      <td>0.0</td>\n",
              "      <td>0.0</td>\n",
              "      <td>0.0</td>\n",
              "      <td>0.0</td>\n",
              "      <td>0.0</td>\n",
              "      <td>0.0</td>\n",
              "      <td>0.0</td>\n",
              "      <td>0.0</td>\n",
              "      <td>0.0</td>\n",
              "      <td>0.0</td>\n",
              "      <td>0.0</td>\n",
              "      <td>0.0</td>\n",
              "      <td>...</td>\n",
              "      <td>0.0</td>\n",
              "      <td>0.0</td>\n",
              "      <td>0.0</td>\n",
              "      <td>0.0</td>\n",
              "      <td>0.0</td>\n",
              "      <td>0.0</td>\n",
              "      <td>0.0</td>\n",
              "      <td>0.0</td>\n",
              "      <td>0.0</td>\n",
              "      <td>0.0</td>\n",
              "      <td>0.0</td>\n",
              "      <td>0.0</td>\n",
              "      <td>0.0</td>\n",
              "      <td>0.0</td>\n",
              "      <td>0.0</td>\n",
              "      <td>0.0</td>\n",
              "      <td>0.0</td>\n",
              "      <td>0.0</td>\n",
              "      <td>0.0</td>\n",
              "      <td>0.0</td>\n",
              "      <td>0.0</td>\n",
              "      <td>0.0</td>\n",
              "      <td>0.0</td>\n",
              "      <td>0.0</td>\n",
              "      <td>0.0</td>\n",
              "      <td>0.0</td>\n",
              "      <td>0.0</td>\n",
              "      <td>0.0</td>\n",
              "      <td>0.0</td>\n",
              "      <td>0.0</td>\n",
              "      <td>0.0</td>\n",
              "      <td>0.0</td>\n",
              "      <td>0.0</td>\n",
              "      <td>0.0</td>\n",
              "      <td>0.0</td>\n",
              "      <td>0.0</td>\n",
              "      <td>0.0</td>\n",
              "      <td>0.0</td>\n",
              "      <td>0.0</td>\n",
              "      <td>0.0</td>\n",
              "    </tr>\n",
              "  </tbody>\n",
              "</table>\n",
              "<p>5 rows × 267 columns</p>\n",
              "</div>"
            ],
            "text/plain": [
              "User-ID     3363    6251    6575    7158    ...  274308  275970  277427  278418\n",
              "ISBN                                        ...                                \n",
              "002026478X     0.0     0.0     0.0     0.0  ...     0.0     0.0     0.0     0.0\n",
              "002542730X    29.0     0.0     0.0     0.0  ...     0.0     0.0     0.0     0.0\n",
              "0060096195    29.0     0.0     0.0     0.0  ...     0.0     0.0     0.0     0.0\n",
              "006016848X     0.0     0.0     0.0     0.0  ...     0.0     0.0     0.0    33.0\n",
              "0060173289     0.0     0.0    20.0     0.0  ...     0.0     0.0     0.0     0.0\n",
              "\n",
              "[5 rows x 267 columns]"
            ]
          },
          "metadata": {},
          "execution_count": 135
        }
      ]
    },
    {
      "cell_type": "code",
      "metadata": {
        "id": "_x3zKmUFzuZr"
      },
      "source": [
        "# Import csr_matrix and apply on the pivot obtained\n",
        "from scipy.sparse import csr_matrix\n",
        "sparse_matrix = csr_matrix(pivot_df)"
      ],
      "execution_count": 136,
      "outputs": []
    },
    {
      "cell_type": "code",
      "metadata": {
        "id": "oDX24EaU3aY9"
      },
      "source": [
        "# Import NearestNeighbors from sklearn\n",
        "from sklearn.neighbors import NearestNeighbors\n",
        "knn = NearestNeighbors(metric='cosine', algorithm='brute', n_neighbors=20, n_jobs=-1)"
      ],
      "execution_count": 137,
      "outputs": []
    },
    {
      "cell_type": "code",
      "metadata": {
        "colab": {
          "base_uri": "https://localhost:8080/"
        },
        "id": "MC9rVfdj44LR",
        "outputId": "3b51391a-ad8c-4fb0-a5b4-3a910e3e53aa"
      },
      "source": [
        "# Fit the sparse matrix to the model\n",
        "knn.fit(sparse_matrix)"
      ],
      "execution_count": 138,
      "outputs": [
        {
          "output_type": "execute_result",
          "data": {
            "text/plain": [
              "NearestNeighbors(algorithm='brute', leaf_size=30, metric='cosine',\n",
              "                 metric_params=None, n_jobs=-1, n_neighbors=20, p=2,\n",
              "                 radius=1.0)"
            ]
          },
          "metadata": {},
          "execution_count": 138
        }
      ]
    },
    {
      "cell_type": "code",
      "metadata": {
        "id": "SVhYpMm5DRcr"
      },
      "source": [
        "# Define a fuction to obtain recommendations\n",
        "def get_recommendations(user_id,num_of_recommendations):\n",
        "  distances,suggestions = knn.kneighbors(pivot_df.iloc[user_id,:].values.reshape(1,-1),n_neighbors=num_of_recommendations)\n",
        "  for i in range(len(suggestions)):\n",
        "    recom_array = pivot_df.index[suggestions[i]]\n",
        "    movie_set = set(data[data['ISBN'].isin(recom_array)]['Title'])\n",
        "  return movie_set\n"
      ],
      "execution_count": 139,
      "outputs": []
    },
    {
      "cell_type": "code",
      "metadata": {
        "colab": {
          "base_uri": "https://localhost:8080/"
        },
        "id": "jfRdKkQXCl0E",
        "outputId": "e9e5419e-dcd1-4347-efbd-e3a7d8c6f841"
      },
      "source": [
        "# Get recommendations for users based in user-ids\n",
        "get_recommendations(508,10)"
      ],
      "execution_count": 140,
      "outputs": [
        {
          "output_type": "execute_result",
          "data": {
            "text/plain": [
              "{'A Painted House by John Grisham',\n",
              " 'Cat &amp; Mouse (Alex Cross Novels) by James Patterson',\n",
              " 'Irish Hearts by Nora Roberts',\n",
              " 'Night Prey by John Sandford',\n",
              " \"Songs in Ordinary Time (Oprah's Book Club (Paperback)) by Mary McGarry Morris\",\n",
              " 'Stone Kiss by Faye Kellerman',\n",
              " 'The Beach House by James Patterson',\n",
              " 'The Brethren by John Grisham',\n",
              " 'The King of Torts by JOHN GRISHAM',\n",
              " 'We Were the Mulvaneys by Joyce Carol Oates'}"
            ]
          },
          "metadata": {},
          "execution_count": 140
        }
      ]
    },
    {
      "cell_type": "code",
      "metadata": {
        "id": "dMiFXSYbOQxM"
      },
      "source": [
        ""
      ],
      "execution_count": 319,
      "outputs": []
    },
    {
      "cell_type": "code",
      "metadata": {
        "id": "5SrrnWiBOQtu"
      },
      "source": [
        ""
      ],
      "execution_count": 319,
      "outputs": []
    },
    {
      "cell_type": "code",
      "metadata": {
        "id": "wpcX7ZbObsuD"
      },
      "source": [
        ""
      ],
      "execution_count": null,
      "outputs": []
    },
    {
      "cell_type": "code",
      "metadata": {
        "colab": {
          "base_uri": "https://localhost:8080/"
        },
        "id": "6oWzfNIlOQrj",
        "outputId": "167510d4-bfab-4b49-c305-4e93236c1a8a"
      },
      "source": [
        "# # Split the data into train and test for evaluation purpose\n",
        "# implicit_interactions_train_df, implicit_interactions_test_df = train_test_split(select_implicit_df,\n",
        "#                                    test_size=0.20,stratify=select_implicit_df['User-ID'],\n",
        "#                                    random_state=123)\n",
        "\n",
        "# print('# interactions on Train set: %d' % len(implicit_interactions_train_df))\n",
        "# print('# interactions on Test set: %d' % len(implicit_interactions_test_df))"
      ],
      "execution_count": 450,
      "outputs": [
        {
          "output_type": "stream",
          "name": "stdout",
          "text": [
            "# interactions on Train set: 20951\n",
            "# interactions on Test set: 5238\n"
          ]
        }
      ]
    },
    {
      "cell_type": "code",
      "metadata": {
        "id": "PZ38QgMNeink"
      },
      "source": [
        "# # Create a pivot table for users and books containing ratings\n",
        "# implicit_pivot_df = implicit_interactions_train_df.pivot(index='User-ID', columns='ISBN', \n",
        "#                                      values='Age').fillna(0)"
      ],
      "execution_count": 452,
      "outputs": []
    },
    {
      "cell_type": "code",
      "metadata": {
        "colab": {
          "base_uri": "https://localhost:8080/",
          "height": 298
        },
        "id": "MtcxEpGMOQpa",
        "outputId": "11813c9e-0a69-48b4-952c-ce8b2a59e314"
      },
      "source": [
        "# implicit_pivot_df= pivot_df.transpose()\n",
        "# implicit_pivot_df.head()"
      ],
      "execution_count": 453,
      "outputs": [
        {
          "output_type": "execute_result",
          "data": {
            "text/html": [
              "<div>\n",
              "<style scoped>\n",
              "    .dataframe tbody tr th:only-of-type {\n",
              "        vertical-align: middle;\n",
              "    }\n",
              "\n",
              "    .dataframe tbody tr th {\n",
              "        vertical-align: top;\n",
              "    }\n",
              "\n",
              "    .dataframe thead th {\n",
              "        text-align: right;\n",
              "    }\n",
              "</style>\n",
              "<table border=\"1\" class=\"dataframe\">\n",
              "  <thead>\n",
              "    <tr style=\"text-align: right;\">\n",
              "      <th>ISBN</th>\n",
              "      <th>002026478X</th>\n",
              "      <th>002542730X</th>\n",
              "      <th>0060096195</th>\n",
              "      <th>006016848X</th>\n",
              "      <th>0060173289</th>\n",
              "      <th>0060175400</th>\n",
              "      <th>006019491X</th>\n",
              "      <th>0060199652</th>\n",
              "      <th>0060391626</th>\n",
              "      <th>0060392452</th>\n",
              "      <th>0060502258</th>\n",
              "      <th>0060740450</th>\n",
              "      <th>0060915544</th>\n",
              "      <th>0060921145</th>\n",
              "      <th>0060926317</th>\n",
              "      <th>0060928336</th>\n",
              "      <th>006092988X</th>\n",
              "      <th>0060930535</th>\n",
              "      <th>0060932759</th>\n",
              "      <th>0060934417</th>\n",
              "      <th>0060938455</th>\n",
              "      <th>0060958022</th>\n",
              "      <th>0060959037</th>\n",
              "      <th>0060976845</th>\n",
              "      <th>0060977493</th>\n",
              "      <th>0060987103</th>\n",
              "      <th>0060987529</th>\n",
              "      <th>0060987561</th>\n",
              "      <th>006098824X</th>\n",
              "      <th>006099486X</th>\n",
              "      <th>0061000043</th>\n",
              "      <th>0061000175</th>\n",
              "      <th>0061009059</th>\n",
              "      <th>0061015725</th>\n",
              "      <th>0061020710</th>\n",
              "      <th>0061030597</th>\n",
              "      <th>0061031070</th>\n",
              "      <th>0061031992</th>\n",
              "      <th>0061091790</th>\n",
              "      <th>0061096113</th>\n",
              "      <th>...</th>\n",
              "      <th>0805063897</th>\n",
              "      <th>0812511816</th>\n",
              "      <th>0812543262</th>\n",
              "      <th>081297106X</th>\n",
              "      <th>0842329129</th>\n",
              "      <th>0842329218</th>\n",
              "      <th>0842329242</th>\n",
              "      <th>0842329250</th>\n",
              "      <th>0842342702</th>\n",
              "      <th>0871136791</th>\n",
              "      <th>0887307876</th>\n",
              "      <th>089480829X</th>\n",
              "      <th>0971880107</th>\n",
              "      <th>140003065X</th>\n",
              "      <th>1400031346</th>\n",
              "      <th>1400031354</th>\n",
              "      <th>1400031362</th>\n",
              "      <th>1400034779</th>\n",
              "      <th>1401088945</th>\n",
              "      <th>1551660717</th>\n",
              "      <th>155166674X</th>\n",
              "      <th>1551666839</th>\n",
              "      <th>1551668998</th>\n",
              "      <th>1551669293</th>\n",
              "      <th>155874262X</th>\n",
              "      <th>1558743669</th>\n",
              "      <th>1558744150</th>\n",
              "      <th>1558744630</th>\n",
              "      <th>1558745157</th>\n",
              "      <th>1558745718</th>\n",
              "      <th>1559029838</th>\n",
              "      <th>1565122968</th>\n",
              "      <th>1573225517</th>\n",
              "      <th>1573225789</th>\n",
              "      <th>1573227331</th>\n",
              "      <th>1573229326</th>\n",
              "      <th>1573229725</th>\n",
              "      <th>1576737330</th>\n",
              "      <th>1592400876</th>\n",
              "      <th>1878424319</th>\n",
              "    </tr>\n",
              "    <tr>\n",
              "      <th>User-ID</th>\n",
              "      <th></th>\n",
              "      <th></th>\n",
              "      <th></th>\n",
              "      <th></th>\n",
              "      <th></th>\n",
              "      <th></th>\n",
              "      <th></th>\n",
              "      <th></th>\n",
              "      <th></th>\n",
              "      <th></th>\n",
              "      <th></th>\n",
              "      <th></th>\n",
              "      <th></th>\n",
              "      <th></th>\n",
              "      <th></th>\n",
              "      <th></th>\n",
              "      <th></th>\n",
              "      <th></th>\n",
              "      <th></th>\n",
              "      <th></th>\n",
              "      <th></th>\n",
              "      <th></th>\n",
              "      <th></th>\n",
              "      <th></th>\n",
              "      <th></th>\n",
              "      <th></th>\n",
              "      <th></th>\n",
              "      <th></th>\n",
              "      <th></th>\n",
              "      <th></th>\n",
              "      <th></th>\n",
              "      <th></th>\n",
              "      <th></th>\n",
              "      <th></th>\n",
              "      <th></th>\n",
              "      <th></th>\n",
              "      <th></th>\n",
              "      <th></th>\n",
              "      <th></th>\n",
              "      <th></th>\n",
              "      <th></th>\n",
              "      <th></th>\n",
              "      <th></th>\n",
              "      <th></th>\n",
              "      <th></th>\n",
              "      <th></th>\n",
              "      <th></th>\n",
              "      <th></th>\n",
              "      <th></th>\n",
              "      <th></th>\n",
              "      <th></th>\n",
              "      <th></th>\n",
              "      <th></th>\n",
              "      <th></th>\n",
              "      <th></th>\n",
              "      <th></th>\n",
              "      <th></th>\n",
              "      <th></th>\n",
              "      <th></th>\n",
              "      <th></th>\n",
              "      <th></th>\n",
              "      <th></th>\n",
              "      <th></th>\n",
              "      <th></th>\n",
              "      <th></th>\n",
              "      <th></th>\n",
              "      <th></th>\n",
              "      <th></th>\n",
              "      <th></th>\n",
              "      <th></th>\n",
              "      <th></th>\n",
              "      <th></th>\n",
              "      <th></th>\n",
              "      <th></th>\n",
              "      <th></th>\n",
              "      <th></th>\n",
              "      <th></th>\n",
              "      <th></th>\n",
              "      <th></th>\n",
              "      <th></th>\n",
              "      <th></th>\n",
              "    </tr>\n",
              "  </thead>\n",
              "  <tbody>\n",
              "    <tr>\n",
              "      <th>3363</th>\n",
              "      <td>0.0</td>\n",
              "      <td>29.0</td>\n",
              "      <td>29.0</td>\n",
              "      <td>0.0</td>\n",
              "      <td>0.0</td>\n",
              "      <td>29.0</td>\n",
              "      <td>0.0</td>\n",
              "      <td>0.0</td>\n",
              "      <td>0.0</td>\n",
              "      <td>0.0</td>\n",
              "      <td>29.0</td>\n",
              "      <td>0.0</td>\n",
              "      <td>0.0</td>\n",
              "      <td>0.0</td>\n",
              "      <td>0.0</td>\n",
              "      <td>29.0</td>\n",
              "      <td>0.0</td>\n",
              "      <td>0.0</td>\n",
              "      <td>0.0</td>\n",
              "      <td>0.0</td>\n",
              "      <td>0.0</td>\n",
              "      <td>29.0</td>\n",
              "      <td>0.0</td>\n",
              "      <td>29.0</td>\n",
              "      <td>0.0</td>\n",
              "      <td>29.0</td>\n",
              "      <td>29.0</td>\n",
              "      <td>0.0</td>\n",
              "      <td>0.0</td>\n",
              "      <td>0.0</td>\n",
              "      <td>0.0</td>\n",
              "      <td>0.0</td>\n",
              "      <td>0.0</td>\n",
              "      <td>0.0</td>\n",
              "      <td>0.0</td>\n",
              "      <td>0.0</td>\n",
              "      <td>0.0</td>\n",
              "      <td>0.0</td>\n",
              "      <td>0.0</td>\n",
              "      <td>0.0</td>\n",
              "      <td>...</td>\n",
              "      <td>29.0</td>\n",
              "      <td>0.0</td>\n",
              "      <td>0.0</td>\n",
              "      <td>0.0</td>\n",
              "      <td>0.0</td>\n",
              "      <td>29.0</td>\n",
              "      <td>29.0</td>\n",
              "      <td>0.0</td>\n",
              "      <td>0.0</td>\n",
              "      <td>0.0</td>\n",
              "      <td>0.0</td>\n",
              "      <td>29.0</td>\n",
              "      <td>29.0</td>\n",
              "      <td>0.0</td>\n",
              "      <td>0.0</td>\n",
              "      <td>0.0</td>\n",
              "      <td>0.0</td>\n",
              "      <td>0.0</td>\n",
              "      <td>0.0</td>\n",
              "      <td>0.0</td>\n",
              "      <td>0.0</td>\n",
              "      <td>0.0</td>\n",
              "      <td>29.0</td>\n",
              "      <td>0.0</td>\n",
              "      <td>29.0</td>\n",
              "      <td>0.0</td>\n",
              "      <td>29.0</td>\n",
              "      <td>29.0</td>\n",
              "      <td>0.0</td>\n",
              "      <td>0.0</td>\n",
              "      <td>0.0</td>\n",
              "      <td>29.0</td>\n",
              "      <td>0.0</td>\n",
              "      <td>0.0</td>\n",
              "      <td>0.0</td>\n",
              "      <td>0.0</td>\n",
              "      <td>0.0</td>\n",
              "      <td>0.0</td>\n",
              "      <td>0.0</td>\n",
              "      <td>0.0</td>\n",
              "    </tr>\n",
              "    <tr>\n",
              "      <th>6251</th>\n",
              "      <td>0.0</td>\n",
              "      <td>0.0</td>\n",
              "      <td>0.0</td>\n",
              "      <td>0.0</td>\n",
              "      <td>0.0</td>\n",
              "      <td>0.0</td>\n",
              "      <td>0.0</td>\n",
              "      <td>0.0</td>\n",
              "      <td>0.0</td>\n",
              "      <td>0.0</td>\n",
              "      <td>0.0</td>\n",
              "      <td>0.0</td>\n",
              "      <td>32.0</td>\n",
              "      <td>0.0</td>\n",
              "      <td>0.0</td>\n",
              "      <td>0.0</td>\n",
              "      <td>0.0</td>\n",
              "      <td>32.0</td>\n",
              "      <td>32.0</td>\n",
              "      <td>0.0</td>\n",
              "      <td>32.0</td>\n",
              "      <td>0.0</td>\n",
              "      <td>0.0</td>\n",
              "      <td>32.0</td>\n",
              "      <td>0.0</td>\n",
              "      <td>32.0</td>\n",
              "      <td>32.0</td>\n",
              "      <td>0.0</td>\n",
              "      <td>0.0</td>\n",
              "      <td>0.0</td>\n",
              "      <td>0.0</td>\n",
              "      <td>0.0</td>\n",
              "      <td>0.0</td>\n",
              "      <td>0.0</td>\n",
              "      <td>0.0</td>\n",
              "      <td>0.0</td>\n",
              "      <td>0.0</td>\n",
              "      <td>0.0</td>\n",
              "      <td>0.0</td>\n",
              "      <td>0.0</td>\n",
              "      <td>...</td>\n",
              "      <td>32.0</td>\n",
              "      <td>0.0</td>\n",
              "      <td>0.0</td>\n",
              "      <td>32.0</td>\n",
              "      <td>0.0</td>\n",
              "      <td>0.0</td>\n",
              "      <td>0.0</td>\n",
              "      <td>0.0</td>\n",
              "      <td>0.0</td>\n",
              "      <td>0.0</td>\n",
              "      <td>0.0</td>\n",
              "      <td>0.0</td>\n",
              "      <td>32.0</td>\n",
              "      <td>0.0</td>\n",
              "      <td>0.0</td>\n",
              "      <td>32.0</td>\n",
              "      <td>32.0</td>\n",
              "      <td>32.0</td>\n",
              "      <td>0.0</td>\n",
              "      <td>0.0</td>\n",
              "      <td>0.0</td>\n",
              "      <td>0.0</td>\n",
              "      <td>0.0</td>\n",
              "      <td>0.0</td>\n",
              "      <td>0.0</td>\n",
              "      <td>0.0</td>\n",
              "      <td>0.0</td>\n",
              "      <td>0.0</td>\n",
              "      <td>0.0</td>\n",
              "      <td>0.0</td>\n",
              "      <td>0.0</td>\n",
              "      <td>0.0</td>\n",
              "      <td>0.0</td>\n",
              "      <td>0.0</td>\n",
              "      <td>0.0</td>\n",
              "      <td>0.0</td>\n",
              "      <td>0.0</td>\n",
              "      <td>0.0</td>\n",
              "      <td>0.0</td>\n",
              "      <td>0.0</td>\n",
              "    </tr>\n",
              "    <tr>\n",
              "      <th>6575</th>\n",
              "      <td>0.0</td>\n",
              "      <td>0.0</td>\n",
              "      <td>0.0</td>\n",
              "      <td>0.0</td>\n",
              "      <td>42.0</td>\n",
              "      <td>0.0</td>\n",
              "      <td>0.0</td>\n",
              "      <td>0.0</td>\n",
              "      <td>0.0</td>\n",
              "      <td>0.0</td>\n",
              "      <td>0.0</td>\n",
              "      <td>0.0</td>\n",
              "      <td>42.0</td>\n",
              "      <td>0.0</td>\n",
              "      <td>0.0</td>\n",
              "      <td>0.0</td>\n",
              "      <td>0.0</td>\n",
              "      <td>0.0</td>\n",
              "      <td>0.0</td>\n",
              "      <td>0.0</td>\n",
              "      <td>42.0</td>\n",
              "      <td>42.0</td>\n",
              "      <td>0.0</td>\n",
              "      <td>42.0</td>\n",
              "      <td>0.0</td>\n",
              "      <td>0.0</td>\n",
              "      <td>0.0</td>\n",
              "      <td>42.0</td>\n",
              "      <td>0.0</td>\n",
              "      <td>0.0</td>\n",
              "      <td>0.0</td>\n",
              "      <td>0.0</td>\n",
              "      <td>42.0</td>\n",
              "      <td>0.0</td>\n",
              "      <td>0.0</td>\n",
              "      <td>0.0</td>\n",
              "      <td>0.0</td>\n",
              "      <td>0.0</td>\n",
              "      <td>0.0</td>\n",
              "      <td>0.0</td>\n",
              "      <td>...</td>\n",
              "      <td>42.0</td>\n",
              "      <td>0.0</td>\n",
              "      <td>0.0</td>\n",
              "      <td>0.0</td>\n",
              "      <td>0.0</td>\n",
              "      <td>0.0</td>\n",
              "      <td>0.0</td>\n",
              "      <td>0.0</td>\n",
              "      <td>0.0</td>\n",
              "      <td>0.0</td>\n",
              "      <td>0.0</td>\n",
              "      <td>0.0</td>\n",
              "      <td>0.0</td>\n",
              "      <td>42.0</td>\n",
              "      <td>0.0</td>\n",
              "      <td>0.0</td>\n",
              "      <td>42.0</td>\n",
              "      <td>0.0</td>\n",
              "      <td>0.0</td>\n",
              "      <td>0.0</td>\n",
              "      <td>0.0</td>\n",
              "      <td>0.0</td>\n",
              "      <td>0.0</td>\n",
              "      <td>0.0</td>\n",
              "      <td>0.0</td>\n",
              "      <td>0.0</td>\n",
              "      <td>0.0</td>\n",
              "      <td>42.0</td>\n",
              "      <td>0.0</td>\n",
              "      <td>0.0</td>\n",
              "      <td>0.0</td>\n",
              "      <td>42.0</td>\n",
              "      <td>0.0</td>\n",
              "      <td>42.0</td>\n",
              "      <td>0.0</td>\n",
              "      <td>42.0</td>\n",
              "      <td>0.0</td>\n",
              "      <td>0.0</td>\n",
              "      <td>0.0</td>\n",
              "      <td>0.0</td>\n",
              "    </tr>\n",
              "    <tr>\n",
              "      <th>7158</th>\n",
              "      <td>0.0</td>\n",
              "      <td>0.0</td>\n",
              "      <td>0.0</td>\n",
              "      <td>0.0</td>\n",
              "      <td>0.0</td>\n",
              "      <td>0.0</td>\n",
              "      <td>0.0</td>\n",
              "      <td>0.0</td>\n",
              "      <td>0.0</td>\n",
              "      <td>0.0</td>\n",
              "      <td>0.0</td>\n",
              "      <td>0.0</td>\n",
              "      <td>30.0</td>\n",
              "      <td>0.0</td>\n",
              "      <td>0.0</td>\n",
              "      <td>0.0</td>\n",
              "      <td>0.0</td>\n",
              "      <td>0.0</td>\n",
              "      <td>0.0</td>\n",
              "      <td>0.0</td>\n",
              "      <td>0.0</td>\n",
              "      <td>0.0</td>\n",
              "      <td>0.0</td>\n",
              "      <td>30.0</td>\n",
              "      <td>0.0</td>\n",
              "      <td>0.0</td>\n",
              "      <td>0.0</td>\n",
              "      <td>0.0</td>\n",
              "      <td>0.0</td>\n",
              "      <td>0.0</td>\n",
              "      <td>0.0</td>\n",
              "      <td>0.0</td>\n",
              "      <td>0.0</td>\n",
              "      <td>0.0</td>\n",
              "      <td>0.0</td>\n",
              "      <td>0.0</td>\n",
              "      <td>0.0</td>\n",
              "      <td>0.0</td>\n",
              "      <td>0.0</td>\n",
              "      <td>0.0</td>\n",
              "      <td>...</td>\n",
              "      <td>0.0</td>\n",
              "      <td>0.0</td>\n",
              "      <td>0.0</td>\n",
              "      <td>0.0</td>\n",
              "      <td>0.0</td>\n",
              "      <td>0.0</td>\n",
              "      <td>0.0</td>\n",
              "      <td>0.0</td>\n",
              "      <td>0.0</td>\n",
              "      <td>0.0</td>\n",
              "      <td>0.0</td>\n",
              "      <td>0.0</td>\n",
              "      <td>30.0</td>\n",
              "      <td>0.0</td>\n",
              "      <td>0.0</td>\n",
              "      <td>0.0</td>\n",
              "      <td>0.0</td>\n",
              "      <td>0.0</td>\n",
              "      <td>0.0</td>\n",
              "      <td>0.0</td>\n",
              "      <td>0.0</td>\n",
              "      <td>0.0</td>\n",
              "      <td>30.0</td>\n",
              "      <td>0.0</td>\n",
              "      <td>0.0</td>\n",
              "      <td>0.0</td>\n",
              "      <td>0.0</td>\n",
              "      <td>0.0</td>\n",
              "      <td>0.0</td>\n",
              "      <td>0.0</td>\n",
              "      <td>0.0</td>\n",
              "      <td>0.0</td>\n",
              "      <td>0.0</td>\n",
              "      <td>0.0</td>\n",
              "      <td>0.0</td>\n",
              "      <td>0.0</td>\n",
              "      <td>0.0</td>\n",
              "      <td>0.0</td>\n",
              "      <td>0.0</td>\n",
              "      <td>0.0</td>\n",
              "    </tr>\n",
              "    <tr>\n",
              "      <th>7346</th>\n",
              "      <td>0.0</td>\n",
              "      <td>0.0</td>\n",
              "      <td>0.0</td>\n",
              "      <td>49.0</td>\n",
              "      <td>0.0</td>\n",
              "      <td>0.0</td>\n",
              "      <td>0.0</td>\n",
              "      <td>0.0</td>\n",
              "      <td>0.0</td>\n",
              "      <td>0.0</td>\n",
              "      <td>0.0</td>\n",
              "      <td>0.0</td>\n",
              "      <td>0.0</td>\n",
              "      <td>0.0</td>\n",
              "      <td>0.0</td>\n",
              "      <td>49.0</td>\n",
              "      <td>0.0</td>\n",
              "      <td>49.0</td>\n",
              "      <td>0.0</td>\n",
              "      <td>49.0</td>\n",
              "      <td>0.0</td>\n",
              "      <td>0.0</td>\n",
              "      <td>0.0</td>\n",
              "      <td>0.0</td>\n",
              "      <td>49.0</td>\n",
              "      <td>0.0</td>\n",
              "      <td>49.0</td>\n",
              "      <td>0.0</td>\n",
              "      <td>0.0</td>\n",
              "      <td>0.0</td>\n",
              "      <td>0.0</td>\n",
              "      <td>0.0</td>\n",
              "      <td>49.0</td>\n",
              "      <td>0.0</td>\n",
              "      <td>49.0</td>\n",
              "      <td>49.0</td>\n",
              "      <td>0.0</td>\n",
              "      <td>0.0</td>\n",
              "      <td>0.0</td>\n",
              "      <td>0.0</td>\n",
              "      <td>...</td>\n",
              "      <td>49.0</td>\n",
              "      <td>0.0</td>\n",
              "      <td>0.0</td>\n",
              "      <td>0.0</td>\n",
              "      <td>0.0</td>\n",
              "      <td>49.0</td>\n",
              "      <td>49.0</td>\n",
              "      <td>49.0</td>\n",
              "      <td>0.0</td>\n",
              "      <td>0.0</td>\n",
              "      <td>0.0</td>\n",
              "      <td>0.0</td>\n",
              "      <td>0.0</td>\n",
              "      <td>0.0</td>\n",
              "      <td>0.0</td>\n",
              "      <td>0.0</td>\n",
              "      <td>0.0</td>\n",
              "      <td>0.0</td>\n",
              "      <td>0.0</td>\n",
              "      <td>0.0</td>\n",
              "      <td>0.0</td>\n",
              "      <td>0.0</td>\n",
              "      <td>0.0</td>\n",
              "      <td>0.0</td>\n",
              "      <td>0.0</td>\n",
              "      <td>49.0</td>\n",
              "      <td>0.0</td>\n",
              "      <td>49.0</td>\n",
              "      <td>49.0</td>\n",
              "      <td>0.0</td>\n",
              "      <td>0.0</td>\n",
              "      <td>0.0</td>\n",
              "      <td>49.0</td>\n",
              "      <td>49.0</td>\n",
              "      <td>0.0</td>\n",
              "      <td>0.0</td>\n",
              "      <td>49.0</td>\n",
              "      <td>0.0</td>\n",
              "      <td>0.0</td>\n",
              "      <td>0.0</td>\n",
              "    </tr>\n",
              "  </tbody>\n",
              "</table>\n",
              "<p>5 rows × 875 columns</p>\n",
              "</div>"
            ],
            "text/plain": [
              "ISBN     002026478X  002542730X  0060096195  ...  1576737330  1592400876  1878424319\n",
              "User-ID                                      ...                                    \n",
              "3363            0.0        29.0        29.0  ...         0.0         0.0         0.0\n",
              "6251            0.0         0.0         0.0  ...         0.0         0.0         0.0\n",
              "6575            0.0         0.0         0.0  ...         0.0         0.0         0.0\n",
              "7158            0.0         0.0         0.0  ...         0.0         0.0         0.0\n",
              "7346            0.0         0.0         0.0  ...         0.0         0.0         0.0\n",
              "\n",
              "[5 rows x 875 columns]"
            ]
          },
          "metadata": {},
          "execution_count": 453
        }
      ]
    },
    {
      "cell_type": "code",
      "metadata": {
        "colab": {
          "base_uri": "https://localhost:8080/"
        },
        "id": "j1PTCYw7OrAI",
        "outputId": "7b4a7a1c-53e0-4188-a49d-31c083ee6930"
      },
      "source": [
        "# implicit_pivot_matrix = implicit_pivot_df.values\n",
        "# implicit_pivot_matrix"
      ],
      "execution_count": 454,
      "outputs": [
        {
          "output_type": "execute_result",
          "data": {
            "text/plain": [
              "array([[ 0., 29., 29., ...,  0.,  0.,  0.],\n",
              "       [ 0.,  0.,  0., ...,  0.,  0.,  0.],\n",
              "       [ 0.,  0.,  0., ...,  0.,  0.,  0.],\n",
              "       ...,\n",
              "       [ 0.,  0.,  0., ...,  0.,  0.,  0.],\n",
              "       [ 0.,  0.,  0., ...,  0.,  0.,  0.],\n",
              "       [ 0.,  0.,  0., ...,  0.,  0.,  0.]])"
            ]
          },
          "metadata": {},
          "execution_count": 454
        }
      ]
    },
    {
      "cell_type": "code",
      "metadata": {
        "id": "qOAXboCgOSxf"
      },
      "source": [
        "# # The number of factors to factor the user-item matrix.\n",
        "# NUMBER_OF_FACTORS_MF = 15\n",
        "\n",
        "# #Performs matrix factorization of the original user item matrix\n",
        "# U_implicit, sigma_implicit, Vt_implicit = svds(implicit_pivot_matrix, k = NUMBER_OF_FACTORS_MF)"
      ],
      "execution_count": 455,
      "outputs": []
    },
    {
      "cell_type": "code",
      "metadata": {
        "colab": {
          "base_uri": "https://localhost:8080/"
        },
        "id": "FucDFHb1O7mT",
        "outputId": "278274a1-f6f7-4b2b-a11f-54ab45a7a25d"
      },
      "source": [
        "# U_implicit.shape,sigma_implicit.shape,Vt_implicit.shape"
      ],
      "execution_count": 456,
      "outputs": [
        {
          "output_type": "execute_result",
          "data": {
            "text/plain": [
              "((267, 15), (15,), (15, 875))"
            ]
          },
          "metadata": {},
          "execution_count": 456
        }
      ]
    },
    {
      "cell_type": "code",
      "metadata": {
        "colab": {
          "base_uri": "https://localhost:8080/"
        },
        "id": "td0iRflGPAtN",
        "outputId": "2d6c3d4b-472b-488b-fec5-c5c51057a719"
      },
      "source": [
        "# sigma_implicit = np.diag(sigma_implicit)\n",
        "# sigma_implicit.shape"
      ],
      "execution_count": 457,
      "outputs": [
        {
          "output_type": "execute_result",
          "data": {
            "text/plain": [
              "(15, 15)"
            ]
          },
          "metadata": {},
          "execution_count": 457
        }
      ]
    },
    {
      "cell_type": "code",
      "metadata": {
        "id": "FAg54aCtPMqp"
      },
      "source": [
        "# # Predict ratings for all users\n",
        "# implicit_predicted_ratings = np.dot(np.dot(U_implicit, sigma_implicit), Vt_implicit) \n"
      ],
      "execution_count": 458,
      "outputs": []
    },
    {
      "cell_type": "code",
      "metadata": {
        "id": "73fjU6k7PVpD"
      },
      "source": [
        "# implicit_users_ids = list(implicit_pivot_df.index)"
      ],
      "execution_count": 459,
      "outputs": []
    },
    {
      "cell_type": "code",
      "metadata": {
        "colab": {
          "base_uri": "https://localhost:8080/",
          "height": 282
        },
        "id": "lAFCAazbPkSv",
        "outputId": "c0893103-812a-4c27-f11f-8e66607e4cbd"
      },
      "source": [
        "# # Convert the above matrix into dataframe\n",
        "# implicit_prediction_df = pd.DataFrame(implicit_predicted_ratings,columns=implicit_pivot_df.columns,index=implicit_users_ids).transpose()\n",
        "# implicit_prediction_df.head()"
      ],
      "execution_count": 460,
      "outputs": [
        {
          "output_type": "execute_result",
          "data": {
            "text/html": [
              "<div>\n",
              "<style scoped>\n",
              "    .dataframe tbody tr th:only-of-type {\n",
              "        vertical-align: middle;\n",
              "    }\n",
              "\n",
              "    .dataframe tbody tr th {\n",
              "        vertical-align: top;\n",
              "    }\n",
              "\n",
              "    .dataframe thead th {\n",
              "        text-align: right;\n",
              "    }\n",
              "</style>\n",
              "<table border=\"1\" class=\"dataframe\">\n",
              "  <thead>\n",
              "    <tr style=\"text-align: right;\">\n",
              "      <th></th>\n",
              "      <th>3363</th>\n",
              "      <th>6251</th>\n",
              "      <th>6575</th>\n",
              "      <th>7158</th>\n",
              "      <th>7346</th>\n",
              "      <th>11601</th>\n",
              "      <th>11676</th>\n",
              "      <th>12538</th>\n",
              "      <th>13273</th>\n",
              "      <th>13552</th>\n",
              "      <th>14422</th>\n",
              "      <th>14521</th>\n",
              "      <th>15408</th>\n",
              "      <th>16634</th>\n",
              "      <th>16795</th>\n",
              "      <th>17950</th>\n",
              "      <th>21014</th>\n",
              "      <th>23768</th>\n",
              "      <th>24921</th>\n",
              "      <th>26544</th>\n",
              "      <th>28204</th>\n",
              "      <th>29259</th>\n",
              "      <th>30533</th>\n",
              "      <th>30972</th>\n",
              "      <th>31315</th>\n",
              "      <th>31556</th>\n",
              "      <th>32195</th>\n",
              "      <th>32773</th>\n",
              "      <th>33974</th>\n",
              "      <th>35050</th>\n",
              "      <th>35857</th>\n",
              "      <th>35859</th>\n",
              "      <th>36606</th>\n",
              "      <th>36836</th>\n",
              "      <th>37950</th>\n",
              "      <th>38023</th>\n",
              "      <th>39281</th>\n",
              "      <th>39616</th>\n",
              "      <th>39646</th>\n",
              "      <th>40889</th>\n",
              "      <th>...</th>\n",
              "      <th>238526</th>\n",
              "      <th>238781</th>\n",
              "      <th>242824</th>\n",
              "      <th>244736</th>\n",
              "      <th>245827</th>\n",
              "      <th>245963</th>\n",
              "      <th>246655</th>\n",
              "      <th>247447</th>\n",
              "      <th>247752</th>\n",
              "      <th>250184</th>\n",
              "      <th>251422</th>\n",
              "      <th>251613</th>\n",
              "      <th>252071</th>\n",
              "      <th>252695</th>\n",
              "      <th>254465</th>\n",
              "      <th>254971</th>\n",
              "      <th>255489</th>\n",
              "      <th>256167</th>\n",
              "      <th>256407</th>\n",
              "      <th>258534</th>\n",
              "      <th>260897</th>\n",
              "      <th>261829</th>\n",
              "      <th>262399</th>\n",
              "      <th>263877</th>\n",
              "      <th>264317</th>\n",
              "      <th>265115</th>\n",
              "      <th>265313</th>\n",
              "      <th>266056</th>\n",
              "      <th>266226</th>\n",
              "      <th>266865</th>\n",
              "      <th>268032</th>\n",
              "      <th>268330</th>\n",
              "      <th>269566</th>\n",
              "      <th>269719</th>\n",
              "      <th>271284</th>\n",
              "      <th>273979</th>\n",
              "      <th>274308</th>\n",
              "      <th>275970</th>\n",
              "      <th>277427</th>\n",
              "      <th>278418</th>\n",
              "    </tr>\n",
              "    <tr>\n",
              "      <th>ISBN</th>\n",
              "      <th></th>\n",
              "      <th></th>\n",
              "      <th></th>\n",
              "      <th></th>\n",
              "      <th></th>\n",
              "      <th></th>\n",
              "      <th></th>\n",
              "      <th></th>\n",
              "      <th></th>\n",
              "      <th></th>\n",
              "      <th></th>\n",
              "      <th></th>\n",
              "      <th></th>\n",
              "      <th></th>\n",
              "      <th></th>\n",
              "      <th></th>\n",
              "      <th></th>\n",
              "      <th></th>\n",
              "      <th></th>\n",
              "      <th></th>\n",
              "      <th></th>\n",
              "      <th></th>\n",
              "      <th></th>\n",
              "      <th></th>\n",
              "      <th></th>\n",
              "      <th></th>\n",
              "      <th></th>\n",
              "      <th></th>\n",
              "      <th></th>\n",
              "      <th></th>\n",
              "      <th></th>\n",
              "      <th></th>\n",
              "      <th></th>\n",
              "      <th></th>\n",
              "      <th></th>\n",
              "      <th></th>\n",
              "      <th></th>\n",
              "      <th></th>\n",
              "      <th></th>\n",
              "      <th></th>\n",
              "      <th></th>\n",
              "      <th></th>\n",
              "      <th></th>\n",
              "      <th></th>\n",
              "      <th></th>\n",
              "      <th></th>\n",
              "      <th></th>\n",
              "      <th></th>\n",
              "      <th></th>\n",
              "      <th></th>\n",
              "      <th></th>\n",
              "      <th></th>\n",
              "      <th></th>\n",
              "      <th></th>\n",
              "      <th></th>\n",
              "      <th></th>\n",
              "      <th></th>\n",
              "      <th></th>\n",
              "      <th></th>\n",
              "      <th></th>\n",
              "      <th></th>\n",
              "      <th></th>\n",
              "      <th></th>\n",
              "      <th></th>\n",
              "      <th></th>\n",
              "      <th></th>\n",
              "      <th></th>\n",
              "      <th></th>\n",
              "      <th></th>\n",
              "      <th></th>\n",
              "      <th></th>\n",
              "      <th></th>\n",
              "      <th></th>\n",
              "      <th></th>\n",
              "      <th></th>\n",
              "      <th></th>\n",
              "      <th></th>\n",
              "      <th></th>\n",
              "      <th></th>\n",
              "      <th></th>\n",
              "      <th></th>\n",
              "    </tr>\n",
              "  </thead>\n",
              "  <tbody>\n",
              "    <tr>\n",
              "      <th>002026478X</th>\n",
              "      <td>4.909239</td>\n",
              "      <td>5.040206</td>\n",
              "      <td>7.670829</td>\n",
              "      <td>1.898998</td>\n",
              "      <td>10.802940</td>\n",
              "      <td>4.580701</td>\n",
              "      <td>2.588220</td>\n",
              "      <td>2.062042</td>\n",
              "      <td>-1.444638</td>\n",
              "      <td>2.881404</td>\n",
              "      <td>4.867319</td>\n",
              "      <td>2.805391</td>\n",
              "      <td>4.477457</td>\n",
              "      <td>4.695565</td>\n",
              "      <td>-7.791635</td>\n",
              "      <td>3.348804</td>\n",
              "      <td>7.251933</td>\n",
              "      <td>13.279230</td>\n",
              "      <td>3.537894</td>\n",
              "      <td>8.821924</td>\n",
              "      <td>3.486673</td>\n",
              "      <td>7.777805</td>\n",
              "      <td>2.358332</td>\n",
              "      <td>-4.267229</td>\n",
              "      <td>2.179934</td>\n",
              "      <td>8.872663</td>\n",
              "      <td>0.309730</td>\n",
              "      <td>4.210549</td>\n",
              "      <td>2.165521</td>\n",
              "      <td>6.651113</td>\n",
              "      <td>4.425288</td>\n",
              "      <td>2.104060</td>\n",
              "      <td>13.216418</td>\n",
              "      <td>20.396054</td>\n",
              "      <td>2.351149</td>\n",
              "      <td>1.852578</td>\n",
              "      <td>2.199226</td>\n",
              "      <td>2.239189</td>\n",
              "      <td>0.572068</td>\n",
              "      <td>2.798541</td>\n",
              "      <td>...</td>\n",
              "      <td>1.994075</td>\n",
              "      <td>8.729197</td>\n",
              "      <td>1.709074</td>\n",
              "      <td>2.009138</td>\n",
              "      <td>2.922516</td>\n",
              "      <td>9.338577</td>\n",
              "      <td>2.671808</td>\n",
              "      <td>0.989115</td>\n",
              "      <td>-0.166845</td>\n",
              "      <td>3.076516</td>\n",
              "      <td>2.185435</td>\n",
              "      <td>7.370270</td>\n",
              "      <td>-1.682598</td>\n",
              "      <td>-0.247069</td>\n",
              "      <td>0.350914</td>\n",
              "      <td>2.697804</td>\n",
              "      <td>2.551963</td>\n",
              "      <td>1.304600</td>\n",
              "      <td>-4.448419</td>\n",
              "      <td>1.618588</td>\n",
              "      <td>4.136872</td>\n",
              "      <td>0.323114</td>\n",
              "      <td>-5.245761</td>\n",
              "      <td>2.974713</td>\n",
              "      <td>2.370142</td>\n",
              "      <td>0.853977</td>\n",
              "      <td>1.680285</td>\n",
              "      <td>3.848327</td>\n",
              "      <td>1.435799</td>\n",
              "      <td>3.959091</td>\n",
              "      <td>3.564620</td>\n",
              "      <td>1.867594</td>\n",
              "      <td>2.227433</td>\n",
              "      <td>4.070700</td>\n",
              "      <td>2.821899</td>\n",
              "      <td>1.909367</td>\n",
              "      <td>0.179020</td>\n",
              "      <td>6.660550</td>\n",
              "      <td>2.973027</td>\n",
              "      <td>3.482900</td>\n",
              "    </tr>\n",
              "    <tr>\n",
              "      <th>002542730X</th>\n",
              "      <td>3.207661</td>\n",
              "      <td>4.429531</td>\n",
              "      <td>6.504728</td>\n",
              "      <td>1.659827</td>\n",
              "      <td>7.463964</td>\n",
              "      <td>10.791575</td>\n",
              "      <td>4.845643</td>\n",
              "      <td>0.922151</td>\n",
              "      <td>12.034452</td>\n",
              "      <td>3.976202</td>\n",
              "      <td>4.878379</td>\n",
              "      <td>7.885496</td>\n",
              "      <td>4.405377</td>\n",
              "      <td>0.809873</td>\n",
              "      <td>22.277971</td>\n",
              "      <td>2.855005</td>\n",
              "      <td>5.618580</td>\n",
              "      <td>17.675984</td>\n",
              "      <td>1.004241</td>\n",
              "      <td>8.552339</td>\n",
              "      <td>41.192379</td>\n",
              "      <td>3.394253</td>\n",
              "      <td>2.240977</td>\n",
              "      <td>-3.610876</td>\n",
              "      <td>1.367236</td>\n",
              "      <td>4.327082</td>\n",
              "      <td>1.985039</td>\n",
              "      <td>4.213459</td>\n",
              "      <td>2.122412</td>\n",
              "      <td>1.970078</td>\n",
              "      <td>-0.196776</td>\n",
              "      <td>6.641943</td>\n",
              "      <td>12.306800</td>\n",
              "      <td>14.053873</td>\n",
              "      <td>3.301370</td>\n",
              "      <td>2.531138</td>\n",
              "      <td>-0.728813</td>\n",
              "      <td>3.121615</td>\n",
              "      <td>-0.476442</td>\n",
              "      <td>1.700725</td>\n",
              "      <td>...</td>\n",
              "      <td>0.217241</td>\n",
              "      <td>8.725687</td>\n",
              "      <td>-1.127887</td>\n",
              "      <td>0.622966</td>\n",
              "      <td>4.267572</td>\n",
              "      <td>6.926413</td>\n",
              "      <td>2.299720</td>\n",
              "      <td>0.316489</td>\n",
              "      <td>3.389184</td>\n",
              "      <td>2.077861</td>\n",
              "      <td>1.460989</td>\n",
              "      <td>5.497423</td>\n",
              "      <td>-0.265574</td>\n",
              "      <td>1.238804</td>\n",
              "      <td>1.137668</td>\n",
              "      <td>0.333511</td>\n",
              "      <td>1.586572</td>\n",
              "      <td>0.782739</td>\n",
              "      <td>-9.086142</td>\n",
              "      <td>0.202168</td>\n",
              "      <td>0.569549</td>\n",
              "      <td>-1.713729</td>\n",
              "      <td>6.599092</td>\n",
              "      <td>1.097016</td>\n",
              "      <td>2.326324</td>\n",
              "      <td>1.817087</td>\n",
              "      <td>3.184754</td>\n",
              "      <td>3.382227</td>\n",
              "      <td>3.647546</td>\n",
              "      <td>2.452907</td>\n",
              "      <td>2.502515</td>\n",
              "      <td>4.146473</td>\n",
              "      <td>2.395693</td>\n",
              "      <td>0.966460</td>\n",
              "      <td>3.590096</td>\n",
              "      <td>-0.988870</td>\n",
              "      <td>3.004670</td>\n",
              "      <td>5.490068</td>\n",
              "      <td>3.685688</td>\n",
              "      <td>2.529775</td>\n",
              "    </tr>\n",
              "    <tr>\n",
              "      <th>0060096195</th>\n",
              "      <td>4.567993</td>\n",
              "      <td>3.196743</td>\n",
              "      <td>7.180934</td>\n",
              "      <td>3.937721</td>\n",
              "      <td>6.826204</td>\n",
              "      <td>3.113867</td>\n",
              "      <td>2.390189</td>\n",
              "      <td>-0.920478</td>\n",
              "      <td>2.218954</td>\n",
              "      <td>9.469101</td>\n",
              "      <td>5.288369</td>\n",
              "      <td>-6.858637</td>\n",
              "      <td>1.841548</td>\n",
              "      <td>2.232656</td>\n",
              "      <td>39.002285</td>\n",
              "      <td>2.586550</td>\n",
              "      <td>4.940088</td>\n",
              "      <td>7.453823</td>\n",
              "      <td>2.900309</td>\n",
              "      <td>0.699409</td>\n",
              "      <td>9.694585</td>\n",
              "      <td>5.196608</td>\n",
              "      <td>2.608301</td>\n",
              "      <td>2.970521</td>\n",
              "      <td>15.647807</td>\n",
              "      <td>-8.804152</td>\n",
              "      <td>1.544624</td>\n",
              "      <td>2.051431</td>\n",
              "      <td>0.935041</td>\n",
              "      <td>-1.669928</td>\n",
              "      <td>4.645329</td>\n",
              "      <td>7.823197</td>\n",
              "      <td>6.812373</td>\n",
              "      <td>8.733344</td>\n",
              "      <td>0.995889</td>\n",
              "      <td>-0.406436</td>\n",
              "      <td>6.413769</td>\n",
              "      <td>-0.448724</td>\n",
              "      <td>-0.636503</td>\n",
              "      <td>6.396749</td>\n",
              "      <td>...</td>\n",
              "      <td>0.954874</td>\n",
              "      <td>24.963302</td>\n",
              "      <td>1.500488</td>\n",
              "      <td>1.361825</td>\n",
              "      <td>2.700726</td>\n",
              "      <td>-4.067669</td>\n",
              "      <td>2.426430</td>\n",
              "      <td>1.892363</td>\n",
              "      <td>3.486889</td>\n",
              "      <td>4.881414</td>\n",
              "      <td>0.697084</td>\n",
              "      <td>2.823467</td>\n",
              "      <td>7.466472</td>\n",
              "      <td>5.515872</td>\n",
              "      <td>6.640790</td>\n",
              "      <td>-0.681921</td>\n",
              "      <td>0.287152</td>\n",
              "      <td>1.784377</td>\n",
              "      <td>-9.239438</td>\n",
              "      <td>2.124150</td>\n",
              "      <td>-2.129872</td>\n",
              "      <td>3.951194</td>\n",
              "      <td>12.450074</td>\n",
              "      <td>1.964322</td>\n",
              "      <td>2.103347</td>\n",
              "      <td>8.087010</td>\n",
              "      <td>-3.936857</td>\n",
              "      <td>6.401586</td>\n",
              "      <td>3.056126</td>\n",
              "      <td>1.807132</td>\n",
              "      <td>-0.773636</td>\n",
              "      <td>1.698904</td>\n",
              "      <td>-0.831422</td>\n",
              "      <td>2.801289</td>\n",
              "      <td>-9.593276</td>\n",
              "      <td>0.197555</td>\n",
              "      <td>2.211990</td>\n",
              "      <td>-0.898963</td>\n",
              "      <td>1.896034</td>\n",
              "      <td>-0.378997</td>\n",
              "    </tr>\n",
              "    <tr>\n",
              "      <th>006016848X</th>\n",
              "      <td>5.004552</td>\n",
              "      <td>5.464385</td>\n",
              "      <td>8.713504</td>\n",
              "      <td>1.822968</td>\n",
              "      <td>11.939471</td>\n",
              "      <td>2.805204</td>\n",
              "      <td>4.541449</td>\n",
              "      <td>1.699218</td>\n",
              "      <td>-4.788587</td>\n",
              "      <td>3.659462</td>\n",
              "      <td>4.800870</td>\n",
              "      <td>1.056774</td>\n",
              "      <td>4.212055</td>\n",
              "      <td>5.099578</td>\n",
              "      <td>-10.424659</td>\n",
              "      <td>4.046823</td>\n",
              "      <td>7.111137</td>\n",
              "      <td>10.829359</td>\n",
              "      <td>1.625411</td>\n",
              "      <td>7.264875</td>\n",
              "      <td>0.989835</td>\n",
              "      <td>5.762907</td>\n",
              "      <td>2.729226</td>\n",
              "      <td>0.339044</td>\n",
              "      <td>1.994281</td>\n",
              "      <td>7.823895</td>\n",
              "      <td>-1.576765</td>\n",
              "      <td>3.653014</td>\n",
              "      <td>2.291335</td>\n",
              "      <td>5.583118</td>\n",
              "      <td>4.292692</td>\n",
              "      <td>3.151892</td>\n",
              "      <td>7.495517</td>\n",
              "      <td>22.170414</td>\n",
              "      <td>1.904060</td>\n",
              "      <td>1.864882</td>\n",
              "      <td>2.351870</td>\n",
              "      <td>2.234465</td>\n",
              "      <td>3.154358</td>\n",
              "      <td>3.218251</td>\n",
              "      <td>...</td>\n",
              "      <td>2.112559</td>\n",
              "      <td>9.735536</td>\n",
              "      <td>1.902853</td>\n",
              "      <td>2.272987</td>\n",
              "      <td>1.689786</td>\n",
              "      <td>4.440723</td>\n",
              "      <td>1.194939</td>\n",
              "      <td>1.024614</td>\n",
              "      <td>0.577318</td>\n",
              "      <td>4.486186</td>\n",
              "      <td>1.539084</td>\n",
              "      <td>4.888686</td>\n",
              "      <td>0.676706</td>\n",
              "      <td>1.363337</td>\n",
              "      <td>1.367615</td>\n",
              "      <td>5.946624</td>\n",
              "      <td>2.906761</td>\n",
              "      <td>1.223325</td>\n",
              "      <td>-7.021171</td>\n",
              "      <td>3.805250</td>\n",
              "      <td>3.894747</td>\n",
              "      <td>1.643448</td>\n",
              "      <td>2.665903</td>\n",
              "      <td>4.127252</td>\n",
              "      <td>2.980753</td>\n",
              "      <td>1.976280</td>\n",
              "      <td>3.636141</td>\n",
              "      <td>2.692614</td>\n",
              "      <td>2.231064</td>\n",
              "      <td>3.860097</td>\n",
              "      <td>3.105432</td>\n",
              "      <td>1.648594</td>\n",
              "      <td>1.233715</td>\n",
              "      <td>2.762089</td>\n",
              "      <td>-1.460633</td>\n",
              "      <td>1.281490</td>\n",
              "      <td>-0.358106</td>\n",
              "      <td>6.718428</td>\n",
              "      <td>3.576177</td>\n",
              "      <td>1.909696</td>\n",
              "    </tr>\n",
              "    <tr>\n",
              "      <th>0060173289</th>\n",
              "      <td>0.128338</td>\n",
              "      <td>4.218654</td>\n",
              "      <td>3.858399</td>\n",
              "      <td>0.907303</td>\n",
              "      <td>1.007041</td>\n",
              "      <td>4.091663</td>\n",
              "      <td>4.771335</td>\n",
              "      <td>1.060974</td>\n",
              "      <td>-2.706508</td>\n",
              "      <td>1.524170</td>\n",
              "      <td>4.002032</td>\n",
              "      <td>6.672563</td>\n",
              "      <td>3.524487</td>\n",
              "      <td>2.312464</td>\n",
              "      <td>4.364533</td>\n",
              "      <td>2.318251</td>\n",
              "      <td>3.521110</td>\n",
              "      <td>10.674611</td>\n",
              "      <td>-0.276030</td>\n",
              "      <td>2.288866</td>\n",
              "      <td>17.137982</td>\n",
              "      <td>1.763540</td>\n",
              "      <td>1.432303</td>\n",
              "      <td>1.282780</td>\n",
              "      <td>0.939867</td>\n",
              "      <td>2.501314</td>\n",
              "      <td>1.380368</td>\n",
              "      <td>2.368273</td>\n",
              "      <td>1.609715</td>\n",
              "      <td>0.634452</td>\n",
              "      <td>2.468499</td>\n",
              "      <td>3.387082</td>\n",
              "      <td>3.654728</td>\n",
              "      <td>8.987212</td>\n",
              "      <td>1.566153</td>\n",
              "      <td>0.526928</td>\n",
              "      <td>0.866909</td>\n",
              "      <td>0.101473</td>\n",
              "      <td>3.181553</td>\n",
              "      <td>-0.773677</td>\n",
              "      <td>...</td>\n",
              "      <td>-1.071137</td>\n",
              "      <td>-2.163498</td>\n",
              "      <td>-1.653468</td>\n",
              "      <td>0.645657</td>\n",
              "      <td>1.407529</td>\n",
              "      <td>3.520968</td>\n",
              "      <td>1.271464</td>\n",
              "      <td>-1.495695</td>\n",
              "      <td>2.091218</td>\n",
              "      <td>2.124816</td>\n",
              "      <td>1.180049</td>\n",
              "      <td>3.346875</td>\n",
              "      <td>0.755058</td>\n",
              "      <td>-0.462104</td>\n",
              "      <td>1.313385</td>\n",
              "      <td>2.825533</td>\n",
              "      <td>2.927978</td>\n",
              "      <td>-0.018785</td>\n",
              "      <td>-0.385091</td>\n",
              "      <td>2.248654</td>\n",
              "      <td>2.067911</td>\n",
              "      <td>-0.534344</td>\n",
              "      <td>6.154712</td>\n",
              "      <td>1.293820</td>\n",
              "      <td>1.427637</td>\n",
              "      <td>0.269173</td>\n",
              "      <td>3.907670</td>\n",
              "      <td>0.599533</td>\n",
              "      <td>3.044244</td>\n",
              "      <td>1.564506</td>\n",
              "      <td>1.025521</td>\n",
              "      <td>1.654603</td>\n",
              "      <td>1.563338</td>\n",
              "      <td>-1.589529</td>\n",
              "      <td>4.118593</td>\n",
              "      <td>0.018078</td>\n",
              "      <td>3.027311</td>\n",
              "      <td>4.645431</td>\n",
              "      <td>-1.089691</td>\n",
              "      <td>2.339312</td>\n",
              "    </tr>\n",
              "  </tbody>\n",
              "</table>\n",
              "<p>5 rows × 267 columns</p>\n",
              "</div>"
            ],
            "text/plain": [
              "              3363      6251      6575    ...    275970    277427    278418\n",
              "ISBN                                      ...                              \n",
              "002026478X  4.909239  5.040206  7.670829  ...  6.660550  2.973027  3.482900\n",
              "002542730X  3.207661  4.429531  6.504728  ...  5.490068  3.685688  2.529775\n",
              "0060096195  4.567993  3.196743  7.180934  ... -0.898963  1.896034 -0.378997\n",
              "006016848X  5.004552  5.464385  8.713504  ...  6.718428  3.576177  1.909696\n",
              "0060173289  0.128338  4.218654  3.858399  ...  4.645431 -1.089691  2.339312\n",
              "\n",
              "[5 rows x 267 columns]"
            ]
          },
          "metadata": {},
          "execution_count": 460
        }
      ]
    },
    {
      "cell_type": "code",
      "metadata": {
        "colab": {
          "base_uri": "https://localhost:8080/"
        },
        "id": "yR0ygzzZP2Yw",
        "outputId": "66289581-443b-4621-c72f-f30fb40c08c4"
      },
      "source": [
        "# len(implicit_prediction_df.columns)"
      ],
      "execution_count": 461,
      "outputs": [
        {
          "output_type": "execute_result",
          "data": {
            "text/plain": [
              "267"
            ]
          },
          "metadata": {},
          "execution_count": 461
        }
      ]
    },
    {
      "cell_type": "code",
      "metadata": {
        "colab": {
          "base_uri": "https://localhost:8080/"
        },
        "id": "VMidUj3MWI4D",
        "outputId": "92e24ede-e275-40ad-f207-40e74185d937"
      },
      "source": [
        "# # Original data has repeating ISBNs\n",
        "# data[['ISBN']].shape"
      ],
      "execution_count": 462,
      "outputs": [
        {
          "output_type": "execute_result",
          "data": {
            "text/plain": [
              "(916933, 1)"
            ]
          },
          "metadata": {},
          "execution_count": 462
        }
      ]
    },
    {
      "cell_type": "code",
      "metadata": {
        "id": "XwyLhB_YV7Bs"
      },
      "source": [
        "# # Create a dataframe mapping each book to its unique ISBN\n",
        "# ISBN_df = data[['ISBN']].drop_duplicates()\n",
        "# unique_isbn_df = ISBN_df.merge(books_df,on='ISBN',how='left')"
      ],
      "execution_count": 463,
      "outputs": []
    },
    {
      "cell_type": "code",
      "metadata": {
        "id": "tteflzoLQRga"
      },
      "source": [
        "# # Build Recommendet class\n",
        "# class CFRecommender:\n",
        "    \n",
        "#     MODEL_NAME = 'Collaborative Filtering'\n",
        "    \n",
        "#     def __init__(self, cf_predictions_df, items_df=None):\n",
        "#         self.cf_predictions_df = cf_predictions_df\n",
        "#         self.items_df = items_df\n",
        "        \n",
        "#     def get_model_name(self):\n",
        "#         return self.MODEL_NAME\n",
        "        \n",
        "#     def recommend_items(self, user_id, items_to_ignore=[], topn=10, verbose=False):\n",
        "#         # Get and sort the user's predictions\n",
        "#         sorted_user_predictions = self.cf_predictions_df[user_id].sort_values(ascending=False).reset_index().rename(columns={user_id: 'recStrength'})\n",
        "\n",
        "#         # Recommend the highest predicted rating content that the user hasn't seen yet.\n",
        "#         recommendations_df = sorted_user_predictions[~sorted_user_predictions['ISBN'].isin(items_to_ignore)].sort_values('recStrength', ascending = False).head(topn)\n",
        "\n",
        "#         if verbose:\n",
        "#             if self.items_df is None:\n",
        "#                 raise Exception('\"items_df\" is required in verbose mode')\n",
        "\n",
        "#             recommendations_df = recommendations_df.merge(self.items_df, how = 'inner', \n",
        "#                                                           left_on = 'ISBN', \n",
        "#                                                           right_on = 'ISBN')[['recStrength', 'ISBN', 'Book-Title']]\n",
        "\n",
        "\n",
        "#         return recommendations_df"
      ],
      "execution_count": 464,
      "outputs": []
    },
    {
      "cell_type": "code",
      "metadata": {
        "id": "Ppndd4XXQmOi"
      },
      "source": [
        "# recom = CFRecommender(implicit_prediction_df,unique_isbn_df)"
      ],
      "execution_count": 465,
      "outputs": []
    },
    {
      "cell_type": "code",
      "metadata": {
        "colab": {
          "base_uri": "https://localhost:8080/",
          "height": 356
        },
        "id": "t-YVsEd-QqjK",
        "outputId": "5bdbbc5f-0a8a-437d-d725-6b9f0ca620ab"
      },
      "source": [
        "# recom.recommend_items(3363,verbose=True)"
      ],
      "execution_count": 467,
      "outputs": [
        {
          "output_type": "execute_result",
          "data": {
            "text/html": [
              "<div>\n",
              "<style scoped>\n",
              "    .dataframe tbody tr th:only-of-type {\n",
              "        vertical-align: middle;\n",
              "    }\n",
              "\n",
              "    .dataframe tbody tr th {\n",
              "        vertical-align: top;\n",
              "    }\n",
              "\n",
              "    .dataframe thead th {\n",
              "        text-align: right;\n",
              "    }\n",
              "</style>\n",
              "<table border=\"1\" class=\"dataframe\">\n",
              "  <thead>\n",
              "    <tr style=\"text-align: right;\">\n",
              "      <th></th>\n",
              "      <th>recStrength</th>\n",
              "      <th>ISBN</th>\n",
              "      <th>Book-Title</th>\n",
              "    </tr>\n",
              "  </thead>\n",
              "  <tbody>\n",
              "    <tr>\n",
              "      <th>0</th>\n",
              "      <td>16.144219</td>\n",
              "      <td>0060928336</td>\n",
              "      <td>Divine Secrets of the Ya-Ya Sisterhood: A Novel</td>\n",
              "    </tr>\n",
              "    <tr>\n",
              "      <th>1</th>\n",
              "      <td>16.068299</td>\n",
              "      <td>0743418174</td>\n",
              "      <td>Good in Bed</td>\n",
              "    </tr>\n",
              "    <tr>\n",
              "      <th>2</th>\n",
              "      <td>15.730824</td>\n",
              "      <td>0971880107</td>\n",
              "      <td>Wild Animus</td>\n",
              "    </tr>\n",
              "    <tr>\n",
              "      <th>3</th>\n",
              "      <td>14.915816</td>\n",
              "      <td>0316666343</td>\n",
              "      <td>The Lovely Bones: A Novel</td>\n",
              "    </tr>\n",
              "    <tr>\n",
              "      <th>4</th>\n",
              "      <td>14.728529</td>\n",
              "      <td>0375727345</td>\n",
              "      <td>House of Sand and Fog</td>\n",
              "    </tr>\n",
              "    <tr>\n",
              "      <th>5</th>\n",
              "      <td>13.768146</td>\n",
              "      <td>0316601950</td>\n",
              "      <td>The Pilot's Wife : A Novel</td>\n",
              "    </tr>\n",
              "    <tr>\n",
              "      <th>6</th>\n",
              "      <td>12.551122</td>\n",
              "      <td>0060976845</td>\n",
              "      <td>Little Altars Everywhere: A Novel</td>\n",
              "    </tr>\n",
              "    <tr>\n",
              "      <th>7</th>\n",
              "      <td>12.011765</td>\n",
              "      <td>0553268880</td>\n",
              "      <td>The Prince of Tides</td>\n",
              "    </tr>\n",
              "    <tr>\n",
              "      <th>8</th>\n",
              "      <td>11.631338</td>\n",
              "      <td>0671003755</td>\n",
              "      <td>She's Come Undone (Oprah's Book Club (Paperback))</td>\n",
              "    </tr>\n",
              "    <tr>\n",
              "      <th>9</th>\n",
              "      <td>11.433724</td>\n",
              "      <td>0679772677</td>\n",
              "      <td>A Civil Action</td>\n",
              "    </tr>\n",
              "  </tbody>\n",
              "</table>\n",
              "</div>"
            ],
            "text/plain": [
              "   recStrength        ISBN                                         Book-Title\n",
              "0    16.144219  0060928336    Divine Secrets of the Ya-Ya Sisterhood: A Novel\n",
              "1    16.068299  0743418174                                        Good in Bed\n",
              "2    15.730824  0971880107                                        Wild Animus\n",
              "3    14.915816  0316666343                          The Lovely Bones: A Novel\n",
              "4    14.728529  0375727345                              House of Sand and Fog\n",
              "5    13.768146  0316601950                         The Pilot's Wife : A Novel\n",
              "6    12.551122  0060976845                  Little Altars Everywhere: A Novel\n",
              "7    12.011765  0553268880                                The Prince of Tides\n",
              "8    11.631338  0671003755  She's Come Undone (Oprah's Book Club (Paperback))\n",
              "9    11.433724  0679772677                                     A Civil Action"
            ]
          },
          "metadata": {},
          "execution_count": 467
        }
      ]
    },
    {
      "cell_type": "code",
      "metadata": {
        "id": "JqNbF9sNVTuM"
      },
      "source": [
        ""
      ],
      "execution_count": 405,
      "outputs": []
    },
    {
      "cell_type": "code",
      "metadata": {
        "id": "mVqwqfzAVvPU"
      },
      "source": [
        "# #Indexing by personId to speed up the searches during evaluation\n",
        "# implicit_full_indexed_df = select_implicit_df.set_index('User-ID')\n",
        "# implicit_train_indexed_df = implicit_interactions_train_df.set_index('User-ID')\n",
        "# implicit_test_indexed_df = implicit_interactions_test_df.set_index('User-ID')"
      ],
      "execution_count": 468,
      "outputs": []
    },
    {
      "cell_type": "code",
      "metadata": {
        "id": "7x4zNQi0fmAG"
      },
      "source": [
        "# def get_items_interacted(person_id, interactions_df):\n",
        "#     interacted_items = interactions_df.loc[person_id]['ISBN']\n",
        "#     return set(interacted_items if type(interacted_items) == pd.Series else [interacted_items])"
      ],
      "execution_count": 473,
      "outputs": []
    },
    {
      "cell_type": "code",
      "metadata": {
        "id": "G7UfaoY0fxno"
      },
      "source": [
        "# #Top-N accuracy metrics consts\n",
        "# EVAL_RANDOM_SAMPLE_NON_INTERACTED_ITEMS = 100\n",
        "\n",
        "# class ModelEvaluator:\n",
        "\n",
        "#     # Function for getting the set of items which a user has not interacted with\n",
        "#     def get_not_interacted_items_sample(self, person_id, sample_size, seed=23):\n",
        "#         interacted_items = get_items_interacted(person_id, implicit_full_indexed_df)\n",
        "#         all_items = set(data['ISBN'])\n",
        "#         non_interacted_items = all_items - interacted_items\n",
        "\n",
        "#         random.seed(seed)\n",
        "#         non_interacted_items_sample = random.sample(non_interacted_items, sample_size)\n",
        "#         return set(non_interacted_items_sample)\n",
        "\n",
        "#     # Function to verify whether a particular item_id was present in the set of top N recommended items\n",
        "#     def _verify_hit_top_n(self, item_id, recommended_items, topn):        \n",
        "#             try:\n",
        "#                 index = next(i for i, c in enumerate(recommended_items) if c == item_id)\n",
        "#             except:\n",
        "#                 index = -1\n",
        "#             hit = int(index in range(0, topn))\n",
        "#             return hit, index\n",
        "    \n",
        "#     # Function to evaluate the performance of model for each user\n",
        "#     def evaluate_model_for_user(self, model, person_id):\n",
        "        \n",
        "#         # Getting the items in test set\n",
        "#         interacted_values_testset = implicit_test_indexed_df.loc[person_id]\n",
        "        \n",
        "#         if type(interacted_values_testset['ISBN']) == pd.Series:\n",
        "#             person_interacted_items_testset = set(interacted_values_testset['ISBN'])\n",
        "#         else:\n",
        "#             person_interacted_items_testset = set([(interacted_values_testset['ISBN'])])\n",
        "            \n",
        "#         interacted_items_count_testset = len(person_interacted_items_testset) \n",
        "\n",
        "#         # Getting a ranked recommendation list from the model for a given user\n",
        "#         person_recs_df = model.recommend_items(person_id, items_to_ignore=get_items_interacted(person_id, implicit_train_indexed_df),topn=10000000000)\n",
        "\n",
        "#         hits_at_5_count = 0\n",
        "#         hits_at_10_count = 0\n",
        "        \n",
        "#         # For each item the user has interacted in test set\n",
        "#         for item_id in person_interacted_items_testset:\n",
        "            \n",
        "#             # Getting a random sample of 100 items the user has not interacted with\n",
        "#             non_interacted_items_sample = self.get_not_interacted_items_sample(person_id, sample_size=EVAL_RANDOM_SAMPLE_NON_INTERACTED_ITEMS, seed=person_id%(2**32))\n",
        "\n",
        "#             # Combining the current interacted item with the 100 random items\n",
        "#             items_to_filter_recs = non_interacted_items_sample.union(set([item_id]))\n",
        "\n",
        "#             # Filtering only recommendations that are either the interacted item or from a random sample of 100 non-interacted items\n",
        "#             valid_recs_df = person_recs_df[person_recs_df['ISBN'].isin(items_to_filter_recs)]                    \n",
        "#             valid_recs = valid_recs_df['ISBN'].values\n",
        "            \n",
        "#             # Verifying if the current interacted item is among the Top-N recommended items\n",
        "#             hit_at_5, index_at_5 = self._verify_hit_top_n(item_id, valid_recs, 5)\n",
        "#             hits_at_5_count += hit_at_5\n",
        "#             hit_at_10, index_at_10 = self._verify_hit_top_n(item_id, valid_recs, 10)\n",
        "#             hits_at_10_count += hit_at_10\n",
        "\n",
        "#         # Recall is the rate of the interacted items that are ranked among the Top-N recommended items\n",
        "#         recall_at_5 = hits_at_5_count / float(interacted_items_count_testset)\n",
        "#         recall_at_10 = hits_at_10_count / float(interacted_items_count_testset)\n",
        "\n",
        "#         person_metrics = {'hits@5_count':hits_at_5_count, \n",
        "#                           'hits@10_count':hits_at_10_count, \n",
        "#                           'interacted_count': interacted_items_count_testset,\n",
        "#                           'recall@5': recall_at_5,\n",
        "#                           'recall@10': recall_at_10}\n",
        "#         return person_metrics\n",
        "\n",
        "    \n",
        "#     # Function to evaluate the performance of model at overall level\n",
        "#     def evaluate_model(self, model):\n",
        "        \n",
        "#         people_metrics = []\n",
        "        \n",
        "#         for idx, person_id in enumerate(list(implicit_test_indexed_df.index.unique().values)):    \n",
        "#             person_metrics = self.evaluate_model_for_user(model, person_id)  \n",
        "#             person_metrics['_person_id'] = person_id\n",
        "#             people_metrics.append(person_metrics)\n",
        "            \n",
        "#         print('%d users processed' % idx)\n",
        "\n",
        "#         detailed_results_df = pd.DataFrame(people_metrics).sort_values('interacted_count', ascending=False)\n",
        "        \n",
        "#         global_recall_at_5 = detailed_results_df['hits@5_count'].sum() / float(detailed_results_df['interacted_count'].sum())\n",
        "#         global_recall_at_10 = detailed_results_df['hits@10_count'].sum() / float(detailed_results_df['interacted_count'].sum())\n",
        "        \n",
        "#         global_metrics = {'modelName': model.get_model_name(),\n",
        "#                           'recall@5': global_recall_at_5,\n",
        "#                           'recall@10': global_recall_at_10}    \n",
        "#         return global_metrics, detailed_results_df\n",
        "    \n"
      ],
      "execution_count": 477,
      "outputs": []
    },
    {
      "cell_type": "code",
      "metadata": {
        "id": "FsdP1_8Wf9rx"
      },
      "source": [
        "# implicit_model_evaluator = ModelEvaluator()    "
      ],
      "execution_count": 478,
      "outputs": []
    },
    {
      "cell_type": "code",
      "metadata": {
        "colab": {
          "base_uri": "https://localhost:8080/",
          "height": 440
        },
        "id": "xt1ooECZgQQ8",
        "outputId": "1d3c5d40-1a14-491e-af7a-c20dcafe34c8"
      },
      "source": [
        "# print('Evaluating Collaborative Filtering (SVD Matrix Factorization) model...')\n",
        "# implicit_global_metrics, implicit_detailed_results_df = implicit_model_evaluator.evaluate_model(recom)\n",
        "\n",
        "# print('\\nGlobal metrics:\\n%s' % implicit_global_metrics)\n",
        "# implicit_detailed_results_df.head(10)"
      ],
      "execution_count": 479,
      "outputs": [
        {
          "output_type": "stream",
          "name": "stdout",
          "text": [
            "Evaluating Collaborative Filtering (SVD Matrix Factorization) model...\n",
            "266 users processed\n",
            "\n",
            "Global metrics:\n",
            "{'modelName': 'Collaborative Filtering', 'recall@5': 1.0, 'recall@10': 1.0}\n"
          ]
        },
        {
          "output_type": "execute_result",
          "data": {
            "text/html": [
              "<div>\n",
              "<style scoped>\n",
              "    .dataframe tbody tr th:only-of-type {\n",
              "        vertical-align: middle;\n",
              "    }\n",
              "\n",
              "    .dataframe tbody tr th {\n",
              "        vertical-align: top;\n",
              "    }\n",
              "\n",
              "    .dataframe thead th {\n",
              "        text-align: right;\n",
              "    }\n",
              "</style>\n",
              "<table border=\"1\" class=\"dataframe\">\n",
              "  <thead>\n",
              "    <tr style=\"text-align: right;\">\n",
              "      <th></th>\n",
              "      <th>hits@5_count</th>\n",
              "      <th>hits@10_count</th>\n",
              "      <th>interacted_count</th>\n",
              "      <th>recall@5</th>\n",
              "      <th>recall@10</th>\n",
              "      <th>_person_id</th>\n",
              "    </tr>\n",
              "  </thead>\n",
              "  <tbody>\n",
              "    <tr>\n",
              "      <th>42</th>\n",
              "      <td>73</td>\n",
              "      <td>73</td>\n",
              "      <td>73</td>\n",
              "      <td>1.0</td>\n",
              "      <td>1.0</td>\n",
              "      <td>76352</td>\n",
              "    </tr>\n",
              "    <tr>\n",
              "      <th>89</th>\n",
              "      <td>65</td>\n",
              "      <td>65</td>\n",
              "      <td>65</td>\n",
              "      <td>1.0</td>\n",
              "      <td>1.0</td>\n",
              "      <td>35859</td>\n",
              "    </tr>\n",
              "    <tr>\n",
              "      <th>66</th>\n",
              "      <td>57</td>\n",
              "      <td>57</td>\n",
              "      <td>57</td>\n",
              "      <td>1.0</td>\n",
              "      <td>1.0</td>\n",
              "      <td>102967</td>\n",
              "    </tr>\n",
              "    <tr>\n",
              "      <th>45</th>\n",
              "      <td>53</td>\n",
              "      <td>53</td>\n",
              "      <td>53</td>\n",
              "      <td>1.0</td>\n",
              "      <td>1.0</td>\n",
              "      <td>11676</td>\n",
              "    </tr>\n",
              "    <tr>\n",
              "      <th>23</th>\n",
              "      <td>51</td>\n",
              "      <td>51</td>\n",
              "      <td>51</td>\n",
              "      <td>1.0</td>\n",
              "      <td>1.0</td>\n",
              "      <td>198711</td>\n",
              "    </tr>\n",
              "    <tr>\n",
              "      <th>18</th>\n",
              "      <td>51</td>\n",
              "      <td>51</td>\n",
              "      <td>51</td>\n",
              "      <td>1.0</td>\n",
              "      <td>1.0</td>\n",
              "      <td>55492</td>\n",
              "    </tr>\n",
              "    <tr>\n",
              "      <th>32</th>\n",
              "      <td>48</td>\n",
              "      <td>48</td>\n",
              "      <td>48</td>\n",
              "      <td>1.0</td>\n",
              "      <td>1.0</td>\n",
              "      <td>185233</td>\n",
              "    </tr>\n",
              "    <tr>\n",
              "      <th>46</th>\n",
              "      <td>48</td>\n",
              "      <td>48</td>\n",
              "      <td>48</td>\n",
              "      <td>1.0</td>\n",
              "      <td>1.0</td>\n",
              "      <td>78783</td>\n",
              "    </tr>\n",
              "    <tr>\n",
              "      <th>146</th>\n",
              "      <td>48</td>\n",
              "      <td>48</td>\n",
              "      <td>48</td>\n",
              "      <td>1.0</td>\n",
              "      <td>1.0</td>\n",
              "      <td>23768</td>\n",
              "    </tr>\n",
              "    <tr>\n",
              "      <th>82</th>\n",
              "      <td>47</td>\n",
              "      <td>47</td>\n",
              "      <td>47</td>\n",
              "      <td>1.0</td>\n",
              "      <td>1.0</td>\n",
              "      <td>230522</td>\n",
              "    </tr>\n",
              "  </tbody>\n",
              "</table>\n",
              "</div>"
            ],
            "text/plain": [
              "     hits@5_count  hits@10_count  ...  recall@10  _person_id\n",
              "42             73             73  ...        1.0       76352\n",
              "89             65             65  ...        1.0       35859\n",
              "66             57             57  ...        1.0      102967\n",
              "45             53             53  ...        1.0       11676\n",
              "23             51             51  ...        1.0      198711\n",
              "18             51             51  ...        1.0       55492\n",
              "32             48             48  ...        1.0      185233\n",
              "46             48             48  ...        1.0       78783\n",
              "146            48             48  ...        1.0       23768\n",
              "82             47             47  ...        1.0      230522\n",
              "\n",
              "[10 rows x 6 columns]"
            ]
          },
          "metadata": {},
          "execution_count": 479
        }
      ]
    },
    {
      "cell_type": "code",
      "metadata": {
        "id": "0TBgv6FF60xI"
      },
      "source": [
        ""
      ],
      "execution_count": null,
      "outputs": []
    }
  ]
}