{
  "nbformat": 4,
  "nbformat_minor": 0,
  "metadata": {
    "colab": {
      "name": "Tawheed - Project-II( NB3).ipynb",
      "provenance": [],
      "collapsed_sections": [],
      "authorship_tag": "ABX9TyMHsT/yd4h1IJu17HMfF0yK",
      "include_colab_link": true
    },
    "kernelspec": {
      "name": "python3",
      "display_name": "Python 3"
    },
    "language_info": {
      "name": "python"
    }
  },
  "cells": [
    {
      "cell_type": "markdown",
      "metadata": {
        "id": "view-in-github",
        "colab_type": "text"
      },
      "source": [
        "<a href=\"https://colab.research.google.com/github/Tawheed-DS/Book-Recommendation-System/blob/main/Tawheed_Project_II(_NB3).ipynb\" target=\"_parent\"><img src=\"https://colab.research.google.com/assets/colab-badge.svg\" alt=\"Open In Colab\"/></a>"
      ]
    },
    {
      "cell_type": "markdown",
      "metadata": {
        "id": "hVZT_8ZGW5fk"
      },
      "source": [
        "##<b>Book Recommendation System</b>"
      ]
    },
    {
      "cell_type": "markdown",
      "metadata": {
        "id": "_q0Vhu6sCj2E"
      },
      "source": [
        "###Data description"
      ]
    },
    {
      "cell_type": "markdown",
      "metadata": {
        "id": "51Rmd_BoXFHk"
      },
      "source": [
        "###Dataset comprises of three files:\n",
        "\n",
        "* <b>Users dataframe</b>\n",
        "Contains the users. Note that user IDs (User-ID) have been anonymized and map to\n",
        "integers. Demographic data is provided (Location, Age) if available. Otherwise, these\n",
        "fields contain NULL values.\n",
        "\n",
        "* <b>Books dataframe</b>\n",
        "Books are identified by their respective ISBN. Invalid ISBNs have already been removed\n",
        "from the dataset. Moreover, some content-based information is given (Book-Title,\n",
        "Book-Author, Year-Of-Publication, Publisher), obtained from Amazon Web\n",
        "Services. Note that in the case of several authors, only the first is provided. URLs linking\n",
        "to cover images are also given, appearing in three different flavors (Image-URL-S,\n",
        "Image-URL-M, Image-URL-L), i.e., small, medium, large. These URLs point to the\n",
        "Amazon website.\n",
        "\n",
        "* <b>Ratings dataframe</b>\n",
        "Contains the book rating information. Ratings (Book-Rating) are either explicit,\n",
        "expressed on a scale from 1-10 (higher values denoting higher appreciation), or implicit,\n",
        "expressed by 0."
      ]
    },
    {
      "cell_type": "code",
      "metadata": {
        "id": "N-dYXpVBWgqA"
      },
      "source": [
        "# Import all the required libraries\n",
        "\n",
        "import numpy as np \n",
        "import pandas as pd\n",
        "\n",
        "import matplotlib.pyplot as plt\n",
        "import seaborn as sns\n",
        "\n",
        "import scipy\n",
        "import math\n",
        "import random\n",
        "import sklearn\n",
        "from nltk.corpus import stopwords\n",
        "from sklearn.model_selection import train_test_split\n",
        "from sklearn.feature_extraction.text import TfidfVectorizer\n",
        "from sklearn.metrics.pairwise import cosine_similarity\n",
        "from scipy.sparse.linalg import svds\n",
        "\n",
        "%matplotlib inline\n",
        "\n",
        "# Just for ease\n",
        "p = print"
      ],
      "execution_count": 2,
      "outputs": []
    },
    {
      "cell_type": "code",
      "metadata": {
        "colab": {
          "base_uri": "https://localhost:8080/"
        },
        "id": "p2pVzfYhX1XY",
        "outputId": "4d86e105-6959-4690-ce54-b9c23c30dd3a"
      },
      "source": [
        "# Mount the drive\n",
        "\n",
        "from google.colab import drive\n",
        "drive.mount('/content/drive')"
      ],
      "execution_count": 3,
      "outputs": [
        {
          "output_type": "stream",
          "name": "stdout",
          "text": [
            "Mounted at /content/drive\n"
          ]
        }
      ]
    },
    {
      "cell_type": "code",
      "metadata": {
        "colab": {
          "base_uri": "https://localhost:8080/"
        },
        "id": "uXLiOSJ2X249",
        "outputId": "a01a171c-7554-47b8-aa7c-36fbcd57abbb"
      },
      "source": [
        "# Load the dataframes\n",
        "\n",
        "user_df = pd.read_csv('/content/drive/MyDrive/Copy of Users.csv')\n",
        "books_df = pd.read_csv('/content/drive/MyDrive/Copy of Books.csv')\n",
        "ratings_df = pd.read_csv('/content/drive/MyDrive/Copy of Ratings.csv')"
      ],
      "execution_count": 4,
      "outputs": [
        {
          "output_type": "stream",
          "name": "stderr",
          "text": [
            "/usr/local/lib/python3.7/dist-packages/IPython/core/interactiveshell.py:2718: DtypeWarning: Columns (3) have mixed types.Specify dtype option on import or set low_memory=False.\n",
            "  interactivity=interactivity, compiler=compiler, result=result)\n"
          ]
        }
      ]
    },
    {
      "cell_type": "code",
      "metadata": {
        "colab": {
          "base_uri": "https://localhost:8080/"
        },
        "id": "FwhmVKs8IQg4",
        "outputId": "15b24163-4a7f-476d-943c-f49104bcc1e7"
      },
      "source": [
        "# Top rows and shape of user_df\n",
        "p(user_df.head())\n",
        "p('shape: ',user_df.shape)"
      ],
      "execution_count": 5,
      "outputs": [
        {
          "output_type": "stream",
          "name": "stdout",
          "text": [
            "   User-ID                            Location   Age\n",
            "0        1                  nyc, new york, usa   NaN\n",
            "1        2           stockton, california, usa  18.0\n",
            "2        3     moscow, yukon territory, russia   NaN\n",
            "3        4           porto, v.n.gaia, portugal  17.0\n",
            "4        5  farnborough, hants, united kingdom   NaN\n",
            "shape:  (278858, 3)\n"
          ]
        }
      ]
    },
    {
      "cell_type": "code",
      "metadata": {
        "colab": {
          "base_uri": "https://localhost:8080/"
        },
        "id": "zYX51_kYECDw",
        "outputId": "7a7537a6-ccf4-4583-cdf8-2275aa4ae7bb"
      },
      "source": [
        "# Check null values\n",
        "user_df.isnull().sum()"
      ],
      "execution_count": 6,
      "outputs": [
        {
          "output_type": "execute_result",
          "data": {
            "text/plain": [
              "User-ID          0\n",
              "Location         0\n",
              "Age         110762\n",
              "dtype: int64"
            ]
          },
          "metadata": {},
          "execution_count": 6
        }
      ]
    },
    {
      "cell_type": "markdown",
      "metadata": {
        "id": "08kDAc6qET2N"
      },
      "source": [
        "###<b>Handling null values in Age</b>"
      ]
    },
    {
      "cell_type": "code",
      "metadata": {
        "colab": {
          "base_uri": "https://localhost:8080/"
        },
        "id": "A_q4ZHGjLTIM",
        "outputId": "de2e2e06-b9e9-4cce-c65b-66d8b786b8d3"
      },
      "source": [
        "# Null values in age column\n",
        "nulls = sum(user_df['Age'].isnull())\n",
        "p('Null values in Age: ',nulls)"
      ],
      "execution_count": 7,
      "outputs": [
        {
          "output_type": "stream",
          "name": "stdout",
          "text": [
            "Null values in Age:  110762\n"
          ]
        }
      ]
    },
    {
      "cell_type": "code",
      "metadata": {
        "id": "d3UKV7AYL0Yx"
      },
      "source": [
        "# Replacing null values\n",
        "median = user_df['Age'].median()\n",
        "std = user_df['Age'].std()\n",
        "random_age = np.random.randint(median - std, median + std, size = nulls)\n",
        "age = user_df['Age'].copy()\n",
        "age[pd.isnull(age)] = random_age\n",
        "user_df['Age'] = age\n",
        "user_df['Age'] = user_df['Age'].astype(int)"
      ],
      "execution_count": 8,
      "outputs": []
    },
    {
      "cell_type": "code",
      "metadata": {
        "colab": {
          "base_uri": "https://localhost:8080/"
        },
        "id": "1rOKWf-KMIbX",
        "outputId": "f323a380-18c1-4f0c-b55d-fe3b72d1531b"
      },
      "source": [
        "sum(user_df['Age'].isnull())"
      ],
      "execution_count": 9,
      "outputs": [
        {
          "output_type": "execute_result",
          "data": {
            "text/plain": [
              "0"
            ]
          },
          "metadata": {},
          "execution_count": 9
        }
      ]
    },
    {
      "cell_type": "markdown",
      "metadata": {
        "id": "cWUsHENVM9gP"
      },
      "source": [
        "###<b>Handling Outliers in Age</b>"
      ]
    },
    {
      "cell_type": "code",
      "metadata": {
        "colab": {
          "base_uri": "https://localhost:8080/",
          "height": 349
        },
        "id": "1zyz_WbJM582",
        "outputId": "bfdc6c20-f542-492c-d675-d7650473a12e"
      },
      "source": [
        "# Plot Distribution of Age\n",
        "sns.distplot(user_df['Age'].dropna())"
      ],
      "execution_count": 10,
      "outputs": [
        {
          "output_type": "stream",
          "name": "stderr",
          "text": [
            "/usr/local/lib/python3.7/dist-packages/seaborn/distributions.py:2557: FutureWarning: `distplot` is a deprecated function and will be removed in a future version. Please adapt your code to use either `displot` (a figure-level function with similar flexibility) or `histplot` (an axes-level function for histograms).\n",
            "  warnings.warn(msg, FutureWarning)\n"
          ]
        },
        {
          "output_type": "execute_result",
          "data": {
            "text/plain": [
              "<matplotlib.axes._subplots.AxesSubplot at 0x7ff106546350>"
            ]
          },
          "metadata": {},
          "execution_count": 10
        },
        {
          "output_type": "display_data",
          "data": {
            "image/png": "[encoded data removed]",
            "text/plain": [
              "<Figure size 432x288 with 1 Axes>"
            ]
          },
          "metadata": {
            "needs_background": "light"
          }
        }
      ]
    },
    {
      "cell_type": "code",
      "metadata": {
        "colab": {
          "base_uri": "https://localhost:8080/"
        },
        "id": "adeMeOMtNJa5",
        "outputId": "f6d80237-5e28-4d02-c9c8-1ef66fe505a1"
      },
      "source": [
        "# Number of outliers\n",
        "outliers = sum(user_df['Age']>90)\n",
        "p(outliers)"
      ],
      "execution_count": 11,
      "outputs": [
        {
          "output_type": "stream",
          "name": "stdout",
          "text": [
            "430\n"
          ]
        }
      ]
    },
    {
      "cell_type": "code",
      "metadata": {
        "id": "rXsSVfsvQEli"
      },
      "source": [
        "# Handling outliers by randomly replacing age >90 by values between 90 and 100\n",
        "age2 = user_df['Age'].copy()\n",
        "random_age2 = np.random.randint(90,100,outliers)\n",
        "age2[user_df['Age']>90]=random_age2\n",
        "user_df['Age'] = age2"
      ],
      "execution_count": 12,
      "outputs": []
    },
    {
      "cell_type": "code",
      "metadata": {
        "colab": {
          "base_uri": "https://localhost:8080/"
        },
        "id": "F17rKRwpSpML",
        "outputId": "213921ac-eca4-4614-e9fb-bd36f0337481"
      },
      "source": [
        "# Review the unique values\n",
        "user_df['Age'].unique()"
      ],
      "execution_count": 13,
      "outputs": [
        {
          "output_type": "execute_result",
          "data": {
            "text/plain": [
              "array([34, 18, 39, 17, 61, 40, 42, 45, 26, 14, 20, 23, 29, 21, 25, 19, 46,\n",
              "       22, 36, 55, 32, 24, 27, 33, 51, 31, 38, 44, 30, 57, 43, 35, 37, 41,\n",
              "       54, 50, 28, 53, 47, 13, 58, 49, 62, 63, 66, 15, 60,  0, 79, 16, 65,\n",
              "       59, 48, 72, 56, 67,  1, 80, 52, 69, 71, 73, 78,  9, 64, 95, 98, 12,\n",
              "       74, 75, 91,  3, 76, 83, 68, 99, 93, 97, 11, 77,  2, 70, 96, 92,  8,\n",
              "        7,  4, 81, 10,  5, 90,  6, 84, 82, 94, 85, 86, 87, 89, 88])"
            ]
          },
          "metadata": {},
          "execution_count": 13
        }
      ]
    },
    {
      "cell_type": "markdown",
      "metadata": {
        "id": "_9WEYicSNrqr"
      },
      "source": [
        "###<b> EDA and Data Wrangling</b>"
      ]
    },
    {
      "cell_type": "code",
      "metadata": {
        "colab": {
          "base_uri": "https://localhost:8080/"
        },
        "id": "VgQwv8obdEnV",
        "outputId": "6aae67a0-0ae2-4080-9fce-d8e13c1954ce"
      },
      "source": [
        "# Number of users in total\n",
        "p('Number of users: ',user_df.shape)"
      ],
      "execution_count": 14,
      "outputs": [
        {
          "output_type": "stream",
          "name": "stdout",
          "text": [
            "Number of users:  (278858, 3)\n"
          ]
        }
      ]
    },
    {
      "cell_type": "code",
      "metadata": {
        "colab": {
          "base_uri": "https://localhost:8080/"
        },
        "id": "T4w8WpOLdrn6",
        "outputId": "cc7ab7d5-ca6f-403d-e9d8-986c8d8ac624"
      },
      "source": [
        "# Number of instances of books in book_df (along with duplicates)\n",
        "books_df.shape"
      ],
      "execution_count": 15,
      "outputs": [
        {
          "output_type": "execute_result",
          "data": {
            "text/plain": [
              "(271360, 8)"
            ]
          },
          "metadata": {},
          "execution_count": 15
        }
      ]
    },
    {
      "cell_type": "code",
      "metadata": {
        "id": "ikHrIk8ANkbK"
      },
      "source": [
        "# Create age groups using age column\n",
        "bins = [-1,12,20,50,100]\n",
        "labels = ['Kid','Teenager','Adult','Old']\n",
        "user_df['age_bins'] = pd.cut(x=user_df['Age'], bins=bins,labels=labels)"
      ],
      "execution_count": 16,
      "outputs": []
    },
    {
      "cell_type": "code",
      "metadata": {
        "id": "LY9CY41XN7NB"
      },
      "source": [
        "# Merge the above dataframe with books_df to carry on EDA using\n",
        "new_df = pd.merge(user_df,ratings_df,on='User-ID')\n",
        "new_df = pd.merge(new_df,books_df,on='ISBN')"
      ],
      "execution_count": 17,
      "outputs": []
    },
    {
      "cell_type": "code",
      "metadata": {
        "colab": {
          "base_uri": "https://localhost:8080/"
        },
        "id": "7B3McBFeT3wL",
        "outputId": "ec9b001b-94de-4587-a4ed-669e746f5d02"
      },
      "source": [
        "# Check null values in new dataframe\n",
        "new_df.isnull().sum()"
      ],
      "execution_count": 18,
      "outputs": [
        {
          "output_type": "execute_result",
          "data": {
            "text/plain": [
              "User-ID                0\n",
              "Location               0\n",
              "Age                    0\n",
              "age_bins               0\n",
              "ISBN                   0\n",
              "Book-Rating            0\n",
              "Book-Title             0\n",
              "Book-Author            1\n",
              "Year-Of-Publication    0\n",
              "Publisher              2\n",
              "Image-URL-S            0\n",
              "Image-URL-M            0\n",
              "Image-URL-L            4\n",
              "dtype: int64"
            ]
          },
          "metadata": {},
          "execution_count": 18
        }
      ]
    },
    {
      "cell_type": "code",
      "metadata": {
        "id": "t_ails2ZUN6-"
      },
      "source": [
        "# Clean nulls from Authors and publishers\n",
        "new_df[['Book-Author','Publisher']] = new_df[['Book-Author','Publisher']].fillna('unknown')"
      ],
      "execution_count": 19,
      "outputs": []
    },
    {
      "cell_type": "code",
      "metadata": {
        "id": "JrmeZ7gcVqdG"
      },
      "source": [
        "# Drop columns containing URLs\n",
        "new_df.drop(['Image-URL-S','Image-URL-M','Image-URL-L'],inplace=True,axis=1)"
      ],
      "execution_count": 20,
      "outputs": []
    },
    {
      "cell_type": "code",
      "metadata": {
        "colab": {
          "base_uri": "https://localhost:8080/"
        },
        "id": "dNgnEolCU2tS",
        "outputId": "34dc1123-ac7d-444b-fb32-ca41e8cf87da"
      },
      "source": [
        "new_df.isnull().sum()"
      ],
      "execution_count": 21,
      "outputs": [
        {
          "output_type": "execute_result",
          "data": {
            "text/plain": [
              "User-ID                0\n",
              "Location               0\n",
              "Age                    0\n",
              "age_bins               0\n",
              "ISBN                   0\n",
              "Book-Rating            0\n",
              "Book-Title             0\n",
              "Book-Author            0\n",
              "Year-Of-Publication    0\n",
              "Publisher              0\n",
              "dtype: int64"
            ]
          },
          "metadata": {},
          "execution_count": 21
        }
      ]
    },
    {
      "cell_type": "code",
      "metadata": {
        "colab": {
          "base_uri": "https://localhost:8080/",
          "height": 265
        },
        "id": "27sSHU5IU90C",
        "outputId": "1c7bc690-4b33-40ad-8fb8-770d13328220"
      },
      "source": [
        "# Age group that rated books the most\n",
        "new_df.groupby('age_bins')['Book-Rating'].count().plot(kind='pie')"
      ],
      "execution_count": 22,
      "outputs": [
        {
          "output_type": "execute_result",
          "data": {
            "text/plain": [
              "<matplotlib.axes._subplots.AxesSubplot at 0x7ff0fd464f90>"
            ]
          },
          "metadata": {},
          "execution_count": 22
        },
        {
          "output_type": "display_data",
          "data": {
            "image/png": "[encoded data removed]",
            "text/plain": [
              "<Figure size 432x288 with 1 Axes>"
            ]
          },
          "metadata": {}
        }
      ]
    },
    {
      "cell_type": "code",
      "metadata": {
        "colab": {
          "base_uri": "https://localhost:8080/",
          "height": 415
        },
        "id": "ZXNnY_JgWDVc",
        "outputId": "e6a276ee-a5b2-40ac-df4b-29942c5ce592"
      },
      "source": [
        "# Most popular books for different age groups\n",
        "age_bin_df = new_df.groupby(['age_bins','Book-Title'])['Book-Rating'].count().sort_values(ascending=False).reset_index()\n",
        "age_bin_df.rename(columns={'Book-Title':'Number of times rated'})"
      ],
      "execution_count": 23,
      "outputs": [
        {
          "output_type": "execute_result",
          "data": {
            "text/html": [
              "<div>\n",
              "<style scoped>\n",
              "    .dataframe tbody tr th:only-of-type {\n",
              "        vertical-align: middle;\n",
              "    }\n",
              "\n",
              "    .dataframe tbody tr th {\n",
              "        vertical-align: top;\n",
              "    }\n",
              "\n",
              "    .dataframe thead th {\n",
              "        text-align: right;\n",
              "    }\n",
              "</style>\n",
              "<table border=\"1\" class=\"dataframe\">\n",
              "  <thead>\n",
              "    <tr style=\"text-align: right;\">\n",
              "      <th></th>\n",
              "      <th>age_bins</th>\n",
              "      <th>Number of times rated</th>\n",
              "      <th>Book-Rating</th>\n",
              "    </tr>\n",
              "  </thead>\n",
              "  <tbody>\n",
              "    <tr>\n",
              "      <th>0</th>\n",
              "      <td>Adult</td>\n",
              "      <td>Wild Animus</td>\n",
              "      <td>1917</td>\n",
              "    </tr>\n",
              "    <tr>\n",
              "      <th>1</th>\n",
              "      <td>Adult</td>\n",
              "      <td>The Lovely Bones: A Novel</td>\n",
              "      <td>1069</td>\n",
              "    </tr>\n",
              "    <tr>\n",
              "      <th>2</th>\n",
              "      <td>Adult</td>\n",
              "      <td>The Nanny Diaries: A Novel</td>\n",
              "      <td>726</td>\n",
              "    </tr>\n",
              "    <tr>\n",
              "      <th>3</th>\n",
              "      <td>Adult</td>\n",
              "      <td>The Da Vinci Code</td>\n",
              "      <td>709</td>\n",
              "    </tr>\n",
              "    <tr>\n",
              "      <th>4</th>\n",
              "      <td>Adult</td>\n",
              "      <td>Bridget Jones's Diary</td>\n",
              "      <td>689</td>\n",
              "    </tr>\n",
              "    <tr>\n",
              "      <th>...</th>\n",
              "      <td>...</td>\n",
              "      <td>...</td>\n",
              "      <td>...</td>\n",
              "    </tr>\n",
              "    <tr>\n",
              "      <th>964279</th>\n",
              "      <td>Teenager</td>\n",
              "      <td>Understanding Economic Behaviour: Households, ...</td>\n",
              "      <td>0</td>\n",
              "    </tr>\n",
              "    <tr>\n",
              "      <th>964280</th>\n",
              "      <td>Teenager</td>\n",
              "      <td>Understanding Economic Behaviour: Households, ...</td>\n",
              "      <td>0</td>\n",
              "    </tr>\n",
              "    <tr>\n",
              "      <th>964281</th>\n",
              "      <td>Teenager</td>\n",
              "      <td>Understanding Economic Behaviour: Households, ...</td>\n",
              "      <td>0</td>\n",
              "    </tr>\n",
              "    <tr>\n",
              "      <th>964282</th>\n",
              "      <td>Teenager</td>\n",
              "      <td>Understanding Earth</td>\n",
              "      <td>0</td>\n",
              "    </tr>\n",
              "    <tr>\n",
              "      <th>964283</th>\n",
              "      <td>Kid</td>\n",
              "      <td>A Light in the Storm: The Civil War Diary of ...</td>\n",
              "      <td>0</td>\n",
              "    </tr>\n",
              "  </tbody>\n",
              "</table>\n",
              "<p>964284 rows × 3 columns</p>\n",
              "</div>"
            ],
            "text/plain": [
              "        age_bins  ... Book-Rating\n",
              "0          Adult  ...        1917\n",
              "1          Adult  ...        1069\n",
              "2          Adult  ...         726\n",
              "3          Adult  ...         709\n",
              "4          Adult  ...         689\n",
              "...          ...  ...         ...\n",
              "964279  Teenager  ...           0\n",
              "964280  Teenager  ...           0\n",
              "964281  Teenager  ...           0\n",
              "964282  Teenager  ...           0\n",
              "964283       Kid  ...           0\n",
              "\n",
              "[964284 rows x 3 columns]"
            ]
          },
          "metadata": {},
          "execution_count": 23
        }
      ]
    },
    {
      "cell_type": "code",
      "metadata": {
        "colab": {
          "base_uri": "https://localhost:8080/",
          "height": 663
        },
        "id": "_zVab2Y8WV3B",
        "outputId": "53701bd6-760d-4a7c-c75b-0afa86631971"
      },
      "source": [
        "# Most popular books for adults\n",
        "age_bin_df[age_bin_df['age_bins']=='Adult'].head(20)"
      ],
      "execution_count": 24,
      "outputs": [
        {
          "output_type": "execute_result",
          "data": {
            "text/html": [
              "<div>\n",
              "<style scoped>\n",
              "    .dataframe tbody tr th:only-of-type {\n",
              "        vertical-align: middle;\n",
              "    }\n",
              "\n",
              "    .dataframe tbody tr th {\n",
              "        vertical-align: top;\n",
              "    }\n",
              "\n",
              "    .dataframe thead th {\n",
              "        text-align: right;\n",
              "    }\n",
              "</style>\n",
              "<table border=\"1\" class=\"dataframe\">\n",
              "  <thead>\n",
              "    <tr style=\"text-align: right;\">\n",
              "      <th></th>\n",
              "      <th>age_bins</th>\n",
              "      <th>Book-Title</th>\n",
              "      <th>Book-Rating</th>\n",
              "    </tr>\n",
              "  </thead>\n",
              "  <tbody>\n",
              "    <tr>\n",
              "      <th>0</th>\n",
              "      <td>Adult</td>\n",
              "      <td>Wild Animus</td>\n",
              "      <td>1917</td>\n",
              "    </tr>\n",
              "    <tr>\n",
              "      <th>1</th>\n",
              "      <td>Adult</td>\n",
              "      <td>The Lovely Bones: A Novel</td>\n",
              "      <td>1069</td>\n",
              "    </tr>\n",
              "    <tr>\n",
              "      <th>2</th>\n",
              "      <td>Adult</td>\n",
              "      <td>The Nanny Diaries: A Novel</td>\n",
              "      <td>726</td>\n",
              "    </tr>\n",
              "    <tr>\n",
              "      <th>3</th>\n",
              "      <td>Adult</td>\n",
              "      <td>The Da Vinci Code</td>\n",
              "      <td>709</td>\n",
              "    </tr>\n",
              "    <tr>\n",
              "      <th>4</th>\n",
              "      <td>Adult</td>\n",
              "      <td>Bridget Jones's Diary</td>\n",
              "      <td>689</td>\n",
              "    </tr>\n",
              "    <tr>\n",
              "      <th>5</th>\n",
              "      <td>Adult</td>\n",
              "      <td>A Painted House</td>\n",
              "      <td>663</td>\n",
              "    </tr>\n",
              "    <tr>\n",
              "      <th>6</th>\n",
              "      <td>Adult</td>\n",
              "      <td>The Secret Life of Bees</td>\n",
              "      <td>637</td>\n",
              "    </tr>\n",
              "    <tr>\n",
              "      <th>7</th>\n",
              "      <td>Adult</td>\n",
              "      <td>Divine Secrets of the Ya-Ya Sisterhood: A Novel</td>\n",
              "      <td>616</td>\n",
              "    </tr>\n",
              "    <tr>\n",
              "      <th>8</th>\n",
              "      <td>Adult</td>\n",
              "      <td>The Red Tent (Bestselling Backlist)</td>\n",
              "      <td>604</td>\n",
              "    </tr>\n",
              "    <tr>\n",
              "      <th>9</th>\n",
              "      <td>Adult</td>\n",
              "      <td>Life of Pi</td>\n",
              "      <td>551</td>\n",
              "    </tr>\n",
              "    <tr>\n",
              "      <th>10</th>\n",
              "      <td>Adult</td>\n",
              "      <td>Snow Falling on Cedars</td>\n",
              "      <td>544</td>\n",
              "    </tr>\n",
              "    <tr>\n",
              "      <th>11</th>\n",
              "      <td>Adult</td>\n",
              "      <td>The Notebook</td>\n",
              "      <td>534</td>\n",
              "    </tr>\n",
              "    <tr>\n",
              "      <th>12</th>\n",
              "      <td>Adult</td>\n",
              "      <td>Angels &amp;amp; Demons</td>\n",
              "      <td>533</td>\n",
              "    </tr>\n",
              "    <tr>\n",
              "      <th>13</th>\n",
              "      <td>Adult</td>\n",
              "      <td>The Summons</td>\n",
              "      <td>531</td>\n",
              "    </tr>\n",
              "    <tr>\n",
              "      <th>14</th>\n",
              "      <td>Adult</td>\n",
              "      <td>The Girls' Guide to Hunting and Fishing</td>\n",
              "      <td>508</td>\n",
              "    </tr>\n",
              "    <tr>\n",
              "      <th>15</th>\n",
              "      <td>Adult</td>\n",
              "      <td>The Testament</td>\n",
              "      <td>505</td>\n",
              "    </tr>\n",
              "    <tr>\n",
              "      <th>16</th>\n",
              "      <td>Adult</td>\n",
              "      <td>House of Sand and Fog</td>\n",
              "      <td>485</td>\n",
              "    </tr>\n",
              "    <tr>\n",
              "      <th>17</th>\n",
              "      <td>Adult</td>\n",
              "      <td>Summer Sisters</td>\n",
              "      <td>481</td>\n",
              "    </tr>\n",
              "    <tr>\n",
              "      <th>18</th>\n",
              "      <td>Adult</td>\n",
              "      <td>The Firm</td>\n",
              "      <td>476</td>\n",
              "    </tr>\n",
              "    <tr>\n",
              "      <th>19</th>\n",
              "      <td>Adult</td>\n",
              "      <td>The Pilot's Wife : A Novel</td>\n",
              "      <td>471</td>\n",
              "    </tr>\n",
              "  </tbody>\n",
              "</table>\n",
              "</div>"
            ],
            "text/plain": [
              "   age_bins                                       Book-Title  Book-Rating\n",
              "0     Adult                                      Wild Animus         1917\n",
              "1     Adult                        The Lovely Bones: A Novel         1069\n",
              "2     Adult                       The Nanny Diaries: A Novel          726\n",
              "3     Adult                                The Da Vinci Code          709\n",
              "4     Adult                            Bridget Jones's Diary          689\n",
              "5     Adult                                  A Painted House          663\n",
              "6     Adult                          The Secret Life of Bees          637\n",
              "7     Adult  Divine Secrets of the Ya-Ya Sisterhood: A Novel          616\n",
              "8     Adult              The Red Tent (Bestselling Backlist)          604\n",
              "9     Adult                                       Life of Pi          551\n",
              "10    Adult                           Snow Falling on Cedars          544\n",
              "11    Adult                                     The Notebook          534\n",
              "12    Adult                              Angels &amp; Demons          533\n",
              "13    Adult                                      The Summons          531\n",
              "14    Adult          The Girls' Guide to Hunting and Fishing          508\n",
              "15    Adult                                    The Testament          505\n",
              "16    Adult                            House of Sand and Fog          485\n",
              "17    Adult                                   Summer Sisters          481\n",
              "18    Adult                                         The Firm          476\n",
              "19    Adult                       The Pilot's Wife : A Novel          471"
            ]
          },
          "metadata": {},
          "execution_count": 24
        }
      ]
    },
    {
      "cell_type": "code",
      "metadata": {
        "colab": {
          "base_uri": "https://localhost:8080/",
          "height": 663
        },
        "id": "GTa9Pbk8WZq4",
        "outputId": "7db6c7e6-218e-48d4-8737-a510fdcf81b5"
      },
      "source": [
        "# Most popular books for Teens\n",
        "age_bin_df[age_bin_df['age_bins']=='Teenager'].head(20)"
      ],
      "execution_count": 25,
      "outputs": [
        {
          "output_type": "execute_result",
          "data": {
            "text/html": [
              "<div>\n",
              "<style scoped>\n",
              "    .dataframe tbody tr th:only-of-type {\n",
              "        vertical-align: middle;\n",
              "    }\n",
              "\n",
              "    .dataframe tbody tr th {\n",
              "        vertical-align: top;\n",
              "    }\n",
              "\n",
              "    .dataframe thead th {\n",
              "        text-align: right;\n",
              "    }\n",
              "</style>\n",
              "<table border=\"1\" class=\"dataframe\">\n",
              "  <thead>\n",
              "    <tr style=\"text-align: right;\">\n",
              "      <th></th>\n",
              "      <th>age_bins</th>\n",
              "      <th>Book-Title</th>\n",
              "      <th>Book-Rating</th>\n",
              "    </tr>\n",
              "  </thead>\n",
              "  <tbody>\n",
              "    <tr>\n",
              "      <th>81</th>\n",
              "      <td>Teenager</td>\n",
              "      <td>Wild Animus</td>\n",
              "      <td>298</td>\n",
              "    </tr>\n",
              "    <tr>\n",
              "      <th>604</th>\n",
              "      <td>Teenager</td>\n",
              "      <td>The Lovely Bones: A Novel</td>\n",
              "      <td>106</td>\n",
              "    </tr>\n",
              "    <tr>\n",
              "      <th>943</th>\n",
              "      <td>Teenager</td>\n",
              "      <td>To Kill a Mockingbird</td>\n",
              "      <td>79</td>\n",
              "    </tr>\n",
              "    <tr>\n",
              "      <th>965</th>\n",
              "      <td>Teenager</td>\n",
              "      <td>Harry Potter and the Chamber of Secrets (Book 2)</td>\n",
              "      <td>77</td>\n",
              "    </tr>\n",
              "    <tr>\n",
              "      <th>984</th>\n",
              "      <td>Teenager</td>\n",
              "      <td>The Catcher in the Rye</td>\n",
              "      <td>76</td>\n",
              "    </tr>\n",
              "    <tr>\n",
              "      <th>1009</th>\n",
              "      <td>Teenager</td>\n",
              "      <td>Bridget Jones's Diary</td>\n",
              "      <td>75</td>\n",
              "    </tr>\n",
              "    <tr>\n",
              "      <th>1136</th>\n",
              "      <td>Teenager</td>\n",
              "      <td>Harry Potter and the Sorcerer's Stone (Harry P...</td>\n",
              "      <td>71</td>\n",
              "    </tr>\n",
              "    <tr>\n",
              "      <th>1317</th>\n",
              "      <td>Teenager</td>\n",
              "      <td>A Painted House</td>\n",
              "      <td>64</td>\n",
              "    </tr>\n",
              "    <tr>\n",
              "      <th>1344</th>\n",
              "      <td>Teenager</td>\n",
              "      <td>Divine Secrets of the Ya-Ya Sisterhood: A Novel</td>\n",
              "      <td>63</td>\n",
              "    </tr>\n",
              "    <tr>\n",
              "      <th>1383</th>\n",
              "      <td>Teenager</td>\n",
              "      <td>Where the Heart Is (Oprah's Book Club (Paperba...</td>\n",
              "      <td>61</td>\n",
              "    </tr>\n",
              "    <tr>\n",
              "      <th>1446</th>\n",
              "      <td>Teenager</td>\n",
              "      <td>The Notebook</td>\n",
              "      <td>60</td>\n",
              "    </tr>\n",
              "    <tr>\n",
              "      <th>1447</th>\n",
              "      <td>Teenager</td>\n",
              "      <td>Harry Potter and the Prisoner of Azkaban (Book 3)</td>\n",
              "      <td>60</td>\n",
              "    </tr>\n",
              "    <tr>\n",
              "      <th>1473</th>\n",
              "      <td>Teenager</td>\n",
              "      <td>Snow Falling on Cedars</td>\n",
              "      <td>59</td>\n",
              "    </tr>\n",
              "    <tr>\n",
              "      <th>1525</th>\n",
              "      <td>Teenager</td>\n",
              "      <td>Harry Potter and the Goblet of Fire (Book 4)</td>\n",
              "      <td>58</td>\n",
              "    </tr>\n",
              "    <tr>\n",
              "      <th>1532</th>\n",
              "      <td>Teenager</td>\n",
              "      <td>Fahrenheit 451</td>\n",
              "      <td>58</td>\n",
              "    </tr>\n",
              "    <tr>\n",
              "      <th>1566</th>\n",
              "      <td>Teenager</td>\n",
              "      <td>The Nanny Diaries: A Novel</td>\n",
              "      <td>57</td>\n",
              "    </tr>\n",
              "    <tr>\n",
              "      <th>1648</th>\n",
              "      <td>Teenager</td>\n",
              "      <td>Interview with the Vampire</td>\n",
              "      <td>55</td>\n",
              "    </tr>\n",
              "    <tr>\n",
              "      <th>1688</th>\n",
              "      <td>Teenager</td>\n",
              "      <td>The Hobbit : The Enchanting Prelude to The Lor...</td>\n",
              "      <td>54</td>\n",
              "    </tr>\n",
              "    <tr>\n",
              "      <th>1732</th>\n",
              "      <td>Teenager</td>\n",
              "      <td>The Red Tent (Bestselling Backlist)</td>\n",
              "      <td>53</td>\n",
              "    </tr>\n",
              "    <tr>\n",
              "      <th>1744</th>\n",
              "      <td>Teenager</td>\n",
              "      <td>The Joy Luck Club</td>\n",
              "      <td>53</td>\n",
              "    </tr>\n",
              "  </tbody>\n",
              "</table>\n",
              "</div>"
            ],
            "text/plain": [
              "      age_bins                                         Book-Title  Book-Rating\n",
              "81    Teenager                                        Wild Animus          298\n",
              "604   Teenager                          The Lovely Bones: A Novel          106\n",
              "943   Teenager                              To Kill a Mockingbird           79\n",
              "965   Teenager   Harry Potter and the Chamber of Secrets (Book 2)           77\n",
              "984   Teenager                             The Catcher in the Rye           76\n",
              "1009  Teenager                              Bridget Jones's Diary           75\n",
              "1136  Teenager  Harry Potter and the Sorcerer's Stone (Harry P...           71\n",
              "1317  Teenager                                    A Painted House           64\n",
              "1344  Teenager    Divine Secrets of the Ya-Ya Sisterhood: A Novel           63\n",
              "1383  Teenager  Where the Heart Is (Oprah's Book Club (Paperba...           61\n",
              "1446  Teenager                                       The Notebook           60\n",
              "1447  Teenager  Harry Potter and the Prisoner of Azkaban (Book 3)           60\n",
              "1473  Teenager                             Snow Falling on Cedars           59\n",
              "1525  Teenager       Harry Potter and the Goblet of Fire (Book 4)           58\n",
              "1532  Teenager                                     Fahrenheit 451           58\n",
              "1566  Teenager                         The Nanny Diaries: A Novel           57\n",
              "1648  Teenager                         Interview with the Vampire           55\n",
              "1688  Teenager  The Hobbit : The Enchanting Prelude to The Lor...           54\n",
              "1732  Teenager                The Red Tent (Bestselling Backlist)           53\n",
              "1744  Teenager                                  The Joy Luck Club           53"
            ]
          },
          "metadata": {},
          "execution_count": 25
        }
      ]
    },
    {
      "cell_type": "code",
      "metadata": {
        "colab": {
          "base_uri": "https://localhost:8080/",
          "height": 663
        },
        "id": "iJ-K59giWgOZ",
        "outputId": "6adca97b-7053-4c72-c0fe-b1b4436e4fc5"
      },
      "source": [
        "# Most popular books for Kids\n",
        "age_bin_df[age_bin_df['age_bins']=='Kid'].head(20)"
      ],
      "execution_count": 26,
      "outputs": [
        {
          "output_type": "execute_result",
          "data": {
            "text/html": [
              "<div>\n",
              "<style scoped>\n",
              "    .dataframe tbody tr th:only-of-type {\n",
              "        vertical-align: middle;\n",
              "    }\n",
              "\n",
              "    .dataframe tbody tr th {\n",
              "        vertical-align: top;\n",
              "    }\n",
              "\n",
              "    .dataframe thead th {\n",
              "        text-align: right;\n",
              "    }\n",
              "</style>\n",
              "<table border=\"1\" class=\"dataframe\">\n",
              "  <thead>\n",
              "    <tr style=\"text-align: right;\">\n",
              "      <th></th>\n",
              "      <th>age_bins</th>\n",
              "      <th>Book-Title</th>\n",
              "      <th>Book-Rating</th>\n",
              "    </tr>\n",
              "  </thead>\n",
              "  <tbody>\n",
              "    <tr>\n",
              "      <th>11699</th>\n",
              "      <td>Kid</td>\n",
              "      <td>Harry Potter and the Sorcerer's Stone (Harry P...</td>\n",
              "      <td>12</td>\n",
              "    </tr>\n",
              "    <tr>\n",
              "      <th>19527</th>\n",
              "      <td>Kid</td>\n",
              "      <td>The Bad Beginning (A Series of Unfortunate Eve...</td>\n",
              "      <td>8</td>\n",
              "    </tr>\n",
              "    <tr>\n",
              "      <th>20350</th>\n",
              "      <td>Kid</td>\n",
              "      <td>Captain Underpants and the Invasion of the Inc...</td>\n",
              "      <td>8</td>\n",
              "    </tr>\n",
              "    <tr>\n",
              "      <th>24351</th>\n",
              "      <td>Kid</td>\n",
              "      <td>Harry Potter and the Chamber of Secrets (Book 2)</td>\n",
              "      <td>7</td>\n",
              "    </tr>\n",
              "    <tr>\n",
              "      <th>24849</th>\n",
              "      <td>Kid</td>\n",
              "      <td>Tales of a Fourth Grade Nothing</td>\n",
              "      <td>6</td>\n",
              "    </tr>\n",
              "    <tr>\n",
              "      <th>25869</th>\n",
              "      <td>Kid</td>\n",
              "      <td>Night of the Living Dummy II  (Goosebumps, No 31)</td>\n",
              "      <td>6</td>\n",
              "    </tr>\n",
              "    <tr>\n",
              "      <th>26201</th>\n",
              "      <td>Kid</td>\n",
              "      <td>Harry Potter and the Goblet of Fire (Book 4)</td>\n",
              "      <td>6</td>\n",
              "    </tr>\n",
              "    <tr>\n",
              "      <th>27445</th>\n",
              "      <td>Kid</td>\n",
              "      <td>Wild Animus</td>\n",
              "      <td>6</td>\n",
              "    </tr>\n",
              "    <tr>\n",
              "      <th>27877</th>\n",
              "      <td>Kid</td>\n",
              "      <td>Stay Out of the Basement (Goosebumps, No 2)</td>\n",
              "      <td>6</td>\n",
              "    </tr>\n",
              "    <tr>\n",
              "      <th>28922</th>\n",
              "      <td>Kid</td>\n",
              "      <td>Artemis Fowl (Artemis Fowl, Book 1)</td>\n",
              "      <td>6</td>\n",
              "    </tr>\n",
              "    <tr>\n",
              "      <th>31954</th>\n",
              "      <td>Kid</td>\n",
              "      <td>Holes (Yearling Newbery)</td>\n",
              "      <td>5</td>\n",
              "    </tr>\n",
              "    <tr>\n",
              "      <th>32169</th>\n",
              "      <td>Kid</td>\n",
              "      <td>The Lovely Bones: A Novel</td>\n",
              "      <td>5</td>\n",
              "    </tr>\n",
              "    <tr>\n",
              "      <th>32805</th>\n",
              "      <td>Kid</td>\n",
              "      <td>Coraline</td>\n",
              "      <td>5</td>\n",
              "    </tr>\n",
              "    <tr>\n",
              "      <th>33271</th>\n",
              "      <td>Kid</td>\n",
              "      <td>Phantom of the Auditorium (Goosebumps, No 24)</td>\n",
              "      <td>5</td>\n",
              "    </tr>\n",
              "    <tr>\n",
              "      <th>33327</th>\n",
              "      <td>Kid</td>\n",
              "      <td>Captain Underpants and the Attack of the Talki...</td>\n",
              "      <td>5</td>\n",
              "    </tr>\n",
              "    <tr>\n",
              "      <th>34341</th>\n",
              "      <td>Kid</td>\n",
              "      <td>Charlotte's Web</td>\n",
              "      <td>5</td>\n",
              "    </tr>\n",
              "    <tr>\n",
              "      <th>34480</th>\n",
              "      <td>Kid</td>\n",
              "      <td>Night of the Living Dummy (Goosebumps, No 7)</td>\n",
              "      <td>5</td>\n",
              "    </tr>\n",
              "    <tr>\n",
              "      <th>34963</th>\n",
              "      <td>Kid</td>\n",
              "      <td>The Headless Ghost (Goosebumps, No 37)</td>\n",
              "      <td>5</td>\n",
              "    </tr>\n",
              "    <tr>\n",
              "      <th>35338</th>\n",
              "      <td>Kid</td>\n",
              "      <td>The Adventures of Captain Underpants: An Epic ...</td>\n",
              "      <td>5</td>\n",
              "    </tr>\n",
              "    <tr>\n",
              "      <th>35550</th>\n",
              "      <td>Kid</td>\n",
              "      <td>You Can't Scare Me! (Goosebumps, No 15)</td>\n",
              "      <td>5</td>\n",
              "    </tr>\n",
              "  </tbody>\n",
              "</table>\n",
              "</div>"
            ],
            "text/plain": [
              "      age_bins                                         Book-Title  Book-Rating\n",
              "11699      Kid  Harry Potter and the Sorcerer's Stone (Harry P...           12\n",
              "19527      Kid  The Bad Beginning (A Series of Unfortunate Eve...            8\n",
              "20350      Kid  Captain Underpants and the Invasion of the Inc...            8\n",
              "24351      Kid   Harry Potter and the Chamber of Secrets (Book 2)            7\n",
              "24849      Kid                    Tales of a Fourth Grade Nothing            6\n",
              "25869      Kid  Night of the Living Dummy II  (Goosebumps, No 31)            6\n",
              "26201      Kid       Harry Potter and the Goblet of Fire (Book 4)            6\n",
              "27445      Kid                                        Wild Animus            6\n",
              "27877      Kid        Stay Out of the Basement (Goosebumps, No 2)            6\n",
              "28922      Kid                Artemis Fowl (Artemis Fowl, Book 1)            6\n",
              "31954      Kid                           Holes (Yearling Newbery)            5\n",
              "32169      Kid                          The Lovely Bones: A Novel            5\n",
              "32805      Kid                                           Coraline            5\n",
              "33271      Kid      Phantom of the Auditorium (Goosebumps, No 24)            5\n",
              "33327      Kid  Captain Underpants and the Attack of the Talki...            5\n",
              "34341      Kid                                    Charlotte's Web            5\n",
              "34480      Kid       Night of the Living Dummy (Goosebumps, No 7)            5\n",
              "34963      Kid             The Headless Ghost (Goosebumps, No 37)            5\n",
              "35338      Kid  The Adventures of Captain Underpants: An Epic ...            5\n",
              "35550      Kid            You Can't Scare Me! (Goosebumps, No 15)            5"
            ]
          },
          "metadata": {},
          "execution_count": 26
        }
      ]
    },
    {
      "cell_type": "code",
      "metadata": {
        "colab": {
          "base_uri": "https://localhost:8080/",
          "height": 663
        },
        "id": "G5cPQ82WWoWk",
        "outputId": "50ec9b43-da55-4016-8cbe-831db77d95eb"
      },
      "source": [
        "# Most popular books for Old users\n",
        "age_bin_df[age_bin_df['age_bins']=='Old'].head(20)"
      ],
      "execution_count": 27,
      "outputs": [
        {
          "output_type": "execute_result",
          "data": {
            "text/html": [
              "<div>\n",
              "<style scoped>\n",
              "    .dataframe tbody tr th:only-of-type {\n",
              "        vertical-align: middle;\n",
              "    }\n",
              "\n",
              "    .dataframe tbody tr th {\n",
              "        vertical-align: top;\n",
              "    }\n",
              "\n",
              "    .dataframe thead th {\n",
              "        text-align: right;\n",
              "    }\n",
              "</style>\n",
              "<table border=\"1\" class=\"dataframe\">\n",
              "  <thead>\n",
              "    <tr style=\"text-align: right;\">\n",
              "      <th></th>\n",
              "      <th>age_bins</th>\n",
              "      <th>Book-Title</th>\n",
              "      <th>Book-Rating</th>\n",
              "    </tr>\n",
              "  </thead>\n",
              "  <tbody>\n",
              "    <tr>\n",
              "      <th>91</th>\n",
              "      <td>Old</td>\n",
              "      <td>Wild Animus</td>\n",
              "      <td>281</td>\n",
              "    </tr>\n",
              "    <tr>\n",
              "      <th>425</th>\n",
              "      <td>Old</td>\n",
              "      <td>The Da Vinci Code</td>\n",
              "      <td>135</td>\n",
              "    </tr>\n",
              "    <tr>\n",
              "      <th>523</th>\n",
              "      <td>Old</td>\n",
              "      <td>The Lovely Bones: A Novel</td>\n",
              "      <td>115</td>\n",
              "    </tr>\n",
              "    <tr>\n",
              "      <th>574</th>\n",
              "      <td>Old</td>\n",
              "      <td>A Painted House</td>\n",
              "      <td>110</td>\n",
              "    </tr>\n",
              "    <tr>\n",
              "      <th>713</th>\n",
              "      <td>Old</td>\n",
              "      <td>Angels &amp;amp; Demons</td>\n",
              "      <td>95</td>\n",
              "    </tr>\n",
              "    <tr>\n",
              "      <th>821</th>\n",
              "      <td>Old</td>\n",
              "      <td>The Secret Life of Bees</td>\n",
              "      <td>87</td>\n",
              "    </tr>\n",
              "    <tr>\n",
              "      <th>833</th>\n",
              "      <td>Old</td>\n",
              "      <td>The Summons</td>\n",
              "      <td>86</td>\n",
              "    </tr>\n",
              "    <tr>\n",
              "      <th>869</th>\n",
              "      <td>Old</td>\n",
              "      <td>The King of Torts</td>\n",
              "      <td>84</td>\n",
              "    </tr>\n",
              "    <tr>\n",
              "      <th>897</th>\n",
              "      <td>Old</td>\n",
              "      <td>The Runaway Jury</td>\n",
              "      <td>82</td>\n",
              "    </tr>\n",
              "    <tr>\n",
              "      <th>1019</th>\n",
              "      <td>Old</td>\n",
              "      <td>The Testament</td>\n",
              "      <td>75</td>\n",
              "    </tr>\n",
              "    <tr>\n",
              "      <th>1027</th>\n",
              "      <td>Old</td>\n",
              "      <td>The No. 1 Ladies' Detective Agency (Today Show...</td>\n",
              "      <td>74</td>\n",
              "    </tr>\n",
              "    <tr>\n",
              "      <th>1043</th>\n",
              "      <td>Old</td>\n",
              "      <td>The Beach House</td>\n",
              "      <td>74</td>\n",
              "    </tr>\n",
              "    <tr>\n",
              "      <th>1075</th>\n",
              "      <td>Old</td>\n",
              "      <td>The Five People You Meet in Heaven</td>\n",
              "      <td>73</td>\n",
              "    </tr>\n",
              "    <tr>\n",
              "      <th>1137</th>\n",
              "      <td>Old</td>\n",
              "      <td>Life of Pi</td>\n",
              "      <td>71</td>\n",
              "    </tr>\n",
              "    <tr>\n",
              "      <th>1176</th>\n",
              "      <td>Old</td>\n",
              "      <td>The Horse Whisperer</td>\n",
              "      <td>69</td>\n",
              "    </tr>\n",
              "    <tr>\n",
              "      <th>1194</th>\n",
              "      <td>Old</td>\n",
              "      <td>The Pelican Brief</td>\n",
              "      <td>68</td>\n",
              "    </tr>\n",
              "    <tr>\n",
              "      <th>1241</th>\n",
              "      <td>Old</td>\n",
              "      <td>The Partner</td>\n",
              "      <td>67</td>\n",
              "    </tr>\n",
              "    <tr>\n",
              "      <th>1275</th>\n",
              "      <td>Old</td>\n",
              "      <td>The Red Tent (Bestselling Backlist)</td>\n",
              "      <td>65</td>\n",
              "    </tr>\n",
              "    <tr>\n",
              "      <th>1295</th>\n",
              "      <td>Old</td>\n",
              "      <td>Timeline</td>\n",
              "      <td>65</td>\n",
              "    </tr>\n",
              "    <tr>\n",
              "      <th>1332</th>\n",
              "      <td>Old</td>\n",
              "      <td>The Street Lawyer</td>\n",
              "      <td>63</td>\n",
              "    </tr>\n",
              "  </tbody>\n",
              "</table>\n",
              "</div>"
            ],
            "text/plain": [
              "     age_bins                                         Book-Title  Book-Rating\n",
              "91        Old                                        Wild Animus          281\n",
              "425       Old                                  The Da Vinci Code          135\n",
              "523       Old                          The Lovely Bones: A Novel          115\n",
              "574       Old                                    A Painted House          110\n",
              "713       Old                                Angels &amp; Demons           95\n",
              "821       Old                            The Secret Life of Bees           87\n",
              "833       Old                                        The Summons           86\n",
              "869       Old                                  The King of Torts           84\n",
              "897       Old                                   The Runaway Jury           82\n",
              "1019      Old                                      The Testament           75\n",
              "1027      Old  The No. 1 Ladies' Detective Agency (Today Show...           74\n",
              "1043      Old                                    The Beach House           74\n",
              "1075      Old                 The Five People You Meet in Heaven           73\n",
              "1137      Old                                         Life of Pi           71\n",
              "1176      Old                                The Horse Whisperer           69\n",
              "1194      Old                                  The Pelican Brief           68\n",
              "1241      Old                                        The Partner           67\n",
              "1275      Old                The Red Tent (Bestselling Backlist)           65\n",
              "1295      Old                                           Timeline           65\n",
              "1332      Old                                  The Street Lawyer           63"
            ]
          },
          "metadata": {},
          "execution_count": 27
        }
      ]
    },
    {
      "cell_type": "code",
      "metadata": {
        "colab": {
          "base_uri": "https://localhost:8080/"
        },
        "id": "BtsTcbZxWuV6",
        "outputId": "9616db8b-7da7-4e25-bc0d-b95a08efb98d"
      },
      "source": [
        "# Check which age group gave the most implicit ratings\n",
        "new_df[new_df['Book-Rating']==0]['age_bins'].value_counts()"
      ],
      "execution_count": 28,
      "outputs": [
        {
          "output_type": "execute_result",
          "data": {
            "text/plain": [
              "Adult       521381\n",
              "Old          78787\n",
              "Teenager     43252\n",
              "Kid           3874\n",
              "Name: age_bins, dtype: int64"
            ]
          },
          "metadata": {},
          "execution_count": 28
        }
      ]
    },
    {
      "cell_type": "markdown",
      "metadata": {
        "id": "5IjFrS7UGfOC"
      },
      "source": [
        "####<b>Note: </b>\n",
        "####Users from each age category can be said to have some similar book preferences, we will later use Age as a relevance to recommend books for implicit ratings."
      ]
    },
    {
      "cell_type": "code",
      "metadata": {
        "id": "kuHB8pRFZHMu"
      },
      "source": [
        "# Extract countries for users\n",
        "new_df['country']= new_df.apply(lambda x: x['Location'].rsplit(' ')[-1],axis=1)"
      ],
      "execution_count": 29,
      "outputs": []
    },
    {
      "cell_type": "code",
      "metadata": {
        "id": "AZAvQEhnZekE"
      },
      "source": [
        "# Location can be dropped now\n",
        "new_df.drop(['Location'],axis=1,inplace=True)"
      ],
      "execution_count": 30,
      "outputs": []
    },
    {
      "cell_type": "code",
      "metadata": {
        "colab": {
          "base_uri": "https://localhost:8080/"
        },
        "id": "fhQoU7LhZnbA",
        "outputId": "f4024fb6-4776-4d87-ff9f-107ef193a304"
      },
      "source": [
        "# Which country rates books the most\n",
        "b1 = new_df.groupby('country')['Book-Rating'].count().sort_values(ascending=False).head(5)\n",
        "b1"
      ],
      "execution_count": 31,
      "outputs": [
        {
          "output_type": "execute_result",
          "data": {
            "text/plain": [
              "country\n",
              "usa          746467\n",
              "canada        93001\n",
              "kingdom       33072\n",
              "germany       27657\n",
              "australia     18238\n",
              "Name: Book-Rating, dtype: int64"
            ]
          },
          "metadata": {},
          "execution_count": 31
        }
      ]
    },
    {
      "cell_type": "code",
      "metadata": {
        "colab": {
          "base_uri": "https://localhost:8080/"
        },
        "id": "9bbAXbxxZokA",
        "outputId": "6d651328-e8b9-4067-9505-69847f624adf"
      },
      "source": [
        "# implicit rating(=0) is more frequent than explicit rating overall\n",
        "new_df['Book-Rating'].value_counts()"
      ],
      "execution_count": 32,
      "outputs": [
        {
          "output_type": "execute_result",
          "data": {
            "text/plain": [
              "0     647294\n",
              "8      91804\n",
              "10     71225\n",
              "7      66402\n",
              "9      60778\n",
              "5      45355\n",
              "6      31687\n",
              "4       7617\n",
              "3       5118\n",
              "2       2375\n",
              "1       1481\n",
              "Name: Book-Rating, dtype: int64"
            ]
          },
          "metadata": {},
          "execution_count": 32
        }
      ]
    },
    {
      "cell_type": "code",
      "metadata": {
        "id": "afl2tBoPZ57A"
      },
      "source": [
        "# Implicit ratings i.e. Book-Rating = 0\n",
        "b2 = new_df[new_df['Book-Rating']==0].\\\n",
        "groupby('country')['Book-Rating'].count().sort_values(ascending=False).head(5)"
      ],
      "execution_count": 33,
      "outputs": []
    },
    {
      "cell_type": "code",
      "metadata": {
        "colab": {
          "base_uri": "https://localhost:8080/",
          "height": 350
        },
        "id": "pVxN1MvUaLSj",
        "outputId": "348d3ceb-1769-4c36-8c75-4166218d40fd"
      },
      "source": [
        "# Bar plot for Rating comparison \n",
        "n= 5\n",
        "X_axis = np.arange(n)\n",
        "X = b1.index\n",
        "\n",
        "plt.figure(figsize=(10,5))  \n",
        "plt.bar(X_axis - 0.2, b1, 0.4, label = 'Total ratings')\n",
        "plt.bar(X_axis + 0.2, b2, 0.4, label = 'Implicit atings')\n",
        "  \n",
        "plt.xticks(X_axis, X)\n",
        "plt.xlabel(\"Countries\")\n",
        "plt.ylabel(\"Number of ratings\")\n",
        "plt.title(\"Total ratings and Implicit ratings for top 5 countries in terms of ratings given\")\n",
        "plt.legend()\n",
        "plt.show()"
      ],
      "execution_count": 34,
      "outputs": [
        {
          "output_type": "display_data",
          "data": {
            "image/png": "[encoded data removed]",
            "text/plain": [
              "<Figure size 720x360 with 1 Axes>"
            ]
          },
          "metadata": {
            "needs_background": "light"
          }
        }
      ]
    },
    {
      "cell_type": "code",
      "metadata": {
        "colab": {
          "base_uri": "https://localhost:8080/",
          "height": 369
        },
        "id": "e1xbABfManu5",
        "outputId": "dccdee9e-be48-4089-c9e4-e5f70ca1e685"
      },
      "source": [
        "# Plot for ratings received by books\n",
        "plt.figure(figsize=(13,5))\n",
        "ax =new_df.groupby('Book-Title')['Book-Rating'].count().sort_values(ascending=False).head(20).plot(kind='barh',color='r')\n",
        "ax.invert_yaxis()\n",
        "plt.xlabel('number of ratings',fontdict={'size':13})\n",
        "plt.ylabel('Titles',fontdict={'size':13})\n",
        "plt.title('Books that received most ratings')"
      ],
      "execution_count": 35,
      "outputs": [
        {
          "output_type": "execute_result",
          "data": {
            "text/plain": [
              "Text(0.5, 1.0, 'Books that received most ratings')"
            ]
          },
          "metadata": {},
          "execution_count": 35
        },
        {
          "output_type": "display_data",
          "data": {
            "image/png": "[encoded data removed]",
            "text/plain": [
              "<Figure size 936x360 with 1 Axes>"
            ]
          },
          "metadata": {
            "needs_background": "light"
          }
        }
      ]
    },
    {
      "cell_type": "code",
      "metadata": {
        "colab": {
          "base_uri": "https://localhost:8080/",
          "height": 475
        },
        "id": "sz_WQEpHaptu",
        "outputId": "a77c6b90-f964-4709-94fb-7283c7d2bdd8"
      },
      "source": [
        "# Same as above for publishers\n",
        "plt.figure(figsize=(10,7))\n",
        "ax1 = new_df.groupby('Publisher')['Book-Rating'].count().sort_values(ascending=False).head(20).plot(kind='barh')\n",
        "ax1.invert_yaxis()\n",
        "plt.xlabel('Ratings')\n",
        "plt.ylabel('No of ratings')\n",
        "plt.title('Publishers that received the most ratings')"
      ],
      "execution_count": 36,
      "outputs": [
        {
          "output_type": "execute_result",
          "data": {
            "text/plain": [
              "Text(0.5, 1.0, 'Publishers that received the most ratings')"
            ]
          },
          "metadata": {},
          "execution_count": 36
        },
        {
          "output_type": "display_data",
          "data": {
            "image/png": "[encoded data removed]",
            "text/plain": [
              "<Figure size 720x504 with 1 Axes>"
            ]
          },
          "metadata": {
            "needs_background": "light"
          }
        }
      ]
    },
    {
      "cell_type": "code",
      "metadata": {
        "colab": {
          "base_uri": "https://localhost:8080/",
          "height": 366
        },
        "id": "YsuU2Wb4a4VU",
        "outputId": "e4f5a2ea-3fbe-4669-8524-a2fa94e1b05f"
      },
      "source": [
        "# Book rated as 10 by most\n",
        "plt.figure(figsize=(7,5))\n",
        "ax2 = new_df[new_df['Book-Rating']==10].groupby('Book-Title')['Book-Rating'].count().sort_values(ascending=False).head(20).plot(kind='barh',color='y')\n",
        "ax2.invert_yaxis()\n",
        "plt.xlabel('Ratings')\n",
        "plt.title('Books which were rated as 10 the most')"
      ],
      "execution_count": 37,
      "outputs": [
        {
          "output_type": "execute_result",
          "data": {
            "text/plain": [
              "Text(0.5, 1.0, 'Books which were rated as 10 the most')"
            ]
          },
          "metadata": {},
          "execution_count": 37
        },
        {
          "output_type": "display_data",
          "data": {
            "image/png": "[encoded data removed]",
            "text/plain": [
              "<Figure size 504x360 with 1 Axes>"
            ]
          },
          "metadata": {
            "needs_background": "light"
          }
        }
      ]
    },
    {
      "cell_type": "code",
      "metadata": {
        "colab": {
          "base_uri": "https://localhost:8080/",
          "height": 366
        },
        "id": "72t2hNlSa9Rn",
        "outputId": "c84e5106-e65d-4ab1-f88a-4f489581f31c"
      },
      "source": [
        "# Top 20 Publishers with highest book count\n",
        "plt.figure(figsize=(7,5))\n",
        "ax3 = new_df.groupby('Publisher')['ISBN'].count().sort_values(ascending=False).head(20).plot(kind='barh',color='m')\n",
        "ax3.invert_yaxis()\n",
        "plt.xlabel('Number of books')\n",
        "plt.title('Number of books from top publishers')"
      ],
      "execution_count": 38,
      "outputs": [
        {
          "output_type": "execute_result",
          "data": {
            "text/plain": [
              "Text(0.5, 1.0, 'Number of books from top publishers')"
            ]
          },
          "metadata": {},
          "execution_count": 38
        },
        {
          "output_type": "display_data",
          "data": {
            "image/png": "[encoded data removed]",
            "text/plain": [
              "<Figure size 504x360 with 1 Axes>"
            ]
          },
          "metadata": {
            "needs_background": "light"
          }
        }
      ]
    },
    {
      "cell_type": "code",
      "metadata": {
        "id": "f3lyP-qTcDuq"
      },
      "source": [
        "# Get only those books which have been rated more than 200 times\n",
        "x = new_df.groupby('Book-Title')['Book-Rating'].count()>200"
      ],
      "execution_count": 39,
      "outputs": []
    },
    {
      "cell_type": "code",
      "metadata": {
        "colab": {
          "base_uri": "https://localhost:8080/",
          "height": 478
        },
        "id": "8HKZ_dEcbfLE",
        "outputId": "d632252d-b108-4448-ab7b-c4dcb8565a19"
      },
      "source": [
        "#Plot top rated books on an average \n",
        "plt.figure(figsize=(7,7))\n",
        "ax3 = new_df[new_df['Book-Title'].isin(x[x].index)].groupby('Book-Title')\\\n",
        "           ['Book-Rating'].mean().sort_values(ascending=False).head(20).plot(kind='barh',color='g')\n",
        "ax3.invert_yaxis()\n",
        "ax3.set_xlabel('Average Rating',fontdict={'size':13})\n",
        "ax3.set_title('Book vs Average Rating')"
      ],
      "execution_count": 40,
      "outputs": [
        {
          "output_type": "execute_result",
          "data": {
            "text/plain": [
              "Text(0.5, 1.0, 'Book vs Average Rating')"
            ]
          },
          "metadata": {},
          "execution_count": 40
        },
        {
          "output_type": "display_data",
          "data": {
            "image/png": "[encoded data removed]",
            "text/plain": [
              "<Figure size 504x504 with 1 Axes>"
            ]
          },
          "metadata": {
            "needs_background": "light"
          }
        }
      ]
    },
    {
      "cell_type": "code",
      "metadata": {
        "colab": {
          "base_uri": "https://localhost:8080/",
          "height": 478
        },
        "id": "gmGKizKaby-P",
        "outputId": "8a0bf827-6bca-4d2b-8c7a-c2ea5e082334"
      },
      "source": [
        "# Top Rated publishers on an average\n",
        "plt.figure(figsize=(7,7))\n",
        "ax3 = new_df[new_df['Book-Title'].isin(x[x].index)].groupby('Publisher')\\\n",
        "           ['Book-Rating'].mean().sort_values(ascending=False).head(20).plot(kind='barh',color='c')\n",
        "ax3.invert_yaxis()\n",
        "ax3.set_xlabel('Average Rating',fontdict={'size':13})\n",
        "ax3.set_title('Publisher vs Average Rating')"
      ],
      "execution_count": 41,
      "outputs": [
        {
          "output_type": "execute_result",
          "data": {
            "text/plain": [
              "Text(0.5, 1.0, 'Publisher vs Average Rating')"
            ]
          },
          "metadata": {},
          "execution_count": 41
        },
        {
          "output_type": "display_data",
          "data": {
            "image/png": "[encoded data removed]",
            "text/plain": [
              "<Figure size 504x504 with 1 Axes>"
            ]
          },
          "metadata": {
            "needs_background": "light"
          }
        }
      ]
    },
    {
      "cell_type": "code",
      "metadata": {
        "colab": {
          "base_uri": "https://localhost:8080/"
        },
        "id": "jW5RcwdgcdrK",
        "outputId": "2fc2a75f-96d1-4177-ed56-54ec71b1f122"
      },
      "source": [
        "new_df.shape"
      ],
      "execution_count": 42,
      "outputs": [
        {
          "output_type": "execute_result",
          "data": {
            "text/plain": [
              "(1031136, 10)"
            ]
          },
          "metadata": {},
          "execution_count": 42
        }
      ]
    },
    {
      "cell_type": "code",
      "metadata": {
        "colab": {
          "base_uri": "https://localhost:8080/"
        },
        "id": "dsrannDac8sa",
        "outputId": "9e85e828-c178-4f6a-a7db-ae4e710b7c90"
      },
      "source": [
        "new_df.info()"
      ],
      "execution_count": 43,
      "outputs": [
        {
          "output_type": "stream",
          "name": "stdout",
          "text": [
            "<class 'pandas.core.frame.DataFrame'>\n",
            "Int64Index: 1031136 entries, 0 to 1031135\n",
            "Data columns (total 10 columns):\n",
            " #   Column               Non-Null Count    Dtype   \n",
            "---  ------               --------------    -----   \n",
            " 0   User-ID              1031136 non-null  int64   \n",
            " 1   Age                  1031136 non-null  int64   \n",
            " 2   age_bins             1031136 non-null  category\n",
            " 3   ISBN                 1031136 non-null  object  \n",
            " 4   Book-Rating          1031136 non-null  int64   \n",
            " 5   Book-Title           1031136 non-null  object  \n",
            " 6   Book-Author          1031136 non-null  object  \n",
            " 7   Year-Of-Publication  1031136 non-null  object  \n",
            " 8   Publisher            1031136 non-null  object  \n",
            " 9   country              1031136 non-null  object  \n",
            "dtypes: category(1), int64(3), object(6)\n",
            "memory usage: 79.7+ MB\n"
          ]
        }
      ]
    },
    {
      "cell_type": "markdown",
      "metadata": {
        "id": "lf8hSevNfDEC"
      },
      "source": [
        "##Data Wrangling on Books dataframe"
      ]
    },
    {
      "cell_type": "code",
      "metadata": {
        "colab": {
          "base_uri": "https://localhost:8080/"
        },
        "id": "vlQH1k4oedmg",
        "outputId": "9510e86e-f6e7-46dd-a020-e865088af072"
      },
      "source": [
        "# Number of books initially\n",
        "books_df.shape"
      ],
      "execution_count": 44,
      "outputs": [
        {
          "output_type": "execute_result",
          "data": {
            "text/plain": [
              "(271360, 8)"
            ]
          },
          "metadata": {},
          "execution_count": 44
        }
      ]
    },
    {
      "cell_type": "code",
      "metadata": {
        "colab": {
          "base_uri": "https://localhost:8080/"
        },
        "id": "USF_s7kAo9lT",
        "outputId": "212486f8-8738-4b26-9291-c7fa9fef6b06"
      },
      "source": [
        "# Take only required features\n",
        "books_df = books_df.loc[:,'ISBN':'Publisher']\n",
        "books_df.shape"
      ],
      "execution_count": 45,
      "outputs": [
        {
          "output_type": "execute_result",
          "data": {
            "text/plain": [
              "(271360, 5)"
            ]
          },
          "metadata": {},
          "execution_count": 45
        }
      ]
    },
    {
      "cell_type": "code",
      "metadata": {
        "colab": {
          "base_uri": "https://localhost:8080/"
        },
        "id": "ihpThQ5Ro99-",
        "outputId": "6ddccb62-aff2-4430-dc74-510c555c89fc"
      },
      "source": [
        "# Check null values\n",
        "books_df.isnull().sum()"
      ],
      "execution_count": 46,
      "outputs": [
        {
          "output_type": "execute_result",
          "data": {
            "text/plain": [
              "ISBN                   0\n",
              "Book-Title             0\n",
              "Book-Author            1\n",
              "Year-Of-Publication    0\n",
              "Publisher              2\n",
              "dtype: int64"
            ]
          },
          "metadata": {},
          "execution_count": 46
        }
      ]
    },
    {
      "cell_type": "code",
      "metadata": {
        "id": "-96XqILHpDzM"
      },
      "source": [
        "# Handling Nulls\n",
        "books_df[['Book-Author','Publisher']] = books_df[['Book-Author','Publisher']].fillna('unknown')"
      ],
      "execution_count": 47,
      "outputs": []
    },
    {
      "cell_type": "code",
      "metadata": {
        "colab": {
          "base_uri": "https://localhost:8080/"
        },
        "id": "xU-wsyB8pYhI",
        "outputId": "3515f088-8bb4-4e2a-a357-1ab4060b6c53"
      },
      "source": [
        "p(books_df.isnull().sum())\n",
        "p('Number of books: ',books_df.shape[0])"
      ],
      "execution_count": 48,
      "outputs": [
        {
          "output_type": "stream",
          "name": "stdout",
          "text": [
            "ISBN                   0\n",
            "Book-Title             0\n",
            "Book-Author            0\n",
            "Year-Of-Publication    0\n",
            "Publisher              0\n",
            "dtype: int64\n",
            "Number of books:  271360\n"
          ]
        }
      ]
    },
    {
      "cell_type": "code",
      "metadata": {
        "colab": {
          "base_uri": "https://localhost:8080/",
          "height": 202
        },
        "id": "sWVBFrk0pY1O",
        "outputId": "d99492dd-7b46-4020-aa1c-b4baf49fe88c"
      },
      "source": [
        "books_df.head()"
      ],
      "execution_count": 49,
      "outputs": [
        {
          "output_type": "execute_result",
          "data": {
            "text/html": [
              "<div>\n",
              "<style scoped>\n",
              "    .dataframe tbody tr th:only-of-type {\n",
              "        vertical-align: middle;\n",
              "    }\n",
              "\n",
              "    .dataframe tbody tr th {\n",
              "        vertical-align: top;\n",
              "    }\n",
              "\n",
              "    .dataframe thead th {\n",
              "        text-align: right;\n",
              "    }\n",
              "</style>\n",
              "<table border=\"1\" class=\"dataframe\">\n",
              "  <thead>\n",
              "    <tr style=\"text-align: right;\">\n",
              "      <th></th>\n",
              "      <th>ISBN</th>\n",
              "      <th>Book-Title</th>\n",
              "      <th>Book-Author</th>\n",
              "      <th>Year-Of-Publication</th>\n",
              "      <th>Publisher</th>\n",
              "    </tr>\n",
              "  </thead>\n",
              "  <tbody>\n",
              "    <tr>\n",
              "      <th>0</th>\n",
              "      <td>0195153448</td>\n",
              "      <td>Classical Mythology</td>\n",
              "      <td>Mark P. O. Morford</td>\n",
              "      <td>2002</td>\n",
              "      <td>Oxford University Press</td>\n",
              "    </tr>\n",
              "    <tr>\n",
              "      <th>1</th>\n",
              "      <td>0002005018</td>\n",
              "      <td>Clara Callan</td>\n",
              "      <td>Richard Bruce Wright</td>\n",
              "      <td>2001</td>\n",
              "      <td>HarperFlamingo Canada</td>\n",
              "    </tr>\n",
              "    <tr>\n",
              "      <th>2</th>\n",
              "      <td>0060973129</td>\n",
              "      <td>Decision in Normandy</td>\n",
              "      <td>Carlo D'Este</td>\n",
              "      <td>1991</td>\n",
              "      <td>HarperPerennial</td>\n",
              "    </tr>\n",
              "    <tr>\n",
              "      <th>3</th>\n",
              "      <td>0374157065</td>\n",
              "      <td>Flu: The Story of the Great Influenza Pandemic...</td>\n",
              "      <td>Gina Bari Kolata</td>\n",
              "      <td>1999</td>\n",
              "      <td>Farrar Straus Giroux</td>\n",
              "    </tr>\n",
              "    <tr>\n",
              "      <th>4</th>\n",
              "      <td>0393045218</td>\n",
              "      <td>The Mummies of Urumchi</td>\n",
              "      <td>E. J. W. Barber</td>\n",
              "      <td>1999</td>\n",
              "      <td>W. W. Norton &amp;amp; Company</td>\n",
              "    </tr>\n",
              "  </tbody>\n",
              "</table>\n",
              "</div>"
            ],
            "text/plain": [
              "         ISBN  ...                   Publisher\n",
              "0  0195153448  ...     Oxford University Press\n",
              "1  0002005018  ...       HarperFlamingo Canada\n",
              "2  0060973129  ...             HarperPerennial\n",
              "3  0374157065  ...        Farrar Straus Giroux\n",
              "4  0393045218  ...  W. W. Norton &amp; Company\n",
              "\n",
              "[5 rows x 5 columns]"
            ]
          },
          "metadata": {},
          "execution_count": 49
        }
      ]
    },
    {
      "cell_type": "code",
      "metadata": {
        "colab": {
          "base_uri": "https://localhost:8080/"
        },
        "id": "OpThO-vupdDR",
        "outputId": "58b1eeb6-8b58-4402-b52c-cb8bb903fe82"
      },
      "source": [
        "# More than one ISBN for some titles\n",
        "p('Number of unique ISBNs: ',books_df['ISBN'].nunique())\n",
        "p('Number of unique book titles: ',books_df['Book-Title'].nunique())"
      ],
      "execution_count": 50,
      "outputs": [
        {
          "output_type": "stream",
          "name": "stdout",
          "text": [
            "Number of unique ISBNs:  271360\n",
            "Number of unique book titles:  242135\n"
          ]
        }
      ]
    },
    {
      "cell_type": "code",
      "metadata": {
        "colab": {
          "base_uri": "https://localhost:8080/"
        },
        "id": "Itxt3VOQplZB",
        "outputId": "1117b0f2-4908-474a-e8ae-c8dd8080033c"
      },
      "source": [
        "# Number of times titles are repeated\n",
        "books_df.groupby(['Book-Title'])['Book-Title'].count().sort_values(ascending=False)"
      ],
      "execution_count": 51,
      "outputs": [
        {
          "output_type": "execute_result",
          "data": {
            "text/plain": [
              "Book-Title\n",
              "Selected Poems                                                                                                27\n",
              "Little Women                                                                                                  24\n",
              "Wuthering Heights                                                                                             21\n",
              "Dracula                                                                                                       20\n",
              "Adventures of Huckleberry Finn                                                                                20\n",
              "                                                                                                              ..\n",
              "Secrets of a Perfect Night: Scandalous Lord Dere/ The Last Love Letter/ Now and Forever                        1\n",
              "Secrets of a Nun: My Own Story                                                                                 1\n",
              "Secrets of a Natural Menopause: A Positive Drug-Free Approach (Llewellyn's Health and Healing)                 1\n",
              "Secrets of a Midnight Moon                                                                                     1\n",
              " A Light in the Storm: The Civil War Diary of Amelia Martin, Fenwick Island, Delaware, 1861 (Dear America)     1\n",
              "Name: Book-Title, Length: 242135, dtype: int64"
            ]
          },
          "metadata": {},
          "execution_count": 51
        }
      ]
    },
    {
      "cell_type": "markdown",
      "metadata": {
        "id": "lnDXzuXUJ4B_"
      },
      "source": [
        "####Let's try to see why some Books are repeated"
      ]
    },
    {
      "cell_type": "code",
      "metadata": {
        "colab": {
          "base_uri": "https://localhost:8080/",
          "height": 878
        },
        "id": "VH3vnPwUpyZ2",
        "outputId": "07575a24-ee1f-4026-a0ea-d46244c95f1f"
      },
      "source": [
        "# Selected Poems title\n",
        "books_df[books_df['Book-Title']== 'Selected Poems']"
      ],
      "execution_count": 52,
      "outputs": [
        {
          "output_type": "execute_result",
          "data": {
            "text/html": [
              "<div>\n",
              "<style scoped>\n",
              "    .dataframe tbody tr th:only-of-type {\n",
              "        vertical-align: middle;\n",
              "    }\n",
              "\n",
              "    .dataframe tbody tr th {\n",
              "        vertical-align: top;\n",
              "    }\n",
              "\n",
              "    .dataframe thead th {\n",
              "        text-align: right;\n",
              "    }\n",
              "</style>\n",
              "<table border=\"1\" class=\"dataframe\">\n",
              "  <thead>\n",
              "    <tr style=\"text-align: right;\">\n",
              "      <th></th>\n",
              "      <th>ISBN</th>\n",
              "      <th>Book-Title</th>\n",
              "      <th>Book-Author</th>\n",
              "      <th>Year-Of-Publication</th>\n",
              "      <th>Publisher</th>\n",
              "    </tr>\n",
              "  </thead>\n",
              "  <tbody>\n",
              "    <tr>\n",
              "      <th>4523</th>\n",
              "      <td>081120958X</td>\n",
              "      <td>Selected Poems</td>\n",
              "      <td>William Carlos Williams</td>\n",
              "      <td>1985</td>\n",
              "      <td>New Directions Publishing Corporation</td>\n",
              "    </tr>\n",
              "    <tr>\n",
              "      <th>39416</th>\n",
              "      <td>0811201465</td>\n",
              "      <td>Selected Poems</td>\n",
              "      <td>K. Patchen</td>\n",
              "      <td>1957</td>\n",
              "      <td>New Directions Publishing Corporation</td>\n",
              "    </tr>\n",
              "    <tr>\n",
              "      <th>41316</th>\n",
              "      <td>0679750800</td>\n",
              "      <td>Selected Poems</td>\n",
              "      <td>Rita Dove</td>\n",
              "      <td>1993</td>\n",
              "      <td>Vintage Books USA</td>\n",
              "    </tr>\n",
              "    <tr>\n",
              "      <th>106885</th>\n",
              "      <td>0060931744</td>\n",
              "      <td>Selected Poems</td>\n",
              "      <td>Gwendolyn Brooks</td>\n",
              "      <td>1999</td>\n",
              "      <td>Perennial</td>\n",
              "    </tr>\n",
              "    <tr>\n",
              "      <th>118775</th>\n",
              "      <td>0517101548</td>\n",
              "      <td>Selected Poems</td>\n",
              "      <td>John Donne</td>\n",
              "      <td>1994</td>\n",
              "      <td>Gramercy Books</td>\n",
              "    </tr>\n",
              "    <tr>\n",
              "      <th>127462</th>\n",
              "      <td>0520012984</td>\n",
              "      <td>Selected Poems</td>\n",
              "      <td>Paul Verlaine</td>\n",
              "      <td>1970</td>\n",
              "      <td>University of California Press</td>\n",
              "    </tr>\n",
              "    <tr>\n",
              "      <th>156894</th>\n",
              "      <td>0871401541</td>\n",
              "      <td>Selected Poems</td>\n",
              "      <td>E. E. Cummings</td>\n",
              "      <td>1994</td>\n",
              "      <td>Liveright Publishing Corporation</td>\n",
              "    </tr>\n",
              "    <tr>\n",
              "      <th>158312</th>\n",
              "      <td>0060909897</td>\n",
              "      <td>Selected Poems</td>\n",
              "      <td>Gwendolyn Brooks</td>\n",
              "      <td>1963</td>\n",
              "      <td>Harpercollins</td>\n",
              "    </tr>\n",
              "    <tr>\n",
              "      <th>175602</th>\n",
              "      <td>0571050190</td>\n",
              "      <td>Selected Poems</td>\n",
              "      <td>T.           T Gunn</td>\n",
              "      <td>1962</td>\n",
              "      <td>Farrar Straus &amp;amp; Giroux</td>\n",
              "    </tr>\n",
              "    <tr>\n",
              "      <th>183908</th>\n",
              "      <td>1550651498</td>\n",
              "      <td>Selected Poems</td>\n",
              "      <td>Ralph Gustafson</td>\n",
              "      <td>2001</td>\n",
              "      <td>Vehicule Press</td>\n",
              "    </tr>\n",
              "    <tr>\n",
              "      <th>184897</th>\n",
              "      <td>0333516265</td>\n",
              "      <td>Selected Poems</td>\n",
              "      <td>Thomas Hardy</td>\n",
              "      <td>1989</td>\n",
              "      <td>Macmillan</td>\n",
              "    </tr>\n",
              "    <tr>\n",
              "      <th>189247</th>\n",
              "      <td>0679430830</td>\n",
              "      <td>Selected Poems</td>\n",
              "      <td>Rita Dove</td>\n",
              "      <td>1993</td>\n",
              "      <td>Pantheon Books</td>\n",
              "    </tr>\n",
              "    <tr>\n",
              "      <th>189963</th>\n",
              "      <td>0940262193</td>\n",
              "      <td>Selected Poems</td>\n",
              "      <td>Kathleen Raine</td>\n",
              "      <td>1989</td>\n",
              "      <td>Rudolph Steiner Pr</td>\n",
              "    </tr>\n",
              "    <tr>\n",
              "      <th>196944</th>\n",
              "      <td>0802151027</td>\n",
              "      <td>Selected Poems</td>\n",
              "      <td>Pablo Neruda</td>\n",
              "      <td>1961</td>\n",
              "      <td>Grove Press</td>\n",
              "    </tr>\n",
              "    <tr>\n",
              "      <th>198960</th>\n",
              "      <td>1852240954</td>\n",
              "      <td>Selected Poems</td>\n",
              "      <td>Jenny Joseph</td>\n",
              "      <td>1992</td>\n",
              "      <td>Bloodaxe Books Ltd</td>\n",
              "    </tr>\n",
              "    <tr>\n",
              "      <th>202448</th>\n",
              "      <td>0679765654</td>\n",
              "      <td>Selected Poems</td>\n",
              "      <td>Daniel Halpern</td>\n",
              "      <td>1996</td>\n",
              "      <td>Alfred A. Knopf</td>\n",
              "    </tr>\n",
              "    <tr>\n",
              "      <th>202743</th>\n",
              "      <td>0906427851</td>\n",
              "      <td>Selected Poems</td>\n",
              "      <td>Denise Levertov</td>\n",
              "      <td>1986</td>\n",
              "      <td>Bloodaxe Books Ltd</td>\n",
              "    </tr>\n",
              "    <tr>\n",
              "      <th>213189</th>\n",
              "      <td>0520069358</td>\n",
              "      <td>Selected Poems</td>\n",
              "      <td>Robert Creeley</td>\n",
              "      <td>1991</td>\n",
              "      <td>University of California Press</td>\n",
              "    </tr>\n",
              "    <tr>\n",
              "      <th>215269</th>\n",
              "      <td>0156003961</td>\n",
              "      <td>Selected Poems</td>\n",
              "      <td>Carl Sandburg</td>\n",
              "      <td>1996</td>\n",
              "      <td>Harvest Books</td>\n",
              "    </tr>\n",
              "    <tr>\n",
              "      <th>226024</th>\n",
              "      <td>0395320461</td>\n",
              "      <td>Selected Poems</td>\n",
              "      <td>Galway Kinnell</td>\n",
              "      <td>1983</td>\n",
              "      <td>Houghton Mifflin Company</td>\n",
              "    </tr>\n",
              "    <tr>\n",
              "      <th>232061</th>\n",
              "      <td>006093168X</td>\n",
              "      <td>Selected Poems</td>\n",
              "      <td>Edna St. Vincent Millay</td>\n",
              "      <td>1999</td>\n",
              "      <td>Perennial</td>\n",
              "    </tr>\n",
              "    <tr>\n",
              "      <th>236707</th>\n",
              "      <td>0679724834</td>\n",
              "      <td>Selected Poems</td>\n",
              "      <td>W. H. Auden</td>\n",
              "      <td>1989</td>\n",
              "      <td>Vintage Books USA</td>\n",
              "    </tr>\n",
              "    <tr>\n",
              "      <th>247784</th>\n",
              "      <td>0394702956</td>\n",
              "      <td>Selected Poems</td>\n",
              "      <td>R. Jeffers</td>\n",
              "      <td>1963</td>\n",
              "      <td>Vintage Books USA</td>\n",
              "    </tr>\n",
              "    <tr>\n",
              "      <th>248309</th>\n",
              "      <td>0811209512</td>\n",
              "      <td>Selected Poems</td>\n",
              "      <td>Michael Mc Clure</td>\n",
              "      <td>1986</td>\n",
              "      <td>W W Norton &amp;amp; Co Inc</td>\n",
              "    </tr>\n",
              "    <tr>\n",
              "      <th>248837</th>\n",
              "      <td>0670809179</td>\n",
              "      <td>Selected Poems</td>\n",
              "      <td>John Ashbery</td>\n",
              "      <td>1985</td>\n",
              "      <td>Penguin USA</td>\n",
              "    </tr>\n",
              "    <tr>\n",
              "      <th>251692</th>\n",
              "      <td>0460871501</td>\n",
              "      <td>Selected Poems</td>\n",
              "      <td>Elizabeth Barrett Browning</td>\n",
              "      <td>1992</td>\n",
              "      <td>Phoenix mass market p/bk</td>\n",
              "    </tr>\n",
              "    <tr>\n",
              "      <th>254097</th>\n",
              "      <td>0571210767</td>\n",
              "      <td>Selected Poems</td>\n",
              "      <td>Simon Armitage</td>\n",
              "      <td>2001</td>\n",
              "      <td>Faber and Faber Ltd</td>\n",
              "    </tr>\n",
              "  </tbody>\n",
              "</table>\n",
              "</div>"
            ],
            "text/plain": [
              "              ISBN  ...                              Publisher\n",
              "4523    081120958X  ...  New Directions Publishing Corporation\n",
              "39416   0811201465  ...  New Directions Publishing Corporation\n",
              "41316   0679750800  ...                      Vintage Books USA\n",
              "106885  0060931744  ...                              Perennial\n",
              "118775  0517101548  ...                         Gramercy Books\n",
              "127462  0520012984  ...         University of California Press\n",
              "156894  0871401541  ...       Liveright Publishing Corporation\n",
              "158312  0060909897  ...                          Harpercollins\n",
              "175602  0571050190  ...             Farrar Straus &amp; Giroux\n",
              "183908  1550651498  ...                         Vehicule Press\n",
              "184897  0333516265  ...                              Macmillan\n",
              "189247  0679430830  ...                         Pantheon Books\n",
              "189963  0940262193  ...                     Rudolph Steiner Pr\n",
              "196944  0802151027  ...                            Grove Press\n",
              "198960  1852240954  ...                     Bloodaxe Books Ltd\n",
              "202448  0679765654  ...                        Alfred A. Knopf\n",
              "202743  0906427851  ...                     Bloodaxe Books Ltd\n",
              "213189  0520069358  ...         University of California Press\n",
              "215269  0156003961  ...                          Harvest Books\n",
              "226024  0395320461  ...               Houghton Mifflin Company\n",
              "232061  006093168X  ...                              Perennial\n",
              "236707  0679724834  ...                      Vintage Books USA\n",
              "247784  0394702956  ...                      Vintage Books USA\n",
              "248309  0811209512  ...                W W Norton &amp; Co Inc\n",
              "248837  0670809179  ...                            Penguin USA\n",
              "251692  0460871501  ...               Phoenix mass market p/bk\n",
              "254097  0571210767  ...                    Faber and Faber Ltd\n",
              "\n",
              "[27 rows x 5 columns]"
            ]
          },
          "metadata": {},
          "execution_count": 52
        }
      ]
    },
    {
      "cell_type": "code",
      "metadata": {
        "colab": {
          "base_uri": "https://localhost:8080/",
          "height": 786
        },
        "id": "q_kNCzQqp8ih",
        "outputId": "179ee6c8-1bbf-4580-f082-3e6522531af8"
      },
      "source": [
        "# Little women title\n",
        "books_df[books_df['Book-Title']== 'Little Women']"
      ],
      "execution_count": 53,
      "outputs": [
        {
          "output_type": "execute_result",
          "data": {
            "text/html": [
              "<div>\n",
              "<style scoped>\n",
              "    .dataframe tbody tr th:only-of-type {\n",
              "        vertical-align: middle;\n",
              "    }\n",
              "\n",
              "    .dataframe tbody tr th {\n",
              "        vertical-align: top;\n",
              "    }\n",
              "\n",
              "    .dataframe thead th {\n",
              "        text-align: right;\n",
              "    }\n",
              "</style>\n",
              "<table border=\"1\" class=\"dataframe\">\n",
              "  <thead>\n",
              "    <tr style=\"text-align: right;\">\n",
              "      <th></th>\n",
              "      <th>ISBN</th>\n",
              "      <th>Book-Title</th>\n",
              "      <th>Book-Author</th>\n",
              "      <th>Year-Of-Publication</th>\n",
              "      <th>Publisher</th>\n",
              "    </tr>\n",
              "  </thead>\n",
              "  <tbody>\n",
              "    <tr>\n",
              "      <th>3952</th>\n",
              "      <td>185854176X</td>\n",
              "      <td>Little Women</td>\n",
              "      <td>Louisa M. Atcott</td>\n",
              "      <td>1995</td>\n",
              "      <td>Brimax Books Ltd</td>\n",
              "    </tr>\n",
              "    <tr>\n",
              "      <th>4330</th>\n",
              "      <td>0861782356</td>\n",
              "      <td>Little Women</td>\n",
              "      <td>Louisa May Alcott</td>\n",
              "      <td>0</td>\n",
              "      <td>Octopus Publising Group Plc</td>\n",
              "    </tr>\n",
              "    <tr>\n",
              "      <th>12227</th>\n",
              "      <td>0590203509</td>\n",
              "      <td>Little Women</td>\n",
              "      <td>Louisa May Alcott</td>\n",
              "      <td>1994</td>\n",
              "      <td>Scholastic</td>\n",
              "    </tr>\n",
              "    <tr>\n",
              "      <th>20676</th>\n",
              "      <td>0440447682</td>\n",
              "      <td>Little Women</td>\n",
              "      <td>Louisa May Alcott</td>\n",
              "      <td>1990</td>\n",
              "      <td>Yearling Books</td>\n",
              "    </tr>\n",
              "    <tr>\n",
              "      <th>32837</th>\n",
              "      <td>1550134140</td>\n",
              "      <td>Little Women</td>\n",
              "      <td>Louisa May Alcott</td>\n",
              "      <td>0</td>\n",
              "      <td>Firefly Books Ltd</td>\n",
              "    </tr>\n",
              "    <tr>\n",
              "      <th>52210</th>\n",
              "      <td>0451529308</td>\n",
              "      <td>Little Women</td>\n",
              "      <td>Louisa May Alcott</td>\n",
              "      <td>2004</td>\n",
              "      <td>Signet Classics</td>\n",
              "    </tr>\n",
              "    <tr>\n",
              "      <th>52551</th>\n",
              "      <td>0451518144</td>\n",
              "      <td>Little Women</td>\n",
              "      <td>Louisa May Alcott</td>\n",
              "      <td>1983</td>\n",
              "      <td>Signet Book</td>\n",
              "    </tr>\n",
              "    <tr>\n",
              "      <th>53358</th>\n",
              "      <td>0590437976</td>\n",
              "      <td>Little Women</td>\n",
              "      <td>Louisa May Alcott</td>\n",
              "      <td>1992</td>\n",
              "      <td>Scholastic</td>\n",
              "    </tr>\n",
              "    <tr>\n",
              "      <th>57432</th>\n",
              "      <td>0195813898</td>\n",
              "      <td>Little Women</td>\n",
              "      <td>Alcott</td>\n",
              "      <td>1985</td>\n",
              "      <td>Oxford University Press</td>\n",
              "    </tr>\n",
              "    <tr>\n",
              "      <th>72168</th>\n",
              "      <td>0785788727</td>\n",
              "      <td>Little Women</td>\n",
              "      <td>Louisa May Alcott</td>\n",
              "      <td>1999</td>\n",
              "      <td>Sagebrush Bound</td>\n",
              "    </tr>\n",
              "    <tr>\n",
              "      <th>82565</th>\n",
              "      <td>0448110199</td>\n",
              "      <td>Little Women</td>\n",
              "      <td>Louisa May Alcott</td>\n",
              "      <td>1981</td>\n",
              "      <td>Grosset &amp;amp; Dunlap</td>\n",
              "    </tr>\n",
              "    <tr>\n",
              "      <th>84807</th>\n",
              "      <td>0812523334</td>\n",
              "      <td>Little Women</td>\n",
              "      <td>Louisa May Alcott</td>\n",
              "      <td>1994</td>\n",
              "      <td>Tor Books</td>\n",
              "    </tr>\n",
              "    <tr>\n",
              "      <th>110746</th>\n",
              "      <td>0394562798</td>\n",
              "      <td>Little Women</td>\n",
              "      <td>Louisa May Alcott</td>\n",
              "      <td>1988</td>\n",
              "      <td>Alfred A. Knopf</td>\n",
              "    </tr>\n",
              "    <tr>\n",
              "      <th>118219</th>\n",
              "      <td>1557042160</td>\n",
              "      <td>Little Women</td>\n",
              "      <td>Laurie Lawlor</td>\n",
              "      <td>1994</td>\n",
              "      <td>Newmarket Press</td>\n",
              "    </tr>\n",
              "    <tr>\n",
              "      <th>124841</th>\n",
              "      <td>0590433423</td>\n",
              "      <td>Little Women</td>\n",
              "      <td>Louisa May Alcott</td>\n",
              "      <td>1989</td>\n",
              "      <td>Scholastic</td>\n",
              "    </tr>\n",
              "    <tr>\n",
              "      <th>142261</th>\n",
              "      <td>0448054663</td>\n",
              "      <td>Little Women</td>\n",
              "      <td>Louisa May Alcott</td>\n",
              "      <td>1970</td>\n",
              "      <td>Price Stern Sloan Pub (J)</td>\n",
              "    </tr>\n",
              "    <tr>\n",
              "      <th>142302</th>\n",
              "      <td>0448023644</td>\n",
              "      <td>Little Women</td>\n",
              "      <td>Louisa May Alcott</td>\n",
              "      <td>1976</td>\n",
              "      <td>Price Stern Sloan Pub (J)</td>\n",
              "    </tr>\n",
              "    <tr>\n",
              "      <th>142305</th>\n",
              "      <td>0590404989</td>\n",
              "      <td>Little Women</td>\n",
              "      <td>Louisa May Alcott</td>\n",
              "      <td>1987</td>\n",
              "      <td>Scholastic</td>\n",
              "    </tr>\n",
              "    <tr>\n",
              "      <th>163547</th>\n",
              "      <td>0681400552</td>\n",
              "      <td>Little Women</td>\n",
              "      <td>Louisa May Alcott</td>\n",
              "      <td>1986</td>\n",
              "      <td>Borders Press</td>\n",
              "    </tr>\n",
              "    <tr>\n",
              "      <th>168782</th>\n",
              "      <td>1593081081</td>\n",
              "      <td>Little Women</td>\n",
              "      <td>Louisa May Alcott</td>\n",
              "      <td>2004</td>\n",
              "      <td>Barnes &amp;amp; Noble Books-Imports</td>\n",
              "    </tr>\n",
              "    <tr>\n",
              "      <th>189663</th>\n",
              "      <td>1568651198</td>\n",
              "      <td>Little Women</td>\n",
              "      <td>Louisa May Alcott</td>\n",
              "      <td>1995</td>\n",
              "      <td>Doubleday Books</td>\n",
              "    </tr>\n",
              "    <tr>\n",
              "      <th>212771</th>\n",
              "      <td>0553211153</td>\n",
              "      <td>Little Women</td>\n",
              "      <td>Louisa May Alcott</td>\n",
              "      <td>1983</td>\n",
              "      <td>Bantam</td>\n",
              "    </tr>\n",
              "    <tr>\n",
              "      <th>224559</th>\n",
              "      <td>0448172569</td>\n",
              "      <td>Little Women</td>\n",
              "      <td>Louisa May Alcott</td>\n",
              "      <td>1978</td>\n",
              "      <td>Berkley Pub Group (Mm)</td>\n",
              "    </tr>\n",
              "    <tr>\n",
              "      <th>258053</th>\n",
              "      <td>0590225375</td>\n",
              "      <td>Little Women</td>\n",
              "      <td>Louisa May Alcott</td>\n",
              "      <td>1994</td>\n",
              "      <td>Little Brown and Company</td>\n",
              "    </tr>\n",
              "  </tbody>\n",
              "</table>\n",
              "</div>"
            ],
            "text/plain": [
              "              ISBN  ...                         Publisher\n",
              "3952    185854176X  ...                  Brimax Books Ltd\n",
              "4330    0861782356  ...       Octopus Publising Group Plc\n",
              "12227   0590203509  ...                        Scholastic\n",
              "20676   0440447682  ...                    Yearling Books\n",
              "32837   1550134140  ...                 Firefly Books Ltd\n",
              "52210   0451529308  ...                   Signet Classics\n",
              "52551   0451518144  ...                       Signet Book\n",
              "53358   0590437976  ...                        Scholastic\n",
              "57432   0195813898  ...           Oxford University Press\n",
              "72168   0785788727  ...                   Sagebrush Bound\n",
              "82565   0448110199  ...              Grosset &amp; Dunlap\n",
              "84807   0812523334  ...                         Tor Books\n",
              "110746  0394562798  ...                   Alfred A. Knopf\n",
              "118219  1557042160  ...                   Newmarket Press\n",
              "124841  0590433423  ...                        Scholastic\n",
              "142261  0448054663  ...         Price Stern Sloan Pub (J)\n",
              "142302  0448023644  ...         Price Stern Sloan Pub (J)\n",
              "142305  0590404989  ...                        Scholastic\n",
              "163547  0681400552  ...                     Borders Press\n",
              "168782  1593081081  ...  Barnes &amp; Noble Books-Imports\n",
              "189663  1568651198  ...                   Doubleday Books\n",
              "212771  0553211153  ...                            Bantam\n",
              "224559  0448172569  ...            Berkley Pub Group (Mm)\n",
              "258053  0590225375  ...          Little Brown and Company\n",
              "\n",
              "[24 rows x 5 columns]"
            ]
          },
          "metadata": {},
          "execution_count": 53
        }
      ]
    },
    {
      "cell_type": "code",
      "metadata": {
        "colab": {
          "base_uri": "https://localhost:8080/",
          "height": 694
        },
        "id": "yCjNg_xzqDQG",
        "outputId": "635192e7-33e1-4300-c25b-2f0949947f7e"
      },
      "source": [
        "# Wuthering heights title\n",
        "books_df[books_df['Book-Title']== 'Wuthering Heights']"
      ],
      "execution_count": 54,
      "outputs": [
        {
          "output_type": "execute_result",
          "data": {
            "text/html": [
              "<div>\n",
              "<style scoped>\n",
              "    .dataframe tbody tr th:only-of-type {\n",
              "        vertical-align: middle;\n",
              "    }\n",
              "\n",
              "    .dataframe tbody tr th {\n",
              "        vertical-align: top;\n",
              "    }\n",
              "\n",
              "    .dataframe thead th {\n",
              "        text-align: right;\n",
              "    }\n",
              "</style>\n",
              "<table border=\"1\" class=\"dataframe\">\n",
              "  <thead>\n",
              "    <tr style=\"text-align: right;\">\n",
              "      <th></th>\n",
              "      <th>ISBN</th>\n",
              "      <th>Book-Title</th>\n",
              "      <th>Book-Author</th>\n",
              "      <th>Year-Of-Publication</th>\n",
              "      <th>Publisher</th>\n",
              "    </tr>\n",
              "  </thead>\n",
              "  <tbody>\n",
              "    <tr>\n",
              "      <th>993</th>\n",
              "      <td>0553212583</td>\n",
              "      <td>Wuthering Heights</td>\n",
              "      <td>EMILY BRONTE</td>\n",
              "      <td>1983</td>\n",
              "      <td>Bantam</td>\n",
              "    </tr>\n",
              "    <tr>\n",
              "      <th>1050</th>\n",
              "      <td>0553211412</td>\n",
              "      <td>Wuthering Heights</td>\n",
              "      <td>Emily Bronte</td>\n",
              "      <td>1983</td>\n",
              "      <td>Bantam</td>\n",
              "    </tr>\n",
              "    <tr>\n",
              "      <th>2075</th>\n",
              "      <td>0812505166</td>\n",
              "      <td>Wuthering Heights</td>\n",
              "      <td>Emily Bronte</td>\n",
              "      <td>1989</td>\n",
              "      <td>Tor Classics</td>\n",
              "    </tr>\n",
              "    <tr>\n",
              "      <th>11120</th>\n",
              "      <td>0553210211</td>\n",
              "      <td>Wuthering Heights</td>\n",
              "      <td>Emily Bronte</td>\n",
              "      <td>1981</td>\n",
              "      <td>Bantam Books</td>\n",
              "    </tr>\n",
              "    <tr>\n",
              "      <th>12735</th>\n",
              "      <td>0439228913</td>\n",
              "      <td>Wuthering Heights</td>\n",
              "      <td>Emily Bronte</td>\n",
              "      <td>2003</td>\n",
              "      <td>Scholastic Paperbacks</td>\n",
              "    </tr>\n",
              "    <tr>\n",
              "      <th>13684</th>\n",
              "      <td>1566193087</td>\n",
              "      <td>Wuthering Heights</td>\n",
              "      <td>Emily Bronte</td>\n",
              "      <td>1994</td>\n",
              "      <td>Dorset Press</td>\n",
              "    </tr>\n",
              "    <tr>\n",
              "      <th>27658</th>\n",
              "      <td>0590460307</td>\n",
              "      <td>Wuthering Heights</td>\n",
              "      <td>Emily Bronte</td>\n",
              "      <td>1992</td>\n",
              "      <td>Scholastic Paperbacks (Mm)</td>\n",
              "    </tr>\n",
              "    <tr>\n",
              "      <th>29712</th>\n",
              "      <td>0140171002</td>\n",
              "      <td>Wuthering Heights</td>\n",
              "      <td>Emily Bronte</td>\n",
              "      <td>1992</td>\n",
              "      <td>Penguin Books Ltd</td>\n",
              "    </tr>\n",
              "    <tr>\n",
              "      <th>41500</th>\n",
              "      <td>0880299185</td>\n",
              "      <td>Wuthering Heights</td>\n",
              "      <td>Emily Bronte</td>\n",
              "      <td>1992</td>\n",
              "      <td>Barnes &amp;amp; Noble</td>\n",
              "    </tr>\n",
              "    <tr>\n",
              "      <th>63570</th>\n",
              "      <td>0451519582</td>\n",
              "      <td>Wuthering Heights</td>\n",
              "      <td>Emily Bronte</td>\n",
              "      <td>1959</td>\n",
              "      <td>Signet Book</td>\n",
              "    </tr>\n",
              "    <tr>\n",
              "      <th>70863</th>\n",
              "      <td>0706430131</td>\n",
              "      <td>Wuthering Heights</td>\n",
              "      <td>Emily Bronte</td>\n",
              "      <td>0</td>\n",
              "      <td>Octopus Books</td>\n",
              "    </tr>\n",
              "    <tr>\n",
              "      <th>74063</th>\n",
              "      <td>0141305479</td>\n",
              "      <td>Wuthering Heights</td>\n",
              "      <td>Emily Bronte</td>\n",
              "      <td>1999</td>\n",
              "      <td>Puffin Books</td>\n",
              "    </tr>\n",
              "    <tr>\n",
              "      <th>74886</th>\n",
              "      <td>0451521196</td>\n",
              "      <td>Wuthering Heights</td>\n",
              "      <td>Emily Bronte</td>\n",
              "      <td>1959</td>\n",
              "      <td>Signet Book</td>\n",
              "    </tr>\n",
              "    <tr>\n",
              "      <th>105704</th>\n",
              "      <td>0817221999</td>\n",
              "      <td>Wuthering Heights</td>\n",
              "      <td>Emily Bronte</td>\n",
              "      <td>1988</td>\n",
              "      <td>Steck-Vaughn</td>\n",
              "    </tr>\n",
              "    <tr>\n",
              "      <th>146020</th>\n",
              "      <td>0894714805</td>\n",
              "      <td>Wuthering Heights</td>\n",
              "      <td>Emily Bronte</td>\n",
              "      <td>1986</td>\n",
              "      <td>Running Press Book Publishers</td>\n",
              "    </tr>\n",
              "    <tr>\n",
              "      <th>155308</th>\n",
              "      <td>0395051029</td>\n",
              "      <td>Wuthering Heights</td>\n",
              "      <td>Emily Bronte</td>\n",
              "      <td>1956</td>\n",
              "      <td>Houghton Mifflin Company</td>\n",
              "    </tr>\n",
              "    <tr>\n",
              "      <th>160494</th>\n",
              "      <td>0895771594</td>\n",
              "      <td>Wuthering Heights</td>\n",
              "      <td>Emily Bronte</td>\n",
              "      <td>1982</td>\n",
              "      <td>Readers Digest Assn</td>\n",
              "    </tr>\n",
              "    <tr>\n",
              "      <th>171324</th>\n",
              "      <td>0312138946</td>\n",
              "      <td>Wuthering Heights</td>\n",
              "      <td>Emily Bronte</td>\n",
              "      <td>2000</td>\n",
              "      <td>St. Martin's Press</td>\n",
              "    </tr>\n",
              "    <tr>\n",
              "      <th>172139</th>\n",
              "      <td>1570421161</td>\n",
              "      <td>Wuthering Heights</td>\n",
              "      <td>Emily Bronte</td>\n",
              "      <td>1994</td>\n",
              "      <td>Time Warner Audio Major</td>\n",
              "    </tr>\n",
              "    <tr>\n",
              "      <th>211870</th>\n",
              "      <td>0804900116</td>\n",
              "      <td>Wuthering Heights</td>\n",
              "      <td>Emily Bronte</td>\n",
              "      <td>1964</td>\n",
              "      <td>Peter Smith Publisher Inc</td>\n",
              "    </tr>\n",
              "    <tr>\n",
              "      <th>254525</th>\n",
              "      <td>0451516508</td>\n",
              "      <td>Wuthering Heights</td>\n",
              "      <td>Emily Bronte</td>\n",
              "      <td>1959</td>\n",
              "      <td>Signet Book</td>\n",
              "    </tr>\n",
              "  </tbody>\n",
              "</table>\n",
              "</div>"
            ],
            "text/plain": [
              "              ISBN  ...                      Publisher\n",
              "993     0553212583  ...                         Bantam\n",
              "1050    0553211412  ...                         Bantam\n",
              "2075    0812505166  ...                   Tor Classics\n",
              "11120   0553210211  ...                   Bantam Books\n",
              "12735   0439228913  ...          Scholastic Paperbacks\n",
              "13684   1566193087  ...                   Dorset Press\n",
              "27658   0590460307  ...     Scholastic Paperbacks (Mm)\n",
              "29712   0140171002  ...              Penguin Books Ltd\n",
              "41500   0880299185  ...             Barnes &amp; Noble\n",
              "63570   0451519582  ...                    Signet Book\n",
              "70863   0706430131  ...                  Octopus Books\n",
              "74063   0141305479  ...                   Puffin Books\n",
              "74886   0451521196  ...                    Signet Book\n",
              "105704  0817221999  ...                   Steck-Vaughn\n",
              "146020  0894714805  ...  Running Press Book Publishers\n",
              "155308  0395051029  ...       Houghton Mifflin Company\n",
              "160494  0895771594  ...            Readers Digest Assn\n",
              "171324  0312138946  ...             St. Martin's Press\n",
              "172139  1570421161  ...        Time Warner Audio Major\n",
              "211870  0804900116  ...      Peter Smith Publisher Inc\n",
              "254525  0451516508  ...                    Signet Book\n",
              "\n",
              "[21 rows x 5 columns]"
            ]
          },
          "metadata": {},
          "execution_count": 54
        }
      ]
    },
    {
      "cell_type": "code",
      "metadata": {
        "colab": {
          "base_uri": "https://localhost:8080/",
          "height": 663
        },
        "id": "MtGdqVxyqGAk",
        "outputId": "ed5fe5da-4e0c-42bc-f920-fe6da11e47d4"
      },
      "source": [
        "# Dracula title\n",
        "books_df[books_df['Book-Title']== 'Dracula']"
      ],
      "execution_count": 55,
      "outputs": [
        {
          "output_type": "execute_result",
          "data": {
            "text/html": [
              "<div>\n",
              "<style scoped>\n",
              "    .dataframe tbody tr th:only-of-type {\n",
              "        vertical-align: middle;\n",
              "    }\n",
              "\n",
              "    .dataframe tbody tr th {\n",
              "        vertical-align: top;\n",
              "    }\n",
              "\n",
              "    .dataframe thead th {\n",
              "        text-align: right;\n",
              "    }\n",
              "</style>\n",
              "<table border=\"1\" class=\"dataframe\">\n",
              "  <thead>\n",
              "    <tr style=\"text-align: right;\">\n",
              "      <th></th>\n",
              "      <th>ISBN</th>\n",
              "      <th>Book-Title</th>\n",
              "      <th>Book-Author</th>\n",
              "      <th>Year-Of-Publication</th>\n",
              "      <th>Publisher</th>\n",
              "    </tr>\n",
              "  </thead>\n",
              "  <tbody>\n",
              "    <tr>\n",
              "      <th>2959</th>\n",
              "      <td>156619301X</td>\n",
              "      <td>Dracula</td>\n",
              "      <td>Bram Stoker</td>\n",
              "      <td>1994</td>\n",
              "      <td>Dorset Press</td>\n",
              "    </tr>\n",
              "    <tr>\n",
              "      <th>5332</th>\n",
              "      <td>055321148X</td>\n",
              "      <td>Dracula</td>\n",
              "      <td>Bram Stoker</td>\n",
              "      <td>1983</td>\n",
              "      <td>Bantam</td>\n",
              "    </tr>\n",
              "    <tr>\n",
              "      <th>12753</th>\n",
              "      <td>9875021245</td>\n",
              "      <td>Dracula</td>\n",
              "      <td>Bram Stoker</td>\n",
              "      <td>2004</td>\n",
              "      <td>Distal</td>\n",
              "    </tr>\n",
              "    <tr>\n",
              "      <th>12988</th>\n",
              "      <td>0140052801</td>\n",
              "      <td>Dracula</td>\n",
              "      <td>Bram Stoker</td>\n",
              "      <td>1992</td>\n",
              "      <td>Penguin USA</td>\n",
              "    </tr>\n",
              "    <tr>\n",
              "      <th>52115</th>\n",
              "      <td>0451175816</td>\n",
              "      <td>Dracula</td>\n",
              "      <td>Bram Stoker</td>\n",
              "      <td>1992</td>\n",
              "      <td>New Amer Library Classics</td>\n",
              "    </tr>\n",
              "    <tr>\n",
              "      <th>61616</th>\n",
              "      <td>0880299010</td>\n",
              "      <td>Dracula</td>\n",
              "      <td>Bram Stoker</td>\n",
              "      <td>1992</td>\n",
              "      <td>Barnes Noble Books</td>\n",
              "    </tr>\n",
              "    <tr>\n",
              "      <th>68981</th>\n",
              "      <td>8481301183</td>\n",
              "      <td>Dracula</td>\n",
              "      <td>Bram Stocker</td>\n",
              "      <td>2001</td>\n",
              "      <td>Colleccion Millenium</td>\n",
              "    </tr>\n",
              "    <tr>\n",
              "      <th>72472</th>\n",
              "      <td>1562542621</td>\n",
              "      <td>Dracula</td>\n",
              "      <td>Emily Hutchinson</td>\n",
              "      <td>1998</td>\n",
              "      <td>Saddleback Publishing, Inc.</td>\n",
              "    </tr>\n",
              "    <tr>\n",
              "      <th>82829</th>\n",
              "      <td>0515053473</td>\n",
              "      <td>Dracula</td>\n",
              "      <td>Bram Stoker</td>\n",
              "      <td>1979</td>\n",
              "      <td>Berkley Pub Group (Mm)</td>\n",
              "    </tr>\n",
              "    <tr>\n",
              "      <th>92499</th>\n",
              "      <td>0863221432</td>\n",
              "      <td>Dracula</td>\n",
              "      <td>Bram Stoker</td>\n",
              "      <td>1992</td>\n",
              "      <td>Brandon/Mount Eagle</td>\n",
              "    </tr>\n",
              "    <tr>\n",
              "      <th>106662</th>\n",
              "      <td>0453007864</td>\n",
              "      <td>Dracula</td>\n",
              "      <td>Bram Stoker</td>\n",
              "      <td>1992</td>\n",
              "      <td>Penguin Highbridge Audio</td>\n",
              "    </tr>\n",
              "    <tr>\n",
              "      <th>110050</th>\n",
              "      <td>0439101344</td>\n",
              "      <td>Dracula</td>\n",
              "      <td>Bram Stoker</td>\n",
              "      <td>2001</td>\n",
              "      <td>Scholastic Paperbacks (Mm)</td>\n",
              "    </tr>\n",
              "    <tr>\n",
              "      <th>116080</th>\n",
              "      <td>8401492009</td>\n",
              "      <td>Dracula</td>\n",
              "      <td>Bram Stoker</td>\n",
              "      <td>1993</td>\n",
              "      <td>Plaza &amp;amp; Janes Editores, S.A.</td>\n",
              "    </tr>\n",
              "    <tr>\n",
              "      <th>116853</th>\n",
              "      <td>0312863586</td>\n",
              "      <td>Dracula</td>\n",
              "      <td>Bram Stoker</td>\n",
              "      <td>1997</td>\n",
              "      <td>Tor Books</td>\n",
              "    </tr>\n",
              "    <tr>\n",
              "      <th>134573</th>\n",
              "      <td>0893757829</td>\n",
              "      <td>Dracula</td>\n",
              "      <td>Bram Stoker</td>\n",
              "      <td>1993</td>\n",
              "      <td>Troll Communications</td>\n",
              "    </tr>\n",
              "    <tr>\n",
              "      <th>139825</th>\n",
              "      <td>014017186X</td>\n",
              "      <td>Dracula</td>\n",
              "      <td>Bram Stoker</td>\n",
              "      <td>1992</td>\n",
              "      <td>Penguin Books Ltd</td>\n",
              "    </tr>\n",
              "    <tr>\n",
              "      <th>158471</th>\n",
              "      <td>1404336540</td>\n",
              "      <td>Dracula</td>\n",
              "      <td>Bram Stoker</td>\n",
              "      <td>2002</td>\n",
              "      <td>IndyPublish.com</td>\n",
              "    </tr>\n",
              "    <tr>\n",
              "      <th>167603</th>\n",
              "      <td>8448700058</td>\n",
              "      <td>Dracula</td>\n",
              "      <td>Bram Stoker</td>\n",
              "      <td>1995</td>\n",
              "      <td>Altaya</td>\n",
              "    </tr>\n",
              "    <tr>\n",
              "      <th>176712</th>\n",
              "      <td>0812504429</td>\n",
              "      <td>Dracula</td>\n",
              "      <td>Books Tor</td>\n",
              "      <td>1990</td>\n",
              "      <td>Tor Books</td>\n",
              "    </tr>\n",
              "    <tr>\n",
              "      <th>217519</th>\n",
              "      <td>0573608229</td>\n",
              "      <td>Dracula</td>\n",
              "      <td>Hamilton Deane</td>\n",
              "      <td>1999</td>\n",
              "      <td>Samuel French</td>\n",
              "    </tr>\n",
              "  </tbody>\n",
              "</table>\n",
              "</div>"
            ],
            "text/plain": [
              "              ISBN  ...                         Publisher\n",
              "2959    156619301X  ...                      Dorset Press\n",
              "5332    055321148X  ...                            Bantam\n",
              "12753   9875021245  ...                            Distal\n",
              "12988   0140052801  ...                       Penguin USA\n",
              "52115   0451175816  ...         New Amer Library Classics\n",
              "61616   0880299010  ...                Barnes Noble Books\n",
              "68981   8481301183  ...              Colleccion Millenium\n",
              "72472   1562542621  ...       Saddleback Publishing, Inc.\n",
              "82829   0515053473  ...            Berkley Pub Group (Mm)\n",
              "92499   0863221432  ...               Brandon/Mount Eagle\n",
              "106662  0453007864  ...          Penguin Highbridge Audio\n",
              "110050  0439101344  ...        Scholastic Paperbacks (Mm)\n",
              "116080  8401492009  ...  Plaza &amp; Janes Editores, S.A.\n",
              "116853  0312863586  ...                         Tor Books\n",
              "134573  0893757829  ...              Troll Communications\n",
              "139825  014017186X  ...                 Penguin Books Ltd\n",
              "158471  1404336540  ...                   IndyPublish.com\n",
              "167603  8448700058  ...                            Altaya\n",
              "176712  0812504429  ...                         Tor Books\n",
              "217519  0573608229  ...                     Samuel French\n",
              "\n",
              "[20 rows x 5 columns]"
            ]
          },
          "metadata": {},
          "execution_count": 55
        }
      ]
    },
    {
      "cell_type": "markdown",
      "metadata": {
        "id": "kCMC9yQgqRx1"
      },
      "source": [
        "###Observations:\n",
        "####Some books occur more than once because they are different editions of the same books while others have similar names but different authors."
      ]
    },
    {
      "cell_type": "markdown",
      "metadata": {
        "id": "Uw7tP7O7q31f"
      },
      "source": [
        "###Dealing with the duplications"
      ]
    },
    {
      "cell_type": "code",
      "metadata": {
        "id": "1L99-O-dqI6y"
      },
      "source": [
        "# Define a function to combine to columns namely title and author\n",
        "def change_title(str1,str2):\n",
        "  '''Change the title of books'''\n",
        "  str1 = str1 +\" \"+'by' +\" \"+str2\n",
        "  return str1"
      ],
      "execution_count": 56,
      "outputs": []
    },
    {
      "cell_type": "code",
      "metadata": {
        "id": "MD0JEImtq8Hq"
      },
      "source": [
        "# Create a new column for title\n",
        "books_df['new_title'] = books_df.apply(lambda x : change_title(x['Book-Title'],x['Book-Author']),axis = 1)"
      ],
      "execution_count": 57,
      "outputs": []
    },
    {
      "cell_type": "code",
      "metadata": {
        "colab": {
          "base_uri": "https://localhost:8080/",
          "height": 110
        },
        "id": "1-oGOrizq_HB",
        "outputId": "efc32bdb-b547-4ecf-a7a0-2ea54adae43b"
      },
      "source": [
        "books_df.head(2)"
      ],
      "execution_count": 58,
      "outputs": [
        {
          "output_type": "execute_result",
          "data": {
            "text/html": [
              "<div>\n",
              "<style scoped>\n",
              "    .dataframe tbody tr th:only-of-type {\n",
              "        vertical-align: middle;\n",
              "    }\n",
              "\n",
              "    .dataframe tbody tr th {\n",
              "        vertical-align: top;\n",
              "    }\n",
              "\n",
              "    .dataframe thead th {\n",
              "        text-align: right;\n",
              "    }\n",
              "</style>\n",
              "<table border=\"1\" class=\"dataframe\">\n",
              "  <thead>\n",
              "    <tr style=\"text-align: right;\">\n",
              "      <th></th>\n",
              "      <th>ISBN</th>\n",
              "      <th>Book-Title</th>\n",
              "      <th>Book-Author</th>\n",
              "      <th>Year-Of-Publication</th>\n",
              "      <th>Publisher</th>\n",
              "      <th>new_title</th>\n",
              "    </tr>\n",
              "  </thead>\n",
              "  <tbody>\n",
              "    <tr>\n",
              "      <th>0</th>\n",
              "      <td>0195153448</td>\n",
              "      <td>Classical Mythology</td>\n",
              "      <td>Mark P. O. Morford</td>\n",
              "      <td>2002</td>\n",
              "      <td>Oxford University Press</td>\n",
              "      <td>Classical Mythology by Mark P. O. Morford</td>\n",
              "    </tr>\n",
              "    <tr>\n",
              "      <th>1</th>\n",
              "      <td>0002005018</td>\n",
              "      <td>Clara Callan</td>\n",
              "      <td>Richard Bruce Wright</td>\n",
              "      <td>2001</td>\n",
              "      <td>HarperFlamingo Canada</td>\n",
              "      <td>Clara Callan by Richard Bruce Wright</td>\n",
              "    </tr>\n",
              "  </tbody>\n",
              "</table>\n",
              "</div>"
            ],
            "text/plain": [
              "         ISBN  ...                                  new_title\n",
              "0  0195153448  ...  Classical Mythology by Mark P. O. Morford\n",
              "1  0002005018  ...       Clara Callan by Richard Bruce Wright\n",
              "\n",
              "[2 rows x 6 columns]"
            ]
          },
          "metadata": {},
          "execution_count": 58
        }
      ]
    },
    {
      "cell_type": "markdown",
      "metadata": {
        "id": "oc6-_tBMrDi8"
      },
      "source": [
        "####Now the duplications can be removed using new_titles."
      ]
    },
    {
      "cell_type": "code",
      "metadata": {
        "id": "fZNdAxIurBr6"
      },
      "source": [
        "# Get rid of duplications\n",
        "new_book_df = books_df.drop_duplicates(subset='new_title',keep='first')"
      ],
      "execution_count": 59,
      "outputs": []
    },
    {
      "cell_type": "code",
      "metadata": {
        "colab": {
          "base_uri": "https://localhost:8080/"
        },
        "id": "RadGR1gvraMD",
        "outputId": "d96972fe-9f80-4ab3-d8d4-9f88511edae6"
      },
      "source": [
        "# No more duplications\n",
        "new_book_df.groupby(['new_title'])['new_title'].count().sort_values(ascending=False)"
      ],
      "execution_count": 60,
      "outputs": [
        {
          "output_type": "execute_result",
          "data": {
            "text/plain": [
              "new_title\n",
              "Ã?Â?thique en toc by Didier Daeninckx                                                                                        1\n",
              "Harriet Tubman : The Road to Freedom (Easy Biographies) by Rae Bains                                                         1\n",
              "Harriet Tubman (Christian Library) by C. Grant                                                                               1\n",
              "Harriet Tubman (Childhood Of Famous Americans) by Kathleen Kudlinski                                                         1\n",
              "Harriet Spies Again by HELEN ERICSON                                                                                         1\n",
              "                                                                                                                            ..\n",
              "Silver Wings, Santiago Blue by Janet Dailey                                                                                  1\n",
              "Silver Wings (Grace Livingston Hill #37) by Grace L. Hill                                                                    1\n",
              "Silver Wings (Choose Your Own Adventure, No. 123) by R.A. Montgomery                                                         1\n",
              "Silver Wing (Topaz Historical Romance) by Cassie Edwards                                                                     1\n",
              " A Light in the Storm: The Civil War Diary of Amelia Martin, Fenwick Island, Delaware, 1861 (Dear America) by Karen Hesse    1\n",
              "Name: new_title, Length: 251185, dtype: int64"
            ]
          },
          "metadata": {},
          "execution_count": 60
        }
      ]
    },
    {
      "cell_type": "code",
      "metadata": {
        "colab": {
          "base_uri": "https://localhost:8080/",
          "height": 417
        },
        "id": "EZlsPNJvrchd",
        "outputId": "af754293-6363-41bc-9631-76d3b9cb1f89"
      },
      "source": [
        "# Duplicate book title but different Authors\n",
        "new_book_df[new_book_df['Book-Title']== 'Dinosaurs']"
      ],
      "execution_count": 61,
      "outputs": [
        {
          "output_type": "execute_result",
          "data": {
            "text/html": [
              "<div>\n",
              "<style scoped>\n",
              "    .dataframe tbody tr th:only-of-type {\n",
              "        vertical-align: middle;\n",
              "    }\n",
              "\n",
              "    .dataframe tbody tr th {\n",
              "        vertical-align: top;\n",
              "    }\n",
              "\n",
              "    .dataframe thead th {\n",
              "        text-align: right;\n",
              "    }\n",
              "</style>\n",
              "<table border=\"1\" class=\"dataframe\">\n",
              "  <thead>\n",
              "    <tr style=\"text-align: right;\">\n",
              "      <th></th>\n",
              "      <th>ISBN</th>\n",
              "      <th>Book-Title</th>\n",
              "      <th>Book-Author</th>\n",
              "      <th>Year-Of-Publication</th>\n",
              "      <th>Publisher</th>\n",
              "      <th>new_title</th>\n",
              "    </tr>\n",
              "  </thead>\n",
              "  <tbody>\n",
              "    <tr>\n",
              "      <th>31065</th>\n",
              "      <td>0307040399</td>\n",
              "      <td>Dinosaurs</td>\n",
              "      <td>Big Color Bk</td>\n",
              "      <td>1993</td>\n",
              "      <td>Golden Books</td>\n",
              "      <td>Dinosaurs by Big Color Bk</td>\n",
              "    </tr>\n",
              "    <tr>\n",
              "      <th>117372</th>\n",
              "      <td>1855013150</td>\n",
              "      <td>Dinosaurs</td>\n",
              "      <td>Michael Benton</td>\n",
              "      <td>0</td>\n",
              "      <td>Tiger Books Intl</td>\n",
              "      <td>Dinosaurs by Michael Benton</td>\n",
              "    </tr>\n",
              "    <tr>\n",
              "      <th>117424</th>\n",
              "      <td>0860201260</td>\n",
              "      <td>Dinosaurs</td>\n",
              "      <td>Anne McCord</td>\n",
              "      <td>1988</td>\n",
              "      <td>Educational Development Corporation</td>\n",
              "      <td>Dinosaurs by Anne McCord</td>\n",
              "    </tr>\n",
              "    <tr>\n",
              "      <th>117606</th>\n",
              "      <td>0806966262</td>\n",
              "      <td>Dinosaurs</td>\n",
              "      <td>L. B. Halstead</td>\n",
              "      <td>1987</td>\n",
              "      <td>Sterling Pub Co Inc</td>\n",
              "      <td>Dinosaurs by L. B. Halstead</td>\n",
              "    </tr>\n",
              "    <tr>\n",
              "      <th>117626</th>\n",
              "      <td>072141107X</td>\n",
              "      <td>Dinosaurs</td>\n",
              "      <td>Colin Douglas</td>\n",
              "      <td>1987</td>\n",
              "      <td>Ladybird Books</td>\n",
              "      <td>Dinosaurs by Colin Douglas</td>\n",
              "    </tr>\n",
              "    <tr>\n",
              "      <th>117942</th>\n",
              "      <td>0836210042</td>\n",
              "      <td>Dinosaurs</td>\n",
              "      <td>Paul Lipari</td>\n",
              "      <td>1996</td>\n",
              "      <td>Andrews McMeel Publishing</td>\n",
              "      <td>Dinosaurs by Paul Lipari</td>\n",
              "    </tr>\n",
              "    <tr>\n",
              "      <th>118104</th>\n",
              "      <td>0906710324</td>\n",
              "      <td>Dinosaurs</td>\n",
              "      <td>Big Chief I-Spy</td>\n",
              "      <td>1996</td>\n",
              "      <td>Ravette Publishing Ltd</td>\n",
              "      <td>Dinosaurs by Big Chief I-Spy</td>\n",
              "    </tr>\n",
              "    <tr>\n",
              "      <th>124215</th>\n",
              "      <td>0307030539</td>\n",
              "      <td>Dinosaurs</td>\n",
              "      <td>Golden Books</td>\n",
              "      <td>1993</td>\n",
              "      <td>Golden Books</td>\n",
              "      <td>Dinosaurs by Golden Books</td>\n",
              "    </tr>\n",
              "    <tr>\n",
              "      <th>175194</th>\n",
              "      <td>0694006211</td>\n",
              "      <td>Dinosaurs</td>\n",
              "      <td>Byron Barton</td>\n",
              "      <td>1996</td>\n",
              "      <td>HarperFestival</td>\n",
              "      <td>Dinosaurs by Byron Barton</td>\n",
              "    </tr>\n",
              "    <tr>\n",
              "      <th>229068</th>\n",
              "      <td>0307039137</td>\n",
              "      <td>Dinosaurs</td>\n",
              "      <td>Kathleen N. Daly</td>\n",
              "      <td>1977</td>\n",
              "      <td>Merrigold Press</td>\n",
              "      <td>Dinosaurs by Kathleen N. Daly</td>\n",
              "    </tr>\n",
              "    <tr>\n",
              "      <th>232217</th>\n",
              "      <td>082340708X</td>\n",
              "      <td>Dinosaurs</td>\n",
              "      <td>Gail Gibbons</td>\n",
              "      <td>1988</td>\n",
              "      <td>Holiday House</td>\n",
              "      <td>Dinosaurs by Gail Gibbons</td>\n",
              "    </tr>\n",
              "    <tr>\n",
              "      <th>235782</th>\n",
              "      <td>0671440721</td>\n",
              "      <td>Dinosaurs</td>\n",
              "      <td>Mary Packard</td>\n",
              "      <td>1981</td>\n",
              "      <td>Silver Burdett Pr</td>\n",
              "      <td>Dinosaurs by Mary Packard</td>\n",
              "    </tr>\n",
              "  </tbody>\n",
              "</table>\n",
              "</div>"
            ],
            "text/plain": [
              "              ISBN  ...                      new_title\n",
              "31065   0307040399  ...      Dinosaurs by Big Color Bk\n",
              "117372  1855013150  ...    Dinosaurs by Michael Benton\n",
              "117424  0860201260  ...       Dinosaurs by Anne McCord\n",
              "117606  0806966262  ...    Dinosaurs by L. B. Halstead\n",
              "117626  072141107X  ...     Dinosaurs by Colin Douglas\n",
              "117942  0836210042  ...       Dinosaurs by Paul Lipari\n",
              "118104  0906710324  ...   Dinosaurs by Big Chief I-Spy\n",
              "124215  0307030539  ...      Dinosaurs by Golden Books\n",
              "175194  0694006211  ...      Dinosaurs by Byron Barton\n",
              "229068  0307039137  ...  Dinosaurs by Kathleen N. Daly\n",
              "232217  082340708X  ...      Dinosaurs by Gail Gibbons\n",
              "235782  0671440721  ...      Dinosaurs by Mary Packard\n",
              "\n",
              "[12 rows x 6 columns]"
            ]
          },
          "metadata": {},
          "execution_count": 61
        }
      ]
    },
    {
      "cell_type": "code",
      "metadata": {
        "colab": {
          "base_uri": "https://localhost:8080/"
        },
        "id": "qSk8kIVFa7nO",
        "outputId": "570ed3b4-2c23-41a7-a471-0d2348b4764d"
      },
      "source": [
        "books_df.shape,new_book_df.shape"
      ],
      "execution_count": 62,
      "outputs": [
        {
          "output_type": "execute_result",
          "data": {
            "text/plain": [
              "((271360, 6), (251185, 6))"
            ]
          },
          "metadata": {},
          "execution_count": 62
        }
      ]
    },
    {
      "cell_type": "code",
      "metadata": {
        "colab": {
          "base_uri": "https://localhost:8080/"
        },
        "id": "aEaVBt7LbGEV",
        "outputId": "5598cebe-3c26-4ec8-f4b4-dea995fad0b2"
      },
      "source": [
        "271360-251185"
      ],
      "execution_count": 63,
      "outputs": [
        {
          "output_type": "execute_result",
          "data": {
            "text/plain": [
              "20175"
            ]
          },
          "metadata": {},
          "execution_count": 63
        }
      ]
    },
    {
      "cell_type": "code",
      "metadata": {
        "colab": {
          "base_uri": "https://localhost:8080/",
          "height": 110
        },
        "id": "5uML78wosCIZ",
        "outputId": "1b3c5397-1c60-4174-b032-3f2a48af9770"
      },
      "source": [
        "# Choose only required columns and rename new_title column\n",
        "new_book_df = new_book_df[['ISBN','new_title']].rename(columns={'new_title':'Title'})\n",
        "new_book_df.head(2)"
      ],
      "execution_count": 64,
      "outputs": [
        {
          "output_type": "execute_result",
          "data": {
            "text/html": [
              "<div>\n",
              "<style scoped>\n",
              "    .dataframe tbody tr th:only-of-type {\n",
              "        vertical-align: middle;\n",
              "    }\n",
              "\n",
              "    .dataframe tbody tr th {\n",
              "        vertical-align: top;\n",
              "    }\n",
              "\n",
              "    .dataframe thead th {\n",
              "        text-align: right;\n",
              "    }\n",
              "</style>\n",
              "<table border=\"1\" class=\"dataframe\">\n",
              "  <thead>\n",
              "    <tr style=\"text-align: right;\">\n",
              "      <th></th>\n",
              "      <th>ISBN</th>\n",
              "      <th>Title</th>\n",
              "    </tr>\n",
              "  </thead>\n",
              "  <tbody>\n",
              "    <tr>\n",
              "      <th>0</th>\n",
              "      <td>0195153448</td>\n",
              "      <td>Classical Mythology by Mark P. O. Morford</td>\n",
              "    </tr>\n",
              "    <tr>\n",
              "      <th>1</th>\n",
              "      <td>0002005018</td>\n",
              "      <td>Clara Callan by Richard Bruce Wright</td>\n",
              "    </tr>\n",
              "  </tbody>\n",
              "</table>\n",
              "</div>"
            ],
            "text/plain": [
              "         ISBN                                      Title\n",
              "0  0195153448  Classical Mythology by Mark P. O. Morford\n",
              "1  0002005018       Clara Callan by Richard Bruce Wright"
            ]
          },
          "metadata": {},
          "execution_count": 64
        }
      ]
    },
    {
      "cell_type": "code",
      "metadata": {
        "colab": {
          "base_uri": "https://localhost:8080/"
        },
        "id": "_6IG9znYsCgR",
        "outputId": "703956dc-0adb-4342-d06e-dfa94fae5245"
      },
      "source": [
        "# A look at ratings dataframe\n",
        "p(ratings_df.head())\n",
        "p('shape: ',ratings_df.shape)"
      ],
      "execution_count": 65,
      "outputs": [
        {
          "output_type": "stream",
          "name": "stdout",
          "text": [
            "   User-ID        ISBN  Book-Rating\n",
            "0   276725  034545104X            0\n",
            "1   276726  0155061224            5\n",
            "2   276727  0446520802            0\n",
            "3   276729  052165615X            3\n",
            "4   276729  0521795028            6\n",
            "shape:  (1149780, 3)\n"
          ]
        }
      ]
    },
    {
      "cell_type": "code",
      "metadata": {
        "colab": {
          "base_uri": "https://localhost:8080/"
        },
        "id": "7PcWl-aasTCp",
        "outputId": "f68c23a5-0215-4b52-f9c9-ea615af6c0df"
      },
      "source": [
        "ratings_df.info()"
      ],
      "execution_count": 66,
      "outputs": [
        {
          "output_type": "stream",
          "name": "stdout",
          "text": [
            "<class 'pandas.core.frame.DataFrame'>\n",
            "RangeIndex: 1149780 entries, 0 to 1149779\n",
            "Data columns (total 3 columns):\n",
            " #   Column       Non-Null Count    Dtype \n",
            "---  ------       --------------    ----- \n",
            " 0   User-ID      1149780 non-null  int64 \n",
            " 1   ISBN         1149780 non-null  object\n",
            " 2   Book-Rating  1149780 non-null  int64 \n",
            "dtypes: int64(2), object(1)\n",
            "memory usage: 26.3+ MB\n"
          ]
        }
      ]
    },
    {
      "cell_type": "code",
      "metadata": {
        "colab": {
          "base_uri": "https://localhost:8080/",
          "height": 415
        },
        "id": "PkbYJF8hsXOb",
        "outputId": "0c0d54ba-63bd-496d-d6bb-ba1647c3cffb"
      },
      "source": [
        "# Merge Books data and ratings data into a single Dataframe\n",
        "books_ratings_df = pd.merge(new_book_df,ratings_df,on='ISBN')\n",
        "books_ratings_df"
      ],
      "execution_count": 67,
      "outputs": [
        {
          "output_type": "execute_result",
          "data": {
            "text/html": [
              "<div>\n",
              "<style scoped>\n",
              "    .dataframe tbody tr th:only-of-type {\n",
              "        vertical-align: middle;\n",
              "    }\n",
              "\n",
              "    .dataframe tbody tr th {\n",
              "        vertical-align: top;\n",
              "    }\n",
              "\n",
              "    .dataframe thead th {\n",
              "        text-align: right;\n",
              "    }\n",
              "</style>\n",
              "<table border=\"1\" class=\"dataframe\">\n",
              "  <thead>\n",
              "    <tr style=\"text-align: right;\">\n",
              "      <th></th>\n",
              "      <th>ISBN</th>\n",
              "      <th>Title</th>\n",
              "      <th>User-ID</th>\n",
              "      <th>Book-Rating</th>\n",
              "    </tr>\n",
              "  </thead>\n",
              "  <tbody>\n",
              "    <tr>\n",
              "      <th>0</th>\n",
              "      <td>0195153448</td>\n",
              "      <td>Classical Mythology by Mark P. O. Morford</td>\n",
              "      <td>2</td>\n",
              "      <td>0</td>\n",
              "    </tr>\n",
              "    <tr>\n",
              "      <th>1</th>\n",
              "      <td>0002005018</td>\n",
              "      <td>Clara Callan by Richard Bruce Wright</td>\n",
              "      <td>8</td>\n",
              "      <td>5</td>\n",
              "    </tr>\n",
              "    <tr>\n",
              "      <th>2</th>\n",
              "      <td>0002005018</td>\n",
              "      <td>Clara Callan by Richard Bruce Wright</td>\n",
              "      <td>11400</td>\n",
              "      <td>0</td>\n",
              "    </tr>\n",
              "    <tr>\n",
              "      <th>3</th>\n",
              "      <td>0002005018</td>\n",
              "      <td>Clara Callan by Richard Bruce Wright</td>\n",
              "      <td>11676</td>\n",
              "      <td>8</td>\n",
              "    </tr>\n",
              "    <tr>\n",
              "      <th>4</th>\n",
              "      <td>0002005018</td>\n",
              "      <td>Clara Callan by Richard Bruce Wright</td>\n",
              "      <td>41385</td>\n",
              "      <td>0</td>\n",
              "    </tr>\n",
              "    <tr>\n",
              "      <th>...</th>\n",
              "      <td>...</td>\n",
              "      <td>...</td>\n",
              "      <td>...</td>\n",
              "      <td>...</td>\n",
              "    </tr>\n",
              "    <tr>\n",
              "      <th>916928</th>\n",
              "      <td>0449906736</td>\n",
              "      <td>Flashpoints: Promise and Peril in a New World ...</td>\n",
              "      <td>276313</td>\n",
              "      <td>5</td>\n",
              "    </tr>\n",
              "    <tr>\n",
              "      <th>916929</th>\n",
              "      <td>0525447644</td>\n",
              "      <td>From One to One Hundred by Teri Sloat</td>\n",
              "      <td>276579</td>\n",
              "      <td>4</td>\n",
              "    </tr>\n",
              "    <tr>\n",
              "      <th>916930</th>\n",
              "      <td>006008667X</td>\n",
              "      <td>Lily Dale : The True Story of the Town that Ta...</td>\n",
              "      <td>276680</td>\n",
              "      <td>0</td>\n",
              "    </tr>\n",
              "    <tr>\n",
              "      <th>916931</th>\n",
              "      <td>0192126040</td>\n",
              "      <td>Republic (World's Classics) by Plato</td>\n",
              "      <td>276680</td>\n",
              "      <td>0</td>\n",
              "    </tr>\n",
              "    <tr>\n",
              "      <th>916932</th>\n",
              "      <td>0767409752</td>\n",
              "      <td>A Guided Tour of Rene Descartes' Meditations o...</td>\n",
              "      <td>276680</td>\n",
              "      <td>0</td>\n",
              "    </tr>\n",
              "  </tbody>\n",
              "</table>\n",
              "<p>916933 rows × 4 columns</p>\n",
              "</div>"
            ],
            "text/plain": [
              "              ISBN  ... Book-Rating\n",
              "0       0195153448  ...           0\n",
              "1       0002005018  ...           5\n",
              "2       0002005018  ...           0\n",
              "3       0002005018  ...           8\n",
              "4       0002005018  ...           0\n",
              "...            ...  ...         ...\n",
              "916928  0449906736  ...           5\n",
              "916929  0525447644  ...           4\n",
              "916930  006008667X  ...           0\n",
              "916931  0192126040  ...           0\n",
              "916932  0767409752  ...           0\n",
              "\n",
              "[916933 rows x 4 columns]"
            ]
          },
          "metadata": {},
          "execution_count": 67
        }
      ]
    },
    {
      "cell_type": "code",
      "metadata": {
        "id": "5CARXHSYyK6e"
      },
      "source": [
        "# Choose only explicitly rated books (Rating>0)\n",
        "explicit_ratings_df = books_ratings_df[books_ratings_df['Book-Rating']>0]"
      ],
      "execution_count": 68,
      "outputs": []
    },
    {
      "cell_type": "code",
      "metadata": {
        "colab": {
          "base_uri": "https://localhost:8080/"
        },
        "id": "M_AMb8rNyd_g",
        "outputId": "f0bf9976-4cab-485b-912f-9a23ef9a5f9d"
      },
      "source": [
        "# Each book has been rated these number of times\n",
        "explicit_ratings_df.groupby('Title')['Book-Rating'].count().sort_values(ascending = False)"
      ],
      "execution_count": 69,
      "outputs": [
        {
          "output_type": "execute_result",
          "data": {
            "text/plain": [
              "Title\n",
              "The Lovely Bones: A Novel by Alice Sebold                                                                                    707\n",
              "Wild Animus by Rich Shapero                                                                                                  581\n",
              "The Da Vinci Code by Dan Brown                                                                                               487\n",
              "The Red Tent (Bestselling Backlist) by Anita Diamant                                                                         383\n",
              "Divine Secrets of the Ya-Ya Sisterhood: A Novel by Rebecca Wells                                                             320\n",
              "                                                                                                                            ... \n",
              "Prophecies : Lost Slayer Serial novel Part 1 by Christopher Golden                                                             1\n",
              "Prophecies: Visions of the World's Fate : Truths, Possibilities, or Fallacies? by Hans Holzer                                  1\n",
              "Prophecy (The Symphony of Ages) by Elizabeth Haydon                                                                            1\n",
              "Prophecy : Book Five of The Blending (Blending) by Sharon Green                                                                1\n",
              " A Light in the Storm: The Civil War Diary of Amelia Martin, Fenwick Island, Delaware, 1861 (Dear America) by Karen Hesse      1\n",
              "Name: Book-Rating, Length: 137560, dtype: int64"
            ]
          },
          "metadata": {},
          "execution_count": 69
        }
      ]
    },
    {
      "cell_type": "code",
      "metadata": {
        "colab": {
          "base_uri": "https://localhost:8080/",
          "height": 415
        },
        "id": "ISQEiJyMyd8G",
        "outputId": "d30a3570-67bb-4923-cbba-8908e58e26fe"
      },
      "source": [
        "# Create a data frame for number of times each book was rated\n",
        "rating_num_df = explicit_ratings_df.groupby('Title')['Book-Rating'].count().reset_index()\n",
        "rating_num_df.rename(columns= {'Book-Rating':'Number_of_times_rated'},inplace=True)\n",
        "rating_num_df"
      ],
      "execution_count": 70,
      "outputs": [
        {
          "output_type": "execute_result",
          "data": {
            "text/html": [
              "<div>\n",
              "<style scoped>\n",
              "    .dataframe tbody tr th:only-of-type {\n",
              "        vertical-align: middle;\n",
              "    }\n",
              "\n",
              "    .dataframe tbody tr th {\n",
              "        vertical-align: top;\n",
              "    }\n",
              "\n",
              "    .dataframe thead th {\n",
              "        text-align: right;\n",
              "    }\n",
              "</style>\n",
              "<table border=\"1\" class=\"dataframe\">\n",
              "  <thead>\n",
              "    <tr style=\"text-align: right;\">\n",
              "      <th></th>\n",
              "      <th>Title</th>\n",
              "      <th>Number_of_times_rated</th>\n",
              "    </tr>\n",
              "  </thead>\n",
              "  <tbody>\n",
              "    <tr>\n",
              "      <th>0</th>\n",
              "      <td>A Light in the Storm: The Civil War Diary of ...</td>\n",
              "      <td>1</td>\n",
              "    </tr>\n",
              "    <tr>\n",
              "      <th>1</th>\n",
              "      <td>Ask Lily (Young Women of Faith: Lily Series, ...</td>\n",
              "      <td>1</td>\n",
              "    </tr>\n",
              "    <tr>\n",
              "      <th>2</th>\n",
              "      <td>Dark Justice by Jack Higgins</td>\n",
              "      <td>1</td>\n",
              "    </tr>\n",
              "    <tr>\n",
              "      <th>3</th>\n",
              "      <td>Earth Prayers From around the World: 365 Pray...</td>\n",
              "      <td>7</td>\n",
              "    </tr>\n",
              "    <tr>\n",
              "      <th>4</th>\n",
              "      <td>Final Fantasy Anthology: Official Strategy Gu...</td>\n",
              "      <td>2</td>\n",
              "    </tr>\n",
              "    <tr>\n",
              "      <th>...</th>\n",
              "      <td>...</td>\n",
              "      <td>...</td>\n",
              "    </tr>\n",
              "    <tr>\n",
              "      <th>137555</th>\n",
              "      <td>Ã?Â?bernachten mit Stil. Die schÃ?Â¶nsten Coun...</td>\n",
              "      <td>1</td>\n",
              "    </tr>\n",
              "    <tr>\n",
              "      <th>137556</th>\n",
              "      <td>Ã?Â?rger mit Produkt X. Roman. by Joan Aiken</td>\n",
              "      <td>3</td>\n",
              "    </tr>\n",
              "    <tr>\n",
              "      <th>137557</th>\n",
              "      <td>Ã?Â?sterlich leben. by Anselm GrÃ?Â¼n</td>\n",
              "      <td>1</td>\n",
              "    </tr>\n",
              "    <tr>\n",
              "      <th>137558</th>\n",
              "      <td>Ã?Â?stlich der Berge. by David Guterson</td>\n",
              "      <td>1</td>\n",
              "    </tr>\n",
              "    <tr>\n",
              "      <th>137559</th>\n",
              "      <td>Ã?Â?thique en toc by Didier Daeninckx</td>\n",
              "      <td>1</td>\n",
              "    </tr>\n",
              "  </tbody>\n",
              "</table>\n",
              "<p>137560 rows × 2 columns</p>\n",
              "</div>"
            ],
            "text/plain": [
              "                                                    Title  Number_of_times_rated\n",
              "0        A Light in the Storm: The Civil War Diary of ...                      1\n",
              "1        Ask Lily (Young Women of Faith: Lily Series, ...                      1\n",
              "2                            Dark Justice by Jack Higgins                      1\n",
              "3        Earth Prayers From around the World: 365 Pray...                      7\n",
              "4        Final Fantasy Anthology: Official Strategy Gu...                      2\n",
              "...                                                   ...                    ...\n",
              "137555  Ã?Â?bernachten mit Stil. Die schÃ?Â¶nsten Coun...                      1\n",
              "137556       Ã?Â?rger mit Produkt X. Roman. by Joan Aiken                      3\n",
              "137557              Ã?Â?sterlich leben. by Anselm GrÃ?Â¼n                      1\n",
              "137558            Ã?Â?stlich der Berge. by David Guterson                      1\n",
              "137559              Ã?Â?thique en toc by Didier Daeninckx                      1\n",
              "\n",
              "[137560 rows x 2 columns]"
            ]
          },
          "metadata": {},
          "execution_count": 70
        }
      ]
    },
    {
      "cell_type": "code",
      "metadata": {
        "colab": {
          "base_uri": "https://localhost:8080/",
          "height": 415
        },
        "id": "VFvZSqsLyd5K",
        "outputId": "b4e86c54-1e6a-414c-a543-70233a0e6b97"
      },
      "source": [
        "# Merge the above data frame with explicit_ratings_df\n",
        "temp_df = pd.merge(explicit_ratings_df,rating_num_df,on='Title')\n",
        "temp_df.sort_values(by='Number_of_times_rated',ascending=False)"
      ],
      "execution_count": 71,
      "outputs": [
        {
          "output_type": "execute_result",
          "data": {
            "text/html": [
              "<div>\n",
              "<style scoped>\n",
              "    .dataframe tbody tr th:only-of-type {\n",
              "        vertical-align: middle;\n",
              "    }\n",
              "\n",
              "    .dataframe tbody tr th {\n",
              "        vertical-align: top;\n",
              "    }\n",
              "\n",
              "    .dataframe thead th {\n",
              "        text-align: right;\n",
              "    }\n",
              "</style>\n",
              "<table border=\"1\" class=\"dataframe\">\n",
              "  <thead>\n",
              "    <tr style=\"text-align: right;\">\n",
              "      <th></th>\n",
              "      <th>ISBN</th>\n",
              "      <th>Title</th>\n",
              "      <th>User-ID</th>\n",
              "      <th>Book-Rating</th>\n",
              "      <th>Number_of_times_rated</th>\n",
              "    </tr>\n",
              "  </thead>\n",
              "  <tbody>\n",
              "    <tr>\n",
              "      <th>10362</th>\n",
              "      <td>0316666343</td>\n",
              "      <td>The Lovely Bones: A Novel by Alice Sebold</td>\n",
              "      <td>276680</td>\n",
              "      <td>7</td>\n",
              "      <td>707</td>\n",
              "    </tr>\n",
              "    <tr>\n",
              "      <th>10087</th>\n",
              "      <td>0316666343</td>\n",
              "      <td>The Lovely Bones: A Novel by Alice Sebold</td>\n",
              "      <td>168413</td>\n",
              "      <td>8</td>\n",
              "      <td>707</td>\n",
              "    </tr>\n",
              "    <tr>\n",
              "      <th>10063</th>\n",
              "      <td>0316666343</td>\n",
              "      <td>The Lovely Bones: A Novel by Alice Sebold</td>\n",
              "      <td>160548</td>\n",
              "      <td>10</td>\n",
              "      <td>707</td>\n",
              "    </tr>\n",
              "    <tr>\n",
              "      <th>10062</th>\n",
              "      <td>0316666343</td>\n",
              "      <td>The Lovely Bones: A Novel by Alice Sebold</td>\n",
              "      <td>159852</td>\n",
              "      <td>10</td>\n",
              "      <td>707</td>\n",
              "    </tr>\n",
              "    <tr>\n",
              "      <th>10061</th>\n",
              "      <td>0316666343</td>\n",
              "      <td>The Lovely Bones: A Novel by Alice Sebold</td>\n",
              "      <td>159822</td>\n",
              "      <td>8</td>\n",
              "      <td>707</td>\n",
              "    </tr>\n",
              "    <tr>\n",
              "      <th>...</th>\n",
              "      <td>...</td>\n",
              "      <td>...</td>\n",
              "      <td>...</td>\n",
              "      <td>...</td>\n",
              "      <td>...</td>\n",
              "    </tr>\n",
              "    <tr>\n",
              "      <th>258048</th>\n",
              "      <td>0517100738</td>\n",
              "      <td>Three Complete Novels: Lace/Lace 2/Crimson by ...</td>\n",
              "      <td>59172</td>\n",
              "      <td>10</td>\n",
              "      <td>1</td>\n",
              "    </tr>\n",
              "    <tr>\n",
              "      <th>258047</th>\n",
              "      <td>0448405024</td>\n",
              "      <td>Ren and Stimpy Show: Postcards Over the Edge b...</td>\n",
              "      <td>94923</td>\n",
              "      <td>7</td>\n",
              "      <td>1</td>\n",
              "    </tr>\n",
              "    <tr>\n",
              "      <th>258039</th>\n",
              "      <td>0450428052</td>\n",
              "      <td>The Rings of the Master: Book 1: Lords of the ...</td>\n",
              "      <td>193560</td>\n",
              "      <td>8</td>\n",
              "      <td>1</td>\n",
              "    </tr>\n",
              "    <tr>\n",
              "      <th>258036</th>\n",
              "      <td>0553272608</td>\n",
              "      <td>Wild Swan (Wild Swan) by Celeste De Blasis</td>\n",
              "      <td>139141</td>\n",
              "      <td>5</td>\n",
              "      <td>1</td>\n",
              "    </tr>\n",
              "    <tr>\n",
              "      <th>340039</th>\n",
              "      <td>0525447644</td>\n",
              "      <td>From One to One Hundred by Teri Sloat</td>\n",
              "      <td>276579</td>\n",
              "      <td>4</td>\n",
              "      <td>1</td>\n",
              "    </tr>\n",
              "  </tbody>\n",
              "</table>\n",
              "<p>340040 rows × 5 columns</p>\n",
              "</div>"
            ],
            "text/plain": [
              "              ISBN  ... Number_of_times_rated\n",
              "10362   0316666343  ...                   707\n",
              "10087   0316666343  ...                   707\n",
              "10063   0316666343  ...                   707\n",
              "10062   0316666343  ...                   707\n",
              "10061   0316666343  ...                   707\n",
              "...            ...  ...                   ...\n",
              "258048  0517100738  ...                     1\n",
              "258047  0448405024  ...                     1\n",
              "258039  0450428052  ...                     1\n",
              "258036  0553272608  ...                     1\n",
              "340039  0525447644  ...                     1\n",
              "\n",
              "[340040 rows x 5 columns]"
            ]
          },
          "metadata": {},
          "execution_count": 71
        }
      ]
    },
    {
      "cell_type": "markdown",
      "metadata": {
        "id": "Odg-Liaay-x0"
      },
      "source": [
        "####Clearly some books have been rated lesser number of times"
      ]
    },
    {
      "cell_type": "code",
      "metadata": {
        "id": "0RP4U3UiJBk_"
      },
      "source": [
        "# Books Rated more than 200 times\n",
        "r = temp_df['Number_of_times_rated'].value_counts() >200"
      ],
      "execution_count": 72,
      "outputs": []
    },
    {
      "cell_type": "code",
      "metadata": {
        "colab": {
          "base_uri": "https://localhost:8080/"
        },
        "id": "rOLpu7pQJMcF",
        "outputId": "1408945a-92cb-456a-e47a-e29bbf64f1e8"
      },
      "source": [
        "# Number of Books Rated more than 200 times\n",
        "r[r].sum()"
      ],
      "execution_count": 73,
      "outputs": [
        {
          "output_type": "execute_result",
          "data": {
            "text/plain": [
              "127"
            ]
          },
          "metadata": {},
          "execution_count": 73
        }
      ]
    },
    {
      "cell_type": "code",
      "metadata": {
        "colab": {
          "base_uri": "https://localhost:8080/"
        },
        "id": "urnjU0n_zMBL",
        "outputId": "88ee1a4c-1f88-4a99-dd57-1a223b2f9f09"
      },
      "source": [
        "# Filter books with higher value for number_of_ratings_received\n",
        "final_df = temp_df[temp_df['Number_of_times_rated'] >20]\n",
        "p('shape after filtering: ',final_df.shape)\n",
        "p('shape before filtering: ',temp_df.shape)"
      ],
      "execution_count": 74,
      "outputs": [
        {
          "output_type": "stream",
          "name": "stdout",
          "text": [
            "shape after filtering:  (78824, 5)\n",
            "shape before filtering:  (340040, 5)\n"
          ]
        }
      ]
    },
    {
      "cell_type": "code",
      "metadata": {
        "colab": {
          "base_uri": "https://localhost:8080/"
        },
        "id": "irR51R_KsaNX",
        "outputId": "376d2723-0cc9-4046-8b5d-4d7085a8c259"
      },
      "source": [
        "# Total number of people who gave ratings\n",
        "final_df['User-ID'].nunique()"
      ],
      "execution_count": 75,
      "outputs": [
        {
          "output_type": "execute_result",
          "data": {
            "text/plain": [
              "27978"
            ]
          },
          "metadata": {},
          "execution_count": 75
        }
      ]
    },
    {
      "cell_type": "code",
      "metadata": {
        "colab": {
          "base_uri": "https://localhost:8080/"
        },
        "id": "9j008JAnslTb",
        "outputId": "66134d2e-2cd5-4897-b3aa-5248b0ea500b"
      },
      "source": [
        "# Lot of people have given very less ratings\n",
        "for n in [10,20,50,100]:\n",
        "  a = final_df['User-ID'].value_counts()<n\n",
        "  num_of_users = a[a].sum()\n",
        "  p(f'Number of people who gave less than {n} ratings: {num_of_users}')"
      ],
      "execution_count": 76,
      "outputs": [
        {
          "output_type": "stream",
          "name": "stdout",
          "text": [
            "Number of people who gave less than 10 ratings: 26553\n",
            "Number of people who gave less than 20 ratings: 27465\n",
            "Number of people who gave less than 50 ratings: 27915\n",
            "Number of people who gave less than 100 ratings: 27970\n"
          ]
        }
      ]
    },
    {
      "cell_type": "code",
      "metadata": {
        "colab": {
          "base_uri": "https://localhost:8080/"
        },
        "id": "LQ4bGeMMsqVJ",
        "outputId": "eda5ead6-32d2-4a15-cc4e-3aa52d9f590b"
      },
      "source": [
        "#Users who gave more than 5 ratings\n",
        "b = final_df['User-ID'].value_counts() > 10\n",
        "b[b].sum()"
      ],
      "execution_count": 77,
      "outputs": [
        {
          "output_type": "execute_result",
          "data": {
            "text/plain": [
              "1242"
            ]
          },
          "metadata": {},
          "execution_count": 77
        }
      ]
    },
    {
      "cell_type": "code",
      "metadata": {
        "id": "Nsshco-vstig"
      },
      "source": [
        "# Index of Users who have given more than 4 ratings\n",
        "c = b[b].index"
      ],
      "execution_count": 78,
      "outputs": []
    },
    {
      "cell_type": "code",
      "metadata": {
        "colab": {
          "base_uri": "https://localhost:8080/",
          "height": 415
        },
        "id": "nQub4uUos1Ir",
        "outputId": "e2cf4f18-1c7b-4c5e-ad39-3349d4970b7c"
      },
      "source": [
        "# Choose only those users who gave more than 20 ratings\n",
        "final_df2 = final_df[final_df['User-ID'].isin(c)]\n",
        "final_df2"
      ],
      "execution_count": 79,
      "outputs": [
        {
          "output_type": "execute_result",
          "data": {
            "text/html": [
              "<div>\n",
              "<style scoped>\n",
              "    .dataframe tbody tr th:only-of-type {\n",
              "        vertical-align: middle;\n",
              "    }\n",
              "\n",
              "    .dataframe tbody tr th {\n",
              "        vertical-align: top;\n",
              "    }\n",
              "\n",
              "    .dataframe thead th {\n",
              "        text-align: right;\n",
              "    }\n",
              "</style>\n",
              "<table border=\"1\" class=\"dataframe\">\n",
              "  <thead>\n",
              "    <tr style=\"text-align: right;\">\n",
              "      <th></th>\n",
              "      <th>ISBN</th>\n",
              "      <th>Title</th>\n",
              "      <th>User-ID</th>\n",
              "      <th>Book-Rating</th>\n",
              "      <th>Number_of_times_rated</th>\n",
              "    </tr>\n",
              "  </thead>\n",
              "  <tbody>\n",
              "    <tr>\n",
              "      <th>48</th>\n",
              "      <td>0440234743</td>\n",
              "      <td>The Testament by John Grisham</td>\n",
              "      <td>7346</td>\n",
              "      <td>9</td>\n",
              "      <td>169</td>\n",
              "    </tr>\n",
              "    <tr>\n",
              "      <th>51</th>\n",
              "      <td>0440234743</td>\n",
              "      <td>The Testament by John Grisham</td>\n",
              "      <td>11224</td>\n",
              "      <td>6</td>\n",
              "      <td>169</td>\n",
              "    </tr>\n",
              "    <tr>\n",
              "      <th>52</th>\n",
              "      <td>0440234743</td>\n",
              "      <td>The Testament by John Grisham</td>\n",
              "      <td>11676</td>\n",
              "      <td>9</td>\n",
              "      <td>169</td>\n",
              "    </tr>\n",
              "    <tr>\n",
              "      <th>55</th>\n",
              "      <td>0440234743</td>\n",
              "      <td>The Testament by John Grisham</td>\n",
              "      <td>13552</td>\n",
              "      <td>8</td>\n",
              "      <td>169</td>\n",
              "    </tr>\n",
              "    <tr>\n",
              "      <th>63</th>\n",
              "      <td>0440234743</td>\n",
              "      <td>The Testament by John Grisham</td>\n",
              "      <td>30533</td>\n",
              "      <td>6</td>\n",
              "      <td>169</td>\n",
              "    </tr>\n",
              "    <tr>\n",
              "      <th>...</th>\n",
              "      <td>...</td>\n",
              "      <td>...</td>\n",
              "      <td>...</td>\n",
              "      <td>...</td>\n",
              "      <td>...</td>\n",
              "    </tr>\n",
              "    <tr>\n",
              "      <th>260785</th>\n",
              "      <td>0310205719</td>\n",
              "      <td>The Purpose-Driven Life: What on Earth Am I He...</td>\n",
              "      <td>150124</td>\n",
              "      <td>10</td>\n",
              "      <td>34</td>\n",
              "    </tr>\n",
              "    <tr>\n",
              "      <th>260788</th>\n",
              "      <td>0310205719</td>\n",
              "      <td>The Purpose-Driven Life: What on Earth Am I He...</td>\n",
              "      <td>169663</td>\n",
              "      <td>3</td>\n",
              "      <td>34</td>\n",
              "    </tr>\n",
              "    <tr>\n",
              "      <th>260790</th>\n",
              "      <td>0310205719</td>\n",
              "      <td>The Purpose-Driven Life: What on Earth Am I He...</td>\n",
              "      <td>177590</td>\n",
              "      <td>8</td>\n",
              "      <td>34</td>\n",
              "    </tr>\n",
              "    <tr>\n",
              "      <th>260792</th>\n",
              "      <td>0310205719</td>\n",
              "      <td>The Purpose-Driven Life: What on Earth Am I He...</td>\n",
              "      <td>206305</td>\n",
              "      <td>10</td>\n",
              "      <td>34</td>\n",
              "    </tr>\n",
              "    <tr>\n",
              "      <th>260796</th>\n",
              "      <td>0310205719</td>\n",
              "      <td>The Purpose-Driven Life: What on Earth Am I He...</td>\n",
              "      <td>256407</td>\n",
              "      <td>9</td>\n",
              "      <td>34</td>\n",
              "    </tr>\n",
              "  </tbody>\n",
              "</table>\n",
              "<p>28382 rows × 5 columns</p>\n",
              "</div>"
            ],
            "text/plain": [
              "              ISBN  ... Number_of_times_rated\n",
              "48      0440234743  ...                   169\n",
              "51      0440234743  ...                   169\n",
              "52      0440234743  ...                   169\n",
              "55      0440234743  ...                   169\n",
              "63      0440234743  ...                   169\n",
              "...            ...  ...                   ...\n",
              "260785  0310205719  ...                    34\n",
              "260788  0310205719  ...                    34\n",
              "260790  0310205719  ...                    34\n",
              "260792  0310205719  ...                    34\n",
              "260796  0310205719  ...                    34\n",
              "\n",
              "[28382 rows x 5 columns]"
            ]
          },
          "metadata": {},
          "execution_count": 79
        }
      ]
    },
    {
      "cell_type": "code",
      "metadata": {
        "colab": {
          "base_uri": "https://localhost:8080/"
        },
        "id": "0Gzau5BOQ8ez",
        "outputId": "9f982509-09dd-4b2a-de93-0fcc428de07e"
      },
      "source": [
        "final_df2.shape"
      ],
      "execution_count": 80,
      "outputs": [
        {
          "output_type": "execute_result",
          "data": {
            "text/plain": [
              "(28382, 5)"
            ]
          },
          "metadata": {},
          "execution_count": 80
        }
      ]
    },
    {
      "cell_type": "code",
      "metadata": {
        "colab": {
          "base_uri": "https://localhost:8080/",
          "height": 219
        },
        "id": "KnLL906GO5bb",
        "outputId": "842d8db6-4150-4ceb-c52d-e9acc676fcf4"
      },
      "source": [
        "# Smoothen out the ratings using log transformation\n",
        "def smooth_user_preference(x):\n",
        "    return math.log(1+x, 2)\n",
        "    \n",
        "interactions_full_df = final_df2.groupby(['User-ID', 'ISBN'])['Book-Rating'].sum().apply(smooth_user_preference).reset_index()\n",
        "print('# of unique user/item interactions: %d' % len(interactions_full_df))\n",
        "interactions_full_df.head()"
      ],
      "execution_count": 81,
      "outputs": [
        {
          "output_type": "stream",
          "name": "stdout",
          "text": [
            "# of unique user/item interactions: 28382\n"
          ]
        },
        {
          "output_type": "execute_result",
          "data": {
            "text/html": [
              "<div>\n",
              "<style scoped>\n",
              "    .dataframe tbody tr th:only-of-type {\n",
              "        vertical-align: middle;\n",
              "    }\n",
              "\n",
              "    .dataframe tbody tr th {\n",
              "        vertical-align: top;\n",
              "    }\n",
              "\n",
              "    .dataframe thead th {\n",
              "        text-align: right;\n",
              "    }\n",
              "</style>\n",
              "<table border=\"1\" class=\"dataframe\">\n",
              "  <thead>\n",
              "    <tr style=\"text-align: right;\">\n",
              "      <th></th>\n",
              "      <th>User-ID</th>\n",
              "      <th>ISBN</th>\n",
              "      <th>Book-Rating</th>\n",
              "    </tr>\n",
              "  </thead>\n",
              "  <tbody>\n",
              "    <tr>\n",
              "      <th>0</th>\n",
              "      <td>254</td>\n",
              "      <td>0064471047</td>\n",
              "      <td>3.000000</td>\n",
              "    </tr>\n",
              "    <tr>\n",
              "      <th>1</th>\n",
              "      <td>254</td>\n",
              "      <td>0142001740</td>\n",
              "      <td>3.321928</td>\n",
              "    </tr>\n",
              "    <tr>\n",
              "      <th>2</th>\n",
              "      <td>254</td>\n",
              "      <td>0380789035</td>\n",
              "      <td>3.459432</td>\n",
              "    </tr>\n",
              "    <tr>\n",
              "      <th>3</th>\n",
              "      <td>254</td>\n",
              "      <td>0380973650</td>\n",
              "      <td>3.321928</td>\n",
              "    </tr>\n",
              "    <tr>\n",
              "      <th>4</th>\n",
              "      <td>254</td>\n",
              "      <td>0399146431</td>\n",
              "      <td>3.321928</td>\n",
              "    </tr>\n",
              "  </tbody>\n",
              "</table>\n",
              "</div>"
            ],
            "text/plain": [
              "   User-ID        ISBN  Book-Rating\n",
              "0      254  0064471047     3.000000\n",
              "1      254  0142001740     3.321928\n",
              "2      254  0380789035     3.459432\n",
              "3      254  0380973650     3.321928\n",
              "4      254  0399146431     3.321928"
            ]
          },
          "metadata": {},
          "execution_count": 81
        }
      ]
    },
    {
      "cell_type": "code",
      "metadata": {
        "colab": {
          "base_uri": "https://localhost:8080/"
        },
        "id": "iWFKpC_kK87q",
        "outputId": "61d5e015-628a-4318-baa5-2a909edf1abe"
      },
      "source": [
        "# Split the data into train and test for evaluation purpose\n",
        "interactions_train_df, interactions_test_df = train_test_split(interactions_full_df,\n",
        "                                   test_size=0.20,stratify=interactions_full_df['User-ID'],\n",
        "                                   random_state=24)\n",
        "\n",
        "print('# interactions on Train set: %d' % len(interactions_train_df))\n",
        "print('# interactions on Test set: %d' % len(interactions_test_df))"
      ],
      "execution_count": 82,
      "outputs": [
        {
          "output_type": "stream",
          "name": "stdout",
          "text": [
            "# interactions on Train set: 22705\n",
            "# interactions on Test set: 5677\n"
          ]
        }
      ]
    },
    {
      "cell_type": "code",
      "metadata": {
        "id": "jSRjqs0euGuk"
      },
      "source": [
        "# Create a pivot table for users and books containing ratings\n",
        "pivot_matrix_df = interactions_train_df.pivot(index='User-ID', columns='ISBN', \n",
        "                                     values='Book-Rating').fillna(0)"
      ],
      "execution_count": 83,
      "outputs": []
    },
    {
      "cell_type": "code",
      "metadata": {
        "colab": {
          "base_uri": "https://localhost:8080/",
          "height": 298
        },
        "id": "BUwU6kFUuVgD",
        "outputId": "3407b3c5-9035-464d-976a-12abc752b7d3"
      },
      "source": [
        "pivot_matrix_df.head()"
      ],
      "execution_count": 84,
      "outputs": [
        {
          "output_type": "execute_result",
          "data": {
            "text/html": [
              "<div>\n",
              "<style scoped>\n",
              "    .dataframe tbody tr th:only-of-type {\n",
              "        vertical-align: middle;\n",
              "    }\n",
              "\n",
              "    .dataframe tbody tr th {\n",
              "        vertical-align: top;\n",
              "    }\n",
              "\n",
              "    .dataframe thead th {\n",
              "        text-align: right;\n",
              "    }\n",
              "</style>\n",
              "<table border=\"1\" class=\"dataframe\">\n",
              "  <thead>\n",
              "    <tr style=\"text-align: right;\">\n",
              "      <th>ISBN</th>\n",
              "      <th>000649840X</th>\n",
              "      <th>0007110928</th>\n",
              "      <th>0020199600</th>\n",
              "      <th>0020442203</th>\n",
              "      <th>002542730X</th>\n",
              "      <th>0028604199</th>\n",
              "      <th>006000438X</th>\n",
              "      <th>0060008776</th>\n",
              "      <th>006001203X</th>\n",
              "      <th>0060085452</th>\n",
              "      <th>0060096195</th>\n",
              "      <th>0060168013</th>\n",
              "      <th>006016848X</th>\n",
              "      <th>0060173289</th>\n",
              "      <th>0060175400</th>\n",
              "      <th>0060175966</th>\n",
              "      <th>0060188731</th>\n",
              "      <th>006019491X</th>\n",
              "      <th>0060199652</th>\n",
              "      <th>0060248025</th>\n",
              "      <th>0060256672</th>\n",
              "      <th>0060256737</th>\n",
              "      <th>0060391448</th>\n",
              "      <th>0060391626</th>\n",
              "      <th>0060392452</th>\n",
              "      <th>0060502258</th>\n",
              "      <th>0060505885</th>\n",
              "      <th>0060512806</th>\n",
              "      <th>0060517794</th>\n",
              "      <th>0060740450</th>\n",
              "      <th>0060809833</th>\n",
              "      <th>0060914653</th>\n",
              "      <th>0060915544</th>\n",
              "      <th>0060916508</th>\n",
              "      <th>0060920084</th>\n",
              "      <th>0060921145</th>\n",
              "      <th>0060926317</th>\n",
              "      <th>0060927569</th>\n",
              "      <th>0060928336</th>\n",
              "      <th>0060929790</th>\n",
              "      <th>...</th>\n",
              "      <th>1558747109</th>\n",
              "      <th>1559029838</th>\n",
              "      <th>1565122968</th>\n",
              "      <th>1573221112</th>\n",
              "      <th>1573222267</th>\n",
              "      <th>1573225126</th>\n",
              "      <th>1573225517</th>\n",
              "      <th>1573225789</th>\n",
              "      <th>1573226521</th>\n",
              "      <th>1573227331</th>\n",
              "      <th>157322930X</th>\n",
              "      <th>1573229326</th>\n",
              "      <th>1573229571</th>\n",
              "      <th>1573229725</th>\n",
              "      <th>1576737330</th>\n",
              "      <th>1592400876</th>\n",
              "      <th>1844262553</th>\n",
              "      <th>1853260002</th>\n",
              "      <th>1853260010</th>\n",
              "      <th>1857022424</th>\n",
              "      <th>1878424114</th>\n",
              "      <th>1878424319</th>\n",
              "      <th>1880418568</th>\n",
              "      <th>193156146X</th>\n",
              "      <th>1931561648</th>\n",
              "      <th>2070360024</th>\n",
              "      <th>2253063339</th>\n",
              "      <th>2253150711</th>\n",
              "      <th>2290311782</th>\n",
              "      <th>325722575X</th>\n",
              "      <th>3257227809</th>\n",
              "      <th>3379015180</th>\n",
              "      <th>3404148665</th>\n",
              "      <th>3423202947</th>\n",
              "      <th>3442541751</th>\n",
              "      <th>3492045170</th>\n",
              "      <th>3548359698</th>\n",
              "      <th>3596259924</th>\n",
              "      <th>8806142100</th>\n",
              "      <th>8807813025</th>\n",
              "    </tr>\n",
              "    <tr>\n",
              "      <th>User-ID</th>\n",
              "      <th></th>\n",
              "      <th></th>\n",
              "      <th></th>\n",
              "      <th></th>\n",
              "      <th></th>\n",
              "      <th></th>\n",
              "      <th></th>\n",
              "      <th></th>\n",
              "      <th></th>\n",
              "      <th></th>\n",
              "      <th></th>\n",
              "      <th></th>\n",
              "      <th></th>\n",
              "      <th></th>\n",
              "      <th></th>\n",
              "      <th></th>\n",
              "      <th></th>\n",
              "      <th></th>\n",
              "      <th></th>\n",
              "      <th></th>\n",
              "      <th></th>\n",
              "      <th></th>\n",
              "      <th></th>\n",
              "      <th></th>\n",
              "      <th></th>\n",
              "      <th></th>\n",
              "      <th></th>\n",
              "      <th></th>\n",
              "      <th></th>\n",
              "      <th></th>\n",
              "      <th></th>\n",
              "      <th></th>\n",
              "      <th></th>\n",
              "      <th></th>\n",
              "      <th></th>\n",
              "      <th></th>\n",
              "      <th></th>\n",
              "      <th></th>\n",
              "      <th></th>\n",
              "      <th></th>\n",
              "      <th></th>\n",
              "      <th></th>\n",
              "      <th></th>\n",
              "      <th></th>\n",
              "      <th></th>\n",
              "      <th></th>\n",
              "      <th></th>\n",
              "      <th></th>\n",
              "      <th></th>\n",
              "      <th></th>\n",
              "      <th></th>\n",
              "      <th></th>\n",
              "      <th></th>\n",
              "      <th></th>\n",
              "      <th></th>\n",
              "      <th></th>\n",
              "      <th></th>\n",
              "      <th></th>\n",
              "      <th></th>\n",
              "      <th></th>\n",
              "      <th></th>\n",
              "      <th></th>\n",
              "      <th></th>\n",
              "      <th></th>\n",
              "      <th></th>\n",
              "      <th></th>\n",
              "      <th></th>\n",
              "      <th></th>\n",
              "      <th></th>\n",
              "      <th></th>\n",
              "      <th></th>\n",
              "      <th></th>\n",
              "      <th></th>\n",
              "      <th></th>\n",
              "      <th></th>\n",
              "      <th></th>\n",
              "      <th></th>\n",
              "      <th></th>\n",
              "      <th></th>\n",
              "      <th></th>\n",
              "      <th></th>\n",
              "    </tr>\n",
              "  </thead>\n",
              "  <tbody>\n",
              "    <tr>\n",
              "      <th>254</th>\n",
              "      <td>0.0</td>\n",
              "      <td>0.0</td>\n",
              "      <td>0.0</td>\n",
              "      <td>0.0</td>\n",
              "      <td>0.0</td>\n",
              "      <td>0.0</td>\n",
              "      <td>0.0</td>\n",
              "      <td>0.0</td>\n",
              "      <td>0.0</td>\n",
              "      <td>0.0</td>\n",
              "      <td>0.0</td>\n",
              "      <td>0.0</td>\n",
              "      <td>0.0</td>\n",
              "      <td>0.0</td>\n",
              "      <td>0.0</td>\n",
              "      <td>0.0</td>\n",
              "      <td>0.0</td>\n",
              "      <td>0.0</td>\n",
              "      <td>0.0</td>\n",
              "      <td>0.0</td>\n",
              "      <td>0.0</td>\n",
              "      <td>0.0</td>\n",
              "      <td>0.0</td>\n",
              "      <td>0.0</td>\n",
              "      <td>0.0</td>\n",
              "      <td>0.0</td>\n",
              "      <td>0.0</td>\n",
              "      <td>0.0</td>\n",
              "      <td>0.0</td>\n",
              "      <td>0.0</td>\n",
              "      <td>0.0</td>\n",
              "      <td>0.0</td>\n",
              "      <td>0.0</td>\n",
              "      <td>0.0</td>\n",
              "      <td>0.0</td>\n",
              "      <td>0.0</td>\n",
              "      <td>0.0</td>\n",
              "      <td>0.0</td>\n",
              "      <td>0.0</td>\n",
              "      <td>0.0</td>\n",
              "      <td>...</td>\n",
              "      <td>0.0</td>\n",
              "      <td>0.0</td>\n",
              "      <td>0.0</td>\n",
              "      <td>0.0</td>\n",
              "      <td>0.0</td>\n",
              "      <td>0.0</td>\n",
              "      <td>0.0</td>\n",
              "      <td>0.0</td>\n",
              "      <td>0.0</td>\n",
              "      <td>0.0</td>\n",
              "      <td>0.0</td>\n",
              "      <td>0.0</td>\n",
              "      <td>0.0</td>\n",
              "      <td>0.0</td>\n",
              "      <td>0.0</td>\n",
              "      <td>0.0</td>\n",
              "      <td>0.0</td>\n",
              "      <td>0.0</td>\n",
              "      <td>0.0</td>\n",
              "      <td>0.0</td>\n",
              "      <td>0.0</td>\n",
              "      <td>0.0</td>\n",
              "      <td>0.0</td>\n",
              "      <td>0.0</td>\n",
              "      <td>0.0</td>\n",
              "      <td>0.0</td>\n",
              "      <td>0.0</td>\n",
              "      <td>0.0</td>\n",
              "      <td>0.0</td>\n",
              "      <td>0.0</td>\n",
              "      <td>0.0</td>\n",
              "      <td>0.0</td>\n",
              "      <td>0.0</td>\n",
              "      <td>0.0</td>\n",
              "      <td>0.0</td>\n",
              "      <td>0.0</td>\n",
              "      <td>0.0</td>\n",
              "      <td>0.0</td>\n",
              "      <td>0.0</td>\n",
              "      <td>0.0</td>\n",
              "    </tr>\n",
              "    <tr>\n",
              "      <th>638</th>\n",
              "      <td>0.0</td>\n",
              "      <td>0.0</td>\n",
              "      <td>0.0</td>\n",
              "      <td>0.0</td>\n",
              "      <td>0.0</td>\n",
              "      <td>0.0</td>\n",
              "      <td>0.0</td>\n",
              "      <td>0.0</td>\n",
              "      <td>0.0</td>\n",
              "      <td>0.0</td>\n",
              "      <td>0.0</td>\n",
              "      <td>0.0</td>\n",
              "      <td>0.0</td>\n",
              "      <td>0.0</td>\n",
              "      <td>0.0</td>\n",
              "      <td>0.0</td>\n",
              "      <td>0.0</td>\n",
              "      <td>0.0</td>\n",
              "      <td>0.0</td>\n",
              "      <td>0.0</td>\n",
              "      <td>0.0</td>\n",
              "      <td>0.0</td>\n",
              "      <td>0.0</td>\n",
              "      <td>0.0</td>\n",
              "      <td>0.0</td>\n",
              "      <td>0.0</td>\n",
              "      <td>0.0</td>\n",
              "      <td>0.0</td>\n",
              "      <td>0.0</td>\n",
              "      <td>0.0</td>\n",
              "      <td>0.0</td>\n",
              "      <td>0.0</td>\n",
              "      <td>0.0</td>\n",
              "      <td>0.0</td>\n",
              "      <td>0.0</td>\n",
              "      <td>0.0</td>\n",
              "      <td>0.0</td>\n",
              "      <td>0.0</td>\n",
              "      <td>0.0</td>\n",
              "      <td>0.0</td>\n",
              "      <td>...</td>\n",
              "      <td>0.0</td>\n",
              "      <td>0.0</td>\n",
              "      <td>0.0</td>\n",
              "      <td>0.0</td>\n",
              "      <td>0.0</td>\n",
              "      <td>0.0</td>\n",
              "      <td>0.0</td>\n",
              "      <td>0.0</td>\n",
              "      <td>0.0</td>\n",
              "      <td>0.0</td>\n",
              "      <td>0.0</td>\n",
              "      <td>0.0</td>\n",
              "      <td>0.0</td>\n",
              "      <td>0.0</td>\n",
              "      <td>0.0</td>\n",
              "      <td>0.0</td>\n",
              "      <td>0.0</td>\n",
              "      <td>0.0</td>\n",
              "      <td>0.0</td>\n",
              "      <td>0.0</td>\n",
              "      <td>0.0</td>\n",
              "      <td>0.0</td>\n",
              "      <td>0.0</td>\n",
              "      <td>0.0</td>\n",
              "      <td>0.0</td>\n",
              "      <td>0.0</td>\n",
              "      <td>0.0</td>\n",
              "      <td>0.0</td>\n",
              "      <td>0.0</td>\n",
              "      <td>0.0</td>\n",
              "      <td>0.0</td>\n",
              "      <td>0.0</td>\n",
              "      <td>0.0</td>\n",
              "      <td>0.0</td>\n",
              "      <td>0.0</td>\n",
              "      <td>0.0</td>\n",
              "      <td>0.0</td>\n",
              "      <td>0.0</td>\n",
              "      <td>0.0</td>\n",
              "      <td>0.0</td>\n",
              "    </tr>\n",
              "    <tr>\n",
              "      <th>805</th>\n",
              "      <td>0.0</td>\n",
              "      <td>0.0</td>\n",
              "      <td>0.0</td>\n",
              "      <td>0.0</td>\n",
              "      <td>0.0</td>\n",
              "      <td>0.0</td>\n",
              "      <td>0.0</td>\n",
              "      <td>0.0</td>\n",
              "      <td>0.0</td>\n",
              "      <td>0.0</td>\n",
              "      <td>0.0</td>\n",
              "      <td>0.0</td>\n",
              "      <td>0.0</td>\n",
              "      <td>0.0</td>\n",
              "      <td>0.0</td>\n",
              "      <td>0.0</td>\n",
              "      <td>0.0</td>\n",
              "      <td>0.0</td>\n",
              "      <td>0.0</td>\n",
              "      <td>0.0</td>\n",
              "      <td>0.0</td>\n",
              "      <td>0.0</td>\n",
              "      <td>0.0</td>\n",
              "      <td>0.0</td>\n",
              "      <td>0.0</td>\n",
              "      <td>0.0</td>\n",
              "      <td>0.0</td>\n",
              "      <td>0.0</td>\n",
              "      <td>0.0</td>\n",
              "      <td>0.0</td>\n",
              "      <td>0.0</td>\n",
              "      <td>0.0</td>\n",
              "      <td>0.0</td>\n",
              "      <td>0.0</td>\n",
              "      <td>0.0</td>\n",
              "      <td>0.0</td>\n",
              "      <td>0.0</td>\n",
              "      <td>0.0</td>\n",
              "      <td>3.0</td>\n",
              "      <td>0.0</td>\n",
              "      <td>...</td>\n",
              "      <td>0.0</td>\n",
              "      <td>0.0</td>\n",
              "      <td>0.0</td>\n",
              "      <td>0.0</td>\n",
              "      <td>0.0</td>\n",
              "      <td>0.0</td>\n",
              "      <td>0.0</td>\n",
              "      <td>0.0</td>\n",
              "      <td>0.0</td>\n",
              "      <td>0.0</td>\n",
              "      <td>0.0</td>\n",
              "      <td>0.0</td>\n",
              "      <td>0.0</td>\n",
              "      <td>0.0</td>\n",
              "      <td>0.0</td>\n",
              "      <td>0.0</td>\n",
              "      <td>0.0</td>\n",
              "      <td>0.0</td>\n",
              "      <td>0.0</td>\n",
              "      <td>0.0</td>\n",
              "      <td>0.0</td>\n",
              "      <td>0.0</td>\n",
              "      <td>0.0</td>\n",
              "      <td>0.0</td>\n",
              "      <td>0.0</td>\n",
              "      <td>0.0</td>\n",
              "      <td>0.0</td>\n",
              "      <td>0.0</td>\n",
              "      <td>0.0</td>\n",
              "      <td>0.0</td>\n",
              "      <td>0.0</td>\n",
              "      <td>0.0</td>\n",
              "      <td>0.0</td>\n",
              "      <td>0.0</td>\n",
              "      <td>0.0</td>\n",
              "      <td>0.0</td>\n",
              "      <td>0.0</td>\n",
              "      <td>0.0</td>\n",
              "      <td>0.0</td>\n",
              "      <td>0.0</td>\n",
              "    </tr>\n",
              "    <tr>\n",
              "      <th>882</th>\n",
              "      <td>0.0</td>\n",
              "      <td>0.0</td>\n",
              "      <td>0.0</td>\n",
              "      <td>0.0</td>\n",
              "      <td>0.0</td>\n",
              "      <td>0.0</td>\n",
              "      <td>0.0</td>\n",
              "      <td>0.0</td>\n",
              "      <td>0.0</td>\n",
              "      <td>0.0</td>\n",
              "      <td>0.0</td>\n",
              "      <td>0.0</td>\n",
              "      <td>0.0</td>\n",
              "      <td>0.0</td>\n",
              "      <td>0.0</td>\n",
              "      <td>0.0</td>\n",
              "      <td>0.0</td>\n",
              "      <td>0.0</td>\n",
              "      <td>0.0</td>\n",
              "      <td>0.0</td>\n",
              "      <td>0.0</td>\n",
              "      <td>0.0</td>\n",
              "      <td>0.0</td>\n",
              "      <td>0.0</td>\n",
              "      <td>0.0</td>\n",
              "      <td>0.0</td>\n",
              "      <td>0.0</td>\n",
              "      <td>0.0</td>\n",
              "      <td>0.0</td>\n",
              "      <td>0.0</td>\n",
              "      <td>0.0</td>\n",
              "      <td>0.0</td>\n",
              "      <td>0.0</td>\n",
              "      <td>0.0</td>\n",
              "      <td>0.0</td>\n",
              "      <td>0.0</td>\n",
              "      <td>0.0</td>\n",
              "      <td>0.0</td>\n",
              "      <td>0.0</td>\n",
              "      <td>0.0</td>\n",
              "      <td>...</td>\n",
              "      <td>0.0</td>\n",
              "      <td>0.0</td>\n",
              "      <td>0.0</td>\n",
              "      <td>0.0</td>\n",
              "      <td>0.0</td>\n",
              "      <td>0.0</td>\n",
              "      <td>0.0</td>\n",
              "      <td>0.0</td>\n",
              "      <td>0.0</td>\n",
              "      <td>0.0</td>\n",
              "      <td>0.0</td>\n",
              "      <td>0.0</td>\n",
              "      <td>0.0</td>\n",
              "      <td>0.0</td>\n",
              "      <td>0.0</td>\n",
              "      <td>0.0</td>\n",
              "      <td>0.0</td>\n",
              "      <td>0.0</td>\n",
              "      <td>0.0</td>\n",
              "      <td>0.0</td>\n",
              "      <td>0.0</td>\n",
              "      <td>0.0</td>\n",
              "      <td>0.0</td>\n",
              "      <td>0.0</td>\n",
              "      <td>0.0</td>\n",
              "      <td>0.0</td>\n",
              "      <td>0.0</td>\n",
              "      <td>0.0</td>\n",
              "      <td>0.0</td>\n",
              "      <td>0.0</td>\n",
              "      <td>0.0</td>\n",
              "      <td>0.0</td>\n",
              "      <td>0.0</td>\n",
              "      <td>0.0</td>\n",
              "      <td>0.0</td>\n",
              "      <td>0.0</td>\n",
              "      <td>0.0</td>\n",
              "      <td>0.0</td>\n",
              "      <td>0.0</td>\n",
              "      <td>0.0</td>\n",
              "    </tr>\n",
              "    <tr>\n",
              "      <th>1131</th>\n",
              "      <td>0.0</td>\n",
              "      <td>0.0</td>\n",
              "      <td>0.0</td>\n",
              "      <td>0.0</td>\n",
              "      <td>0.0</td>\n",
              "      <td>0.0</td>\n",
              "      <td>0.0</td>\n",
              "      <td>0.0</td>\n",
              "      <td>0.0</td>\n",
              "      <td>0.0</td>\n",
              "      <td>0.0</td>\n",
              "      <td>0.0</td>\n",
              "      <td>0.0</td>\n",
              "      <td>0.0</td>\n",
              "      <td>0.0</td>\n",
              "      <td>0.0</td>\n",
              "      <td>0.0</td>\n",
              "      <td>0.0</td>\n",
              "      <td>0.0</td>\n",
              "      <td>0.0</td>\n",
              "      <td>0.0</td>\n",
              "      <td>0.0</td>\n",
              "      <td>0.0</td>\n",
              "      <td>0.0</td>\n",
              "      <td>0.0</td>\n",
              "      <td>0.0</td>\n",
              "      <td>0.0</td>\n",
              "      <td>0.0</td>\n",
              "      <td>0.0</td>\n",
              "      <td>0.0</td>\n",
              "      <td>0.0</td>\n",
              "      <td>0.0</td>\n",
              "      <td>0.0</td>\n",
              "      <td>0.0</td>\n",
              "      <td>0.0</td>\n",
              "      <td>0.0</td>\n",
              "      <td>0.0</td>\n",
              "      <td>0.0</td>\n",
              "      <td>0.0</td>\n",
              "      <td>0.0</td>\n",
              "      <td>...</td>\n",
              "      <td>0.0</td>\n",
              "      <td>0.0</td>\n",
              "      <td>0.0</td>\n",
              "      <td>0.0</td>\n",
              "      <td>0.0</td>\n",
              "      <td>0.0</td>\n",
              "      <td>0.0</td>\n",
              "      <td>0.0</td>\n",
              "      <td>0.0</td>\n",
              "      <td>0.0</td>\n",
              "      <td>0.0</td>\n",
              "      <td>0.0</td>\n",
              "      <td>0.0</td>\n",
              "      <td>0.0</td>\n",
              "      <td>0.0</td>\n",
              "      <td>0.0</td>\n",
              "      <td>0.0</td>\n",
              "      <td>0.0</td>\n",
              "      <td>0.0</td>\n",
              "      <td>0.0</td>\n",
              "      <td>0.0</td>\n",
              "      <td>0.0</td>\n",
              "      <td>0.0</td>\n",
              "      <td>0.0</td>\n",
              "      <td>0.0</td>\n",
              "      <td>0.0</td>\n",
              "      <td>0.0</td>\n",
              "      <td>0.0</td>\n",
              "      <td>0.0</td>\n",
              "      <td>0.0</td>\n",
              "      <td>0.0</td>\n",
              "      <td>0.0</td>\n",
              "      <td>0.0</td>\n",
              "      <td>0.0</td>\n",
              "      <td>0.0</td>\n",
              "      <td>0.0</td>\n",
              "      <td>0.0</td>\n",
              "      <td>0.0</td>\n",
              "      <td>0.0</td>\n",
              "      <td>0.0</td>\n",
              "    </tr>\n",
              "  </tbody>\n",
              "</table>\n",
              "<p>5 rows × 1681 columns</p>\n",
              "</div>"
            ],
            "text/plain": [
              "ISBN     000649840X  0007110928  0020199600  ...  3596259924  8806142100  8807813025\n",
              "User-ID                                      ...                                    \n",
              "254             0.0         0.0         0.0  ...         0.0         0.0         0.0\n",
              "638             0.0         0.0         0.0  ...         0.0         0.0         0.0\n",
              "805             0.0         0.0         0.0  ...         0.0         0.0         0.0\n",
              "882             0.0         0.0         0.0  ...         0.0         0.0         0.0\n",
              "1131            0.0         0.0         0.0  ...         0.0         0.0         0.0\n",
              "\n",
              "[5 rows x 1681 columns]"
            ]
          },
          "metadata": {},
          "execution_count": 84
        }
      ]
    },
    {
      "cell_type": "code",
      "metadata": {
        "colab": {
          "base_uri": "https://localhost:8080/"
        },
        "id": "MBvL09gUBOCQ",
        "outputId": "ba487d28-3d40-455b-8a99-acc04c016465"
      },
      "source": [
        "pivot_matrix_df.shape"
      ],
      "execution_count": 85,
      "outputs": [
        {
          "output_type": "execute_result",
          "data": {
            "text/plain": [
              "(1242, 1681)"
            ]
          },
          "metadata": {},
          "execution_count": 85
        }
      ]
    },
    {
      "cell_type": "code",
      "metadata": {
        "colab": {
          "base_uri": "https://localhost:8080/"
        },
        "id": "FlIRD5S0uaTR",
        "outputId": "fe54674c-ca0f-46d8-e97d-c25d152727ab"
      },
      "source": [
        "# Convert pivot table into a matrix of values\n",
        "pivot_matrix = pivot_matrix_df.values\n",
        "pivot_matrix"
      ],
      "execution_count": 86,
      "outputs": [
        {
          "output_type": "execute_result",
          "data": {
            "text/plain": [
              "array([[0., 0., 0., ..., 0., 0., 0.],\n",
              "       [0., 0., 0., ..., 0., 0., 0.],\n",
              "       [0., 0., 0., ..., 0., 0., 0.],\n",
              "       ...,\n",
              "       [0., 0., 0., ..., 0., 0., 0.],\n",
              "       [0., 0., 0., ..., 0., 0., 0.],\n",
              "       [0., 0., 0., ..., 0., 0., 0.]])"
            ]
          },
          "metadata": {},
          "execution_count": 86
        }
      ]
    },
    {
      "cell_type": "markdown",
      "metadata": {
        "id": "iPA4d2rfukXB"
      },
      "source": [
        "###Matrix factorization"
      ]
    },
    {
      "cell_type": "code",
      "metadata": {
        "id": "EXUAfNUbuePL"
      },
      "source": [
        "# The number of factors to factor the user-item matrix.\n",
        "NUMBER_OF_FACTORS_MF = 15\n",
        "\n",
        "#Performs matrix factorization of the original user item matrix\n",
        "U, sigma, Vt = svds(pivot_matrix, k = NUMBER_OF_FACTORS_MF)"
      ],
      "execution_count": 87,
      "outputs": []
    },
    {
      "cell_type": "code",
      "metadata": {
        "colab": {
          "base_uri": "https://localhost:8080/"
        },
        "id": "y-2N3jQVb6oO",
        "outputId": "98ece83d-4434-4a92-d6f4-9ce91e061fcd"
      },
      "source": [
        "pivot_matrix.shape"
      ],
      "execution_count": 88,
      "outputs": [
        {
          "output_type": "execute_result",
          "data": {
            "text/plain": [
              "(1242, 1681)"
            ]
          },
          "metadata": {},
          "execution_count": 88
        }
      ]
    },
    {
      "cell_type": "code",
      "metadata": {
        "colab": {
          "base_uri": "https://localhost:8080/"
        },
        "id": "xDg2fDYkbvF9",
        "outputId": "37300194-3433-4afa-a4e8-5eb87db95561"
      },
      "source": [
        "U.shape"
      ],
      "execution_count": 89,
      "outputs": [
        {
          "output_type": "execute_result",
          "data": {
            "text/plain": [
              "(1242, 15)"
            ]
          },
          "metadata": {},
          "execution_count": 89
        }
      ]
    },
    {
      "cell_type": "code",
      "metadata": {
        "colab": {
          "base_uri": "https://localhost:8080/"
        },
        "id": "oXKDHSNdby9b",
        "outputId": "7355e1e0-153a-48b5-fcd5-17bc078f98e7"
      },
      "source": [
        "sigma.shape"
      ],
      "execution_count": 90,
      "outputs": [
        {
          "output_type": "execute_result",
          "data": {
            "text/plain": [
              "(15,)"
            ]
          },
          "metadata": {},
          "execution_count": 90
        }
      ]
    },
    {
      "cell_type": "code",
      "metadata": {
        "colab": {
          "base_uri": "https://localhost:8080/"
        },
        "id": "jlThZjPIcHug",
        "outputId": "b54dd161-1190-4100-88c1-28245c0da4bd"
      },
      "source": [
        "sigma = np.diag(sigma)\n",
        "sigma.shape"
      ],
      "execution_count": 91,
      "outputs": [
        {
          "output_type": "execute_result",
          "data": {
            "text/plain": [
              "(15, 15)"
            ]
          },
          "metadata": {},
          "execution_count": 91
        }
      ]
    },
    {
      "cell_type": "code",
      "metadata": {
        "colab": {
          "base_uri": "https://localhost:8080/"
        },
        "id": "uRyCjtx4b2TM",
        "outputId": "1fe70af7-a81f-4997-ae5c-a7119c378d88"
      },
      "source": [
        "Vt.shape"
      ],
      "execution_count": 92,
      "outputs": [
        {
          "output_type": "execute_result",
          "data": {
            "text/plain": [
              "(15, 1681)"
            ]
          },
          "metadata": {},
          "execution_count": 92
        }
      ]
    },
    {
      "cell_type": "code",
      "metadata": {
        "id": "Y1K4MB52uuI_"
      },
      "source": [
        "# Predict ratings for all users\n",
        "predicted_ratings = np.dot(np.dot(U, sigma), Vt) "
      ],
      "execution_count": 93,
      "outputs": []
    },
    {
      "cell_type": "code",
      "metadata": {
        "id": "Wdlx11zRuyQt"
      },
      "source": [
        "# List of user ids\n",
        "users_ids = list(pivot_matrix_df.index)"
      ],
      "execution_count": 94,
      "outputs": []
    },
    {
      "cell_type": "code",
      "metadata": {
        "colab": {
          "base_uri": "https://localhost:8080/",
          "height": 282
        },
        "id": "jkKSHmDyu4DB",
        "outputId": "040def53-7355-49ba-ba23-1ce8fa65cb3e"
      },
      "source": [
        "# Convert the above matrix into dataframe\n",
        "predicted_ratings_df = pd.DataFrame(predicted_ratings,columns=pivot_matrix_df.columns,index=users_ids).transpose()\n",
        "predicted_ratings_df.head()"
      ],
      "execution_count": 95,
      "outputs": [
        {
          "output_type": "execute_result",
          "data": {
            "text/html": [
              "<div>\n",
              "<style scoped>\n",
              "    .dataframe tbody tr th:only-of-type {\n",
              "        vertical-align: middle;\n",
              "    }\n",
              "\n",
              "    .dataframe tbody tr th {\n",
              "        vertical-align: top;\n",
              "    }\n",
              "\n",
              "    .dataframe thead th {\n",
              "        text-align: right;\n",
              "    }\n",
              "</style>\n",
              "<table border=\"1\" class=\"dataframe\">\n",
              "  <thead>\n",
              "    <tr style=\"text-align: right;\">\n",
              "      <th></th>\n",
              "      <th>254</th>\n",
              "      <th>638</th>\n",
              "      <th>805</th>\n",
              "      <th>882</th>\n",
              "      <th>1131</th>\n",
              "      <th>1435</th>\n",
              "      <th>2033</th>\n",
              "      <th>2276</th>\n",
              "      <th>2766</th>\n",
              "      <th>2891</th>\n",
              "      <th>3363</th>\n",
              "      <th>3827</th>\n",
              "      <th>4017</th>\n",
              "      <th>5476</th>\n",
              "      <th>5582</th>\n",
              "      <th>6073</th>\n",
              "      <th>6242</th>\n",
              "      <th>6251</th>\n",
              "      <th>6323</th>\n",
              "      <th>6543</th>\n",
              "      <th>6563</th>\n",
              "      <th>6575</th>\n",
              "      <th>7125</th>\n",
              "      <th>7158</th>\n",
              "      <th>7283</th>\n",
              "      <th>7346</th>\n",
              "      <th>7841</th>\n",
              "      <th>7915</th>\n",
              "      <th>8066</th>\n",
              "      <th>8067</th>\n",
              "      <th>8245</th>\n",
              "      <th>8253</th>\n",
              "      <th>8454</th>\n",
              "      <th>8681</th>\n",
              "      <th>9417</th>\n",
              "      <th>10314</th>\n",
              "      <th>10447</th>\n",
              "      <th>10560</th>\n",
              "      <th>11224</th>\n",
              "      <th>11245</th>\n",
              "      <th>...</th>\n",
              "      <th>269890</th>\n",
              "      <th>270352</th>\n",
              "      <th>270554</th>\n",
              "      <th>270605</th>\n",
              "      <th>270713</th>\n",
              "      <th>270801</th>\n",
              "      <th>270820</th>\n",
              "      <th>270838</th>\n",
              "      <th>271176</th>\n",
              "      <th>271195</th>\n",
              "      <th>271448</th>\n",
              "      <th>271460</th>\n",
              "      <th>271558</th>\n",
              "      <th>271622</th>\n",
              "      <th>271705</th>\n",
              "      <th>272573</th>\n",
              "      <th>273086</th>\n",
              "      <th>273113</th>\n",
              "      <th>273976</th>\n",
              "      <th>273979</th>\n",
              "      <th>274004</th>\n",
              "      <th>274061</th>\n",
              "      <th>274301</th>\n",
              "      <th>274308</th>\n",
              "      <th>274325</th>\n",
              "      <th>274393</th>\n",
              "      <th>274634</th>\n",
              "      <th>274808</th>\n",
              "      <th>275154</th>\n",
              "      <th>275970</th>\n",
              "      <th>276050</th>\n",
              "      <th>276165</th>\n",
              "      <th>276231</th>\n",
              "      <th>276641</th>\n",
              "      <th>276680</th>\n",
              "      <th>277427</th>\n",
              "      <th>277523</th>\n",
              "      <th>278026</th>\n",
              "      <th>278194</th>\n",
              "      <th>278633</th>\n",
              "    </tr>\n",
              "    <tr>\n",
              "      <th>ISBN</th>\n",
              "      <th></th>\n",
              "      <th></th>\n",
              "      <th></th>\n",
              "      <th></th>\n",
              "      <th></th>\n",
              "      <th></th>\n",
              "      <th></th>\n",
              "      <th></th>\n",
              "      <th></th>\n",
              "      <th></th>\n",
              "      <th></th>\n",
              "      <th></th>\n",
              "      <th></th>\n",
              "      <th></th>\n",
              "      <th></th>\n",
              "      <th></th>\n",
              "      <th></th>\n",
              "      <th></th>\n",
              "      <th></th>\n",
              "      <th></th>\n",
              "      <th></th>\n",
              "      <th></th>\n",
              "      <th></th>\n",
              "      <th></th>\n",
              "      <th></th>\n",
              "      <th></th>\n",
              "      <th></th>\n",
              "      <th></th>\n",
              "      <th></th>\n",
              "      <th></th>\n",
              "      <th></th>\n",
              "      <th></th>\n",
              "      <th></th>\n",
              "      <th></th>\n",
              "      <th></th>\n",
              "      <th></th>\n",
              "      <th></th>\n",
              "      <th></th>\n",
              "      <th></th>\n",
              "      <th></th>\n",
              "      <th></th>\n",
              "      <th></th>\n",
              "      <th></th>\n",
              "      <th></th>\n",
              "      <th></th>\n",
              "      <th></th>\n",
              "      <th></th>\n",
              "      <th></th>\n",
              "      <th></th>\n",
              "      <th></th>\n",
              "      <th></th>\n",
              "      <th></th>\n",
              "      <th></th>\n",
              "      <th></th>\n",
              "      <th></th>\n",
              "      <th></th>\n",
              "      <th></th>\n",
              "      <th></th>\n",
              "      <th></th>\n",
              "      <th></th>\n",
              "      <th></th>\n",
              "      <th></th>\n",
              "      <th></th>\n",
              "      <th></th>\n",
              "      <th></th>\n",
              "      <th></th>\n",
              "      <th></th>\n",
              "      <th></th>\n",
              "      <th></th>\n",
              "      <th></th>\n",
              "      <th></th>\n",
              "      <th></th>\n",
              "      <th></th>\n",
              "      <th></th>\n",
              "      <th></th>\n",
              "      <th></th>\n",
              "      <th></th>\n",
              "      <th></th>\n",
              "      <th></th>\n",
              "      <th></th>\n",
              "      <th></th>\n",
              "    </tr>\n",
              "  </thead>\n",
              "  <tbody>\n",
              "    <tr>\n",
              "      <th>000649840X</th>\n",
              "      <td>0.004419</td>\n",
              "      <td>0.023858</td>\n",
              "      <td>-0.002762</td>\n",
              "      <td>-0.007057</td>\n",
              "      <td>-0.007945</td>\n",
              "      <td>0.007327</td>\n",
              "      <td>-0.019639</td>\n",
              "      <td>0.025924</td>\n",
              "      <td>0.016906</td>\n",
              "      <td>-0.001093</td>\n",
              "      <td>0.017171</td>\n",
              "      <td>-0.001355</td>\n",
              "      <td>0.085129</td>\n",
              "      <td>0.013426</td>\n",
              "      <td>0.002376</td>\n",
              "      <td>-0.001008</td>\n",
              "      <td>0.033663</td>\n",
              "      <td>0.055777</td>\n",
              "      <td>-0.001919</td>\n",
              "      <td>0.064016</td>\n",
              "      <td>0.011220</td>\n",
              "      <td>0.122311</td>\n",
              "      <td>0.012402</td>\n",
              "      <td>0.036244</td>\n",
              "      <td>-0.000430</td>\n",
              "      <td>0.063775</td>\n",
              "      <td>0.010436</td>\n",
              "      <td>0.001068</td>\n",
              "      <td>0.019758</td>\n",
              "      <td>0.002146</td>\n",
              "      <td>0.051790</td>\n",
              "      <td>-0.018539</td>\n",
              "      <td>0.032180</td>\n",
              "      <td>0.028449</td>\n",
              "      <td>0.008958</td>\n",
              "      <td>0.018339</td>\n",
              "      <td>0.058661</td>\n",
              "      <td>-0.011437</td>\n",
              "      <td>0.037189</td>\n",
              "      <td>-0.007790</td>\n",
              "      <td>...</td>\n",
              "      <td>-0.016468</td>\n",
              "      <td>0.007870</td>\n",
              "      <td>0.030315</td>\n",
              "      <td>0.016226</td>\n",
              "      <td>0.037377</td>\n",
              "      <td>0.012212</td>\n",
              "      <td>0.019537</td>\n",
              "      <td>0.020140</td>\n",
              "      <td>-0.034157</td>\n",
              "      <td>0.009699</td>\n",
              "      <td>0.088100</td>\n",
              "      <td>0.008495</td>\n",
              "      <td>0.013887</td>\n",
              "      <td>0.006710</td>\n",
              "      <td>-0.005738</td>\n",
              "      <td>-0.012748</td>\n",
              "      <td>0.013406</td>\n",
              "      <td>0.025860</td>\n",
              "      <td>-0.001922</td>\n",
              "      <td>-0.002872</td>\n",
              "      <td>-0.002228</td>\n",
              "      <td>-0.011033</td>\n",
              "      <td>0.018669</td>\n",
              "      <td>0.014839</td>\n",
              "      <td>0.013929</td>\n",
              "      <td>-0.004258</td>\n",
              "      <td>0.005639</td>\n",
              "      <td>0.010346</td>\n",
              "      <td>0.006335</td>\n",
              "      <td>0.032649</td>\n",
              "      <td>0.006007</td>\n",
              "      <td>-0.041809</td>\n",
              "      <td>0.012576</td>\n",
              "      <td>0.016411</td>\n",
              "      <td>0.031127</td>\n",
              "      <td>0.022816</td>\n",
              "      <td>0.033005</td>\n",
              "      <td>-0.005259</td>\n",
              "      <td>0.025220</td>\n",
              "      <td>0.012361</td>\n",
              "    </tr>\n",
              "    <tr>\n",
              "      <th>0007110928</th>\n",
              "      <td>0.018424</td>\n",
              "      <td>0.010467</td>\n",
              "      <td>-0.008650</td>\n",
              "      <td>0.000854</td>\n",
              "      <td>-0.023117</td>\n",
              "      <td>0.005121</td>\n",
              "      <td>-0.016426</td>\n",
              "      <td>0.005815</td>\n",
              "      <td>0.023209</td>\n",
              "      <td>-0.007468</td>\n",
              "      <td>0.010570</td>\n",
              "      <td>0.009490</td>\n",
              "      <td>0.088226</td>\n",
              "      <td>0.000443</td>\n",
              "      <td>-0.008229</td>\n",
              "      <td>0.002192</td>\n",
              "      <td>0.014840</td>\n",
              "      <td>0.039993</td>\n",
              "      <td>0.009292</td>\n",
              "      <td>0.026344</td>\n",
              "      <td>-0.037450</td>\n",
              "      <td>0.050290</td>\n",
              "      <td>-0.020719</td>\n",
              "      <td>0.021111</td>\n",
              "      <td>-0.023344</td>\n",
              "      <td>0.087257</td>\n",
              "      <td>0.019486</td>\n",
              "      <td>-0.006674</td>\n",
              "      <td>0.008577</td>\n",
              "      <td>-0.049735</td>\n",
              "      <td>0.043082</td>\n",
              "      <td>-0.025904</td>\n",
              "      <td>-0.015374</td>\n",
              "      <td>0.025414</td>\n",
              "      <td>0.014820</td>\n",
              "      <td>0.014033</td>\n",
              "      <td>0.038861</td>\n",
              "      <td>-0.028703</td>\n",
              "      <td>0.032859</td>\n",
              "      <td>-0.015034</td>\n",
              "      <td>...</td>\n",
              "      <td>-0.015987</td>\n",
              "      <td>0.009107</td>\n",
              "      <td>0.016489</td>\n",
              "      <td>0.005802</td>\n",
              "      <td>0.045843</td>\n",
              "      <td>-0.006735</td>\n",
              "      <td>-0.004752</td>\n",
              "      <td>0.024641</td>\n",
              "      <td>-0.012229</td>\n",
              "      <td>0.003386</td>\n",
              "      <td>0.035431</td>\n",
              "      <td>0.010881</td>\n",
              "      <td>0.009819</td>\n",
              "      <td>0.000112</td>\n",
              "      <td>0.000581</td>\n",
              "      <td>-0.017342</td>\n",
              "      <td>0.013653</td>\n",
              "      <td>0.006248</td>\n",
              "      <td>0.011445</td>\n",
              "      <td>-0.016837</td>\n",
              "      <td>-0.003928</td>\n",
              "      <td>-0.026081</td>\n",
              "      <td>0.133255</td>\n",
              "      <td>-0.008313</td>\n",
              "      <td>0.015285</td>\n",
              "      <td>-0.007185</td>\n",
              "      <td>0.001498</td>\n",
              "      <td>0.012225</td>\n",
              "      <td>0.006291</td>\n",
              "      <td>0.028000</td>\n",
              "      <td>0.019887</td>\n",
              "      <td>-0.043011</td>\n",
              "      <td>-0.003307</td>\n",
              "      <td>0.012350</td>\n",
              "      <td>0.006315</td>\n",
              "      <td>0.023871</td>\n",
              "      <td>0.023436</td>\n",
              "      <td>-0.004692</td>\n",
              "      <td>0.022926</td>\n",
              "      <td>-0.001934</td>\n",
              "    </tr>\n",
              "    <tr>\n",
              "      <th>0020199600</th>\n",
              "      <td>0.035853</td>\n",
              "      <td>0.036903</td>\n",
              "      <td>-0.021927</td>\n",
              "      <td>-0.007438</td>\n",
              "      <td>0.005682</td>\n",
              "      <td>0.008523</td>\n",
              "      <td>0.050115</td>\n",
              "      <td>0.001924</td>\n",
              "      <td>0.038662</td>\n",
              "      <td>-0.022899</td>\n",
              "      <td>-0.009268</td>\n",
              "      <td>0.007155</td>\n",
              "      <td>0.062663</td>\n",
              "      <td>0.012086</td>\n",
              "      <td>0.006320</td>\n",
              "      <td>0.001364</td>\n",
              "      <td>-0.011610</td>\n",
              "      <td>0.044586</td>\n",
              "      <td>0.007627</td>\n",
              "      <td>0.000748</td>\n",
              "      <td>0.014642</td>\n",
              "      <td>-0.098296</td>\n",
              "      <td>-0.003719</td>\n",
              "      <td>0.013136</td>\n",
              "      <td>-0.018858</td>\n",
              "      <td>0.010827</td>\n",
              "      <td>0.001887</td>\n",
              "      <td>-0.026988</td>\n",
              "      <td>-0.015673</td>\n",
              "      <td>0.001460</td>\n",
              "      <td>-0.017813</td>\n",
              "      <td>0.068367</td>\n",
              "      <td>-0.030521</td>\n",
              "      <td>0.014468</td>\n",
              "      <td>-0.009584</td>\n",
              "      <td>0.012132</td>\n",
              "      <td>0.012934</td>\n",
              "      <td>0.053343</td>\n",
              "      <td>0.031037</td>\n",
              "      <td>0.003789</td>\n",
              "      <td>...</td>\n",
              "      <td>0.001268</td>\n",
              "      <td>-0.006551</td>\n",
              "      <td>0.002552</td>\n",
              "      <td>-0.007733</td>\n",
              "      <td>-0.012786</td>\n",
              "      <td>-0.004915</td>\n",
              "      <td>0.012016</td>\n",
              "      <td>0.005217</td>\n",
              "      <td>0.053427</td>\n",
              "      <td>0.016604</td>\n",
              "      <td>0.069333</td>\n",
              "      <td>-0.000054</td>\n",
              "      <td>0.026646</td>\n",
              "      <td>0.005012</td>\n",
              "      <td>0.009929</td>\n",
              "      <td>0.054009</td>\n",
              "      <td>0.006233</td>\n",
              "      <td>0.010435</td>\n",
              "      <td>0.019995</td>\n",
              "      <td>0.002049</td>\n",
              "      <td>0.013858</td>\n",
              "      <td>0.148692</td>\n",
              "      <td>0.083017</td>\n",
              "      <td>0.007599</td>\n",
              "      <td>0.048017</td>\n",
              "      <td>-0.012661</td>\n",
              "      <td>0.006851</td>\n",
              "      <td>-0.009963</td>\n",
              "      <td>-0.013150</td>\n",
              "      <td>-0.007951</td>\n",
              "      <td>0.010699</td>\n",
              "      <td>0.047093</td>\n",
              "      <td>0.006785</td>\n",
              "      <td>0.000730</td>\n",
              "      <td>0.035208</td>\n",
              "      <td>-0.018958</td>\n",
              "      <td>0.007617</td>\n",
              "      <td>0.001643</td>\n",
              "      <td>-0.003594</td>\n",
              "      <td>0.046116</td>\n",
              "    </tr>\n",
              "    <tr>\n",
              "      <th>0020442203</th>\n",
              "      <td>0.048002</td>\n",
              "      <td>0.007622</td>\n",
              "      <td>0.011817</td>\n",
              "      <td>0.004680</td>\n",
              "      <td>0.013636</td>\n",
              "      <td>0.009103</td>\n",
              "      <td>0.047843</td>\n",
              "      <td>-0.005178</td>\n",
              "      <td>0.016857</td>\n",
              "      <td>0.020786</td>\n",
              "      <td>0.004342</td>\n",
              "      <td>0.000941</td>\n",
              "      <td>0.060327</td>\n",
              "      <td>0.002823</td>\n",
              "      <td>0.000022</td>\n",
              "      <td>-0.001404</td>\n",
              "      <td>0.036344</td>\n",
              "      <td>0.068272</td>\n",
              "      <td>-0.003439</td>\n",
              "      <td>0.021668</td>\n",
              "      <td>0.048384</td>\n",
              "      <td>0.044311</td>\n",
              "      <td>0.017931</td>\n",
              "      <td>-0.014343</td>\n",
              "      <td>0.019856</td>\n",
              "      <td>0.032290</td>\n",
              "      <td>0.025004</td>\n",
              "      <td>0.002137</td>\n",
              "      <td>0.023287</td>\n",
              "      <td>-0.021545</td>\n",
              "      <td>0.024042</td>\n",
              "      <td>0.065663</td>\n",
              "      <td>0.044972</td>\n",
              "      <td>0.034390</td>\n",
              "      <td>-0.009739</td>\n",
              "      <td>0.033094</td>\n",
              "      <td>0.023106</td>\n",
              "      <td>0.042455</td>\n",
              "      <td>0.003245</td>\n",
              "      <td>-0.006348</td>\n",
              "      <td>...</td>\n",
              "      <td>0.000647</td>\n",
              "      <td>0.001287</td>\n",
              "      <td>0.024562</td>\n",
              "      <td>0.024908</td>\n",
              "      <td>0.019846</td>\n",
              "      <td>0.014180</td>\n",
              "      <td>0.023945</td>\n",
              "      <td>0.007345</td>\n",
              "      <td>0.082064</td>\n",
              "      <td>0.021501</td>\n",
              "      <td>0.066794</td>\n",
              "      <td>-0.008184</td>\n",
              "      <td>0.007935</td>\n",
              "      <td>0.015308</td>\n",
              "      <td>0.047783</td>\n",
              "      <td>0.011777</td>\n",
              "      <td>0.013927</td>\n",
              "      <td>0.000400</td>\n",
              "      <td>0.019574</td>\n",
              "      <td>0.024513</td>\n",
              "      <td>0.019638</td>\n",
              "      <td>0.060152</td>\n",
              "      <td>-0.011740</td>\n",
              "      <td>-0.011351</td>\n",
              "      <td>0.011397</td>\n",
              "      <td>0.018331</td>\n",
              "      <td>-0.006489</td>\n",
              "      <td>0.007875</td>\n",
              "      <td>-0.008213</td>\n",
              "      <td>0.006926</td>\n",
              "      <td>0.021677</td>\n",
              "      <td>0.040508</td>\n",
              "      <td>-0.000341</td>\n",
              "      <td>0.003266</td>\n",
              "      <td>0.017035</td>\n",
              "      <td>0.005596</td>\n",
              "      <td>-0.007256</td>\n",
              "      <td>-0.010995</td>\n",
              "      <td>0.003592</td>\n",
              "      <td>0.015656</td>\n",
              "    </tr>\n",
              "    <tr>\n",
              "      <th>002542730X</th>\n",
              "      <td>0.071346</td>\n",
              "      <td>0.049464</td>\n",
              "      <td>0.042766</td>\n",
              "      <td>0.019483</td>\n",
              "      <td>0.004652</td>\n",
              "      <td>0.011362</td>\n",
              "      <td>0.064119</td>\n",
              "      <td>-0.007961</td>\n",
              "      <td>0.035290</td>\n",
              "      <td>0.070587</td>\n",
              "      <td>0.023379</td>\n",
              "      <td>0.049709</td>\n",
              "      <td>0.142148</td>\n",
              "      <td>0.004560</td>\n",
              "      <td>0.058309</td>\n",
              "      <td>0.032388</td>\n",
              "      <td>0.066373</td>\n",
              "      <td>0.198080</td>\n",
              "      <td>0.000429</td>\n",
              "      <td>0.056955</td>\n",
              "      <td>0.050970</td>\n",
              "      <td>0.401292</td>\n",
              "      <td>0.034516</td>\n",
              "      <td>0.017599</td>\n",
              "      <td>0.016770</td>\n",
              "      <td>0.269542</td>\n",
              "      <td>0.069573</td>\n",
              "      <td>0.078662</td>\n",
              "      <td>0.035635</td>\n",
              "      <td>0.069774</td>\n",
              "      <td>0.070707</td>\n",
              "      <td>0.132312</td>\n",
              "      <td>0.082289</td>\n",
              "      <td>0.062936</td>\n",
              "      <td>0.002589</td>\n",
              "      <td>0.078661</td>\n",
              "      <td>0.020346</td>\n",
              "      <td>0.018344</td>\n",
              "      <td>0.016978</td>\n",
              "      <td>-0.035312</td>\n",
              "      <td>...</td>\n",
              "      <td>0.016157</td>\n",
              "      <td>0.015969</td>\n",
              "      <td>0.036047</td>\n",
              "      <td>0.076187</td>\n",
              "      <td>0.150452</td>\n",
              "      <td>0.005656</td>\n",
              "      <td>-0.021273</td>\n",
              "      <td>0.010396</td>\n",
              "      <td>0.147850</td>\n",
              "      <td>0.100826</td>\n",
              "      <td>0.114377</td>\n",
              "      <td>-0.000725</td>\n",
              "      <td>-0.009582</td>\n",
              "      <td>0.021463</td>\n",
              "      <td>0.057916</td>\n",
              "      <td>0.036910</td>\n",
              "      <td>0.035753</td>\n",
              "      <td>-0.135755</td>\n",
              "      <td>0.058814</td>\n",
              "      <td>0.033748</td>\n",
              "      <td>0.057738</td>\n",
              "      <td>-0.103040</td>\n",
              "      <td>0.022979</td>\n",
              "      <td>0.003878</td>\n",
              "      <td>0.011167</td>\n",
              "      <td>0.054685</td>\n",
              "      <td>0.004541</td>\n",
              "      <td>0.048501</td>\n",
              "      <td>0.028178</td>\n",
              "      <td>0.031629</td>\n",
              "      <td>0.061129</td>\n",
              "      <td>0.049133</td>\n",
              "      <td>-0.002823</td>\n",
              "      <td>0.001166</td>\n",
              "      <td>0.046428</td>\n",
              "      <td>0.086140</td>\n",
              "      <td>-0.016592</td>\n",
              "      <td>0.040840</td>\n",
              "      <td>0.012146</td>\n",
              "      <td>0.037057</td>\n",
              "    </tr>\n",
              "  </tbody>\n",
              "</table>\n",
              "<p>5 rows × 1242 columns</p>\n",
              "</div>"
            ],
            "text/plain": [
              "              254       638       805     ...    278026    278194    278633\n",
              "ISBN                                      ...                              \n",
              "000649840X  0.004419  0.023858 -0.002762  ... -0.005259  0.025220  0.012361\n",
              "0007110928  0.018424  0.010467 -0.008650  ... -0.004692  0.022926 -0.001934\n",
              "0020199600  0.035853  0.036903 -0.021927  ...  0.001643 -0.003594  0.046116\n",
              "0020442203  0.048002  0.007622  0.011817  ... -0.010995  0.003592  0.015656\n",
              "002542730X  0.071346  0.049464  0.042766  ...  0.040840  0.012146  0.037057\n",
              "\n",
              "[5 rows x 1242 columns]"
            ]
          },
          "metadata": {},
          "execution_count": 95
        }
      ]
    },
    {
      "cell_type": "code",
      "metadata": {
        "colab": {
          "base_uri": "https://localhost:8080/"
        },
        "id": "SjaELJ_PPZJg",
        "outputId": "70e2946a-141e-4bc8-a9ba-60194aad1357"
      },
      "source": [
        "predicted_ratings_df.shape"
      ],
      "execution_count": 96,
      "outputs": [
        {
          "output_type": "execute_result",
          "data": {
            "text/plain": [
              "(1681, 1242)"
            ]
          },
          "metadata": {},
          "execution_count": 96
        }
      ]
    },
    {
      "cell_type": "code",
      "metadata": {
        "_cell_guid": "80f4d589-c8de-4fcf-b60e-e4576fe0b23a",
        "_uuid": "d25926c1a7bada2dee4aacefc93da38053341189",
        "id": "BawYJd8HOlwL"
      },
      "source": [
        "# Build Recommendet class\n",
        "class CFRecommender:\n",
        "    \n",
        "    MODEL_NAME = 'Collaborative Filtering'\n",
        "    \n",
        "    def __init__(self, cf_predictions_df, items_df=None):\n",
        "        self.cf_predictions_df = cf_predictions_df\n",
        "        self.items_df = items_df\n",
        "        \n",
        "    def get_model_name(self):\n",
        "        return self.MODEL_NAME\n",
        "        \n",
        "    def recommend_items(self, user_id, items_to_ignore=[], topn=10, verbose=False):\n",
        "        # Get and sort the user's predictions\n",
        "        sorted_user_predictions = self.cf_predictions_df[user_id].sort_values(ascending=False).reset_index().rename(columns={user_id: 'recStrength'})\n",
        "\n",
        "        # Recommend the highest predicted rating content that the user hasn't seen yet.\n",
        "        recommendations_df = sorted_user_predictions[~sorted_user_predictions['ISBN'].isin(items_to_ignore)].sort_values('recStrength', ascending = False).head(topn)\n",
        "\n",
        "        if verbose:\n",
        "            if self.items_df is None:\n",
        "                raise Exception('\"items_df\" is required in verbose mode')\n",
        "\n",
        "            recommendations_df = recommendations_df.merge(self.items_df, how = 'left', \n",
        "                                                          left_on = 'ISBN', \n",
        "                                                          right_on = 'ISBN')[['recStrength', 'Book-Title']]\n",
        "\n",
        "\n",
        "        return recommendations_df\n",
        "    "
      ],
      "execution_count": 97,
      "outputs": []
    },
    {
      "cell_type": "code",
      "metadata": {
        "id": "xlL0g_9dvDkv"
      },
      "source": [
        "# Create an object for the recommender\n",
        "cf_recommender_model = CFRecommender(predicted_ratings_df,books_df)"
      ],
      "execution_count": 98,
      "outputs": []
    },
    {
      "cell_type": "code",
      "metadata": {
        "colab": {
          "base_uri": "https://localhost:8080/",
          "height": 356
        },
        "id": "sOV0zAZR8VSu",
        "outputId": "d6072325-e9a7-4d93-d66e-ef5e5fd175a1"
      },
      "source": [
        "# Recommend books \n",
        "cf_recommender_model.recommend_items(638,verbose=True)"
      ],
      "execution_count": 99,
      "outputs": [
        {
          "output_type": "execute_result",
          "data": {
            "text/html": [
              "<div>\n",
              "<style scoped>\n",
              "    .dataframe tbody tr th:only-of-type {\n",
              "        vertical-align: middle;\n",
              "    }\n",
              "\n",
              "    .dataframe tbody tr th {\n",
              "        vertical-align: top;\n",
              "    }\n",
              "\n",
              "    .dataframe thead th {\n",
              "        text-align: right;\n",
              "    }\n",
              "</style>\n",
              "<table border=\"1\" class=\"dataframe\">\n",
              "  <thead>\n",
              "    <tr style=\"text-align: right;\">\n",
              "      <th></th>\n",
              "      <th>recStrength</th>\n",
              "      <th>Book-Title</th>\n",
              "    </tr>\n",
              "  </thead>\n",
              "  <tbody>\n",
              "    <tr>\n",
              "      <th>0</th>\n",
              "      <td>3.111252</td>\n",
              "      <td>The Lovely Bones: A Novel</td>\n",
              "    </tr>\n",
              "    <tr>\n",
              "      <th>1</th>\n",
              "      <td>3.013387</td>\n",
              "      <td>The Da Vinci Code</td>\n",
              "    </tr>\n",
              "    <tr>\n",
              "      <th>2</th>\n",
              "      <td>0.755792</td>\n",
              "      <td>Angels &amp;amp; Demons</td>\n",
              "    </tr>\n",
              "    <tr>\n",
              "      <th>3</th>\n",
              "      <td>0.595897</td>\n",
              "      <td>The Secret Life of Bees</td>\n",
              "    </tr>\n",
              "    <tr>\n",
              "      <th>4</th>\n",
              "      <td>0.498139</td>\n",
              "      <td>To Kill a Mockingbird</td>\n",
              "    </tr>\n",
              "    <tr>\n",
              "      <th>5</th>\n",
              "      <td>0.477628</td>\n",
              "      <td>She's Come Undone (Oprah's Book Club)</td>\n",
              "    </tr>\n",
              "    <tr>\n",
              "      <th>6</th>\n",
              "      <td>0.436021</td>\n",
              "      <td>Good in Bed</td>\n",
              "    </tr>\n",
              "    <tr>\n",
              "      <th>7</th>\n",
              "      <td>0.410804</td>\n",
              "      <td>Nights in Rodanthe</td>\n",
              "    </tr>\n",
              "    <tr>\n",
              "      <th>8</th>\n",
              "      <td>0.352148</td>\n",
              "      <td>A Prayer for Owen Meany</td>\n",
              "    </tr>\n",
              "    <tr>\n",
              "      <th>9</th>\n",
              "      <td>0.346246</td>\n",
              "      <td>Lucky : A Memoir</td>\n",
              "    </tr>\n",
              "  </tbody>\n",
              "</table>\n",
              "</div>"
            ],
            "text/plain": [
              "   recStrength                             Book-Title\n",
              "0     3.111252              The Lovely Bones: A Novel\n",
              "1     3.013387                      The Da Vinci Code\n",
              "2     0.755792                    Angels &amp; Demons\n",
              "3     0.595897                The Secret Life of Bees\n",
              "4     0.498139                  To Kill a Mockingbird\n",
              "5     0.477628  She's Come Undone (Oprah's Book Club)\n",
              "6     0.436021                            Good in Bed\n",
              "7     0.410804                     Nights in Rodanthe\n",
              "8     0.352148                A Prayer for Owen Meany\n",
              "9     0.346246                       Lucky : A Memoir"
            ]
          },
          "metadata": {},
          "execution_count": 99
        }
      ]
    },
    {
      "cell_type": "code",
      "metadata": {
        "colab": {
          "base_uri": "https://localhost:8080/",
          "height": 356
        },
        "id": "nbTND1uoY3Pw",
        "outputId": "a359f4e9-1796-43f9-adae-b3d652b87b8b"
      },
      "source": [
        "cf_recommender_model.recommend_items(254,verbose=True)"
      ],
      "execution_count": 100,
      "outputs": [
        {
          "output_type": "execute_result",
          "data": {
            "text/html": [
              "<div>\n",
              "<style scoped>\n",
              "    .dataframe tbody tr th:only-of-type {\n",
              "        vertical-align: middle;\n",
              "    }\n",
              "\n",
              "    .dataframe tbody tr th {\n",
              "        vertical-align: top;\n",
              "    }\n",
              "\n",
              "    .dataframe thead th {\n",
              "        text-align: right;\n",
              "    }\n",
              "</style>\n",
              "<table border=\"1\" class=\"dataframe\">\n",
              "  <thead>\n",
              "    <tr style=\"text-align: right;\">\n",
              "      <th></th>\n",
              "      <th>recStrength</th>\n",
              "      <th>Book-Title</th>\n",
              "    </tr>\n",
              "  </thead>\n",
              "  <tbody>\n",
              "    <tr>\n",
              "      <th>0</th>\n",
              "      <td>1.474946</td>\n",
              "      <td>Harry Potter and the Order of the Phoenix (Boo...</td>\n",
              "    </tr>\n",
              "    <tr>\n",
              "      <th>1</th>\n",
              "      <td>1.197490</td>\n",
              "      <td>Harry Potter and the Prisoner of Azkaban (Book 3)</td>\n",
              "    </tr>\n",
              "    <tr>\n",
              "      <th>2</th>\n",
              "      <td>0.930545</td>\n",
              "      <td>Harry Potter and the Goblet of Fire (Book 4)</td>\n",
              "    </tr>\n",
              "    <tr>\n",
              "      <th>3</th>\n",
              "      <td>0.883653</td>\n",
              "      <td>Harry Potter and the Sorcerer's Stone (Harry P...</td>\n",
              "    </tr>\n",
              "    <tr>\n",
              "      <th>4</th>\n",
              "      <td>0.858000</td>\n",
              "      <td>Harry Potter and the Sorcerer's Stone (Book 1)</td>\n",
              "    </tr>\n",
              "    <tr>\n",
              "      <th>5</th>\n",
              "      <td>0.582195</td>\n",
              "      <td>To Kill a Mockingbird</td>\n",
              "    </tr>\n",
              "    <tr>\n",
              "      <th>6</th>\n",
              "      <td>0.579301</td>\n",
              "      <td>Harry Potter and the Chamber of Secrets (Book 2)</td>\n",
              "    </tr>\n",
              "    <tr>\n",
              "      <th>7</th>\n",
              "      <td>0.550560</td>\n",
              "      <td>The Hobbit : The Enchanting Prelude to The Lor...</td>\n",
              "    </tr>\n",
              "    <tr>\n",
              "      <th>8</th>\n",
              "      <td>0.479548</td>\n",
              "      <td>The Return of the King (The Lord of the Rings,...</td>\n",
              "    </tr>\n",
              "    <tr>\n",
              "      <th>9</th>\n",
              "      <td>0.399541</td>\n",
              "      <td>The Fellowship of the Ring (The Lord of the Ri...</td>\n",
              "    </tr>\n",
              "  </tbody>\n",
              "</table>\n",
              "</div>"
            ],
            "text/plain": [
              "   recStrength                                         Book-Title\n",
              "0     1.474946  Harry Potter and the Order of the Phoenix (Boo...\n",
              "1     1.197490  Harry Potter and the Prisoner of Azkaban (Book 3)\n",
              "2     0.930545       Harry Potter and the Goblet of Fire (Book 4)\n",
              "3     0.883653  Harry Potter and the Sorcerer's Stone (Harry P...\n",
              "4     0.858000     Harry Potter and the Sorcerer's Stone (Book 1)\n",
              "5     0.582195                              To Kill a Mockingbird\n",
              "6     0.579301   Harry Potter and the Chamber of Secrets (Book 2)\n",
              "7     0.550560  The Hobbit : The Enchanting Prelude to The Lor...\n",
              "8     0.479548  The Return of the King (The Lord of the Rings,...\n",
              "9     0.399541  The Fellowship of the Ring (The Lord of the Ri..."
            ]
          },
          "metadata": {},
          "execution_count": 100
        }
      ]
    },
    {
      "cell_type": "markdown",
      "metadata": {
        "id": "avVUhXepRf7j"
      },
      "source": [
        "###Model Evaluation"
      ]
    },
    {
      "cell_type": "code",
      "metadata": {
        "id": "760GOpEZIh41"
      },
      "source": [
        "#Indexing by personId to speed up the searches during evaluation\n",
        "interactions_full_indexed_df = interactions_full_df.set_index('User-ID')\n",
        "interactions_train_indexed_df = interactions_train_df.set_index('User-ID')\n",
        "interactions_test_indexed_df = interactions_test_df.set_index('User-ID')"
      ],
      "execution_count": 101,
      "outputs": []
    },
    {
      "cell_type": "code",
      "metadata": {
        "id": "6Lt2dt9vmfpM"
      },
      "source": [
        ""
      ],
      "execution_count": 312,
      "outputs": []
    },
    {
      "cell_type": "code",
      "metadata": {
        "_cell_guid": "3ee4bdf5-fcde-418f-accc-c51421a71d75",
        "_uuid": "4c008550d5312b45c1786407cce587eaf19b565c",
        "id": "o3q2qRoEOlwM"
      },
      "source": [
        "def get_items_interacted(person_id, interactions_df):\n",
        "    interacted_items = interactions_df.loc[person_id]['ISBN']\n",
        "    return set(interacted_items if type(interacted_items) == pd.Series else [interacted_items])"
      ],
      "execution_count": 313,
      "outputs": []
    },
    {
      "cell_type": "code",
      "metadata": {
        "_cell_guid": "0e0639e7-4041-473d-a090-cd0087ce92c3",
        "_uuid": "c9612b159a8d626fe986586230b829ce2e93aff7",
        "id": "fNI6CqG9OlwM"
      },
      "source": [
        "#Top-N accuracy metrics consts\n",
        "EVAL_RANDOM_SAMPLE_NON_INTERACTED_ITEMS = 100\n",
        "\n",
        "class ModelEvaluator:\n",
        "\n",
        "    # Function for getting the set of items which a user has not interacted with\n",
        "    def get_not_interacted_items_sample(self, person_id, sample_size, seed=42):\n",
        "        interacted_items = get_items_interacted(person_id, interactions_full_indexed_df)\n",
        "        all_items = set(books_df['ISBN'])\n",
        "        non_interacted_items = all_items - interacted_items\n",
        "\n",
        "        random.seed(seed,version=2)\n",
        "        non_interacted_items_sample = random.sample(non_interacted_items, sample_size)\n",
        "        return set(non_interacted_items_sample)\n",
        "\n",
        "    # Function to verify whether a particular item_id was present in the set of top N recommended items\n",
        "    def _verify_hit_top_n(self, item_id, recommended_items, topn):        \n",
        "            try:\n",
        "                index = next(i for i, c in enumerate(recommended_items) if c == item_id)\n",
        "            except:\n",
        "                index = -1\n",
        "            hit = int(index in range(0, topn))\n",
        "            return hit, index\n",
        "    \n",
        "    # Function to evaluate the performance of model for each user\n",
        "    def evaluate_model_for_user(self, model, person_id):\n",
        "        \n",
        "        # Getting the items in test set\n",
        "        interacted_values_testset = interactions_test_indexed_df.loc[person_id]\n",
        "        \n",
        "        if type(interacted_values_testset['ISBN']) == pd.Series:\n",
        "            person_interacted_items_testset = set(interacted_values_testset['ISBN'])\n",
        "        else:\n",
        "            person_interacted_items_testset = set([(interacted_values_testset['ISBN'])])\n",
        "            \n",
        "        interacted_items_count_testset = len(person_interacted_items_testset) \n",
        "\n",
        "        # Getting a ranked recommendation list from the model for a given user\n",
        "        person_recs_df = model.recommend_items(person_id, items_to_ignore=get_items_interacted(person_id, interactions_train_indexed_df),topn=10000000000)\n",
        "\n",
        "        hits_at_5_count = 0\n",
        "        hits_at_10_count = 0\n",
        "        \n",
        "        # For each item the user has interacted in test set\n",
        "        for item_id in person_interacted_items_testset:\n",
        "            \n",
        "            # Getting a random sample of 100 items the user has not interacted with\n",
        "            non_interacted_items_sample = self.get_not_interacted_items_sample(person_id, sample_size=EVAL_RANDOM_SAMPLE_NON_INTERACTED_ITEMS, seed=person_id%(2**32))\n",
        "\n",
        "            # Combining the current interacted item with the 100 random items\n",
        "            items_to_filter_recs = non_interacted_items_sample.union(set([item_id]))\n",
        "\n",
        "            # Filtering only recommendations that are either the interacted item or from a random sample of 100 non-interacted items\n",
        "            valid_recs_df = person_recs_df[person_recs_df['ISBN'].isin(items_to_filter_recs)]                    \n",
        "            valid_recs = valid_recs_df['ISBN'].values\n",
        "            \n",
        "            # Verifying if the current interacted item is among the Top-N recommended items\n",
        "            hit_at_5, index_at_5 = self._verify_hit_top_n(item_id, valid_recs, 5)\n",
        "            hits_at_5_count += hit_at_5\n",
        "            hit_at_10, index_at_10 = self._verify_hit_top_n(item_id, valid_recs, 10)\n",
        "            hits_at_10_count += hit_at_10\n",
        "\n",
        "        # Recall is the rate of the interacted items that are ranked among the Top-N recommended items\n",
        "        recall_at_5 = hits_at_5_count / float(interacted_items_count_testset)\n",
        "        recall_at_10 = hits_at_10_count / float(interacted_items_count_testset)\n",
        "\n",
        "        person_metrics = {'hits@5_count':hits_at_5_count, \n",
        "                          'hits@10_count':hits_at_10_count, \n",
        "                          'interacted_count': interacted_items_count_testset,\n",
        "                          'recall@5': recall_at_5,\n",
        "                          'recall@10': recall_at_10}\n",
        "        return person_metrics\n",
        "\n",
        "    \n",
        "    # Function to evaluate the performance of model at overall level\n",
        "    def evaluate_model(self, model):\n",
        "        \n",
        "        people_metrics = []\n",
        "        \n",
        "        for idx, person_id in enumerate(list(interactions_test_indexed_df.index.unique().values)):    \n",
        "            person_metrics = self.evaluate_model_for_user(model, person_id)  \n",
        "            person_metrics['_person_id'] = person_id\n",
        "            people_metrics.append(person_metrics)\n",
        "            \n",
        "        print('%d users processed' % idx)\n",
        "\n",
        "        detailed_results_df = pd.DataFrame(people_metrics).sort_values('interacted_count', ascending=False)\n",
        "        \n",
        "        global_recall_at_5 = detailed_results_df['hits@5_count'].sum() / float(detailed_results_df['interacted_count'].sum())\n",
        "        global_recall_at_10 = detailed_results_df['hits@10_count'].sum() / float(detailed_results_df['interacted_count'].sum())\n",
        "        \n",
        "        global_metrics = {'modelName': model.get_model_name(),\n",
        "                          'recall@5': global_recall_at_5,\n",
        "                          'recall@10': global_recall_at_10}    \n",
        "        return global_metrics, detailed_results_df\n",
        "    \n",
        "model_evaluator = ModelEvaluator()    "
      ],
      "execution_count": 314,
      "outputs": []
    },
    {
      "cell_type": "code",
      "metadata": {
        "_cell_guid": "f4a2af7e-d368-432d-9ec5-d9229caf208a",
        "_uuid": "d80d307ff6b740b134ac2186f2659d468d3c2655",
        "scrolled": true,
        "id": "GZTQjpEGOlwN",
        "colab": {
          "base_uri": "https://localhost:8080/",
          "height": 440
        },
        "outputId": "ca365e7b-ae26-4069-8053-7d255f5925e4"
      },
      "source": [
        "print('Evaluating Collaborative Filtering (SVD Matrix Factorization) model...')\n",
        "cf_global_metrics, cf_detailed_results_df = model_evaluator.evaluate_model(cf_recommender_model)\n",
        "\n",
        "print('\\nGlobal metrics:\\n%s' % cf_global_metrics)\n",
        "cf_detailed_results_df.head(10)"
      ],
      "execution_count": 315,
      "outputs": [
        {
          "output_type": "stream",
          "name": "stdout",
          "text": [
            "Evaluating Collaborative Filtering (SVD Matrix Factorization) model...\n",
            "1241 users processed\n",
            "\n",
            "Global metrics:\n",
            "{'modelName': 'Collaborative Filtering', 'recall@5': 0.9992954025013211, 'recall@10': 0.9992954025013211}\n"
          ]
        },
        {
          "output_type": "execute_result",
          "data": {
            "text/html": [
              "<div>\n",
              "<style scoped>\n",
              "    .dataframe tbody tr th:only-of-type {\n",
              "        vertical-align: middle;\n",
              "    }\n",
              "\n",
              "    .dataframe tbody tr th {\n",
              "        vertical-align: top;\n",
              "    }\n",
              "\n",
              "    .dataframe thead th {\n",
              "        text-align: right;\n",
              "    }\n",
              "</style>\n",
              "<table border=\"1\" class=\"dataframe\">\n",
              "  <thead>\n",
              "    <tr style=\"text-align: right;\">\n",
              "      <th></th>\n",
              "      <th>hits@5_count</th>\n",
              "      <th>hits@10_count</th>\n",
              "      <th>interacted_count</th>\n",
              "      <th>recall@5</th>\n",
              "      <th>recall@10</th>\n",
              "      <th>_person_id</th>\n",
              "    </tr>\n",
              "  </thead>\n",
              "  <tbody>\n",
              "    <tr>\n",
              "      <th>59</th>\n",
              "      <td>159</td>\n",
              "      <td>159</td>\n",
              "      <td>161</td>\n",
              "      <td>0.987578</td>\n",
              "      <td>0.987578</td>\n",
              "      <td>11676</td>\n",
              "    </tr>\n",
              "    <tr>\n",
              "      <th>529</th>\n",
              "      <td>36</td>\n",
              "      <td>36</td>\n",
              "      <td>36</td>\n",
              "      <td>1.000000</td>\n",
              "      <td>1.000000</td>\n",
              "      <td>16795</td>\n",
              "    </tr>\n",
              "    <tr>\n",
              "      <th>46</th>\n",
              "      <td>34</td>\n",
              "      <td>34</td>\n",
              "      <td>34</td>\n",
              "      <td>1.000000</td>\n",
              "      <td>1.000000</td>\n",
              "      <td>95359</td>\n",
              "    </tr>\n",
              "    <tr>\n",
              "      <th>210</th>\n",
              "      <td>28</td>\n",
              "      <td>28</td>\n",
              "      <td>28</td>\n",
              "      <td>1.000000</td>\n",
              "      <td>1.000000</td>\n",
              "      <td>104636</td>\n",
              "    </tr>\n",
              "    <tr>\n",
              "      <th>52</th>\n",
              "      <td>24</td>\n",
              "      <td>24</td>\n",
              "      <td>24</td>\n",
              "      <td>1.000000</td>\n",
              "      <td>1.000000</td>\n",
              "      <td>60244</td>\n",
              "    </tr>\n",
              "    <tr>\n",
              "      <th>252</th>\n",
              "      <td>23</td>\n",
              "      <td>23</td>\n",
              "      <td>23</td>\n",
              "      <td>1.000000</td>\n",
              "      <td>1.000000</td>\n",
              "      <td>153662</td>\n",
              "    </tr>\n",
              "    <tr>\n",
              "      <th>261</th>\n",
              "      <td>21</td>\n",
              "      <td>21</td>\n",
              "      <td>21</td>\n",
              "      <td>1.000000</td>\n",
              "      <td>1.000000</td>\n",
              "      <td>114368</td>\n",
              "    </tr>\n",
              "    <tr>\n",
              "      <th>112</th>\n",
              "      <td>20</td>\n",
              "      <td>20</td>\n",
              "      <td>20</td>\n",
              "      <td>1.000000</td>\n",
              "      <td>1.000000</td>\n",
              "      <td>158295</td>\n",
              "    </tr>\n",
              "    <tr>\n",
              "      <th>449</th>\n",
              "      <td>19</td>\n",
              "      <td>19</td>\n",
              "      <td>19</td>\n",
              "      <td>1.000000</td>\n",
              "      <td>1.000000</td>\n",
              "      <td>35859</td>\n",
              "    </tr>\n",
              "    <tr>\n",
              "      <th>227</th>\n",
              "      <td>19</td>\n",
              "      <td>19</td>\n",
              "      <td>19</td>\n",
              "      <td>1.000000</td>\n",
              "      <td>1.000000</td>\n",
              "      <td>204864</td>\n",
              "    </tr>\n",
              "  </tbody>\n",
              "</table>\n",
              "</div>"
            ],
            "text/plain": [
              "     hits@5_count  hits@10_count  ...  recall@10  _person_id\n",
              "59            159            159  ...   0.987578       11676\n",
              "529            36             36  ...   1.000000       16795\n",
              "46             34             34  ...   1.000000       95359\n",
              "210            28             28  ...   1.000000      104636\n",
              "52             24             24  ...   1.000000       60244\n",
              "252            23             23  ...   1.000000      153662\n",
              "261            21             21  ...   1.000000      114368\n",
              "112            20             20  ...   1.000000      158295\n",
              "449            19             19  ...   1.000000       35859\n",
              "227            19             19  ...   1.000000      204864\n",
              "\n",
              "[10 rows x 6 columns]"
            ]
          },
          "metadata": {},
          "execution_count": 315
        }
      ]
    },
    {
      "cell_type": "markdown",
      "metadata": {
        "id": "_9mZx4rMtMpn"
      },
      "source": [
        "##<b>Recommendations for implicit case ( Ratings=0)</b>"
      ]
    },
    {
      "cell_type": "markdown",
      "metadata": {
        "id": "H58PpDGSMF2P"
      },
      "source": [
        "#### 1. Implicit ratings are those ratings in our dataset wherein the users have not directly expressed their ratings for purchased books.\n",
        "\n",
        "#### 2. In that case we can not know the exact preferences of a user regarding these books.\n",
        "\n",
        "#### 3. For such users we have decided to build a recommendation system using the criteria of Age as relevance for the recommendations."
      ]
    },
    {
      "cell_type": "code",
      "metadata": {
        "colab": {
          "base_uri": "https://localhost:8080/"
        },
        "id": "m0S0ahM2tMS8",
        "outputId": "474b9720-5102-471a-914d-c0eccfac3c16"
      },
      "source": [
        "# Dataframe of users\n",
        "user_df.shape"
      ],
      "execution_count": 102,
      "outputs": [
        {
          "output_type": "execute_result",
          "data": {
            "text/plain": [
              "(278858, 4)"
            ]
          },
          "metadata": {},
          "execution_count": 102
        }
      ]
    },
    {
      "cell_type": "code",
      "metadata": {
        "colab": {
          "base_uri": "https://localhost:8080/"
        },
        "id": "DSv5BnB2m5ER",
        "outputId": "6853c3cb-946f-4159-f9b7-c26278237f85"
      },
      "source": [
        "# Dataframe of ratings\n",
        "ratings_df.shape"
      ],
      "execution_count": 103,
      "outputs": [
        {
          "output_type": "execute_result",
          "data": {
            "text/plain": [
              "(1149780, 3)"
            ]
          },
          "metadata": {},
          "execution_count": 103
        }
      ]
    },
    {
      "cell_type": "code",
      "metadata": {
        "colab": {
          "base_uri": "https://localhost:8080/"
        },
        "id": "xbPEmjV9s-8J",
        "outputId": "7338575d-30c0-4abd-c222-51d8a2be317b"
      },
      "source": [
        "# new_books_df is a books dataframe without duplications\n",
        "books_df.shape,new_book_df.shape"
      ],
      "execution_count": 104,
      "outputs": [
        {
          "output_type": "execute_result",
          "data": {
            "text/plain": [
              "((271360, 6), (251185, 2))"
            ]
          },
          "metadata": {},
          "execution_count": 104
        }
      ]
    },
    {
      "cell_type": "code",
      "metadata": {
        "id": "xqB3Tq2hs-y-"
      },
      "source": [
        "# Merge all the three dataframes to get a single \n",
        "data = pd.merge(user_df,ratings_df,on='User-ID')"
      ],
      "execution_count": 105,
      "outputs": []
    },
    {
      "cell_type": "code",
      "metadata": {
        "id": "KtF5AI6TuaLB"
      },
      "source": [
        "data = pd.merge(data,new_book_df,on='ISBN')"
      ],
      "execution_count": 106,
      "outputs": []
    },
    {
      "cell_type": "code",
      "metadata": {
        "colab": {
          "base_uri": "https://localhost:8080/",
          "height": 202
        },
        "id": "TBGd0qRsuq7m",
        "outputId": "55c0e162-268a-4a9d-d956-c668a414bd49"
      },
      "source": [
        "data.head()"
      ],
      "execution_count": 107,
      "outputs": [
        {
          "output_type": "execute_result",
          "data": {
            "text/html": [
              "<div>\n",
              "<style scoped>\n",
              "    .dataframe tbody tr th:only-of-type {\n",
              "        vertical-align: middle;\n",
              "    }\n",
              "\n",
              "    .dataframe tbody tr th {\n",
              "        vertical-align: top;\n",
              "    }\n",
              "\n",
              "    .dataframe thead th {\n",
              "        text-align: right;\n",
              "    }\n",
              "</style>\n",
              "<table border=\"1\" class=\"dataframe\">\n",
              "  <thead>\n",
              "    <tr style=\"text-align: right;\">\n",
              "      <th></th>\n",
              "      <th>User-ID</th>\n",
              "      <th>Location</th>\n",
              "      <th>Age</th>\n",
              "      <th>age_bins</th>\n",
              "      <th>ISBN</th>\n",
              "      <th>Book-Rating</th>\n",
              "      <th>Title</th>\n",
              "    </tr>\n",
              "  </thead>\n",
              "  <tbody>\n",
              "    <tr>\n",
              "      <th>0</th>\n",
              "      <td>2</td>\n",
              "      <td>stockton, california, usa</td>\n",
              "      <td>18</td>\n",
              "      <td>Teenager</td>\n",
              "      <td>0195153448</td>\n",
              "      <td>0</td>\n",
              "      <td>Classical Mythology by Mark P. O. Morford</td>\n",
              "    </tr>\n",
              "    <tr>\n",
              "      <th>1</th>\n",
              "      <td>8</td>\n",
              "      <td>timmins, ontario, canada</td>\n",
              "      <td>42</td>\n",
              "      <td>Adult</td>\n",
              "      <td>0002005018</td>\n",
              "      <td>5</td>\n",
              "      <td>Clara Callan by Richard Bruce Wright</td>\n",
              "    </tr>\n",
              "    <tr>\n",
              "      <th>2</th>\n",
              "      <td>11400</td>\n",
              "      <td>ottawa, ontario, canada</td>\n",
              "      <td>49</td>\n",
              "      <td>Adult</td>\n",
              "      <td>0002005018</td>\n",
              "      <td>0</td>\n",
              "      <td>Clara Callan by Richard Bruce Wright</td>\n",
              "    </tr>\n",
              "    <tr>\n",
              "      <th>3</th>\n",
              "      <td>11676</td>\n",
              "      <td>n/a, n/a, n/a</td>\n",
              "      <td>24</td>\n",
              "      <td>Adult</td>\n",
              "      <td>0002005018</td>\n",
              "      <td>8</td>\n",
              "      <td>Clara Callan by Richard Bruce Wright</td>\n",
              "    </tr>\n",
              "    <tr>\n",
              "      <th>4</th>\n",
              "      <td>41385</td>\n",
              "      <td>sudbury, ontario, canada</td>\n",
              "      <td>19</td>\n",
              "      <td>Teenager</td>\n",
              "      <td>0002005018</td>\n",
              "      <td>0</td>\n",
              "      <td>Clara Callan by Richard Bruce Wright</td>\n",
              "    </tr>\n",
              "  </tbody>\n",
              "</table>\n",
              "</div>"
            ],
            "text/plain": [
              "   User-ID  ...                                      Title\n",
              "0        2  ...  Classical Mythology by Mark P. O. Morford\n",
              "1        8  ...       Clara Callan by Richard Bruce Wright\n",
              "2    11400  ...       Clara Callan by Richard Bruce Wright\n",
              "3    11676  ...       Clara Callan by Richard Bruce Wright\n",
              "4    41385  ...       Clara Callan by Richard Bruce Wright\n",
              "\n",
              "[5 rows x 7 columns]"
            ]
          },
          "metadata": {},
          "execution_count": 107
        }
      ]
    },
    {
      "cell_type": "code",
      "metadata": {
        "id": "64a7orTRvNJX"
      },
      "source": [
        "# We are not using Location column\n",
        "data.drop(['Location'],inplace=True,axis=1)"
      ],
      "execution_count": 108,
      "outputs": []
    },
    {
      "cell_type": "code",
      "metadata": {
        "colab": {
          "base_uri": "https://localhost:8080/"
        },
        "id": "hBAwdlSGv6ac",
        "outputId": "481fdb2d-41b3-4ed1-e3dd-dc8f85d9e937"
      },
      "source": [
        "data.shape"
      ],
      "execution_count": 109,
      "outputs": [
        {
          "output_type": "execute_result",
          "data": {
            "text/plain": [
              "(916933, 6)"
            ]
          },
          "metadata": {},
          "execution_count": 109
        }
      ]
    },
    {
      "cell_type": "code",
      "metadata": {
        "colab": {
          "base_uri": "https://localhost:8080/"
        },
        "id": "Sj4ilfO0wJvZ",
        "outputId": "35060936-1d02-4806-f917-50dec9e7b068"
      },
      "source": [
        "# Filter out the explicitly rated books\n",
        "implicit_ratings_df = data[data['Book-Rating']==0]\n",
        "implicit_ratings_df.shape"
      ],
      "execution_count": 110,
      "outputs": [
        {
          "output_type": "execute_result",
          "data": {
            "text/plain": [
              "(576893, 6)"
            ]
          },
          "metadata": {},
          "execution_count": 110
        }
      ]
    },
    {
      "cell_type": "code",
      "metadata": {
        "colab": {
          "base_uri": "https://localhost:8080/"
        },
        "id": "SnVbIIbS08Xf",
        "outputId": "dc3c30a9-aa43-4a62-a39e-93e21d054f60"
      },
      "source": [
        "# Check its shape\n",
        "implicit_ratings_df.shape"
      ],
      "execution_count": 111,
      "outputs": [
        {
          "output_type": "execute_result",
          "data": {
            "text/plain": [
              "(576893, 6)"
            ]
          },
          "metadata": {},
          "execution_count": 111
        }
      ]
    },
    {
      "cell_type": "code",
      "metadata": {
        "colab": {
          "base_uri": "https://localhost:8080/",
          "height": 202
        },
        "id": "IscZzA6ixQii",
        "outputId": "b032d932-e794-41f9-f09b-8ab24e9eec21"
      },
      "source": [
        "# Create an interactions dataframe \n",
        "implicit_ratings_interactions_df = implicit_ratings_df[['User-ID','ISBN','Age']]\n",
        "implicit_ratings_interactions_df.head()"
      ],
      "execution_count": 112,
      "outputs": [
        {
          "output_type": "execute_result",
          "data": {
            "text/html": [
              "<div>\n",
              "<style scoped>\n",
              "    .dataframe tbody tr th:only-of-type {\n",
              "        vertical-align: middle;\n",
              "    }\n",
              "\n",
              "    .dataframe tbody tr th {\n",
              "        vertical-align: top;\n",
              "    }\n",
              "\n",
              "    .dataframe thead th {\n",
              "        text-align: right;\n",
              "    }\n",
              "</style>\n",
              "<table border=\"1\" class=\"dataframe\">\n",
              "  <thead>\n",
              "    <tr style=\"text-align: right;\">\n",
              "      <th></th>\n",
              "      <th>User-ID</th>\n",
              "      <th>ISBN</th>\n",
              "      <th>Age</th>\n",
              "    </tr>\n",
              "  </thead>\n",
              "  <tbody>\n",
              "    <tr>\n",
              "      <th>0</th>\n",
              "      <td>2</td>\n",
              "      <td>0195153448</td>\n",
              "      <td>18</td>\n",
              "    </tr>\n",
              "    <tr>\n",
              "      <th>2</th>\n",
              "      <td>11400</td>\n",
              "      <td>0002005018</td>\n",
              "      <td>49</td>\n",
              "    </tr>\n",
              "    <tr>\n",
              "      <th>4</th>\n",
              "      <td>41385</td>\n",
              "      <td>0002005018</td>\n",
              "      <td>19</td>\n",
              "    </tr>\n",
              "    <tr>\n",
              "      <th>6</th>\n",
              "      <td>85526</td>\n",
              "      <td>0002005018</td>\n",
              "      <td>36</td>\n",
              "    </tr>\n",
              "    <tr>\n",
              "      <th>7</th>\n",
              "      <td>96054</td>\n",
              "      <td>0002005018</td>\n",
              "      <td>29</td>\n",
              "    </tr>\n",
              "  </tbody>\n",
              "</table>\n",
              "</div>"
            ],
            "text/plain": [
              "   User-ID        ISBN  Age\n",
              "0        2  0195153448   18\n",
              "2    11400  0002005018   49\n",
              "4    41385  0002005018   19\n",
              "6    85526  0002005018   36\n",
              "7    96054  0002005018   29"
            ]
          },
          "metadata": {},
          "execution_count": 112
        }
      ]
    },
    {
      "cell_type": "code",
      "metadata": {
        "colab": {
          "base_uri": "https://localhost:8080/"
        },
        "id": "GmezALw6cKoD",
        "outputId": "f242be64-0997-4966-9d1c-bdf6412e2f6a"
      },
      "source": [
        "p(implicit_ratings_interactions_df.shape)"
      ],
      "execution_count": 113,
      "outputs": [
        {
          "output_type": "stream",
          "name": "stdout",
          "text": [
            "(576893, 3)\n"
          ]
        }
      ]
    },
    {
      "cell_type": "code",
      "metadata": {
        "colab": {
          "base_uri": "https://localhost:8080/"
        },
        "id": "fU1e3xaZcKkg",
        "outputId": "44a8f6f9-3f72-438d-b502-0abe472283fd"
      },
      "source": [
        "# Filter out books rated less than 50 times\n",
        "y = implicit_ratings_interactions_df['ISBN'].value_counts()>50\n",
        "y[y].sum()"
      ],
      "execution_count": 114,
      "outputs": [
        {
          "output_type": "execute_result",
          "data": {
            "text/plain": [
              "875"
            ]
          },
          "metadata": {},
          "execution_count": 114
        }
      ]
    },
    {
      "cell_type": "code",
      "metadata": {
        "id": "jfELjjuGcTMU"
      },
      "source": [
        "# Index of books rated more than 50 times\n",
        "index_books= y[y].index"
      ],
      "execution_count": 115,
      "outputs": []
    },
    {
      "cell_type": "code",
      "metadata": {
        "colab": {
          "base_uri": "https://localhost:8080/"
        },
        "id": "ljSdAQbNcT79",
        "outputId": "6928dd74-ea2a-4cd3-e3a2-e4f47d89848a"
      },
      "source": [
        "# Select books rated more than 50 times\n",
        "select_implicit_df = implicit_ratings_interactions_df[implicit_ratings_interactions_df['ISBN'].isin(index_books)]\n",
        "select_implicit_df.shape"
      ],
      "execution_count": 116,
      "outputs": [
        {
          "output_type": "execute_result",
          "data": {
            "text/plain": [
              "(83206, 3)"
            ]
          },
          "metadata": {},
          "execution_count": 116
        }
      ]
    },
    {
      "cell_type": "code",
      "metadata": {
        "colab": {
          "base_uri": "https://localhost:8080/"
        },
        "id": "bYJ6TAP31aCb",
        "outputId": "ab08c54e-13b7-492c-f9f5-5af3cd7d0186"
      },
      "source": [
        "# Filter out users who have given less than 10 ratings\n",
        "x = select_implicit_df['User-ID'].value_counts()>50\n",
        "x[x].sum()"
      ],
      "execution_count": 117,
      "outputs": [
        {
          "output_type": "execute_result",
          "data": {
            "text/plain": [
              "267"
            ]
          },
          "metadata": {},
          "execution_count": 117
        }
      ]
    },
    {
      "cell_type": "code",
      "metadata": {
        "id": "U4zl1wOv1Z_B"
      },
      "source": [
        "# Index of selected users\n",
        "index_users = x[x].index"
      ],
      "execution_count": 118,
      "outputs": []
    },
    {
      "cell_type": "code",
      "metadata": {
        "colab": {
          "base_uri": "https://localhost:8080/"
        },
        "id": "7091dGD11Z8i",
        "outputId": "37a792ce-d314-46f6-b88a-d28201933ddc"
      },
      "source": [
        "# Selected users \n",
        "select_implicit_df = select_implicit_df[select_implicit_df['User-ID'].isin(index_users)]\n",
        "select_implicit_df.shape"
      ],
      "execution_count": 119,
      "outputs": [
        {
          "output_type": "execute_result",
          "data": {
            "text/plain": [
              "(26189, 3)"
            ]
          },
          "metadata": {},
          "execution_count": 119
        }
      ]
    },
    {
      "cell_type": "code",
      "metadata": {
        "colab": {
          "base_uri": "https://localhost:8080/",
          "height": 202
        },
        "id": "wc5QKsIh1ZYB",
        "outputId": "60b257fa-af03-41e0-dbb9-3baa3cf8f947"
      },
      "source": [
        "select_implicit_df.head()"
      ],
      "execution_count": 120,
      "outputs": [
        {
          "output_type": "execute_result",
          "data": {
            "text/html": [
              "<div>\n",
              "<style scoped>\n",
              "    .dataframe tbody tr th:only-of-type {\n",
              "        vertical-align: middle;\n",
              "    }\n",
              "\n",
              "    .dataframe tbody tr th {\n",
              "        vertical-align: top;\n",
              "    }\n",
              "\n",
              "    .dataframe thead th {\n",
              "        text-align: right;\n",
              "    }\n",
              "</style>\n",
              "<table border=\"1\" class=\"dataframe\">\n",
              "  <thead>\n",
              "    <tr style=\"text-align: right;\">\n",
              "      <th></th>\n",
              "      <th>User-ID</th>\n",
              "      <th>ISBN</th>\n",
              "      <th>Age</th>\n",
              "    </tr>\n",
              "  </thead>\n",
              "  <tbody>\n",
              "    <tr>\n",
              "      <th>103</th>\n",
              "      <td>3363</td>\n",
              "      <td>0440234743</td>\n",
              "      <td>29</td>\n",
              "    </tr>\n",
              "    <tr>\n",
              "      <th>117</th>\n",
              "      <td>14521</td>\n",
              "      <td>0440234743</td>\n",
              "      <td>31</td>\n",
              "    </tr>\n",
              "    <tr>\n",
              "      <th>119</th>\n",
              "      <td>16795</td>\n",
              "      <td>0440234743</td>\n",
              "      <td>47</td>\n",
              "    </tr>\n",
              "    <tr>\n",
              "      <th>129</th>\n",
              "      <td>23768</td>\n",
              "      <td>0440234743</td>\n",
              "      <td>45</td>\n",
              "    </tr>\n",
              "    <tr>\n",
              "      <th>131</th>\n",
              "      <td>26544</td>\n",
              "      <td>0440234743</td>\n",
              "      <td>37</td>\n",
              "    </tr>\n",
              "  </tbody>\n",
              "</table>\n",
              "</div>"
            ],
            "text/plain": [
              "     User-ID        ISBN  Age\n",
              "103     3363  0440234743   29\n",
              "117    14521  0440234743   31\n",
              "119    16795  0440234743   47\n",
              "129    23768  0440234743   45\n",
              "131    26544  0440234743   37"
            ]
          },
          "metadata": {},
          "execution_count": 120
        }
      ]
    },
    {
      "cell_type": "code",
      "metadata": {
        "colab": {
          "base_uri": "https://localhost:8080/",
          "height": 282
        },
        "id": "wmplXBFbyxMG",
        "outputId": "61bb5bf5-34b0-4ea8-ef62-93b6ec75217d"
      },
      "source": [
        "#Creating a sparse pivot table with users in rows and items in columns and age as values\n",
        "users_ages_pivot_matrix_df = select_implicit_df.pivot(index='User-ID', \n",
        "                                                          columns='ISBN', \n",
        "                                                          values='Age').fillna(0)\n",
        "# Transpose to get user_ids as columns\n",
        "pivot_df = users_ages_pivot_matrix_df.transpose()\n",
        "pivot_df.head()"
      ],
      "execution_count": 121,
      "outputs": [
        {
          "output_type": "execute_result",
          "data": {
            "text/html": [
              "<div>\n",
              "<style scoped>\n",
              "    .dataframe tbody tr th:only-of-type {\n",
              "        vertical-align: middle;\n",
              "    }\n",
              "\n",
              "    .dataframe tbody tr th {\n",
              "        vertical-align: top;\n",
              "    }\n",
              "\n",
              "    .dataframe thead th {\n",
              "        text-align: right;\n",
              "    }\n",
              "</style>\n",
              "<table border=\"1\" class=\"dataframe\">\n",
              "  <thead>\n",
              "    <tr style=\"text-align: right;\">\n",
              "      <th>User-ID</th>\n",
              "      <th>3363</th>\n",
              "      <th>6251</th>\n",
              "      <th>6575</th>\n",
              "      <th>7158</th>\n",
              "      <th>7346</th>\n",
              "      <th>11601</th>\n",
              "      <th>11676</th>\n",
              "      <th>12538</th>\n",
              "      <th>13273</th>\n",
              "      <th>13552</th>\n",
              "      <th>14422</th>\n",
              "      <th>14521</th>\n",
              "      <th>15408</th>\n",
              "      <th>16634</th>\n",
              "      <th>16795</th>\n",
              "      <th>17950</th>\n",
              "      <th>21014</th>\n",
              "      <th>23768</th>\n",
              "      <th>24921</th>\n",
              "      <th>26544</th>\n",
              "      <th>28204</th>\n",
              "      <th>29259</th>\n",
              "      <th>30533</th>\n",
              "      <th>30972</th>\n",
              "      <th>31315</th>\n",
              "      <th>31556</th>\n",
              "      <th>32195</th>\n",
              "      <th>32773</th>\n",
              "      <th>33974</th>\n",
              "      <th>35050</th>\n",
              "      <th>35857</th>\n",
              "      <th>35859</th>\n",
              "      <th>36606</th>\n",
              "      <th>36836</th>\n",
              "      <th>37950</th>\n",
              "      <th>38023</th>\n",
              "      <th>39281</th>\n",
              "      <th>39616</th>\n",
              "      <th>39646</th>\n",
              "      <th>40889</th>\n",
              "      <th>...</th>\n",
              "      <th>238526</th>\n",
              "      <th>238781</th>\n",
              "      <th>242824</th>\n",
              "      <th>244736</th>\n",
              "      <th>245827</th>\n",
              "      <th>245963</th>\n",
              "      <th>246655</th>\n",
              "      <th>247447</th>\n",
              "      <th>247752</th>\n",
              "      <th>250184</th>\n",
              "      <th>251422</th>\n",
              "      <th>251613</th>\n",
              "      <th>252071</th>\n",
              "      <th>252695</th>\n",
              "      <th>254465</th>\n",
              "      <th>254971</th>\n",
              "      <th>255489</th>\n",
              "      <th>256167</th>\n",
              "      <th>256407</th>\n",
              "      <th>258534</th>\n",
              "      <th>260897</th>\n",
              "      <th>261829</th>\n",
              "      <th>262399</th>\n",
              "      <th>263877</th>\n",
              "      <th>264317</th>\n",
              "      <th>265115</th>\n",
              "      <th>265313</th>\n",
              "      <th>266056</th>\n",
              "      <th>266226</th>\n",
              "      <th>266865</th>\n",
              "      <th>268032</th>\n",
              "      <th>268330</th>\n",
              "      <th>269566</th>\n",
              "      <th>269719</th>\n",
              "      <th>271284</th>\n",
              "      <th>273979</th>\n",
              "      <th>274308</th>\n",
              "      <th>275970</th>\n",
              "      <th>277427</th>\n",
              "      <th>278418</th>\n",
              "    </tr>\n",
              "    <tr>\n",
              "      <th>ISBN</th>\n",
              "      <th></th>\n",
              "      <th></th>\n",
              "      <th></th>\n",
              "      <th></th>\n",
              "      <th></th>\n",
              "      <th></th>\n",
              "      <th></th>\n",
              "      <th></th>\n",
              "      <th></th>\n",
              "      <th></th>\n",
              "      <th></th>\n",
              "      <th></th>\n",
              "      <th></th>\n",
              "      <th></th>\n",
              "      <th></th>\n",
              "      <th></th>\n",
              "      <th></th>\n",
              "      <th></th>\n",
              "      <th></th>\n",
              "      <th></th>\n",
              "      <th></th>\n",
              "      <th></th>\n",
              "      <th></th>\n",
              "      <th></th>\n",
              "      <th></th>\n",
              "      <th></th>\n",
              "      <th></th>\n",
              "      <th></th>\n",
              "      <th></th>\n",
              "      <th></th>\n",
              "      <th></th>\n",
              "      <th></th>\n",
              "      <th></th>\n",
              "      <th></th>\n",
              "      <th></th>\n",
              "      <th></th>\n",
              "      <th></th>\n",
              "      <th></th>\n",
              "      <th></th>\n",
              "      <th></th>\n",
              "      <th></th>\n",
              "      <th></th>\n",
              "      <th></th>\n",
              "      <th></th>\n",
              "      <th></th>\n",
              "      <th></th>\n",
              "      <th></th>\n",
              "      <th></th>\n",
              "      <th></th>\n",
              "      <th></th>\n",
              "      <th></th>\n",
              "      <th></th>\n",
              "      <th></th>\n",
              "      <th></th>\n",
              "      <th></th>\n",
              "      <th></th>\n",
              "      <th></th>\n",
              "      <th></th>\n",
              "      <th></th>\n",
              "      <th></th>\n",
              "      <th></th>\n",
              "      <th></th>\n",
              "      <th></th>\n",
              "      <th></th>\n",
              "      <th></th>\n",
              "      <th></th>\n",
              "      <th></th>\n",
              "      <th></th>\n",
              "      <th></th>\n",
              "      <th></th>\n",
              "      <th></th>\n",
              "      <th></th>\n",
              "      <th></th>\n",
              "      <th></th>\n",
              "      <th></th>\n",
              "      <th></th>\n",
              "      <th></th>\n",
              "      <th></th>\n",
              "      <th></th>\n",
              "      <th></th>\n",
              "      <th></th>\n",
              "    </tr>\n",
              "  </thead>\n",
              "  <tbody>\n",
              "    <tr>\n",
              "      <th>002026478X</th>\n",
              "      <td>0.0</td>\n",
              "      <td>0.0</td>\n",
              "      <td>0.0</td>\n",
              "      <td>0.0</td>\n",
              "      <td>0.0</td>\n",
              "      <td>0.0</td>\n",
              "      <td>0.0</td>\n",
              "      <td>0.0</td>\n",
              "      <td>0.0</td>\n",
              "      <td>0.0</td>\n",
              "      <td>0.0</td>\n",
              "      <td>0.0</td>\n",
              "      <td>0.0</td>\n",
              "      <td>0.0</td>\n",
              "      <td>0.0</td>\n",
              "      <td>0.0</td>\n",
              "      <td>0.0</td>\n",
              "      <td>0.0</td>\n",
              "      <td>0.0</td>\n",
              "      <td>0.0</td>\n",
              "      <td>0.0</td>\n",
              "      <td>0.0</td>\n",
              "      <td>0.0</td>\n",
              "      <td>0.0</td>\n",
              "      <td>0.0</td>\n",
              "      <td>0.0</td>\n",
              "      <td>0.0</td>\n",
              "      <td>0.0</td>\n",
              "      <td>0.0</td>\n",
              "      <td>0.0</td>\n",
              "      <td>36.0</td>\n",
              "      <td>20.0</td>\n",
              "      <td>39.0</td>\n",
              "      <td>56.0</td>\n",
              "      <td>0.0</td>\n",
              "      <td>0.0</td>\n",
              "      <td>0.0</td>\n",
              "      <td>0.0</td>\n",
              "      <td>0.0</td>\n",
              "      <td>0.0</td>\n",
              "      <td>...</td>\n",
              "      <td>0.0</td>\n",
              "      <td>0.0</td>\n",
              "      <td>21.0</td>\n",
              "      <td>0.0</td>\n",
              "      <td>33.0</td>\n",
              "      <td>34.0</td>\n",
              "      <td>0.0</td>\n",
              "      <td>0.0</td>\n",
              "      <td>0.0</td>\n",
              "      <td>0.0</td>\n",
              "      <td>0.0</td>\n",
              "      <td>0.0</td>\n",
              "      <td>0.0</td>\n",
              "      <td>20.0</td>\n",
              "      <td>0.0</td>\n",
              "      <td>0.0</td>\n",
              "      <td>0.0</td>\n",
              "      <td>0.0</td>\n",
              "      <td>0.0</td>\n",
              "      <td>0.0</td>\n",
              "      <td>0.0</td>\n",
              "      <td>0.0</td>\n",
              "      <td>0.0</td>\n",
              "      <td>0.0</td>\n",
              "      <td>0.0</td>\n",
              "      <td>0.0</td>\n",
              "      <td>0.0</td>\n",
              "      <td>47.0</td>\n",
              "      <td>0.0</td>\n",
              "      <td>0.0</td>\n",
              "      <td>0.0</td>\n",
              "      <td>0.0</td>\n",
              "      <td>9.0</td>\n",
              "      <td>33.0</td>\n",
              "      <td>0.0</td>\n",
              "      <td>0.0</td>\n",
              "      <td>0.0</td>\n",
              "      <td>0.0</td>\n",
              "      <td>0.0</td>\n",
              "      <td>0.0</td>\n",
              "    </tr>\n",
              "    <tr>\n",
              "      <th>002542730X</th>\n",
              "      <td>29.0</td>\n",
              "      <td>0.0</td>\n",
              "      <td>0.0</td>\n",
              "      <td>0.0</td>\n",
              "      <td>0.0</td>\n",
              "      <td>0.0</td>\n",
              "      <td>0.0</td>\n",
              "      <td>0.0</td>\n",
              "      <td>0.0</td>\n",
              "      <td>32.0</td>\n",
              "      <td>0.0</td>\n",
              "      <td>0.0</td>\n",
              "      <td>0.0</td>\n",
              "      <td>0.0</td>\n",
              "      <td>47.0</td>\n",
              "      <td>0.0</td>\n",
              "      <td>0.0</td>\n",
              "      <td>0.0</td>\n",
              "      <td>0.0</td>\n",
              "      <td>0.0</td>\n",
              "      <td>61.0</td>\n",
              "      <td>0.0</td>\n",
              "      <td>34.0</td>\n",
              "      <td>0.0</td>\n",
              "      <td>0.0</td>\n",
              "      <td>0.0</td>\n",
              "      <td>0.0</td>\n",
              "      <td>0.0</td>\n",
              "      <td>0.0</td>\n",
              "      <td>0.0</td>\n",
              "      <td>0.0</td>\n",
              "      <td>0.0</td>\n",
              "      <td>0.0</td>\n",
              "      <td>0.0</td>\n",
              "      <td>0.0</td>\n",
              "      <td>0.0</td>\n",
              "      <td>0.0</td>\n",
              "      <td>0.0</td>\n",
              "      <td>0.0</td>\n",
              "      <td>0.0</td>\n",
              "      <td>...</td>\n",
              "      <td>0.0</td>\n",
              "      <td>0.0</td>\n",
              "      <td>0.0</td>\n",
              "      <td>0.0</td>\n",
              "      <td>0.0</td>\n",
              "      <td>0.0</td>\n",
              "      <td>0.0</td>\n",
              "      <td>0.0</td>\n",
              "      <td>0.0</td>\n",
              "      <td>0.0</td>\n",
              "      <td>0.0</td>\n",
              "      <td>0.0</td>\n",
              "      <td>0.0</td>\n",
              "      <td>0.0</td>\n",
              "      <td>0.0</td>\n",
              "      <td>0.0</td>\n",
              "      <td>0.0</td>\n",
              "      <td>0.0</td>\n",
              "      <td>0.0</td>\n",
              "      <td>0.0</td>\n",
              "      <td>0.0</td>\n",
              "      <td>0.0</td>\n",
              "      <td>0.0</td>\n",
              "      <td>0.0</td>\n",
              "      <td>25.0</td>\n",
              "      <td>0.0</td>\n",
              "      <td>33.0</td>\n",
              "      <td>0.0</td>\n",
              "      <td>24.0</td>\n",
              "      <td>33.0</td>\n",
              "      <td>0.0</td>\n",
              "      <td>0.0</td>\n",
              "      <td>0.0</td>\n",
              "      <td>0.0</td>\n",
              "      <td>0.0</td>\n",
              "      <td>0.0</td>\n",
              "      <td>0.0</td>\n",
              "      <td>0.0</td>\n",
              "      <td>0.0</td>\n",
              "      <td>0.0</td>\n",
              "    </tr>\n",
              "    <tr>\n",
              "      <th>0060096195</th>\n",
              "      <td>29.0</td>\n",
              "      <td>0.0</td>\n",
              "      <td>0.0</td>\n",
              "      <td>0.0</td>\n",
              "      <td>0.0</td>\n",
              "      <td>0.0</td>\n",
              "      <td>24.0</td>\n",
              "      <td>0.0</td>\n",
              "      <td>0.0</td>\n",
              "      <td>0.0</td>\n",
              "      <td>0.0</td>\n",
              "      <td>0.0</td>\n",
              "      <td>0.0</td>\n",
              "      <td>0.0</td>\n",
              "      <td>47.0</td>\n",
              "      <td>0.0</td>\n",
              "      <td>0.0</td>\n",
              "      <td>0.0</td>\n",
              "      <td>0.0</td>\n",
              "      <td>0.0</td>\n",
              "      <td>0.0</td>\n",
              "      <td>0.0</td>\n",
              "      <td>0.0</td>\n",
              "      <td>0.0</td>\n",
              "      <td>34.0</td>\n",
              "      <td>0.0</td>\n",
              "      <td>0.0</td>\n",
              "      <td>0.0</td>\n",
              "      <td>0.0</td>\n",
              "      <td>0.0</td>\n",
              "      <td>0.0</td>\n",
              "      <td>0.0</td>\n",
              "      <td>0.0</td>\n",
              "      <td>0.0</td>\n",
              "      <td>0.0</td>\n",
              "      <td>0.0</td>\n",
              "      <td>0.0</td>\n",
              "      <td>0.0</td>\n",
              "      <td>0.0</td>\n",
              "      <td>0.0</td>\n",
              "      <td>...</td>\n",
              "      <td>0.0</td>\n",
              "      <td>0.0</td>\n",
              "      <td>0.0</td>\n",
              "      <td>0.0</td>\n",
              "      <td>0.0</td>\n",
              "      <td>0.0</td>\n",
              "      <td>0.0</td>\n",
              "      <td>0.0</td>\n",
              "      <td>0.0</td>\n",
              "      <td>0.0</td>\n",
              "      <td>0.0</td>\n",
              "      <td>0.0</td>\n",
              "      <td>0.0</td>\n",
              "      <td>0.0</td>\n",
              "      <td>0.0</td>\n",
              "      <td>0.0</td>\n",
              "      <td>0.0</td>\n",
              "      <td>0.0</td>\n",
              "      <td>0.0</td>\n",
              "      <td>0.0</td>\n",
              "      <td>0.0</td>\n",
              "      <td>0.0</td>\n",
              "      <td>0.0</td>\n",
              "      <td>0.0</td>\n",
              "      <td>0.0</td>\n",
              "      <td>41.0</td>\n",
              "      <td>0.0</td>\n",
              "      <td>0.0</td>\n",
              "      <td>0.0</td>\n",
              "      <td>0.0</td>\n",
              "      <td>0.0</td>\n",
              "      <td>0.0</td>\n",
              "      <td>0.0</td>\n",
              "      <td>0.0</td>\n",
              "      <td>0.0</td>\n",
              "      <td>0.0</td>\n",
              "      <td>0.0</td>\n",
              "      <td>0.0</td>\n",
              "      <td>0.0</td>\n",
              "      <td>0.0</td>\n",
              "    </tr>\n",
              "    <tr>\n",
              "      <th>006016848X</th>\n",
              "      <td>0.0</td>\n",
              "      <td>0.0</td>\n",
              "      <td>0.0</td>\n",
              "      <td>0.0</td>\n",
              "      <td>49.0</td>\n",
              "      <td>0.0</td>\n",
              "      <td>0.0</td>\n",
              "      <td>0.0</td>\n",
              "      <td>0.0</td>\n",
              "      <td>0.0</td>\n",
              "      <td>20.0</td>\n",
              "      <td>0.0</td>\n",
              "      <td>0.0</td>\n",
              "      <td>0.0</td>\n",
              "      <td>0.0</td>\n",
              "      <td>0.0</td>\n",
              "      <td>0.0</td>\n",
              "      <td>45.0</td>\n",
              "      <td>0.0</td>\n",
              "      <td>0.0</td>\n",
              "      <td>0.0</td>\n",
              "      <td>0.0</td>\n",
              "      <td>0.0</td>\n",
              "      <td>0.0</td>\n",
              "      <td>0.0</td>\n",
              "      <td>0.0</td>\n",
              "      <td>0.0</td>\n",
              "      <td>0.0</td>\n",
              "      <td>0.0</td>\n",
              "      <td>0.0</td>\n",
              "      <td>36.0</td>\n",
              "      <td>0.0</td>\n",
              "      <td>0.0</td>\n",
              "      <td>56.0</td>\n",
              "      <td>0.0</td>\n",
              "      <td>30.0</td>\n",
              "      <td>0.0</td>\n",
              "      <td>0.0</td>\n",
              "      <td>0.0</td>\n",
              "      <td>0.0</td>\n",
              "      <td>...</td>\n",
              "      <td>0.0</td>\n",
              "      <td>0.0</td>\n",
              "      <td>0.0</td>\n",
              "      <td>0.0</td>\n",
              "      <td>0.0</td>\n",
              "      <td>34.0</td>\n",
              "      <td>0.0</td>\n",
              "      <td>0.0</td>\n",
              "      <td>0.0</td>\n",
              "      <td>0.0</td>\n",
              "      <td>0.0</td>\n",
              "      <td>0.0</td>\n",
              "      <td>0.0</td>\n",
              "      <td>0.0</td>\n",
              "      <td>0.0</td>\n",
              "      <td>0.0</td>\n",
              "      <td>0.0</td>\n",
              "      <td>0.0</td>\n",
              "      <td>0.0</td>\n",
              "      <td>0.0</td>\n",
              "      <td>0.0</td>\n",
              "      <td>0.0</td>\n",
              "      <td>0.0</td>\n",
              "      <td>0.0</td>\n",
              "      <td>0.0</td>\n",
              "      <td>0.0</td>\n",
              "      <td>0.0</td>\n",
              "      <td>0.0</td>\n",
              "      <td>0.0</td>\n",
              "      <td>0.0</td>\n",
              "      <td>0.0</td>\n",
              "      <td>0.0</td>\n",
              "      <td>9.0</td>\n",
              "      <td>0.0</td>\n",
              "      <td>0.0</td>\n",
              "      <td>0.0</td>\n",
              "      <td>0.0</td>\n",
              "      <td>0.0</td>\n",
              "      <td>0.0</td>\n",
              "      <td>35.0</td>\n",
              "    </tr>\n",
              "    <tr>\n",
              "      <th>0060173289</th>\n",
              "      <td>0.0</td>\n",
              "      <td>0.0</td>\n",
              "      <td>17.0</td>\n",
              "      <td>0.0</td>\n",
              "      <td>0.0</td>\n",
              "      <td>0.0</td>\n",
              "      <td>24.0</td>\n",
              "      <td>0.0</td>\n",
              "      <td>0.0</td>\n",
              "      <td>0.0</td>\n",
              "      <td>0.0</td>\n",
              "      <td>0.0</td>\n",
              "      <td>0.0</td>\n",
              "      <td>0.0</td>\n",
              "      <td>0.0</td>\n",
              "      <td>0.0</td>\n",
              "      <td>0.0</td>\n",
              "      <td>0.0</td>\n",
              "      <td>0.0</td>\n",
              "      <td>0.0</td>\n",
              "      <td>0.0</td>\n",
              "      <td>0.0</td>\n",
              "      <td>0.0</td>\n",
              "      <td>0.0</td>\n",
              "      <td>0.0</td>\n",
              "      <td>51.0</td>\n",
              "      <td>0.0</td>\n",
              "      <td>0.0</td>\n",
              "      <td>0.0</td>\n",
              "      <td>0.0</td>\n",
              "      <td>0.0</td>\n",
              "      <td>0.0</td>\n",
              "      <td>0.0</td>\n",
              "      <td>0.0</td>\n",
              "      <td>0.0</td>\n",
              "      <td>0.0</td>\n",
              "      <td>0.0</td>\n",
              "      <td>0.0</td>\n",
              "      <td>0.0</td>\n",
              "      <td>0.0</td>\n",
              "      <td>...</td>\n",
              "      <td>0.0</td>\n",
              "      <td>0.0</td>\n",
              "      <td>0.0</td>\n",
              "      <td>0.0</td>\n",
              "      <td>0.0</td>\n",
              "      <td>0.0</td>\n",
              "      <td>0.0</td>\n",
              "      <td>0.0</td>\n",
              "      <td>0.0</td>\n",
              "      <td>0.0</td>\n",
              "      <td>0.0</td>\n",
              "      <td>0.0</td>\n",
              "      <td>0.0</td>\n",
              "      <td>0.0</td>\n",
              "      <td>0.0</td>\n",
              "      <td>0.0</td>\n",
              "      <td>0.0</td>\n",
              "      <td>0.0</td>\n",
              "      <td>0.0</td>\n",
              "      <td>0.0</td>\n",
              "      <td>0.0</td>\n",
              "      <td>0.0</td>\n",
              "      <td>0.0</td>\n",
              "      <td>0.0</td>\n",
              "      <td>0.0</td>\n",
              "      <td>0.0</td>\n",
              "      <td>0.0</td>\n",
              "      <td>0.0</td>\n",
              "      <td>0.0</td>\n",
              "      <td>0.0</td>\n",
              "      <td>0.0</td>\n",
              "      <td>0.0</td>\n",
              "      <td>0.0</td>\n",
              "      <td>0.0</td>\n",
              "      <td>0.0</td>\n",
              "      <td>0.0</td>\n",
              "      <td>0.0</td>\n",
              "      <td>0.0</td>\n",
              "      <td>0.0</td>\n",
              "      <td>0.0</td>\n",
              "    </tr>\n",
              "  </tbody>\n",
              "</table>\n",
              "<p>5 rows × 267 columns</p>\n",
              "</div>"
            ],
            "text/plain": [
              "User-ID     3363    6251    6575    7158    ...  274308  275970  277427  278418\n",
              "ISBN                                        ...                                \n",
              "002026478X     0.0     0.0     0.0     0.0  ...     0.0     0.0     0.0     0.0\n",
              "002542730X    29.0     0.0     0.0     0.0  ...     0.0     0.0     0.0     0.0\n",
              "0060096195    29.0     0.0     0.0     0.0  ...     0.0     0.0     0.0     0.0\n",
              "006016848X     0.0     0.0     0.0     0.0  ...     0.0     0.0     0.0    35.0\n",
              "0060173289     0.0     0.0    17.0     0.0  ...     0.0     0.0     0.0     0.0\n",
              "\n",
              "[5 rows x 267 columns]"
            ]
          },
          "metadata": {},
          "execution_count": 121
        }
      ]
    },
    {
      "cell_type": "code",
      "metadata": {
        "id": "_x3zKmUFzuZr"
      },
      "source": [
        "# Import csr_matrix and apply on the pivot obtained\n",
        "from scipy.sparse import csr_matrix\n",
        "sparse_matrix = csr_matrix(pivot_df)"
      ],
      "execution_count": 122,
      "outputs": []
    },
    {
      "cell_type": "code",
      "metadata": {
        "id": "oDX24EaU3aY9"
      },
      "source": [
        "# Import NearestNeighbors from sklearn\n",
        "from sklearn.neighbors import NearestNeighbors\n",
        "knn = NearestNeighbors(metric='cosine', algorithm='brute', n_neighbors=20, n_jobs=-1)"
      ],
      "execution_count": 123,
      "outputs": []
    },
    {
      "cell_type": "code",
      "metadata": {
        "colab": {
          "base_uri": "https://localhost:8080/"
        },
        "id": "MC9rVfdj44LR",
        "outputId": "57f2d41c-d86c-482c-d3d6-debd891d3f27"
      },
      "source": [
        "# Fit the sparse matrix to the model\n",
        "knn.fit(sparse_matrix)"
      ],
      "execution_count": 124,
      "outputs": [
        {
          "output_type": "execute_result",
          "data": {
            "text/plain": [
              "NearestNeighbors(algorithm='brute', leaf_size=30, metric='cosine',\n",
              "                 metric_params=None, n_jobs=-1, n_neighbors=20, p=2,\n",
              "                 radius=1.0)"
            ]
          },
          "metadata": {},
          "execution_count": 124
        }
      ]
    },
    {
      "cell_type": "code",
      "metadata": {
        "id": "SVhYpMm5DRcr"
      },
      "source": [
        "# Define a fuction to obtain recommendations\n",
        "def get_recommendations(user_id,num_of_recommendations):\n",
        "  distances,suggestions = knn.kneighbors(pivot_df.iloc[user_id,:].values.reshape(1,-1),n_neighbors=num_of_recommendations)\n",
        "  for i in range(len(suggestions)):\n",
        "    recom_array = pivot_df.index[suggestions[i]]\n",
        "    movie_set = set(data[data['ISBN'].isin(recom_array)]['Title'])\n",
        "  return movie_set\n"
      ],
      "execution_count": 125,
      "outputs": []
    },
    {
      "cell_type": "code",
      "metadata": {
        "colab": {
          "base_uri": "https://localhost:8080/"
        },
        "id": "jfRdKkQXCl0E",
        "outputId": "3a2a06b8-b07b-4b31-9e2f-4d08d4757236"
      },
      "source": [
        "# Get recommendations for users based on user-ids\n",
        "get_recommendations(508,10)"
      ],
      "execution_count": 131,
      "outputs": [
        {
          "output_type": "execute_result",
          "data": {
            "text/plain": [
              "{'A Painted House by John Grisham',\n",
              " 'Cat &amp; Mouse (Alex Cross Novels) by James Patterson',\n",
              " 'False Memory by Dean R. Koontz',\n",
              " 'Irish Hearts by Nora Roberts',\n",
              " 'Night Prey by John Sandford',\n",
              " 'Red Dragon by Thomas Harris',\n",
              " \"Songs in Ordinary Time (Oprah's Book Club (Paperback)) by Mary McGarry Morris\",\n",
              " 'Stone Kiss by Faye Kellerman',\n",
              " 'The Beach House by James Patterson',\n",
              " 'We Were the Mulvaneys by Joyce Carol Oates'}"
            ]
          },
          "metadata": {},
          "execution_count": 131
        }
      ]
    },
    {
      "cell_type": "code",
      "metadata": {
        "id": "dMiFXSYbOQxM",
        "colab": {
          "base_uri": "https://localhost:8080/"
        },
        "outputId": "65ecec2b-56c2-40ad-877c-ff9b6417dd46"
      },
      "source": [
        "# Obtain Neighbours for the above user\n",
        "knn.kneighbors(pivot_df.iloc[508,:].values.reshape(1,-1))"
      ],
      "execution_count": 132,
      "outputs": [
        {
          "output_type": "execute_result",
          "data": {
            "text/plain": [
              "(array([[4.44089210e-16, 5.50577425e-01, 5.61990993e-01, 5.69000377e-01,\n",
              "         5.69707615e-01, 5.74079096e-01, 5.75447542e-01, 5.81675119e-01,\n",
              "         5.84126951e-01, 5.85488617e-01, 5.91463413e-01, 5.92293991e-01,\n",
              "         5.93420662e-01, 5.99093024e-01, 6.04656337e-01, 6.06753790e-01,\n",
              "         6.07246341e-01, 6.08333306e-01, 6.11722144e-01, 6.15150455e-01]]),\n",
              " array([[508, 505, 677, 332, 441,  58, 404, 202, 489, 569, 444, 437, 144,\n",
              "         110, 485, 590,  38, 709, 330, 636]]))"
            ]
          },
          "metadata": {},
          "execution_count": 132
        }
      ]
    },
    {
      "cell_type": "code",
      "metadata": {
        "id": "5SrrnWiBOQtu",
        "colab": {
          "base_uri": "https://localhost:8080/"
        },
        "outputId": "c2330a2e-901a-4453-82ca-eab35f74c4e2"
      },
      "source": [
        "# Check recommendations for Neighbours\n",
        "get_recommendations(505,10)"
      ],
      "execution_count": 133,
      "outputs": [
        {
          "output_type": "execute_result",
          "data": {
            "text/plain": [
              "{'A Walk to Remember by Nicholas Sparks',\n",
              " 'After All These Years by Susan Isaacs',\n",
              " 'Black and Blue by ANNA QUINDLEN',\n",
              " 'Cat &amp; Mouse (Alex Cross Novels) by James Patterson',\n",
              " 'Dust to Dust by TAMI HOAG',\n",
              " 'Night Prey by John Sandford',\n",
              " 'Reap the Wind by Iris Johansen',\n",
              " 'Stone Kiss by Faye Kellerman',\n",
              " 'The Beach House by James Patterson',\n",
              " 'The Notebook by Nicholas Sparks'}"
            ]
          },
          "metadata": {},
          "execution_count": 133
        }
      ]
    },
    {
      "cell_type": "code",
      "metadata": {
        "colab": {
          "base_uri": "https://localhost:8080/"
        },
        "id": "T0qgbzrXA7ni",
        "outputId": "cda79cc6-8bdd-4075-ba27-3ec2df77cae0"
      },
      "source": [
        "get_recommendations(677,10)"
      ],
      "execution_count": 134,
      "outputs": [
        {
          "output_type": "execute_result",
          "data": {
            "text/plain": [
              "{'A Painted House by John Grisham',\n",
              " 'False Memory by Dean R. Koontz',\n",
              " 'Mr. Murder by Dean R. Koontz',\n",
              " 'Sea Glass: A Novel by Anita Shreve',\n",
              " 'Shopaholic Takes Manhattan (Summer Display Opportunity) by Sophie Kinsella',\n",
              " \"Songs in Ordinary Time (Oprah's Book Club (Paperback)) by Mary McGarry Morris\",\n",
              " 'Still Waters by TAMI HOAG',\n",
              " 'Stone Kiss by Faye Kellerman',\n",
              " 'The Beach House by James Patterson',\n",
              " 'The Notebook by Nicholas Sparks'}"
            ]
          },
          "metadata": {},
          "execution_count": 134
        }
      ]
    },
    {
      "cell_type": "code",
      "metadata": {
        "colab": {
          "base_uri": "https://localhost:8080/"
        },
        "id": "2xlhyO4vWBjA",
        "outputId": "31103a77-8170-4a87-c1da-c011ba6bf1dd"
      },
      "source": [
        "# Common book recommendations between neighbours i.e users of similar age group\n",
        "get_recommendations(508,10).intersection(get_recommendations(677,10))"
      ],
      "execution_count": 137,
      "outputs": [
        {
          "output_type": "execute_result",
          "data": {
            "text/plain": [
              "{'A Painted House by John Grisham',\n",
              " 'False Memory by Dean R. Koontz',\n",
              " \"Songs in Ordinary Time (Oprah's Book Club (Paperback)) by Mary McGarry Morris\",\n",
              " 'Stone Kiss by Faye Kellerman',\n",
              " 'The Beach House by James Patterson'}"
            ]
          },
          "metadata": {},
          "execution_count": 137
        }
      ]
    },
    {
      "cell_type": "markdown",
      "metadata": {
        "id": "pFYa0MdeXHSC"
      },
      "source": [
        "###We can clearly see that the recommender system is recommending quite similar books to users who are of similar age, hence our system seems to be working quite fine!"
      ]
    },
    {
      "cell_type": "code",
      "metadata": {
        "id": "0TBgv6FF60xI"
      },
      "source": [
        ""
      ],
      "execution_count": null,
      "outputs": []
    }
  ]
}